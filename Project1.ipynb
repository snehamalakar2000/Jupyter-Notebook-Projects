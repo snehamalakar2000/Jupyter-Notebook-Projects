{
  "nbformat": 4,
  "nbformat_minor": 0,
  "metadata": {
    "colab": {
      "name": "Project1.ipynb",
      "provenance": []
    },
    "kernelspec": {
      "name": "python3",
      "display_name": "Python 3"
    },
    "language_info": {
      "name": "python"
    }
  },
  "cells": [
    {
      "cell_type": "markdown",
      "metadata": {
        "id": "7ZFY1MVIik6u"
      },
      "source": [
        "#Project 1 "
      ]
    },
    {
      "cell_type": "markdown",
      "metadata": {
        "id": "uxSbv6iGsLST"
      },
      "source": [
        "#Part 1"
      ]
    },
    {
      "cell_type": "code",
      "metadata": {
        "colab": {
          "base_uri": "https://localhost:8080/"
        },
        "id": "AKVU3tDnlp8X",
        "outputId": "a378638d-476e-4872-9fa6-be73fb176b21"
      },
      "source": [
        "from google.colab import drive\n",
        "drive.mount('/content/drive')"
      ],
      "execution_count": 1,
      "outputs": [
        {
          "output_type": "stream",
          "name": "stdout",
          "text": [
            "Mounted at /content/drive\n"
          ]
        }
      ]
    },
    {
      "cell_type": "markdown",
      "metadata": {
        "id": "JrxdcH99lF1S"
      },
      "source": [
        "##Section 2.3"
      ]
    },
    {
      "cell_type": "code",
      "metadata": {
        "id": "Zax7ndq-iqJr"
      },
      "source": [
        "import pandas as pd"
      ],
      "execution_count": 2,
      "outputs": []
    },
    {
      "cell_type": "code",
      "metadata": {
        "id": "ydja8cBRhMMQ"
      },
      "source": [
        "hd = pd.read_csv('/content/drive/My Drive/HDS/CMPS 260/Data/happiness_2017.csv')"
      ],
      "execution_count": 3,
      "outputs": []
    },
    {
      "cell_type": "code",
      "metadata": {
        "id": "4GqP8eswh81T",
        "colab": {
          "base_uri": "https://localhost:8080/",
          "height": 321
        },
        "outputId": "d786bd97-60db-4bcc-b245-0845d62a9198"
      },
      "source": [
        "hd.head()"
      ],
      "execution_count": 4,
      "outputs": [
        {
          "output_type": "execute_result",
          "data": {
            "text/html": [
              "<div>\n",
              "<style scoped>\n",
              "    .dataframe tbody tr th:only-of-type {\n",
              "        vertical-align: middle;\n",
              "    }\n",
              "\n",
              "    .dataframe tbody tr th {\n",
              "        vertical-align: top;\n",
              "    }\n",
              "\n",
              "    .dataframe thead th {\n",
              "        text-align: right;\n",
              "    }\n",
              "</style>\n",
              "<table border=\"1\" class=\"dataframe\">\n",
              "  <thead>\n",
              "    <tr style=\"text-align: right;\">\n",
              "      <th></th>\n",
              "      <th>Country</th>\n",
              "      <th>Region</th>\n",
              "      <th>Rank</th>\n",
              "      <th>HappinessScore</th>\n",
              "      <th>Life Ladder</th>\n",
              "      <th>Log GDP per capita</th>\n",
              "      <th>Social support</th>\n",
              "      <th>Healthy life expectancy at birth</th>\n",
              "      <th>Freedom to make life choices</th>\n",
              "      <th>Generosity</th>\n",
              "      <th>Perceptions of corruption</th>\n",
              "      <th>Positive affect</th>\n",
              "      <th>Negative affect</th>\n",
              "      <th>Confidence in national government</th>\n",
              "    </tr>\n",
              "  </thead>\n",
              "  <tbody>\n",
              "    <tr>\n",
              "      <th>0</th>\n",
              "      <td>Norway</td>\n",
              "      <td>Western Europe</td>\n",
              "      <td>1</td>\n",
              "      <td>7.537</td>\n",
              "      <td>7.578745</td>\n",
              "      <td>11.081789</td>\n",
              "      <td>0.950128</td>\n",
              "      <td>71.086586</td>\n",
              "      <td>0.953017</td>\n",
              "      <td>0.210104</td>\n",
              "      <td>0.249711</td>\n",
              "      <td>0.849100</td>\n",
              "      <td>0.202914</td>\n",
              "      <td>0.717160</td>\n",
              "    </tr>\n",
              "    <tr>\n",
              "      <th>1</th>\n",
              "      <td>Denmark</td>\n",
              "      <td>Western Europe</td>\n",
              "      <td>2</td>\n",
              "      <td>7.522</td>\n",
              "      <td>7.593702</td>\n",
              "      <td>10.748989</td>\n",
              "      <td>0.952100</td>\n",
              "      <td>71.662498</td>\n",
              "      <td>0.955416</td>\n",
              "      <td>0.145387</td>\n",
              "      <td>0.181148</td>\n",
              "      <td>0.823667</td>\n",
              "      <td>0.205775</td>\n",
              "      <td>0.572353</td>\n",
              "    </tr>\n",
              "    <tr>\n",
              "      <th>2</th>\n",
              "      <td>Iceland</td>\n",
              "      <td>Western Europe</td>\n",
              "      <td>3</td>\n",
              "      <td>7.504</td>\n",
              "      <td>7.476214</td>\n",
              "      <td>10.760409</td>\n",
              "      <td>0.966753</td>\n",
              "      <td>72.755981</td>\n",
              "      <td>0.938783</td>\n",
              "      <td>0.235479</td>\n",
              "      <td>0.726845</td>\n",
              "      <td>0.895255</td>\n",
              "      <td>0.148160</td>\n",
              "      <td>0.365042</td>\n",
              "    </tr>\n",
              "    <tr>\n",
              "      <th>3</th>\n",
              "      <td>Switzerland</td>\n",
              "      <td>Western Europe</td>\n",
              "      <td>4</td>\n",
              "      <td>7.494</td>\n",
              "      <td>7.473593</td>\n",
              "      <td>10.955548</td>\n",
              "      <td>0.949661</td>\n",
              "      <td>73.173759</td>\n",
              "      <td>0.924997</td>\n",
              "      <td>0.167875</td>\n",
              "      <td>0.316183</td>\n",
              "      <td>0.773997</td>\n",
              "      <td>0.195871</td>\n",
              "      <td>0.819707</td>\n",
              "    </tr>\n",
              "    <tr>\n",
              "      <th>4</th>\n",
              "      <td>Finland</td>\n",
              "      <td>Western Europe</td>\n",
              "      <td>5</td>\n",
              "      <td>7.469</td>\n",
              "      <td>7.788252</td>\n",
              "      <td>10.612338</td>\n",
              "      <td>0.963826</td>\n",
              "      <td>71.696960</td>\n",
              "      <td>0.962199</td>\n",
              "      <td>-0.012174</td>\n",
              "      <td>0.192413</td>\n",
              "      <td>0.787137</td>\n",
              "      <td>0.176066</td>\n",
              "      <td>0.597539</td>\n",
              "    </tr>\n",
              "  </tbody>\n",
              "</table>\n",
              "</div>"
            ],
            "text/plain": [
              "       Country  ... Confidence in national government\n",
              "0       Norway  ...                          0.717160\n",
              "1      Denmark  ...                          0.572353\n",
              "2      Iceland  ...                          0.365042\n",
              "3  Switzerland  ...                          0.819707\n",
              "4      Finland  ...                          0.597539\n",
              "\n",
              "[5 rows x 14 columns]"
            ]
          },
          "metadata": {},
          "execution_count": 4
        }
      ]
    },
    {
      "cell_type": "markdown",
      "metadata": {
        "id": "ESK10K75lOLs"
      },
      "source": [
        "###Q-1: How many unique regions are there?"
      ]
    },
    {
      "cell_type": "code",
      "metadata": {
        "id": "GTWVN70jh_7N",
        "colab": {
          "base_uri": "https://localhost:8080/",
          "height": 506
        },
        "outputId": "ef606ae8-48d1-4822-ed62-a17d37f9fff7"
      },
      "source": [
        "hd1 = hd.groupby('Region').mean()\n",
        "hd1"
      ],
      "execution_count": 5,
      "outputs": [
        {
          "output_type": "execute_result",
          "data": {
            "text/html": [
              "<div>\n",
              "<style scoped>\n",
              "    .dataframe tbody tr th:only-of-type {\n",
              "        vertical-align: middle;\n",
              "    }\n",
              "\n",
              "    .dataframe tbody tr th {\n",
              "        vertical-align: top;\n",
              "    }\n",
              "\n",
              "    .dataframe thead th {\n",
              "        text-align: right;\n",
              "    }\n",
              "</style>\n",
              "<table border=\"1\" class=\"dataframe\">\n",
              "  <thead>\n",
              "    <tr style=\"text-align: right;\">\n",
              "      <th></th>\n",
              "      <th>Rank</th>\n",
              "      <th>HappinessScore</th>\n",
              "      <th>Life Ladder</th>\n",
              "      <th>Log GDP per capita</th>\n",
              "      <th>Social support</th>\n",
              "      <th>Healthy life expectancy at birth</th>\n",
              "      <th>Freedom to make life choices</th>\n",
              "      <th>Generosity</th>\n",
              "      <th>Perceptions of corruption</th>\n",
              "      <th>Positive affect</th>\n",
              "      <th>Negative affect</th>\n",
              "      <th>Confidence in national government</th>\n",
              "    </tr>\n",
              "    <tr>\n",
              "      <th>Region</th>\n",
              "      <th></th>\n",
              "      <th></th>\n",
              "      <th></th>\n",
              "      <th></th>\n",
              "      <th></th>\n",
              "      <th></th>\n",
              "      <th></th>\n",
              "      <th></th>\n",
              "      <th></th>\n",
              "      <th></th>\n",
              "      <th></th>\n",
              "      <th></th>\n",
              "    </tr>\n",
              "  </thead>\n",
              "  <tbody>\n",
              "    <tr>\n",
              "      <th>Central and Eastern Europe</th>\n",
              "      <td>64.176471</td>\n",
              "      <td>5.521706</td>\n",
              "      <td>5.773923</td>\n",
              "      <td>9.971123</td>\n",
              "      <td>0.855974</td>\n",
              "      <td>67.371958</td>\n",
              "      <td>0.749815</td>\n",
              "      <td>-0.102389</td>\n",
              "      <td>0.858960</td>\n",
              "      <td>0.654719</td>\n",
              "      <td>0.246963</td>\n",
              "      <td>0.342364</td>\n",
              "    </tr>\n",
              "    <tr>\n",
              "      <th>Commonwealth of Independent States</th>\n",
              "      <td>76.583333</td>\n",
              "      <td>5.251583</td>\n",
              "      <td>5.304230</td>\n",
              "      <td>9.150068</td>\n",
              "      <td>0.822577</td>\n",
              "      <td>63.553130</td>\n",
              "      <td>0.734284</td>\n",
              "      <td>-0.040873</td>\n",
              "      <td>0.754398</td>\n",
              "      <td>0.641889</td>\n",
              "      <td>0.244058</td>\n",
              "      <td>0.524538</td>\n",
              "    </tr>\n",
              "    <tr>\n",
              "      <th>East Asia</th>\n",
              "      <td>60.000000</td>\n",
              "      <td>5.646667</td>\n",
              "      <td>5.656567</td>\n",
              "      <td>10.185817</td>\n",
              "      <td>0.851227</td>\n",
              "      <td>71.453459</td>\n",
              "      <td>0.755011</td>\n",
              "      <td>-0.037038</td>\n",
              "      <td>0.706686</td>\n",
              "      <td>0.722806</td>\n",
              "      <td>0.192110</td>\n",
              "      <td>0.382799</td>\n",
              "    </tr>\n",
              "    <tr>\n",
              "      <th>Latin America and Caribbean</th>\n",
              "      <td>44.894737</td>\n",
              "      <td>6.019632</td>\n",
              "      <td>6.066387</td>\n",
              "      <td>9.314170</td>\n",
              "      <td>0.858564</td>\n",
              "      <td>65.069446</td>\n",
              "      <td>0.840050</td>\n",
              "      <td>-0.085305</td>\n",
              "      <td>0.791635</td>\n",
              "      <td>0.800938</td>\n",
              "      <td>0.293806</td>\n",
              "      <td>0.372781</td>\n",
              "    </tr>\n",
              "    <tr>\n",
              "      <th>Middle East and North Africa</th>\n",
              "      <td>68.588235</td>\n",
              "      <td>5.422765</td>\n",
              "      <td>5.286948</td>\n",
              "      <td>9.947192</td>\n",
              "      <td>0.790504</td>\n",
              "      <td>64.714757</td>\n",
              "      <td>0.707928</td>\n",
              "      <td>-0.064544</td>\n",
              "      <td>0.775916</td>\n",
              "      <td>0.614805</td>\n",
              "      <td>0.344563</td>\n",
              "      <td>0.361473</td>\n",
              "    </tr>\n",
              "    <tr>\n",
              "      <th>North America and ANZ</th>\n",
              "      <td>9.333333</td>\n",
              "      <td>7.197000</td>\n",
              "      <td>7.191993</td>\n",
              "      <td>10.695820</td>\n",
              "      <td>0.941960</td>\n",
              "      <td>71.389521</td>\n",
              "      <td>0.907109</td>\n",
              "      <td>0.256136</td>\n",
              "      <td>0.438142</td>\n",
              "      <td>0.808022</td>\n",
              "      <td>0.221782</td>\n",
              "      <td>0.482986</td>\n",
              "    </tr>\n",
              "    <tr>\n",
              "      <th>South Asia</th>\n",
              "      <td>103.000000</td>\n",
              "      <td>4.564667</td>\n",
              "      <td>4.319351</td>\n",
              "      <td>8.348327</td>\n",
              "      <td>0.689936</td>\n",
              "      <td>59.727966</td>\n",
              "      <td>0.765660</td>\n",
              "      <td>0.019685</td>\n",
              "      <td>0.783088</td>\n",
              "      <td>0.616494</td>\n",
              "      <td>0.309469</td>\n",
              "      <td>0.601951</td>\n",
              "    </tr>\n",
              "    <tr>\n",
              "      <th>Southeast Asia</th>\n",
              "      <td>72.714286</td>\n",
              "      <td>5.353571</td>\n",
              "      <td>5.275067</td>\n",
              "      <td>9.263766</td>\n",
              "      <td>0.830253</td>\n",
              "      <td>63.654994</td>\n",
              "      <td>0.914923</td>\n",
              "      <td>0.227235</td>\n",
              "      <td>0.682839</td>\n",
              "      <td>0.798711</td>\n",
              "      <td>0.293547</td>\n",
              "      <td>0.795365</td>\n",
              "    </tr>\n",
              "    <tr>\n",
              "      <th>Sub-Saharan Africa</th>\n",
              "      <td>116.606061</td>\n",
              "      <td>4.154455</td>\n",
              "      <td>4.415006</td>\n",
              "      <td>7.929865</td>\n",
              "      <td>0.684909</td>\n",
              "      <td>52.853319</td>\n",
              "      <td>0.731420</td>\n",
              "      <td>-0.015716</td>\n",
              "      <td>0.793351</td>\n",
              "      <td>0.673794</td>\n",
              "      <td>0.359577</td>\n",
              "      <td>0.593257</td>\n",
              "    </tr>\n",
              "    <tr>\n",
              "      <th>Western Europe</th>\n",
              "      <td>23.900000</td>\n",
              "      <td>6.748400</td>\n",
              "      <td>6.891960</td>\n",
              "      <td>10.680971</td>\n",
              "      <td>0.915138</td>\n",
              "      <td>72.315232</td>\n",
              "      <td>0.854937</td>\n",
              "      <td>0.077130</td>\n",
              "      <td>0.519219</td>\n",
              "      <td>0.761427</td>\n",
              "      <td>0.230139</td>\n",
              "      <td>0.508622</td>\n",
              "    </tr>\n",
              "  </tbody>\n",
              "</table>\n",
              "</div>"
            ],
            "text/plain": [
              "                                          Rank  ...  Confidence in national government\n",
              "Region                                          ...                                   \n",
              "Central and Eastern Europe           64.176471  ...                           0.342364\n",
              "Commonwealth of Independent States   76.583333  ...                           0.524538\n",
              "East Asia                            60.000000  ...                           0.382799\n",
              "Latin America and Caribbean          44.894737  ...                           0.372781\n",
              "Middle East and North Africa         68.588235  ...                           0.361473\n",
              "North America and ANZ                 9.333333  ...                           0.482986\n",
              "South Asia                          103.000000  ...                           0.601951\n",
              "Southeast Asia                       72.714286  ...                           0.795365\n",
              "Sub-Saharan Africa                  116.606061  ...                           0.593257\n",
              "Western Europe                       23.900000  ...                           0.508622\n",
              "\n",
              "[10 rows x 12 columns]"
            ]
          },
          "metadata": {},
          "execution_count": 5
        }
      ]
    },
    {
      "cell_type": "code",
      "metadata": {
        "id": "buftDhMmkXfn",
        "colab": {
          "base_uri": "https://localhost:8080/"
        },
        "outputId": "4a045fc2-9f51-4bfc-d3c3-ec8b9ee71ad7"
      },
      "source": [
        "hd1.shape"
      ],
      "execution_count": 6,
      "outputs": [
        {
          "output_type": "execute_result",
          "data": {
            "text/plain": [
              "(10, 12)"
            ]
          },
          "metadata": {},
          "execution_count": 6
        }
      ]
    },
    {
      "cell_type": "markdown",
      "metadata": {
        "id": "3h-wbh84mHRz"
      },
      "source": [
        "###Q-2: There are ______ countries in Western Europe and ______countries in Sub-Saharan Africa."
      ]
    },
    {
      "cell_type": "code",
      "metadata": {
        "id": "MH7Rezidk_Wu",
        "colab": {
          "base_uri": "https://localhost:8080/"
        },
        "outputId": "aca16677-d778-4637-9afb-b25d702a71dc"
      },
      "source": [
        "hd2 = hd.groupby('Region').count()['Country']\n",
        "hd2"
      ],
      "execution_count": 7,
      "outputs": [
        {
          "output_type": "execute_result",
          "data": {
            "text/plain": [
              "Region\n",
              "Central and Eastern Europe            17\n",
              "Commonwealth of Independent States    12\n",
              "East Asia                              6\n",
              "Latin America and Caribbean           19\n",
              "Middle East and North Africa          17\n",
              "North America and ANZ                  3\n",
              "South Asia                             6\n",
              "Southeast Asia                         7\n",
              "Sub-Saharan Africa                    33\n",
              "Western Europe                        20\n",
              "Name: Country, dtype: int64"
            ]
          },
          "metadata": {},
          "execution_count": 7
        }
      ]
    },
    {
      "cell_type": "code",
      "metadata": {
        "id": "HzHktIdTmpTB",
        "colab": {
          "base_uri": "https://localhost:8080/"
        },
        "outputId": "afee3b33-ab0c-4d0a-ccc9-3692f3a36a88"
      },
      "source": [
        "hd2.loc['Western Europe']"
      ],
      "execution_count": 8,
      "outputs": [
        {
          "output_type": "execute_result",
          "data": {
            "text/plain": [
              "20"
            ]
          },
          "metadata": {},
          "execution_count": 8
        }
      ]
    },
    {
      "cell_type": "code",
      "metadata": {
        "id": "SiD4cnywoiH-",
        "colab": {
          "base_uri": "https://localhost:8080/"
        },
        "outputId": "11a62343-9b76-4762-c300-c6a2a70cc89b"
      },
      "source": [
        "hd2.loc['Sub-Saharan Africa']"
      ],
      "execution_count": 9,
      "outputs": [
        {
          "output_type": "execute_result",
          "data": {
            "text/plain": [
              "33"
            ]
          },
          "metadata": {},
          "execution_count": 9
        }
      ]
    },
    {
      "cell_type": "markdown",
      "metadata": {
        "id": "5uSLZWPbqPKj"
      },
      "source": [
        "###Q-3: The sum of all happiness in South Asia is____ and the sum of all happiness in Western Europe is_____"
      ]
    },
    {
      "cell_type": "code",
      "metadata": {
        "id": "nddCf_ifqEwG",
        "colab": {
          "base_uri": "https://localhost:8080/"
        },
        "outputId": "fe9832aa-253d-424e-9a08-19830743ba42"
      },
      "source": [
        "hd3 = hd.groupby('Region').sum()['HappinessScore'].round(3)\n",
        "hd3"
      ],
      "execution_count": 10,
      "outputs": [
        {
          "output_type": "execute_result",
          "data": {
            "text/plain": [
              "Region\n",
              "Central and Eastern Europe             93.869\n",
              "Commonwealth of Independent States     63.019\n",
              "East Asia                              33.880\n",
              "Latin America and Caribbean           114.373\n",
              "Middle East and North Africa           92.187\n",
              "North America and ANZ                  21.591\n",
              "South Asia                             27.388\n",
              "Southeast Asia                         37.475\n",
              "Sub-Saharan Africa                    137.097\n",
              "Western Europe                        134.968\n",
              "Name: HappinessScore, dtype: float64"
            ]
          },
          "metadata": {},
          "execution_count": 10
        }
      ]
    },
    {
      "cell_type": "code",
      "metadata": {
        "id": "Z63gB0UcqpWB",
        "colab": {
          "base_uri": "https://localhost:8080/"
        },
        "outputId": "67f5a0d7-efab-44b1-ef78-31c1da4bedef"
      },
      "source": [
        "hd3.loc['South Asia']"
      ],
      "execution_count": 11,
      "outputs": [
        {
          "output_type": "execute_result",
          "data": {
            "text/plain": [
              "27.388"
            ]
          },
          "metadata": {},
          "execution_count": 11
        }
      ]
    },
    {
      "cell_type": "code",
      "metadata": {
        "id": "HUplNMtQqw-q",
        "colab": {
          "base_uri": "https://localhost:8080/"
        },
        "outputId": "c70151df-d420-47c6-9105-7b4fdadd784d"
      },
      "source": [
        "hd3.loc['Western Europe']"
      ],
      "execution_count": 12,
      "outputs": [
        {
          "output_type": "execute_result",
          "data": {
            "text/plain": [
              "134.968"
            ]
          },
          "metadata": {},
          "execution_count": 12
        }
      ]
    },
    {
      "cell_type": "markdown",
      "metadata": {
        "id": "_fFqZ67rrRhF"
      },
      "source": [
        "###Q-4: The average happiness score for Latin America and Caribbean is ____\n",
        "\n"
      ]
    },
    {
      "cell_type": "code",
      "metadata": {
        "id": "rmpKY-diq0Mc",
        "colab": {
          "base_uri": "https://localhost:8080/"
        },
        "outputId": "5c12a809-1257-4f1e-8eee-48dacdf84e86"
      },
      "source": [
        "hd4 = hd.groupby('Region').mean()['HappinessScore'].round(3)\n",
        "hd4"
      ],
      "execution_count": 13,
      "outputs": [
        {
          "output_type": "execute_result",
          "data": {
            "text/plain": [
              "Region\n",
              "Central and Eastern Europe            5.522\n",
              "Commonwealth of Independent States    5.252\n",
              "East Asia                             5.647\n",
              "Latin America and Caribbean           6.020\n",
              "Middle East and North Africa          5.423\n",
              "North America and ANZ                 7.197\n",
              "South Asia                            4.565\n",
              "Southeast Asia                        5.354\n",
              "Sub-Saharan Africa                    4.154\n",
              "Western Europe                        6.748\n",
              "Name: HappinessScore, dtype: float64"
            ]
          },
          "metadata": {},
          "execution_count": 13
        }
      ]
    },
    {
      "cell_type": "code",
      "metadata": {
        "id": "k9V0ESMTrtOC",
        "colab": {
          "base_uri": "https://localhost:8080/"
        },
        "outputId": "54228447-0ec9-406e-c172-9b3349f49dcc"
      },
      "source": [
        "hd4.loc['Latin America and Caribbean']"
      ],
      "execution_count": 14,
      "outputs": [
        {
          "output_type": "execute_result",
          "data": {
            "text/plain": [
              "6.02"
            ]
          },
          "metadata": {},
          "execution_count": 14
        }
      ]
    },
    {
      "cell_type": "markdown",
      "metadata": {
        "id": "tMcO0BK5tTQX"
      },
      "source": [
        "###Q-5: What is the happiest country in East Asia?"
      ]
    },
    {
      "cell_type": "code",
      "metadata": {
        "id": "LxxJzCGCr034",
        "colab": {
          "base_uri": "https://localhost:8080/",
          "height": 234
        },
        "outputId": "07dfec39-c5cc-440e-ab70-fc3713ddf399"
      },
      "source": [
        "hd5 = hd.loc[hd.Region == \"East Asia\"][['Region','Country', 'HappinessScore']].sort_values(by = 'HappinessScore', ascending = False)\n",
        "hd5"
      ],
      "execution_count": 15,
      "outputs": [
        {
          "output_type": "execute_result",
          "data": {
            "text/html": [
              "<div>\n",
              "<style scoped>\n",
              "    .dataframe tbody tr th:only-of-type {\n",
              "        vertical-align: middle;\n",
              "    }\n",
              "\n",
              "    .dataframe tbody tr th {\n",
              "        vertical-align: top;\n",
              "    }\n",
              "\n",
              "    .dataframe thead th {\n",
              "        text-align: right;\n",
              "    }\n",
              "</style>\n",
              "<table border=\"1\" class=\"dataframe\">\n",
              "  <thead>\n",
              "    <tr style=\"text-align: right;\">\n",
              "      <th></th>\n",
              "      <th>Region</th>\n",
              "      <th>Country</th>\n",
              "      <th>HappinessScore</th>\n",
              "    </tr>\n",
              "  </thead>\n",
              "  <tbody>\n",
              "    <tr>\n",
              "      <th>31</th>\n",
              "      <td>East Asia</td>\n",
              "      <td>Taiwan Province of China</td>\n",
              "      <td>6.422</td>\n",
              "    </tr>\n",
              "    <tr>\n",
              "      <th>46</th>\n",
              "      <td>East Asia</td>\n",
              "      <td>Japan</td>\n",
              "      <td>5.920</td>\n",
              "    </tr>\n",
              "    <tr>\n",
              "      <th>51</th>\n",
              "      <td>East Asia</td>\n",
              "      <td>South Korea</td>\n",
              "      <td>5.838</td>\n",
              "    </tr>\n",
              "    <tr>\n",
              "      <th>64</th>\n",
              "      <td>East Asia</td>\n",
              "      <td>Hong Kong S.A.R., China</td>\n",
              "      <td>5.472</td>\n",
              "    </tr>\n",
              "    <tr>\n",
              "      <th>72</th>\n",
              "      <td>East Asia</td>\n",
              "      <td>China</td>\n",
              "      <td>5.273</td>\n",
              "    </tr>\n",
              "    <tr>\n",
              "      <th>90</th>\n",
              "      <td>East Asia</td>\n",
              "      <td>Mongolia</td>\n",
              "      <td>4.955</td>\n",
              "    </tr>\n",
              "  </tbody>\n",
              "</table>\n",
              "</div>"
            ],
            "text/plain": [
              "       Region                   Country  HappinessScore\n",
              "31  East Asia  Taiwan Province of China           6.422\n",
              "46  East Asia                     Japan           5.920\n",
              "51  East Asia               South Korea           5.838\n",
              "64  East Asia   Hong Kong S.A.R., China           5.472\n",
              "72  East Asia                     China           5.273\n",
              "90  East Asia                  Mongolia           4.955"
            ]
          },
          "metadata": {},
          "execution_count": 15
        }
      ]
    },
    {
      "cell_type": "markdown",
      "metadata": {
        "id": "yvuOKhwovbbH"
      },
      "source": [
        "###Q-6: What does your spreadsheet show for the population of the United States? What does the countries of the world sheet show for the United States?"
      ]
    },
    {
      "cell_type": "code",
      "metadata": {
        "id": "GMVjAH6twb5X",
        "colab": {
          "base_uri": "https://localhost:8080/",
          "height": 341
        },
        "outputId": "b58e084a-b4ca-49a4-edf8-19e53707bbfd"
      },
      "source": [
        "wd = pd.read_csv('/content/drive/My Drive/HDS/CMPS 260/Data/world_countries.csv')\n",
        "wd.head()"
      ],
      "execution_count": 16,
      "outputs": [
        {
          "output_type": "execute_result",
          "data": {
            "text/html": [
              "<div>\n",
              "<style scoped>\n",
              "    .dataframe tbody tr th:only-of-type {\n",
              "        vertical-align: middle;\n",
              "    }\n",
              "\n",
              "    .dataframe tbody tr th {\n",
              "        vertical-align: top;\n",
              "    }\n",
              "\n",
              "    .dataframe thead th {\n",
              "        text-align: right;\n",
              "    }\n",
              "</style>\n",
              "<table border=\"1\" class=\"dataframe\">\n",
              "  <thead>\n",
              "    <tr style=\"text-align: right;\">\n",
              "      <th></th>\n",
              "      <th>Country</th>\n",
              "      <th>Code</th>\n",
              "      <th>Region</th>\n",
              "      <th>Population</th>\n",
              "      <th>Area</th>\n",
              "      <th>Pop. Density</th>\n",
              "      <th>Coastline</th>\n",
              "      <th>Net migration</th>\n",
              "      <th>Infant mortality</th>\n",
              "      <th>GDP</th>\n",
              "      <th>Literacy</th>\n",
              "      <th>Phones</th>\n",
              "      <th>Arable</th>\n",
              "      <th>Crops</th>\n",
              "      <th>Other</th>\n",
              "      <th>Climate</th>\n",
              "      <th>Birthrate</th>\n",
              "      <th>Deathrate</th>\n",
              "      <th>Agriculture</th>\n",
              "      <th>Industry</th>\n",
              "      <th>Service</th>\n",
              "    </tr>\n",
              "  </thead>\n",
              "  <tbody>\n",
              "    <tr>\n",
              "      <th>0</th>\n",
              "      <td>Afghanistan</td>\n",
              "      <td>AFG</td>\n",
              "      <td>ASIA (EX. NEAR EAST)</td>\n",
              "      <td>31056997</td>\n",
              "      <td>647500</td>\n",
              "      <td>48.0</td>\n",
              "      <td>0.00</td>\n",
              "      <td>23.06</td>\n",
              "      <td>163.07</td>\n",
              "      <td>700.0</td>\n",
              "      <td>36.0</td>\n",
              "      <td>3.2</td>\n",
              "      <td>12.13</td>\n",
              "      <td>0.22</td>\n",
              "      <td>87.65</td>\n",
              "      <td>1.0</td>\n",
              "      <td>46.60</td>\n",
              "      <td>20.34</td>\n",
              "      <td>0.380</td>\n",
              "      <td>0.240</td>\n",
              "      <td>0.380</td>\n",
              "    </tr>\n",
              "    <tr>\n",
              "      <th>1</th>\n",
              "      <td>Albania</td>\n",
              "      <td>ALB</td>\n",
              "      <td>EASTERN EUROPE</td>\n",
              "      <td>3581655</td>\n",
              "      <td>28748</td>\n",
              "      <td>124.6</td>\n",
              "      <td>1.26</td>\n",
              "      <td>-4.93</td>\n",
              "      <td>21.52</td>\n",
              "      <td>4500.0</td>\n",
              "      <td>86.5</td>\n",
              "      <td>71.2</td>\n",
              "      <td>21.09</td>\n",
              "      <td>4.42</td>\n",
              "      <td>74.49</td>\n",
              "      <td>3.0</td>\n",
              "      <td>15.11</td>\n",
              "      <td>5.22</td>\n",
              "      <td>0.232</td>\n",
              "      <td>0.188</td>\n",
              "      <td>0.579</td>\n",
              "    </tr>\n",
              "    <tr>\n",
              "      <th>2</th>\n",
              "      <td>Algeria</td>\n",
              "      <td>DZA</td>\n",
              "      <td>NORTHERN AFRICA</td>\n",
              "      <td>32930091</td>\n",
              "      <td>2381740</td>\n",
              "      <td>13.8</td>\n",
              "      <td>0.04</td>\n",
              "      <td>-0.39</td>\n",
              "      <td>31.00</td>\n",
              "      <td>6000.0</td>\n",
              "      <td>70.0</td>\n",
              "      <td>78.1</td>\n",
              "      <td>3.22</td>\n",
              "      <td>0.25</td>\n",
              "      <td>96.53</td>\n",
              "      <td>1.0</td>\n",
              "      <td>17.14</td>\n",
              "      <td>4.61</td>\n",
              "      <td>0.101</td>\n",
              "      <td>0.600</td>\n",
              "      <td>0.298</td>\n",
              "    </tr>\n",
              "    <tr>\n",
              "      <th>3</th>\n",
              "      <td>American Samoa</td>\n",
              "      <td>ASM</td>\n",
              "      <td>OCEANIA</td>\n",
              "      <td>57794</td>\n",
              "      <td>199</td>\n",
              "      <td>290.4</td>\n",
              "      <td>58.29</td>\n",
              "      <td>-20.71</td>\n",
              "      <td>9.27</td>\n",
              "      <td>8000.0</td>\n",
              "      <td>97.0</td>\n",
              "      <td>259.5</td>\n",
              "      <td>10.00</td>\n",
              "      <td>15.00</td>\n",
              "      <td>75.00</td>\n",
              "      <td>2.0</td>\n",
              "      <td>22.46</td>\n",
              "      <td>3.27</td>\n",
              "      <td>NaN</td>\n",
              "      <td>NaN</td>\n",
              "      <td>NaN</td>\n",
              "    </tr>\n",
              "    <tr>\n",
              "      <th>4</th>\n",
              "      <td>Andorra</td>\n",
              "      <td>AND</td>\n",
              "      <td>WESTERN EUROPE</td>\n",
              "      <td>71201</td>\n",
              "      <td>468</td>\n",
              "      <td>152.1</td>\n",
              "      <td>0.00</td>\n",
              "      <td>6.60</td>\n",
              "      <td>4.05</td>\n",
              "      <td>19000.0</td>\n",
              "      <td>100.0</td>\n",
              "      <td>497.2</td>\n",
              "      <td>2.22</td>\n",
              "      <td>0.00</td>\n",
              "      <td>97.78</td>\n",
              "      <td>3.0</td>\n",
              "      <td>8.71</td>\n",
              "      <td>6.25</td>\n",
              "      <td>NaN</td>\n",
              "      <td>NaN</td>\n",
              "      <td>NaN</td>\n",
              "    </tr>\n",
              "  </tbody>\n",
              "</table>\n",
              "</div>"
            ],
            "text/plain": [
              "          Country Code                Region  ...  Agriculture  Industry  Service\n",
              "0     Afghanistan  AFG  ASIA (EX. NEAR EAST)  ...        0.380     0.240    0.380\n",
              "1         Albania  ALB        EASTERN EUROPE  ...        0.232     0.188    0.579\n",
              "2         Algeria  DZA       NORTHERN AFRICA  ...        0.101     0.600    0.298\n",
              "3  American Samoa  ASM               OCEANIA  ...          NaN       NaN      NaN\n",
              "4         Andorra  AND        WESTERN EUROPE  ...          NaN       NaN      NaN\n",
              "\n",
              "[5 rows x 21 columns]"
            ]
          },
          "metadata": {},
          "execution_count": 16
        }
      ]
    },
    {
      "cell_type": "code",
      "metadata": {
        "id": "C-UOq25hx9-B",
        "colab": {
          "base_uri": "https://localhost:8080/",
          "height": 358
        },
        "outputId": "ae5786ce-7ab2-4f02-f8f8-a40877549c9c"
      },
      "source": [
        "new_hd = pd.merge(hd, wd, on='Country', how = 'outer')\n",
        "new_hd.head()"
      ],
      "execution_count": 17,
      "outputs": [
        {
          "output_type": "execute_result",
          "data": {
            "text/html": [
              "<div>\n",
              "<style scoped>\n",
              "    .dataframe tbody tr th:only-of-type {\n",
              "        vertical-align: middle;\n",
              "    }\n",
              "\n",
              "    .dataframe tbody tr th {\n",
              "        vertical-align: top;\n",
              "    }\n",
              "\n",
              "    .dataframe thead th {\n",
              "        text-align: right;\n",
              "    }\n",
              "</style>\n",
              "<table border=\"1\" class=\"dataframe\">\n",
              "  <thead>\n",
              "    <tr style=\"text-align: right;\">\n",
              "      <th></th>\n",
              "      <th>Country</th>\n",
              "      <th>Region_x</th>\n",
              "      <th>Rank</th>\n",
              "      <th>HappinessScore</th>\n",
              "      <th>Life Ladder</th>\n",
              "      <th>Log GDP per capita</th>\n",
              "      <th>Social support</th>\n",
              "      <th>Healthy life expectancy at birth</th>\n",
              "      <th>Freedom to make life choices</th>\n",
              "      <th>Generosity</th>\n",
              "      <th>Perceptions of corruption</th>\n",
              "      <th>Positive affect</th>\n",
              "      <th>Negative affect</th>\n",
              "      <th>Confidence in national government</th>\n",
              "      <th>Code</th>\n",
              "      <th>Region_y</th>\n",
              "      <th>Population</th>\n",
              "      <th>Area</th>\n",
              "      <th>Pop. Density</th>\n",
              "      <th>Coastline</th>\n",
              "      <th>Net migration</th>\n",
              "      <th>Infant mortality</th>\n",
              "      <th>GDP</th>\n",
              "      <th>Literacy</th>\n",
              "      <th>Phones</th>\n",
              "      <th>Arable</th>\n",
              "      <th>Crops</th>\n",
              "      <th>Other</th>\n",
              "      <th>Climate</th>\n",
              "      <th>Birthrate</th>\n",
              "      <th>Deathrate</th>\n",
              "      <th>Agriculture</th>\n",
              "      <th>Industry</th>\n",
              "      <th>Service</th>\n",
              "    </tr>\n",
              "  </thead>\n",
              "  <tbody>\n",
              "    <tr>\n",
              "      <th>0</th>\n",
              "      <td>Norway</td>\n",
              "      <td>Western Europe</td>\n",
              "      <td>1.0</td>\n",
              "      <td>7.537</td>\n",
              "      <td>7.578745</td>\n",
              "      <td>11.081789</td>\n",
              "      <td>0.950128</td>\n",
              "      <td>71.086586</td>\n",
              "      <td>0.953017</td>\n",
              "      <td>0.210104</td>\n",
              "      <td>0.249711</td>\n",
              "      <td>0.849100</td>\n",
              "      <td>0.202914</td>\n",
              "      <td>0.717160</td>\n",
              "      <td>NOR</td>\n",
              "      <td>WESTERN EUROPE</td>\n",
              "      <td>4610820.0</td>\n",
              "      <td>323802.0</td>\n",
              "      <td>14.2</td>\n",
              "      <td>7.77</td>\n",
              "      <td>1.74</td>\n",
              "      <td>3.70</td>\n",
              "      <td>37800.0</td>\n",
              "      <td>100.0</td>\n",
              "      <td>461.7</td>\n",
              "      <td>2.87</td>\n",
              "      <td>0.00</td>\n",
              "      <td>97.13</td>\n",
              "      <td>3.0</td>\n",
              "      <td>11.46</td>\n",
              "      <td>9.40</td>\n",
              "      <td>0.021</td>\n",
              "      <td>0.415</td>\n",
              "      <td>0.564</td>\n",
              "    </tr>\n",
              "    <tr>\n",
              "      <th>1</th>\n",
              "      <td>Denmark</td>\n",
              "      <td>Western Europe</td>\n",
              "      <td>2.0</td>\n",
              "      <td>7.522</td>\n",
              "      <td>7.593702</td>\n",
              "      <td>10.748989</td>\n",
              "      <td>0.952100</td>\n",
              "      <td>71.662498</td>\n",
              "      <td>0.955416</td>\n",
              "      <td>0.145387</td>\n",
              "      <td>0.181148</td>\n",
              "      <td>0.823667</td>\n",
              "      <td>0.205775</td>\n",
              "      <td>0.572353</td>\n",
              "      <td>DNK</td>\n",
              "      <td>WESTERN EUROPE</td>\n",
              "      <td>5450661.0</td>\n",
              "      <td>43094.0</td>\n",
              "      <td>126.5</td>\n",
              "      <td>16.97</td>\n",
              "      <td>2.48</td>\n",
              "      <td>4.56</td>\n",
              "      <td>31100.0</td>\n",
              "      <td>100.0</td>\n",
              "      <td>614.6</td>\n",
              "      <td>54.02</td>\n",
              "      <td>0.19</td>\n",
              "      <td>45.79</td>\n",
              "      <td>3.0</td>\n",
              "      <td>11.13</td>\n",
              "      <td>10.36</td>\n",
              "      <td>0.018</td>\n",
              "      <td>0.246</td>\n",
              "      <td>0.735</td>\n",
              "    </tr>\n",
              "    <tr>\n",
              "      <th>2</th>\n",
              "      <td>Iceland</td>\n",
              "      <td>Western Europe</td>\n",
              "      <td>3.0</td>\n",
              "      <td>7.504</td>\n",
              "      <td>7.476214</td>\n",
              "      <td>10.760409</td>\n",
              "      <td>0.966753</td>\n",
              "      <td>72.755981</td>\n",
              "      <td>0.938783</td>\n",
              "      <td>0.235479</td>\n",
              "      <td>0.726845</td>\n",
              "      <td>0.895255</td>\n",
              "      <td>0.148160</td>\n",
              "      <td>0.365042</td>\n",
              "      <td>ISL</td>\n",
              "      <td>WESTERN EUROPE</td>\n",
              "      <td>299388.0</td>\n",
              "      <td>103000.0</td>\n",
              "      <td>2.9</td>\n",
              "      <td>4.83</td>\n",
              "      <td>2.38</td>\n",
              "      <td>3.31</td>\n",
              "      <td>30900.0</td>\n",
              "      <td>99.9</td>\n",
              "      <td>647.7</td>\n",
              "      <td>0.07</td>\n",
              "      <td>0.00</td>\n",
              "      <td>99.93</td>\n",
              "      <td>3.0</td>\n",
              "      <td>13.64</td>\n",
              "      <td>6.72</td>\n",
              "      <td>0.086</td>\n",
              "      <td>0.150</td>\n",
              "      <td>0.765</td>\n",
              "    </tr>\n",
              "    <tr>\n",
              "      <th>3</th>\n",
              "      <td>Switzerland</td>\n",
              "      <td>Western Europe</td>\n",
              "      <td>4.0</td>\n",
              "      <td>7.494</td>\n",
              "      <td>7.473593</td>\n",
              "      <td>10.955548</td>\n",
              "      <td>0.949661</td>\n",
              "      <td>73.173759</td>\n",
              "      <td>0.924997</td>\n",
              "      <td>0.167875</td>\n",
              "      <td>0.316183</td>\n",
              "      <td>0.773997</td>\n",
              "      <td>0.195871</td>\n",
              "      <td>0.819707</td>\n",
              "      <td>CHE</td>\n",
              "      <td>WESTERN EUROPE</td>\n",
              "      <td>7523934.0</td>\n",
              "      <td>41290.0</td>\n",
              "      <td>182.2</td>\n",
              "      <td>0.00</td>\n",
              "      <td>4.05</td>\n",
              "      <td>4.39</td>\n",
              "      <td>32700.0</td>\n",
              "      <td>99.0</td>\n",
              "      <td>680.9</td>\n",
              "      <td>10.42</td>\n",
              "      <td>0.61</td>\n",
              "      <td>88.97</td>\n",
              "      <td>3.0</td>\n",
              "      <td>9.71</td>\n",
              "      <td>8.49</td>\n",
              "      <td>0.015</td>\n",
              "      <td>0.340</td>\n",
              "      <td>0.645</td>\n",
              "    </tr>\n",
              "    <tr>\n",
              "      <th>4</th>\n",
              "      <td>Finland</td>\n",
              "      <td>Western Europe</td>\n",
              "      <td>5.0</td>\n",
              "      <td>7.469</td>\n",
              "      <td>7.788252</td>\n",
              "      <td>10.612338</td>\n",
              "      <td>0.963826</td>\n",
              "      <td>71.696960</td>\n",
              "      <td>0.962199</td>\n",
              "      <td>-0.012174</td>\n",
              "      <td>0.192413</td>\n",
              "      <td>0.787137</td>\n",
              "      <td>0.176066</td>\n",
              "      <td>0.597539</td>\n",
              "      <td>FIN</td>\n",
              "      <td>WESTERN EUROPE</td>\n",
              "      <td>5231372.0</td>\n",
              "      <td>338145.0</td>\n",
              "      <td>15.5</td>\n",
              "      <td>0.37</td>\n",
              "      <td>0.95</td>\n",
              "      <td>3.57</td>\n",
              "      <td>27400.0</td>\n",
              "      <td>100.0</td>\n",
              "      <td>405.3</td>\n",
              "      <td>7.19</td>\n",
              "      <td>0.03</td>\n",
              "      <td>92.78</td>\n",
              "      <td>3.0</td>\n",
              "      <td>10.45</td>\n",
              "      <td>9.86</td>\n",
              "      <td>0.028</td>\n",
              "      <td>0.295</td>\n",
              "      <td>0.676</td>\n",
              "    </tr>\n",
              "  </tbody>\n",
              "</table>\n",
              "</div>"
            ],
            "text/plain": [
              "       Country        Region_x  Rank  ...  Agriculture  Industry  Service\n",
              "0       Norway  Western Europe   1.0  ...        0.021     0.415    0.564\n",
              "1      Denmark  Western Europe   2.0  ...        0.018     0.246    0.735\n",
              "2      Iceland  Western Europe   3.0  ...        0.086     0.150    0.765\n",
              "3  Switzerland  Western Europe   4.0  ...        0.015     0.340    0.645\n",
              "4      Finland  Western Europe   5.0  ...        0.028     0.295    0.676\n",
              "\n",
              "[5 rows x 34 columns]"
            ]
          },
          "metadata": {},
          "execution_count": 17
        }
      ]
    },
    {
      "cell_type": "code",
      "metadata": {
        "id": "6ZQCeJqlyVlO",
        "colab": {
          "base_uri": "https://localhost:8080/",
          "height": 80
        },
        "outputId": "d4fff0ac-984f-4082-81f7-8d2b6a14b503"
      },
      "source": [
        "new_hd.loc[new_hd.Country == \"United States\"][['Country', 'Population']]"
      ],
      "execution_count": 18,
      "outputs": [
        {
          "output_type": "execute_result",
          "data": {
            "text/html": [
              "<div>\n",
              "<style scoped>\n",
              "    .dataframe tbody tr th:only-of-type {\n",
              "        vertical-align: middle;\n",
              "    }\n",
              "\n",
              "    .dataframe tbody tr th {\n",
              "        vertical-align: top;\n",
              "    }\n",
              "\n",
              "    .dataframe thead th {\n",
              "        text-align: right;\n",
              "    }\n",
              "</style>\n",
              "<table border=\"1\" class=\"dataframe\">\n",
              "  <thead>\n",
              "    <tr style=\"text-align: right;\">\n",
              "      <th></th>\n",
              "      <th>Country</th>\n",
              "      <th>Population</th>\n",
              "    </tr>\n",
              "  </thead>\n",
              "  <tbody>\n",
              "    <tr>\n",
              "      <th>12</th>\n",
              "      <td>United States</td>\n",
              "      <td>NaN</td>\n",
              "    </tr>\n",
              "  </tbody>\n",
              "</table>\n",
              "</div>"
            ],
            "text/plain": [
              "          Country  Population\n",
              "12  United States         NaN"
            ]
          },
          "metadata": {},
          "execution_count": 18
        }
      ]
    },
    {
      "cell_type": "code",
      "metadata": {
        "id": "2iqYIvLA0dEM",
        "colab": {
          "base_uri": "https://localhost:8080/",
          "height": 80
        },
        "outputId": "eb8c297b-31e7-4d9a-e709-32c3996700ac"
      },
      "source": [
        "wd.loc[wd.Country == 'United States of America'][['Country', 'Population']]"
      ],
      "execution_count": 19,
      "outputs": [
        {
          "output_type": "execute_result",
          "data": {
            "text/html": [
              "<div>\n",
              "<style scoped>\n",
              "    .dataframe tbody tr th:only-of-type {\n",
              "        vertical-align: middle;\n",
              "    }\n",
              "\n",
              "    .dataframe tbody tr th {\n",
              "        vertical-align: top;\n",
              "    }\n",
              "\n",
              "    .dataframe thead th {\n",
              "        text-align: right;\n",
              "    }\n",
              "</style>\n",
              "<table border=\"1\" class=\"dataframe\">\n",
              "  <thead>\n",
              "    <tr style=\"text-align: right;\">\n",
              "      <th></th>\n",
              "      <th>Country</th>\n",
              "      <th>Population</th>\n",
              "    </tr>\n",
              "  </thead>\n",
              "  <tbody>\n",
              "    <tr>\n",
              "      <th>212</th>\n",
              "      <td>United States of America</td>\n",
              "      <td>298444215</td>\n",
              "    </tr>\n",
              "  </tbody>\n",
              "</table>\n",
              "</div>"
            ],
            "text/plain": [
              "                      Country  Population\n",
              "212  United States of America   298444215"
            ]
          },
          "metadata": {},
          "execution_count": 19
        }
      ]
    },
    {
      "cell_type": "markdown",
      "metadata": {
        "id": "W-pMD7Rn2SX3"
      },
      "source": [
        "####In the `merge()` function we used in question 6, I included the argument `how = outer` which returns a join over the union of the input column Country. This argument fills in all missing values with NANs. So countries present in happiness_2017 but not present in world_countries have NAN in their Population column. Here, in happiness_2017 America is listed as 'United States' whereas in world_countries it is listed as 'United States of America'.Hence, the two are not considered the same thing. Therefore, when we search up the population for 'United States' in the merged dataframe, we get NAN. "
      ]
    },
    {
      "cell_type": "markdown",
      "metadata": {
        "id": "Fi3bsKO_-DTa"
      },
      "source": [
        "###Q-7: Which of the following countries are NOT in the world countries spreadsheet?"
      ]
    },
    {
      "cell_type": "code",
      "metadata": {
        "id": "Dyv7St3K1NN2",
        "colab": {
          "base_uri": "https://localhost:8080/",
          "height": 86
        },
        "outputId": "24a776b4-a5ee-4a3d-a80f-f029df134d51"
      },
      "source": [
        "wd.loc[wd.Code == 'KOS']"
      ],
      "execution_count": 20,
      "outputs": [
        {
          "output_type": "execute_result",
          "data": {
            "text/html": [
              "<div>\n",
              "<style scoped>\n",
              "    .dataframe tbody tr th:only-of-type {\n",
              "        vertical-align: middle;\n",
              "    }\n",
              "\n",
              "    .dataframe tbody tr th {\n",
              "        vertical-align: top;\n",
              "    }\n",
              "\n",
              "    .dataframe thead th {\n",
              "        text-align: right;\n",
              "    }\n",
              "</style>\n",
              "<table border=\"1\" class=\"dataframe\">\n",
              "  <thead>\n",
              "    <tr style=\"text-align: right;\">\n",
              "      <th></th>\n",
              "      <th>Country</th>\n",
              "      <th>Code</th>\n",
              "      <th>Region</th>\n",
              "      <th>Population</th>\n",
              "      <th>Area</th>\n",
              "      <th>Pop. Density</th>\n",
              "      <th>Coastline</th>\n",
              "      <th>Net migration</th>\n",
              "      <th>Infant mortality</th>\n",
              "      <th>GDP</th>\n",
              "      <th>Literacy</th>\n",
              "      <th>Phones</th>\n",
              "      <th>Arable</th>\n",
              "      <th>Crops</th>\n",
              "      <th>Other</th>\n",
              "      <th>Climate</th>\n",
              "      <th>Birthrate</th>\n",
              "      <th>Deathrate</th>\n",
              "      <th>Agriculture</th>\n",
              "      <th>Industry</th>\n",
              "      <th>Service</th>\n",
              "    </tr>\n",
              "  </thead>\n",
              "  <tbody>\n",
              "  </tbody>\n",
              "</table>\n",
              "</div>"
            ],
            "text/plain": [
              "Empty DataFrame\n",
              "Columns: [Country, Code, Region, Population, Area, Pop. Density, Coastline, Net migration, Infant mortality, GDP, Literacy, Phones, Arable, Crops, Other, Climate, Birthrate, Deathrate, Agriculture, Industry, Service]\n",
              "Index: []"
            ]
          },
          "metadata": {},
          "execution_count": 20
        }
      ]
    },
    {
      "cell_type": "code",
      "metadata": {
        "id": "rCBpfV1d-qwN",
        "colab": {
          "base_uri": "https://localhost:8080/",
          "height": 86
        },
        "outputId": "96a7b216-2c86-44e5-a1cd-a83633756be7"
      },
      "source": [
        "wd.loc[wd.Code == 'PSE']"
      ],
      "execution_count": 21,
      "outputs": [
        {
          "output_type": "execute_result",
          "data": {
            "text/html": [
              "<div>\n",
              "<style scoped>\n",
              "    .dataframe tbody tr th:only-of-type {\n",
              "        vertical-align: middle;\n",
              "    }\n",
              "\n",
              "    .dataframe tbody tr th {\n",
              "        vertical-align: top;\n",
              "    }\n",
              "\n",
              "    .dataframe thead th {\n",
              "        text-align: right;\n",
              "    }\n",
              "</style>\n",
              "<table border=\"1\" class=\"dataframe\">\n",
              "  <thead>\n",
              "    <tr style=\"text-align: right;\">\n",
              "      <th></th>\n",
              "      <th>Country</th>\n",
              "      <th>Code</th>\n",
              "      <th>Region</th>\n",
              "      <th>Population</th>\n",
              "      <th>Area</th>\n",
              "      <th>Pop. Density</th>\n",
              "      <th>Coastline</th>\n",
              "      <th>Net migration</th>\n",
              "      <th>Infant mortality</th>\n",
              "      <th>GDP</th>\n",
              "      <th>Literacy</th>\n",
              "      <th>Phones</th>\n",
              "      <th>Arable</th>\n",
              "      <th>Crops</th>\n",
              "      <th>Other</th>\n",
              "      <th>Climate</th>\n",
              "      <th>Birthrate</th>\n",
              "      <th>Deathrate</th>\n",
              "      <th>Agriculture</th>\n",
              "      <th>Industry</th>\n",
              "      <th>Service</th>\n",
              "    </tr>\n",
              "  </thead>\n",
              "  <tbody>\n",
              "  </tbody>\n",
              "</table>\n",
              "</div>"
            ],
            "text/plain": [
              "Empty DataFrame\n",
              "Columns: [Country, Code, Region, Population, Area, Pop. Density, Coastline, Net migration, Infant mortality, GDP, Literacy, Phones, Arable, Crops, Other, Climate, Birthrate, Deathrate, Agriculture, Industry, Service]\n",
              "Index: []"
            ]
          },
          "metadata": {},
          "execution_count": 21
        }
      ]
    },
    {
      "cell_type": "code",
      "metadata": {
        "id": "w7EUN93dCFKU",
        "colab": {
          "base_uri": "https://localhost:8080/",
          "height": 117
        },
        "outputId": "7eb2658f-8252-4a90-8cb8-f33a5c778343"
      },
      "source": [
        "wd.loc[wd.Code == 'PLW']"
      ],
      "execution_count": 22,
      "outputs": [
        {
          "output_type": "execute_result",
          "data": {
            "text/html": [
              "<div>\n",
              "<style scoped>\n",
              "    .dataframe tbody tr th:only-of-type {\n",
              "        vertical-align: middle;\n",
              "    }\n",
              "\n",
              "    .dataframe tbody tr th {\n",
              "        vertical-align: top;\n",
              "    }\n",
              "\n",
              "    .dataframe thead th {\n",
              "        text-align: right;\n",
              "    }\n",
              "</style>\n",
              "<table border=\"1\" class=\"dataframe\">\n",
              "  <thead>\n",
              "    <tr style=\"text-align: right;\">\n",
              "      <th></th>\n",
              "      <th>Country</th>\n",
              "      <th>Code</th>\n",
              "      <th>Region</th>\n",
              "      <th>Population</th>\n",
              "      <th>Area</th>\n",
              "      <th>Pop. Density</th>\n",
              "      <th>Coastline</th>\n",
              "      <th>Net migration</th>\n",
              "      <th>Infant mortality</th>\n",
              "      <th>GDP</th>\n",
              "      <th>Literacy</th>\n",
              "      <th>Phones</th>\n",
              "      <th>Arable</th>\n",
              "      <th>Crops</th>\n",
              "      <th>Other</th>\n",
              "      <th>Climate</th>\n",
              "      <th>Birthrate</th>\n",
              "      <th>Deathrate</th>\n",
              "      <th>Agriculture</th>\n",
              "      <th>Industry</th>\n",
              "      <th>Service</th>\n",
              "    </tr>\n",
              "  </thead>\n",
              "  <tbody>\n",
              "    <tr>\n",
              "      <th>155</th>\n",
              "      <td>Palau</td>\n",
              "      <td>PLW</td>\n",
              "      <td>OCEANIA</td>\n",
              "      <td>20579</td>\n",
              "      <td>458</td>\n",
              "      <td>44.9</td>\n",
              "      <td>331.66</td>\n",
              "      <td>2.85</td>\n",
              "      <td>14.84</td>\n",
              "      <td>9000.0</td>\n",
              "      <td>92.0</td>\n",
              "      <td>325.6</td>\n",
              "      <td>8.7</td>\n",
              "      <td>4.35</td>\n",
              "      <td>86.95</td>\n",
              "      <td>2.0</td>\n",
              "      <td>18.03</td>\n",
              "      <td>6.8</td>\n",
              "      <td>0.062</td>\n",
              "      <td>0.12</td>\n",
              "      <td>0.818</td>\n",
              "    </tr>\n",
              "  </tbody>\n",
              "</table>\n",
              "</div>"
            ],
            "text/plain": [
              "    Country Code   Region  ...  Agriculture  Industry  Service\n",
              "155   Palau  PLW  OCEANIA  ...        0.062      0.12    0.818\n",
              "\n",
              "[1 rows x 21 columns]"
            ]
          },
          "metadata": {},
          "execution_count": 22
        }
      ]
    },
    {
      "cell_type": "code",
      "metadata": {
        "id": "7DkTW7mNCJ2L",
        "colab": {
          "base_uri": "https://localhost:8080/",
          "height": 150
        },
        "outputId": "f3f9f95f-3c9f-4235-b51b-6b3fdc8fea62"
      },
      "source": [
        "wd.loc[wd.Code == 'CIV']"
      ],
      "execution_count": 23,
      "outputs": [
        {
          "output_type": "execute_result",
          "data": {
            "text/html": [
              "<div>\n",
              "<style scoped>\n",
              "    .dataframe tbody tr th:only-of-type {\n",
              "        vertical-align: middle;\n",
              "    }\n",
              "\n",
              "    .dataframe tbody tr th {\n",
              "        vertical-align: top;\n",
              "    }\n",
              "\n",
              "    .dataframe thead th {\n",
              "        text-align: right;\n",
              "    }\n",
              "</style>\n",
              "<table border=\"1\" class=\"dataframe\">\n",
              "  <thead>\n",
              "    <tr style=\"text-align: right;\">\n",
              "      <th></th>\n",
              "      <th>Country</th>\n",
              "      <th>Code</th>\n",
              "      <th>Region</th>\n",
              "      <th>Population</th>\n",
              "      <th>Area</th>\n",
              "      <th>Pop. Density</th>\n",
              "      <th>Coastline</th>\n",
              "      <th>Net migration</th>\n",
              "      <th>Infant mortality</th>\n",
              "      <th>GDP</th>\n",
              "      <th>Literacy</th>\n",
              "      <th>Phones</th>\n",
              "      <th>Arable</th>\n",
              "      <th>Crops</th>\n",
              "      <th>Other</th>\n",
              "      <th>Climate</th>\n",
              "      <th>Birthrate</th>\n",
              "      <th>Deathrate</th>\n",
              "      <th>Agriculture</th>\n",
              "      <th>Industry</th>\n",
              "      <th>Service</th>\n",
              "    </tr>\n",
              "  </thead>\n",
              "  <tbody>\n",
              "    <tr>\n",
              "      <th>49</th>\n",
              "      <td>Côte d'Ivoire</td>\n",
              "      <td>CIV</td>\n",
              "      <td>SUB-SAHARAN AFRICA</td>\n",
              "      <td>17654843</td>\n",
              "      <td>322460</td>\n",
              "      <td>54.8</td>\n",
              "      <td>0.16</td>\n",
              "      <td>-0.07</td>\n",
              "      <td>90.83</td>\n",
              "      <td>1400.0</td>\n",
              "      <td>50.9</td>\n",
              "      <td>14.6</td>\n",
              "      <td>9.75</td>\n",
              "      <td>13.84</td>\n",
              "      <td>76.41</td>\n",
              "      <td>2.0</td>\n",
              "      <td>35.11</td>\n",
              "      <td>14.84</td>\n",
              "      <td>0.279</td>\n",
              "      <td>0.171</td>\n",
              "      <td>0.55</td>\n",
              "    </tr>\n",
              "  </tbody>\n",
              "</table>\n",
              "</div>"
            ],
            "text/plain": [
              "          Country Code              Region  ...  Agriculture  Industry  Service\n",
              "49  Côte d'Ivoire  CIV  SUB-SAHARAN AFRICA  ...        0.279     0.171     0.55\n",
              "\n",
              "[1 rows x 21 columns]"
            ]
          },
          "metadata": {},
          "execution_count": 23
        }
      ]
    },
    {
      "cell_type": "markdown",
      "metadata": {
        "id": "UVR-Cm42ft-o"
      },
      "source": [
        "No observation is found for Kosovo and Palestine"
      ]
    },
    {
      "cell_type": "markdown",
      "metadata": {
        "id": "e7XaXtvfDYMr"
      },
      "source": [
        "###Q-8: The average population is __ for East Asia."
      ]
    },
    {
      "cell_type": "code",
      "metadata": {
        "id": "RarVl4w0CTM7",
        "colab": {
          "base_uri": "https://localhost:8080/",
          "height": 234
        },
        "outputId": "204ec901-2592-431d-ed11-acd227a62d8e"
      },
      "source": [
        "new_hd1 = new_hd.loc[new_hd.Region_x == 'East Asia'][['Region_x', 'Country','Population']]\n",
        "new_hd1"
      ],
      "execution_count": 24,
      "outputs": [
        {
          "output_type": "execute_result",
          "data": {
            "text/html": [
              "<div>\n",
              "<style scoped>\n",
              "    .dataframe tbody tr th:only-of-type {\n",
              "        vertical-align: middle;\n",
              "    }\n",
              "\n",
              "    .dataframe tbody tr th {\n",
              "        vertical-align: top;\n",
              "    }\n",
              "\n",
              "    .dataframe thead th {\n",
              "        text-align: right;\n",
              "    }\n",
              "</style>\n",
              "<table border=\"1\" class=\"dataframe\">\n",
              "  <thead>\n",
              "    <tr style=\"text-align: right;\">\n",
              "      <th></th>\n",
              "      <th>Region_x</th>\n",
              "      <th>Country</th>\n",
              "      <th>Population</th>\n",
              "    </tr>\n",
              "  </thead>\n",
              "  <tbody>\n",
              "    <tr>\n",
              "      <th>31</th>\n",
              "      <td>East Asia</td>\n",
              "      <td>Taiwan Province of China</td>\n",
              "      <td>NaN</td>\n",
              "    </tr>\n",
              "    <tr>\n",
              "      <th>46</th>\n",
              "      <td>East Asia</td>\n",
              "      <td>Japan</td>\n",
              "      <td>1.274636e+08</td>\n",
              "    </tr>\n",
              "    <tr>\n",
              "      <th>51</th>\n",
              "      <td>East Asia</td>\n",
              "      <td>South Korea</td>\n",
              "      <td>NaN</td>\n",
              "    </tr>\n",
              "    <tr>\n",
              "      <th>64</th>\n",
              "      <td>East Asia</td>\n",
              "      <td>Hong Kong S.A.R., China</td>\n",
              "      <td>NaN</td>\n",
              "    </tr>\n",
              "    <tr>\n",
              "      <th>72</th>\n",
              "      <td>East Asia</td>\n",
              "      <td>China</td>\n",
              "      <td>1.313974e+09</td>\n",
              "    </tr>\n",
              "    <tr>\n",
              "      <th>90</th>\n",
              "      <td>East Asia</td>\n",
              "      <td>Mongolia</td>\n",
              "      <td>2.832224e+06</td>\n",
              "    </tr>\n",
              "  </tbody>\n",
              "</table>\n",
              "</div>"
            ],
            "text/plain": [
              "     Region_x                   Country    Population\n",
              "31  East Asia  Taiwan Province of China           NaN\n",
              "46  East Asia                     Japan  1.274636e+08\n",
              "51  East Asia               South Korea           NaN\n",
              "64  East Asia   Hong Kong S.A.R., China           NaN\n",
              "72  East Asia                     China  1.313974e+09\n",
              "90  East Asia                  Mongolia  2.832224e+06"
            ]
          },
          "metadata": {},
          "execution_count": 24
        }
      ]
    },
    {
      "cell_type": "markdown",
      "metadata": {
        "id": "NY0Uqx8Zf635"
      },
      "source": [
        "We can see that we are missing population values for Taiwan Province of China, South Kore and Hong Kong S.A.R., China. Lets first remove white space at both ends in the column Country using `strip()`"
      ]
    },
    {
      "cell_type": "code",
      "metadata": {
        "id": "P89ysjgwOHgB"
      },
      "source": [
        "wd.Country = wd.Country.str.strip()"
      ],
      "execution_count": 25,
      "outputs": []
    },
    {
      "cell_type": "markdown",
      "metadata": {
        "id": "AJmY6fLbgQPt"
      },
      "source": [
        "Now, we search up the index for the country in happiness dataset. Then we find what the Country column in world countries dataset has as the name of that country. Then we change the name in happiness dataset to the name present in world countries dataset."
      ]
    },
    {
      "cell_type": "code",
      "metadata": {
        "id": "tdMJEro08j79",
        "colab": {
          "base_uri": "https://localhost:8080/",
          "height": 147
        },
        "outputId": "a950c559-7856-455b-c086-35d048fdb7f4"
      },
      "source": [
        "hd.loc[hd.Country == \"Taiwan Province of China\"]"
      ],
      "execution_count": 26,
      "outputs": [
        {
          "output_type": "execute_result",
          "data": {
            "text/html": [
              "<div>\n",
              "<style scoped>\n",
              "    .dataframe tbody tr th:only-of-type {\n",
              "        vertical-align: middle;\n",
              "    }\n",
              "\n",
              "    .dataframe tbody tr th {\n",
              "        vertical-align: top;\n",
              "    }\n",
              "\n",
              "    .dataframe thead th {\n",
              "        text-align: right;\n",
              "    }\n",
              "</style>\n",
              "<table border=\"1\" class=\"dataframe\">\n",
              "  <thead>\n",
              "    <tr style=\"text-align: right;\">\n",
              "      <th></th>\n",
              "      <th>Country</th>\n",
              "      <th>Region</th>\n",
              "      <th>Rank</th>\n",
              "      <th>HappinessScore</th>\n",
              "      <th>Life Ladder</th>\n",
              "      <th>Log GDP per capita</th>\n",
              "      <th>Social support</th>\n",
              "      <th>Healthy life expectancy at birth</th>\n",
              "      <th>Freedom to make life choices</th>\n",
              "      <th>Generosity</th>\n",
              "      <th>Perceptions of corruption</th>\n",
              "      <th>Positive affect</th>\n",
              "      <th>Negative affect</th>\n",
              "      <th>Confidence in national government</th>\n",
              "    </tr>\n",
              "  </thead>\n",
              "  <tbody>\n",
              "    <tr>\n",
              "      <th>31</th>\n",
              "      <td>Taiwan Province of China</td>\n",
              "      <td>East Asia</td>\n",
              "      <td>32</td>\n",
              "      <td>6.422</td>\n",
              "      <td>6.359451</td>\n",
              "      <td>NaN</td>\n",
              "      <td>0.891119</td>\n",
              "      <td>71.209999</td>\n",
              "      <td>0.759655</td>\n",
              "      <td>NaN</td>\n",
              "      <td>0.74278</td>\n",
              "      <td>0.837277</td>\n",
              "      <td>0.114123</td>\n",
              "      <td>0.322822</td>\n",
              "    </tr>\n",
              "  </tbody>\n",
              "</table>\n",
              "</div>"
            ],
            "text/plain": [
              "                     Country  ... Confidence in national government\n",
              "31  Taiwan Province of China  ...                          0.322822\n",
              "\n",
              "[1 rows x 14 columns]"
            ]
          },
          "metadata": {},
          "execution_count": 26
        }
      ]
    },
    {
      "cell_type": "code",
      "metadata": {
        "id": "cQoawprg9WSq",
        "colab": {
          "base_uri": "https://localhost:8080/",
          "height": 167
        },
        "outputId": "1e9843ee-90ce-4154-c705-318affa14859"
      },
      "source": [
        "wd.loc[wd.Code == \"TWN\"]"
      ],
      "execution_count": 27,
      "outputs": [
        {
          "output_type": "execute_result",
          "data": {
            "text/html": [
              "<div>\n",
              "<style scoped>\n",
              "    .dataframe tbody tr th:only-of-type {\n",
              "        vertical-align: middle;\n",
              "    }\n",
              "\n",
              "    .dataframe tbody tr th {\n",
              "        vertical-align: top;\n",
              "    }\n",
              "\n",
              "    .dataframe thead th {\n",
              "        text-align: right;\n",
              "    }\n",
              "</style>\n",
              "<table border=\"1\" class=\"dataframe\">\n",
              "  <thead>\n",
              "    <tr style=\"text-align: right;\">\n",
              "      <th></th>\n",
              "      <th>Country</th>\n",
              "      <th>Code</th>\n",
              "      <th>Region</th>\n",
              "      <th>Population</th>\n",
              "      <th>Area</th>\n",
              "      <th>Pop. Density</th>\n",
              "      <th>Coastline</th>\n",
              "      <th>Net migration</th>\n",
              "      <th>Infant mortality</th>\n",
              "      <th>GDP</th>\n",
              "      <th>Literacy</th>\n",
              "      <th>Phones</th>\n",
              "      <th>Arable</th>\n",
              "      <th>Crops</th>\n",
              "      <th>Other</th>\n",
              "      <th>Climate</th>\n",
              "      <th>Birthrate</th>\n",
              "      <th>Deathrate</th>\n",
              "      <th>Agriculture</th>\n",
              "      <th>Industry</th>\n",
              "      <th>Service</th>\n",
              "    </tr>\n",
              "  </thead>\n",
              "  <tbody>\n",
              "    <tr>\n",
              "      <th>196</th>\n",
              "      <td>Taiwan</td>\n",
              "      <td>TWN</td>\n",
              "      <td>ASIA (EX. NEAR EAST)</td>\n",
              "      <td>23036087</td>\n",
              "      <td>35980</td>\n",
              "      <td>640.3</td>\n",
              "      <td>4.35</td>\n",
              "      <td>0.0</td>\n",
              "      <td>6.4</td>\n",
              "      <td>23400.0</td>\n",
              "      <td>96.1</td>\n",
              "      <td>591.0</td>\n",
              "      <td>24.0</td>\n",
              "      <td>1.0</td>\n",
              "      <td>75.0</td>\n",
              "      <td>2.0</td>\n",
              "      <td>12.56</td>\n",
              "      <td>6.48</td>\n",
              "      <td>0.018</td>\n",
              "      <td>0.259</td>\n",
              "      <td>0.723</td>\n",
              "    </tr>\n",
              "  </tbody>\n",
              "</table>\n",
              "</div>"
            ],
            "text/plain": [
              "    Country Code                Region  ...  Agriculture  Industry  Service\n",
              "196  Taiwan  TWN  ASIA (EX. NEAR EAST)  ...        0.018     0.259    0.723\n",
              "\n",
              "[1 rows x 21 columns]"
            ]
          },
          "metadata": {},
          "execution_count": 27
        }
      ]
    },
    {
      "cell_type": "code",
      "metadata": {
        "id": "ZAkIgerH9f7-",
        "colab": {
          "base_uri": "https://localhost:8080/",
          "height": 130
        },
        "outputId": "c038e672-6724-429b-b9fa-e0a2609721e5"
      },
      "source": [
        "hd_changed = hd.copy()\n",
        "hd_changed.loc[31, 'Country'] = \"Taiwan\"\n",
        "hd_changed[hd_changed.Country == 'Taiwan']"
      ],
      "execution_count": 28,
      "outputs": [
        {
          "output_type": "execute_result",
          "data": {
            "text/html": [
              "<div>\n",
              "<style scoped>\n",
              "    .dataframe tbody tr th:only-of-type {\n",
              "        vertical-align: middle;\n",
              "    }\n",
              "\n",
              "    .dataframe tbody tr th {\n",
              "        vertical-align: top;\n",
              "    }\n",
              "\n",
              "    .dataframe thead th {\n",
              "        text-align: right;\n",
              "    }\n",
              "</style>\n",
              "<table border=\"1\" class=\"dataframe\">\n",
              "  <thead>\n",
              "    <tr style=\"text-align: right;\">\n",
              "      <th></th>\n",
              "      <th>Country</th>\n",
              "      <th>Region</th>\n",
              "      <th>Rank</th>\n",
              "      <th>HappinessScore</th>\n",
              "      <th>Life Ladder</th>\n",
              "      <th>Log GDP per capita</th>\n",
              "      <th>Social support</th>\n",
              "      <th>Healthy life expectancy at birth</th>\n",
              "      <th>Freedom to make life choices</th>\n",
              "      <th>Generosity</th>\n",
              "      <th>Perceptions of corruption</th>\n",
              "      <th>Positive affect</th>\n",
              "      <th>Negative affect</th>\n",
              "      <th>Confidence in national government</th>\n",
              "    </tr>\n",
              "  </thead>\n",
              "  <tbody>\n",
              "    <tr>\n",
              "      <th>31</th>\n",
              "      <td>Taiwan</td>\n",
              "      <td>East Asia</td>\n",
              "      <td>32</td>\n",
              "      <td>6.422</td>\n",
              "      <td>6.359451</td>\n",
              "      <td>NaN</td>\n",
              "      <td>0.891119</td>\n",
              "      <td>71.209999</td>\n",
              "      <td>0.759655</td>\n",
              "      <td>NaN</td>\n",
              "      <td>0.74278</td>\n",
              "      <td>0.837277</td>\n",
              "      <td>0.114123</td>\n",
              "      <td>0.322822</td>\n",
              "    </tr>\n",
              "  </tbody>\n",
              "</table>\n",
              "</div>"
            ],
            "text/plain": [
              "   Country     Region  ...  Negative affect  Confidence in national government\n",
              "31  Taiwan  East Asia  ...         0.114123                           0.322822\n",
              "\n",
              "[1 rows x 14 columns]"
            ]
          },
          "metadata": {},
          "execution_count": 28
        }
      ]
    },
    {
      "cell_type": "code",
      "metadata": {
        "id": "WuIR4IbdleYM",
        "colab": {
          "base_uri": "https://localhost:8080/",
          "height": 130
        },
        "outputId": "9436921c-6c2d-4e67-e68d-6d140fe405bd"
      },
      "source": [
        "hd.loc[hd.Country == \"South Korea\"]"
      ],
      "execution_count": 29,
      "outputs": [
        {
          "output_type": "execute_result",
          "data": {
            "text/html": [
              "<div>\n",
              "<style scoped>\n",
              "    .dataframe tbody tr th:only-of-type {\n",
              "        vertical-align: middle;\n",
              "    }\n",
              "\n",
              "    .dataframe tbody tr th {\n",
              "        vertical-align: top;\n",
              "    }\n",
              "\n",
              "    .dataframe thead th {\n",
              "        text-align: right;\n",
              "    }\n",
              "</style>\n",
              "<table border=\"1\" class=\"dataframe\">\n",
              "  <thead>\n",
              "    <tr style=\"text-align: right;\">\n",
              "      <th></th>\n",
              "      <th>Country</th>\n",
              "      <th>Region</th>\n",
              "      <th>Rank</th>\n",
              "      <th>HappinessScore</th>\n",
              "      <th>Life Ladder</th>\n",
              "      <th>Log GDP per capita</th>\n",
              "      <th>Social support</th>\n",
              "      <th>Healthy life expectancy at birth</th>\n",
              "      <th>Freedom to make life choices</th>\n",
              "      <th>Generosity</th>\n",
              "      <th>Perceptions of corruption</th>\n",
              "      <th>Positive affect</th>\n",
              "      <th>Negative affect</th>\n",
              "      <th>Confidence in national government</th>\n",
              "    </tr>\n",
              "  </thead>\n",
              "  <tbody>\n",
              "    <tr>\n",
              "      <th>51</th>\n",
              "      <td>South Korea</td>\n",
              "      <td>East Asia</td>\n",
              "      <td>52</td>\n",
              "      <td>5.838</td>\n",
              "      <td>5.873887</td>\n",
              "      <td>10.489735</td>\n",
              "      <td>0.80693</td>\n",
              "      <td>74.041695</td>\n",
              "      <td>0.538114</td>\n",
              "      <td>0.003355</td>\n",
              "      <td>0.85069</td>\n",
              "      <td>0.623378</td>\n",
              "      <td>0.234826</td>\n",
              "      <td>0.358582</td>\n",
              "    </tr>\n",
              "  </tbody>\n",
              "</table>\n",
              "</div>"
            ],
            "text/plain": [
              "        Country     Region  ...  Negative affect  Confidence in national government\n",
              "51  South Korea  East Asia  ...         0.234826                           0.358582\n",
              "\n",
              "[1 rows x 14 columns]"
            ]
          },
          "metadata": {},
          "execution_count": 29
        }
      ]
    },
    {
      "cell_type": "code",
      "metadata": {
        "id": "1BYQilAA8V4q",
        "colab": {
          "base_uri": "https://localhost:8080/",
          "height": 167
        },
        "outputId": "0ca3f3f2-c09a-4e1c-ba8b-70022f7a7308"
      },
      "source": [
        "wd.loc[wd.Code == \"KOR\"]"
      ],
      "execution_count": 30,
      "outputs": [
        {
          "output_type": "execute_result",
          "data": {
            "text/html": [
              "<div>\n",
              "<style scoped>\n",
              "    .dataframe tbody tr th:only-of-type {\n",
              "        vertical-align: middle;\n",
              "    }\n",
              "\n",
              "    .dataframe tbody tr th {\n",
              "        vertical-align: top;\n",
              "    }\n",
              "\n",
              "    .dataframe thead th {\n",
              "        text-align: right;\n",
              "    }\n",
              "</style>\n",
              "<table border=\"1\" class=\"dataframe\">\n",
              "  <thead>\n",
              "    <tr style=\"text-align: right;\">\n",
              "      <th></th>\n",
              "      <th>Country</th>\n",
              "      <th>Code</th>\n",
              "      <th>Region</th>\n",
              "      <th>Population</th>\n",
              "      <th>Area</th>\n",
              "      <th>Pop. Density</th>\n",
              "      <th>Coastline</th>\n",
              "      <th>Net migration</th>\n",
              "      <th>Infant mortality</th>\n",
              "      <th>GDP</th>\n",
              "      <th>Literacy</th>\n",
              "      <th>Phones</th>\n",
              "      <th>Arable</th>\n",
              "      <th>Crops</th>\n",
              "      <th>Other</th>\n",
              "      <th>Climate</th>\n",
              "      <th>Birthrate</th>\n",
              "      <th>Deathrate</th>\n",
              "      <th>Agriculture</th>\n",
              "      <th>Industry</th>\n",
              "      <th>Service</th>\n",
              "    </tr>\n",
              "  </thead>\n",
              "  <tbody>\n",
              "    <tr>\n",
              "      <th>109</th>\n",
              "      <td>Korea, South</td>\n",
              "      <td>KOR</td>\n",
              "      <td>ASIA (EX. NEAR EAST)</td>\n",
              "      <td>48846823</td>\n",
              "      <td>98480</td>\n",
              "      <td>496.0</td>\n",
              "      <td>2.45</td>\n",
              "      <td>0.0</td>\n",
              "      <td>7.05</td>\n",
              "      <td>17800.0</td>\n",
              "      <td>97.9</td>\n",
              "      <td>486.1</td>\n",
              "      <td>17.18</td>\n",
              "      <td>1.95</td>\n",
              "      <td>80.87</td>\n",
              "      <td>3.0</td>\n",
              "      <td>10.0</td>\n",
              "      <td>5.85</td>\n",
              "      <td>0.033</td>\n",
              "      <td>0.403</td>\n",
              "      <td>0.563</td>\n",
              "    </tr>\n",
              "  </tbody>\n",
              "</table>\n",
              "</div>"
            ],
            "text/plain": [
              "          Country Code                Region  ...  Agriculture  Industry  Service\n",
              "109  Korea, South  KOR  ASIA (EX. NEAR EAST)  ...        0.033     0.403    0.563\n",
              "\n",
              "[1 rows x 21 columns]"
            ]
          },
          "metadata": {},
          "execution_count": 30
        }
      ]
    },
    {
      "cell_type": "code",
      "metadata": {
        "id": "xmZ4_PkKlIH7",
        "colab": {
          "base_uri": "https://localhost:8080/",
          "height": 130
        },
        "outputId": "0ab38c6d-6465-424c-d74f-3e702512b0ea"
      },
      "source": [
        "hd_changed.loc[51, 'Country'] = \"Korea, South\"\n",
        "hd_changed[hd_changed.Country == 'Korea, South']"
      ],
      "execution_count": 31,
      "outputs": [
        {
          "output_type": "execute_result",
          "data": {
            "text/html": [
              "<div>\n",
              "<style scoped>\n",
              "    .dataframe tbody tr th:only-of-type {\n",
              "        vertical-align: middle;\n",
              "    }\n",
              "\n",
              "    .dataframe tbody tr th {\n",
              "        vertical-align: top;\n",
              "    }\n",
              "\n",
              "    .dataframe thead th {\n",
              "        text-align: right;\n",
              "    }\n",
              "</style>\n",
              "<table border=\"1\" class=\"dataframe\">\n",
              "  <thead>\n",
              "    <tr style=\"text-align: right;\">\n",
              "      <th></th>\n",
              "      <th>Country</th>\n",
              "      <th>Region</th>\n",
              "      <th>Rank</th>\n",
              "      <th>HappinessScore</th>\n",
              "      <th>Life Ladder</th>\n",
              "      <th>Log GDP per capita</th>\n",
              "      <th>Social support</th>\n",
              "      <th>Healthy life expectancy at birth</th>\n",
              "      <th>Freedom to make life choices</th>\n",
              "      <th>Generosity</th>\n",
              "      <th>Perceptions of corruption</th>\n",
              "      <th>Positive affect</th>\n",
              "      <th>Negative affect</th>\n",
              "      <th>Confidence in national government</th>\n",
              "    </tr>\n",
              "  </thead>\n",
              "  <tbody>\n",
              "    <tr>\n",
              "      <th>51</th>\n",
              "      <td>Korea, South</td>\n",
              "      <td>East Asia</td>\n",
              "      <td>52</td>\n",
              "      <td>5.838</td>\n",
              "      <td>5.873887</td>\n",
              "      <td>10.489735</td>\n",
              "      <td>0.80693</td>\n",
              "      <td>74.041695</td>\n",
              "      <td>0.538114</td>\n",
              "      <td>0.003355</td>\n",
              "      <td>0.85069</td>\n",
              "      <td>0.623378</td>\n",
              "      <td>0.234826</td>\n",
              "      <td>0.358582</td>\n",
              "    </tr>\n",
              "  </tbody>\n",
              "</table>\n",
              "</div>"
            ],
            "text/plain": [
              "         Country     Region  ...  Negative affect  Confidence in national government\n",
              "51  Korea, South  East Asia  ...         0.234826                           0.358582\n",
              "\n",
              "[1 rows x 14 columns]"
            ]
          },
          "metadata": {},
          "execution_count": 31
        }
      ]
    },
    {
      "cell_type": "code",
      "metadata": {
        "id": "tITACVfc-EGQ",
        "colab": {
          "base_uri": "https://localhost:8080/",
          "height": 147
        },
        "outputId": "99bc2014-904e-4d40-85de-f46f4254405c"
      },
      "source": [
        "hd.loc[hd.Country == \"Hong Kong S.A.R., China\"]"
      ],
      "execution_count": 32,
      "outputs": [
        {
          "output_type": "execute_result",
          "data": {
            "text/html": [
              "<div>\n",
              "<style scoped>\n",
              "    .dataframe tbody tr th:only-of-type {\n",
              "        vertical-align: middle;\n",
              "    }\n",
              "\n",
              "    .dataframe tbody tr th {\n",
              "        vertical-align: top;\n",
              "    }\n",
              "\n",
              "    .dataframe thead th {\n",
              "        text-align: right;\n",
              "    }\n",
              "</style>\n",
              "<table border=\"1\" class=\"dataframe\">\n",
              "  <thead>\n",
              "    <tr style=\"text-align: right;\">\n",
              "      <th></th>\n",
              "      <th>Country</th>\n",
              "      <th>Region</th>\n",
              "      <th>Rank</th>\n",
              "      <th>HappinessScore</th>\n",
              "      <th>Life Ladder</th>\n",
              "      <th>Log GDP per capita</th>\n",
              "      <th>Social support</th>\n",
              "      <th>Healthy life expectancy at birth</th>\n",
              "      <th>Freedom to make life choices</th>\n",
              "      <th>Generosity</th>\n",
              "      <th>Perceptions of corruption</th>\n",
              "      <th>Positive affect</th>\n",
              "      <th>Negative affect</th>\n",
              "      <th>Confidence in national government</th>\n",
              "    </tr>\n",
              "  </thead>\n",
              "  <tbody>\n",
              "    <tr>\n",
              "      <th>64</th>\n",
              "      <td>Hong Kong S.A.R., China</td>\n",
              "      <td>East Asia</td>\n",
              "      <td>65</td>\n",
              "      <td>5.472</td>\n",
              "      <td>5.362475</td>\n",
              "      <td>10.917167</td>\n",
              "      <td>0.831066</td>\n",
              "      <td>76.536362</td>\n",
              "      <td>0.830657</td>\n",
              "      <td>0.122935</td>\n",
              "      <td>0.41581</td>\n",
              "      <td>0.639533</td>\n",
              "      <td>0.200593</td>\n",
              "      <td>0.545041</td>\n",
              "    </tr>\n",
              "  </tbody>\n",
              "</table>\n",
              "</div>"
            ],
            "text/plain": [
              "                    Country  ... Confidence in national government\n",
              "64  Hong Kong S.A.R., China  ...                          0.545041\n",
              "\n",
              "[1 rows x 14 columns]"
            ]
          },
          "metadata": {},
          "execution_count": 32
        }
      ]
    },
    {
      "cell_type": "code",
      "metadata": {
        "id": "hTlxr2XL-O51",
        "colab": {
          "base_uri": "https://localhost:8080/",
          "height": 167
        },
        "outputId": "1a564fee-6eb7-456a-dffd-68db3b415587"
      },
      "source": [
        "wd.loc[wd.Code == \"HKG\"]"
      ],
      "execution_count": 33,
      "outputs": [
        {
          "output_type": "execute_result",
          "data": {
            "text/html": [
              "<div>\n",
              "<style scoped>\n",
              "    .dataframe tbody tr th:only-of-type {\n",
              "        vertical-align: middle;\n",
              "    }\n",
              "\n",
              "    .dataframe tbody tr th {\n",
              "        vertical-align: top;\n",
              "    }\n",
              "\n",
              "    .dataframe thead th {\n",
              "        text-align: right;\n",
              "    }\n",
              "</style>\n",
              "<table border=\"1\" class=\"dataframe\">\n",
              "  <thead>\n",
              "    <tr style=\"text-align: right;\">\n",
              "      <th></th>\n",
              "      <th>Country</th>\n",
              "      <th>Code</th>\n",
              "      <th>Region</th>\n",
              "      <th>Population</th>\n",
              "      <th>Area</th>\n",
              "      <th>Pop. Density</th>\n",
              "      <th>Coastline</th>\n",
              "      <th>Net migration</th>\n",
              "      <th>Infant mortality</th>\n",
              "      <th>GDP</th>\n",
              "      <th>Literacy</th>\n",
              "      <th>Phones</th>\n",
              "      <th>Arable</th>\n",
              "      <th>Crops</th>\n",
              "      <th>Other</th>\n",
              "      <th>Climate</th>\n",
              "      <th>Birthrate</th>\n",
              "      <th>Deathrate</th>\n",
              "      <th>Agriculture</th>\n",
              "      <th>Industry</th>\n",
              "      <th>Service</th>\n",
              "    </tr>\n",
              "  </thead>\n",
              "  <tbody>\n",
              "    <tr>\n",
              "      <th>90</th>\n",
              "      <td>Hong Kong</td>\n",
              "      <td>HKG</td>\n",
              "      <td>ASIA (EX. NEAR EAST)</td>\n",
              "      <td>6940432</td>\n",
              "      <td>1092</td>\n",
              "      <td>6355.7</td>\n",
              "      <td>67.12</td>\n",
              "      <td>5.24</td>\n",
              "      <td>2.97</td>\n",
              "      <td>28800.0</td>\n",
              "      <td>93.5</td>\n",
              "      <td>546.7</td>\n",
              "      <td>5.05</td>\n",
              "      <td>1.01</td>\n",
              "      <td>93.94</td>\n",
              "      <td>2.0</td>\n",
              "      <td>7.29</td>\n",
              "      <td>6.29</td>\n",
              "      <td>0.001</td>\n",
              "      <td>0.092</td>\n",
              "      <td>0.906</td>\n",
              "    </tr>\n",
              "  </tbody>\n",
              "</table>\n",
              "</div>"
            ],
            "text/plain": [
              "      Country Code                Region  ...  Agriculture  Industry  Service\n",
              "90  Hong Kong  HKG  ASIA (EX. NEAR EAST)  ...        0.001     0.092    0.906\n",
              "\n",
              "[1 rows x 21 columns]"
            ]
          },
          "metadata": {},
          "execution_count": 33
        }
      ]
    },
    {
      "cell_type": "code",
      "metadata": {
        "id": "vw3ca28--a5D",
        "colab": {
          "base_uri": "https://localhost:8080/",
          "height": 130
        },
        "outputId": "15be1ebd-d3ba-43e3-f5fc-9e84d32376b9"
      },
      "source": [
        "hd_changed.loc[64, 'Country'] = \"Hong Kong\"\n",
        "hd_changed[hd_changed.Country == 'Hong Kong']"
      ],
      "execution_count": 34,
      "outputs": [
        {
          "output_type": "execute_result",
          "data": {
            "text/html": [
              "<div>\n",
              "<style scoped>\n",
              "    .dataframe tbody tr th:only-of-type {\n",
              "        vertical-align: middle;\n",
              "    }\n",
              "\n",
              "    .dataframe tbody tr th {\n",
              "        vertical-align: top;\n",
              "    }\n",
              "\n",
              "    .dataframe thead th {\n",
              "        text-align: right;\n",
              "    }\n",
              "</style>\n",
              "<table border=\"1\" class=\"dataframe\">\n",
              "  <thead>\n",
              "    <tr style=\"text-align: right;\">\n",
              "      <th></th>\n",
              "      <th>Country</th>\n",
              "      <th>Region</th>\n",
              "      <th>Rank</th>\n",
              "      <th>HappinessScore</th>\n",
              "      <th>Life Ladder</th>\n",
              "      <th>Log GDP per capita</th>\n",
              "      <th>Social support</th>\n",
              "      <th>Healthy life expectancy at birth</th>\n",
              "      <th>Freedom to make life choices</th>\n",
              "      <th>Generosity</th>\n",
              "      <th>Perceptions of corruption</th>\n",
              "      <th>Positive affect</th>\n",
              "      <th>Negative affect</th>\n",
              "      <th>Confidence in national government</th>\n",
              "    </tr>\n",
              "  </thead>\n",
              "  <tbody>\n",
              "    <tr>\n",
              "      <th>64</th>\n",
              "      <td>Hong Kong</td>\n",
              "      <td>East Asia</td>\n",
              "      <td>65</td>\n",
              "      <td>5.472</td>\n",
              "      <td>5.362475</td>\n",
              "      <td>10.917167</td>\n",
              "      <td>0.831066</td>\n",
              "      <td>76.536362</td>\n",
              "      <td>0.830657</td>\n",
              "      <td>0.122935</td>\n",
              "      <td>0.41581</td>\n",
              "      <td>0.639533</td>\n",
              "      <td>0.200593</td>\n",
              "      <td>0.545041</td>\n",
              "    </tr>\n",
              "  </tbody>\n",
              "</table>\n",
              "</div>"
            ],
            "text/plain": [
              "      Country     Region  ...  Negative affect  Confidence in national government\n",
              "64  Hong Kong  East Asia  ...         0.200593                           0.545041\n",
              "\n",
              "[1 rows x 14 columns]"
            ]
          },
          "metadata": {},
          "execution_count": 34
        }
      ]
    },
    {
      "cell_type": "code",
      "metadata": {
        "id": "6RxCeKh5Mxdf",
        "colab": {
          "base_uri": "https://localhost:8080/",
          "height": 234
        },
        "outputId": "8b9339f2-cdcf-4e91-bea8-0f8b0ba43525"
      },
      "source": [
        "new_merged = pd.merge(hd_changed, wd, on='Country', how = 'outer')\n",
        "new_merged1 = new_merged.loc[new_hd.Region_x == 'East Asia'][['Region_x', 'Country','Population']]\n",
        "new_merged1"
      ],
      "execution_count": 35,
      "outputs": [
        {
          "output_type": "execute_result",
          "data": {
            "text/html": [
              "<div>\n",
              "<style scoped>\n",
              "    .dataframe tbody tr th:only-of-type {\n",
              "        vertical-align: middle;\n",
              "    }\n",
              "\n",
              "    .dataframe tbody tr th {\n",
              "        vertical-align: top;\n",
              "    }\n",
              "\n",
              "    .dataframe thead th {\n",
              "        text-align: right;\n",
              "    }\n",
              "</style>\n",
              "<table border=\"1\" class=\"dataframe\">\n",
              "  <thead>\n",
              "    <tr style=\"text-align: right;\">\n",
              "      <th></th>\n",
              "      <th>Region_x</th>\n",
              "      <th>Country</th>\n",
              "      <th>Population</th>\n",
              "    </tr>\n",
              "  </thead>\n",
              "  <tbody>\n",
              "    <tr>\n",
              "      <th>31</th>\n",
              "      <td>East Asia</td>\n",
              "      <td>Taiwan</td>\n",
              "      <td>2.303609e+07</td>\n",
              "    </tr>\n",
              "    <tr>\n",
              "      <th>46</th>\n",
              "      <td>East Asia</td>\n",
              "      <td>Japan</td>\n",
              "      <td>1.274636e+08</td>\n",
              "    </tr>\n",
              "    <tr>\n",
              "      <th>51</th>\n",
              "      <td>East Asia</td>\n",
              "      <td>Korea, South</td>\n",
              "      <td>4.884682e+07</td>\n",
              "    </tr>\n",
              "    <tr>\n",
              "      <th>64</th>\n",
              "      <td>East Asia</td>\n",
              "      <td>Hong Kong</td>\n",
              "      <td>6.940432e+06</td>\n",
              "    </tr>\n",
              "    <tr>\n",
              "      <th>72</th>\n",
              "      <td>East Asia</td>\n",
              "      <td>China</td>\n",
              "      <td>1.313974e+09</td>\n",
              "    </tr>\n",
              "    <tr>\n",
              "      <th>90</th>\n",
              "      <td>East Asia</td>\n",
              "      <td>Mongolia</td>\n",
              "      <td>2.832224e+06</td>\n",
              "    </tr>\n",
              "  </tbody>\n",
              "</table>\n",
              "</div>"
            ],
            "text/plain": [
              "     Region_x       Country    Population\n",
              "31  East Asia        Taiwan  2.303609e+07\n",
              "46  East Asia         Japan  1.274636e+08\n",
              "51  East Asia  Korea, South  4.884682e+07\n",
              "64  East Asia     Hong Kong  6.940432e+06\n",
              "72  East Asia         China  1.313974e+09\n",
              "90  East Asia      Mongolia  2.832224e+06"
            ]
          },
          "metadata": {},
          "execution_count": 35
        }
      ]
    },
    {
      "cell_type": "code",
      "metadata": {
        "id": "X2X1wSONOb8e",
        "colab": {
          "base_uri": "https://localhost:8080/",
          "height": 110
        },
        "outputId": "3c95f097-01d3-4bab-b736-dff81163fed4"
      },
      "source": [
        "new_merged1.groupby('Region_x').mean().astype(str)"
      ],
      "execution_count": 36,
      "outputs": [
        {
          "output_type": "execute_result",
          "data": {
            "text/html": [
              "<div>\n",
              "<style scoped>\n",
              "    .dataframe tbody tr th:only-of-type {\n",
              "        vertical-align: middle;\n",
              "    }\n",
              "\n",
              "    .dataframe tbody tr th {\n",
              "        vertical-align: top;\n",
              "    }\n",
              "\n",
              "    .dataframe thead th {\n",
              "        text-align: right;\n",
              "    }\n",
              "</style>\n",
              "<table border=\"1\" class=\"dataframe\">\n",
              "  <thead>\n",
              "    <tr style=\"text-align: right;\">\n",
              "      <th></th>\n",
              "      <th>Population</th>\n",
              "    </tr>\n",
              "    <tr>\n",
              "      <th>Region_x</th>\n",
              "      <th></th>\n",
              "    </tr>\n",
              "  </thead>\n",
              "  <tbody>\n",
              "    <tr>\n",
              "      <th>East Asia</th>\n",
              "      <td>253848815.0</td>\n",
              "    </tr>\n",
              "  </tbody>\n",
              "</table>\n",
              "</div>"
            ],
            "text/plain": [
              "            Population\n",
              "Region_x              \n",
              "East Asia  253848815.0"
            ]
          },
          "metadata": {},
          "execution_count": 36
        }
      ]
    },
    {
      "cell_type": "markdown",
      "metadata": {
        "id": "8GMdLbdqaC01"
      },
      "source": [
        "###Q-9: The largest population in Latin America and Caribbean"
      ]
    },
    {
      "cell_type": "code",
      "metadata": {
        "id": "DmtxbT2aRaED",
        "colab": {
          "base_uri": "https://localhost:8080/",
          "height": 603
        },
        "outputId": "d0d26bcc-1c72-4155-a890-2002c523b585"
      },
      "source": [
        "new_hd2 = new_hd.loc[new_hd.Region_x == \"Latin America and Caribbean\"][['Region_x', 'Country', 'Population']].sort_values(by = 'Population', ascending = False).dropna()\n",
        "new_hd2"
      ],
      "execution_count": 37,
      "outputs": [
        {
          "output_type": "execute_result",
          "data": {
            "text/html": [
              "<div>\n",
              "<style scoped>\n",
              "    .dataframe tbody tr th:only-of-type {\n",
              "        vertical-align: middle;\n",
              "    }\n",
              "\n",
              "    .dataframe tbody tr th {\n",
              "        vertical-align: top;\n",
              "    }\n",
              "\n",
              "    .dataframe thead th {\n",
              "        text-align: right;\n",
              "    }\n",
              "</style>\n",
              "<table border=\"1\" class=\"dataframe\">\n",
              "  <thead>\n",
              "    <tr style=\"text-align: right;\">\n",
              "      <th></th>\n",
              "      <th>Region_x</th>\n",
              "      <th>Country</th>\n",
              "      <th>Population</th>\n",
              "    </tr>\n",
              "  </thead>\n",
              "  <tbody>\n",
              "    <tr>\n",
              "      <th>20</th>\n",
              "      <td>Latin America and Caribbean</td>\n",
              "      <td>Brazil</td>\n",
              "      <td>188078227.0</td>\n",
              "    </tr>\n",
              "    <tr>\n",
              "      <th>23</th>\n",
              "      <td>Latin America and Caribbean</td>\n",
              "      <td>Mexico</td>\n",
              "      <td>107449525.0</td>\n",
              "    </tr>\n",
              "    <tr>\n",
              "      <th>33</th>\n",
              "      <td>Latin America and Caribbean</td>\n",
              "      <td>Colombia</td>\n",
              "      <td>43593035.0</td>\n",
              "    </tr>\n",
              "    <tr>\n",
              "      <th>22</th>\n",
              "      <td>Latin America and Caribbean</td>\n",
              "      <td>Argentina</td>\n",
              "      <td>39921833.0</td>\n",
              "    </tr>\n",
              "    <tr>\n",
              "      <th>57</th>\n",
              "      <td>Latin America and Caribbean</td>\n",
              "      <td>Peru</td>\n",
              "      <td>28302603.0</td>\n",
              "    </tr>\n",
              "    <tr>\n",
              "      <th>18</th>\n",
              "      <td>Latin America and Caribbean</td>\n",
              "      <td>Chile</td>\n",
              "      <td>16134219.0</td>\n",
              "    </tr>\n",
              "    <tr>\n",
              "      <th>40</th>\n",
              "      <td>Latin America and Caribbean</td>\n",
              "      <td>Ecuador</td>\n",
              "      <td>13547510.0</td>\n",
              "    </tr>\n",
              "    <tr>\n",
              "      <th>26</th>\n",
              "      <td>Latin America and Caribbean</td>\n",
              "      <td>Guatemala</td>\n",
              "      <td>12293545.0</td>\n",
              "    </tr>\n",
              "    <tr>\n",
              "      <th>78</th>\n",
              "      <td>Latin America and Caribbean</td>\n",
              "      <td>Dominican Republic</td>\n",
              "      <td>9183984.0</td>\n",
              "    </tr>\n",
              "    <tr>\n",
              "      <th>53</th>\n",
              "      <td>Latin America and Caribbean</td>\n",
              "      <td>Bolivia</td>\n",
              "      <td>8989046.0</td>\n",
              "    </tr>\n",
              "    <tr>\n",
              "      <th>132</th>\n",
              "      <td>Latin America and Caribbean</td>\n",
              "      <td>Haiti</td>\n",
              "      <td>8308504.0</td>\n",
              "    </tr>\n",
              "    <tr>\n",
              "      <th>83</th>\n",
              "      <td>Latin America and Caribbean</td>\n",
              "      <td>Honduras</td>\n",
              "      <td>7326496.0</td>\n",
              "    </tr>\n",
              "    <tr>\n",
              "      <th>41</th>\n",
              "      <td>Latin America and Caribbean</td>\n",
              "      <td>El Salvador</td>\n",
              "      <td>6822378.0</td>\n",
              "    </tr>\n",
              "    <tr>\n",
              "      <th>39</th>\n",
              "      <td>Latin America and Caribbean</td>\n",
              "      <td>Nicaragua</td>\n",
              "      <td>5570129.0</td>\n",
              "    </tr>\n",
              "    <tr>\n",
              "      <th>10</th>\n",
              "      <td>Latin America and Caribbean</td>\n",
              "      <td>Costa Rica</td>\n",
              "      <td>4075261.0</td>\n",
              "    </tr>\n",
              "    <tr>\n",
              "      <th>27</th>\n",
              "      <td>Latin America and Caribbean</td>\n",
              "      <td>Uruguay</td>\n",
              "      <td>3431932.0</td>\n",
              "    </tr>\n",
              "    <tr>\n",
              "      <th>28</th>\n",
              "      <td>Latin America and Caribbean</td>\n",
              "      <td>Panama</td>\n",
              "      <td>3191319.0</td>\n",
              "    </tr>\n",
              "    <tr>\n",
              "      <th>69</th>\n",
              "      <td>Latin America and Caribbean</td>\n",
              "      <td>Jamaica</td>\n",
              "      <td>2758124.0</td>\n",
              "    </tr>\n",
              "  </tbody>\n",
              "</table>\n",
              "</div>"
            ],
            "text/plain": [
              "                        Region_x             Country   Population\n",
              "20   Latin America and Caribbean              Brazil  188078227.0\n",
              "23   Latin America and Caribbean              Mexico  107449525.0\n",
              "33   Latin America and Caribbean            Colombia   43593035.0\n",
              "22   Latin America and Caribbean           Argentina   39921833.0\n",
              "57   Latin America and Caribbean                Peru   28302603.0\n",
              "18   Latin America and Caribbean               Chile   16134219.0\n",
              "40   Latin America and Caribbean             Ecuador   13547510.0\n",
              "26   Latin America and Caribbean           Guatemala   12293545.0\n",
              "78   Latin America and Caribbean  Dominican Republic    9183984.0\n",
              "53   Latin America and Caribbean             Bolivia    8989046.0\n",
              "132  Latin America and Caribbean               Haiti    8308504.0\n",
              "83   Latin America and Caribbean            Honduras    7326496.0\n",
              "41   Latin America and Caribbean         El Salvador    6822378.0\n",
              "39   Latin America and Caribbean           Nicaragua    5570129.0\n",
              "10   Latin America and Caribbean          Costa Rica    4075261.0\n",
              "27   Latin America and Caribbean             Uruguay    3431932.0\n",
              "28   Latin America and Caribbean              Panama    3191319.0\n",
              "69   Latin America and Caribbean             Jamaica    2758124.0"
            ]
          },
          "metadata": {},
          "execution_count": 37
        }
      ]
    },
    {
      "cell_type": "markdown",
      "metadata": {
        "id": "iW1VuOPxktrL"
      },
      "source": [
        "###Q-10: The smallest population in the Middle East and North Africa region."
      ]
    },
    {
      "cell_type": "code",
      "metadata": {
        "id": "I2HpG40Ekxuh",
        "colab": {
          "base_uri": "https://localhost:8080/",
          "height": 542
        },
        "outputId": "61ce8a6b-d29b-42d1-9113-3297c45af389"
      },
      "source": [
        "new_hd3 = new_hd.loc[new_hd.Region_x == \"Middle East and North Africa\"][['Region_x', 'Country', 'Population']].sort_values(by = 'Population').dropna()\n",
        "new_hd3"
      ],
      "execution_count": 38,
      "outputs": [
        {
          "output_type": "execute_result",
          "data": {
            "text/html": [
              "<div>\n",
              "<style scoped>\n",
              "    .dataframe tbody tr th:only-of-type {\n",
              "        vertical-align: middle;\n",
              "    }\n",
              "\n",
              "    .dataframe tbody tr th {\n",
              "        vertical-align: top;\n",
              "    }\n",
              "\n",
              "    .dataframe thead th {\n",
              "        text-align: right;\n",
              "    }\n",
              "</style>\n",
              "<table border=\"1\" class=\"dataframe\">\n",
              "  <thead>\n",
              "    <tr style=\"text-align: right;\">\n",
              "      <th></th>\n",
              "      <th>Region_x</th>\n",
              "      <th>Country</th>\n",
              "      <th>Population</th>\n",
              "    </tr>\n",
              "  </thead>\n",
              "  <tbody>\n",
              "    <tr>\n",
              "      <th>38</th>\n",
              "      <td>Middle East and North Africa</td>\n",
              "      <td>Bahrain</td>\n",
              "      <td>698585.0</td>\n",
              "    </tr>\n",
              "    <tr>\n",
              "      <th>36</th>\n",
              "      <td>Middle East and North Africa</td>\n",
              "      <td>Kuwait</td>\n",
              "      <td>2418393.0</td>\n",
              "    </tr>\n",
              "    <tr>\n",
              "      <th>19</th>\n",
              "      <td>Middle East and North Africa</td>\n",
              "      <td>United Arab Emirates</td>\n",
              "      <td>2602713.0</td>\n",
              "    </tr>\n",
              "    <tr>\n",
              "      <th>80</th>\n",
              "      <td>Middle East and North Africa</td>\n",
              "      <td>Lebanon</td>\n",
              "      <td>3874050.0</td>\n",
              "    </tr>\n",
              "    <tr>\n",
              "      <th>62</th>\n",
              "      <td>Middle East and North Africa</td>\n",
              "      <td>Libya</td>\n",
              "      <td>5900754.0</td>\n",
              "    </tr>\n",
              "    <tr>\n",
              "      <th>67</th>\n",
              "      <td>Middle East and North Africa</td>\n",
              "      <td>Jordan</td>\n",
              "      <td>5906760.0</td>\n",
              "    </tr>\n",
              "    <tr>\n",
              "      <th>9</th>\n",
              "      <td>Middle East and North Africa</td>\n",
              "      <td>Israel</td>\n",
              "      <td>6352117.0</td>\n",
              "    </tr>\n",
              "    <tr>\n",
              "      <th>92</th>\n",
              "      <td>Middle East and North Africa</td>\n",
              "      <td>Tunisia</td>\n",
              "      <td>10175014.0</td>\n",
              "    </tr>\n",
              "    <tr>\n",
              "      <th>133</th>\n",
              "      <td>Middle East and North Africa</td>\n",
              "      <td>Yemen</td>\n",
              "      <td>21456188.0</td>\n",
              "    </tr>\n",
              "    <tr>\n",
              "      <th>107</th>\n",
              "      <td>Middle East and North Africa</td>\n",
              "      <td>Iraq</td>\n",
              "      <td>26783383.0</td>\n",
              "    </tr>\n",
              "    <tr>\n",
              "      <th>34</th>\n",
              "      <td>Middle East and North Africa</td>\n",
              "      <td>Saudi Arabia</td>\n",
              "      <td>27019731.0</td>\n",
              "    </tr>\n",
              "    <tr>\n",
              "      <th>48</th>\n",
              "      <td>Middle East and North Africa</td>\n",
              "      <td>Algeria</td>\n",
              "      <td>32930091.0</td>\n",
              "    </tr>\n",
              "    <tr>\n",
              "      <th>76</th>\n",
              "      <td>Middle East and North Africa</td>\n",
              "      <td>Morocco</td>\n",
              "      <td>33241259.0</td>\n",
              "    </tr>\n",
              "    <tr>\n",
              "      <th>98</th>\n",
              "      <td>Middle East and North Africa</td>\n",
              "      <td>Iran</td>\n",
              "      <td>68688433.0</td>\n",
              "    </tr>\n",
              "    <tr>\n",
              "      <th>63</th>\n",
              "      <td>Middle East and North Africa</td>\n",
              "      <td>Turkey</td>\n",
              "      <td>70413958.0</td>\n",
              "    </tr>\n",
              "    <tr>\n",
              "      <th>94</th>\n",
              "      <td>Middle East and North Africa</td>\n",
              "      <td>Egypt</td>\n",
              "      <td>78887007.0</td>\n",
              "    </tr>\n",
              "  </tbody>\n",
              "</table>\n",
              "</div>"
            ],
            "text/plain": [
              "                         Region_x               Country  Population\n",
              "38   Middle East and North Africa               Bahrain    698585.0\n",
              "36   Middle East and North Africa                Kuwait   2418393.0\n",
              "19   Middle East and North Africa  United Arab Emirates   2602713.0\n",
              "80   Middle East and North Africa               Lebanon   3874050.0\n",
              "62   Middle East and North Africa                 Libya   5900754.0\n",
              "67   Middle East and North Africa                Jordan   5906760.0\n",
              "9    Middle East and North Africa                Israel   6352117.0\n",
              "92   Middle East and North Africa               Tunisia  10175014.0\n",
              "133  Middle East and North Africa                 Yemen  21456188.0\n",
              "107  Middle East and North Africa                  Iraq  26783383.0\n",
              "34   Middle East and North Africa          Saudi Arabia  27019731.0\n",
              "48   Middle East and North Africa               Algeria  32930091.0\n",
              "76   Middle East and North Africa               Morocco  33241259.0\n",
              "98   Middle East and North Africa                  Iran  68688433.0\n",
              "63   Middle East and North Africa                Turkey  70413958.0\n",
              "94   Middle East and North Africa                 Egypt  78887007.0"
            ]
          },
          "metadata": {},
          "execution_count": 38
        }
      ]
    },
    {
      "cell_type": "markdown",
      "metadata": {
        "id": "sOnsSLa5SBJb"
      },
      "source": [
        "###Q-11: Write down two questions of your own, that you can explore with the combined data set."
      ]
    },
    {
      "cell_type": "markdown",
      "metadata": {
        "id": "KjgwD0iySDmt"
      },
      "source": [
        "####a. Does literacy play a role in perceptions of corruptions?"
      ]
    },
    {
      "cell_type": "code",
      "metadata": {
        "id": "i6vzJGhfTUPe",
        "colab": {
          "base_uri": "https://localhost:8080/",
          "height": 203
        },
        "outputId": "647cfd7c-d6b2-417f-9026-3d2709656fbb"
      },
      "source": [
        "CL = new_hd[['Country','Perceptions of corruption', 'Literacy']].dropna()\n",
        "CL.head()\n"
      ],
      "execution_count": 39,
      "outputs": [
        {
          "output_type": "execute_result",
          "data": {
            "text/html": [
              "<div>\n",
              "<style scoped>\n",
              "    .dataframe tbody tr th:only-of-type {\n",
              "        vertical-align: middle;\n",
              "    }\n",
              "\n",
              "    .dataframe tbody tr th {\n",
              "        vertical-align: top;\n",
              "    }\n",
              "\n",
              "    .dataframe thead th {\n",
              "        text-align: right;\n",
              "    }\n",
              "</style>\n",
              "<table border=\"1\" class=\"dataframe\">\n",
              "  <thead>\n",
              "    <tr style=\"text-align: right;\">\n",
              "      <th></th>\n",
              "      <th>Country</th>\n",
              "      <th>Perceptions of corruption</th>\n",
              "      <th>Literacy</th>\n",
              "    </tr>\n",
              "  </thead>\n",
              "  <tbody>\n",
              "    <tr>\n",
              "      <th>0</th>\n",
              "      <td>Norway</td>\n",
              "      <td>0.249711</td>\n",
              "      <td>100.0</td>\n",
              "    </tr>\n",
              "    <tr>\n",
              "      <th>1</th>\n",
              "      <td>Denmark</td>\n",
              "      <td>0.181148</td>\n",
              "      <td>100.0</td>\n",
              "    </tr>\n",
              "    <tr>\n",
              "      <th>2</th>\n",
              "      <td>Iceland</td>\n",
              "      <td>0.726845</td>\n",
              "      <td>99.9</td>\n",
              "    </tr>\n",
              "    <tr>\n",
              "      <th>3</th>\n",
              "      <td>Switzerland</td>\n",
              "      <td>0.316183</td>\n",
              "      <td>99.0</td>\n",
              "    </tr>\n",
              "    <tr>\n",
              "      <th>4</th>\n",
              "      <td>Finland</td>\n",
              "      <td>0.192413</td>\n",
              "      <td>100.0</td>\n",
              "    </tr>\n",
              "  </tbody>\n",
              "</table>\n",
              "</div>"
            ],
            "text/plain": [
              "       Country  Perceptions of corruption  Literacy\n",
              "0       Norway                   0.249711     100.0\n",
              "1      Denmark                   0.181148     100.0\n",
              "2      Iceland                   0.726845      99.9\n",
              "3  Switzerland                   0.316183      99.0\n",
              "4      Finland                   0.192413     100.0"
            ]
          },
          "metadata": {},
          "execution_count": 39
        }
      ]
    },
    {
      "cell_type": "code",
      "metadata": {
        "id": "KnYz9XZ4VDAj",
        "colab": {
          "base_uri": "https://localhost:8080/"
        },
        "outputId": "a4a9972a-4f40-43d2-fc29-17889478cb33"
      },
      "source": [
        "CL['Literacy'].describe()"
      ],
      "execution_count": 40,
      "outputs": [
        {
          "output_type": "execute_result",
          "data": {
            "text/plain": [
              "count    112.000000\n",
              "mean      81.419643\n",
              "std       21.366750\n",
              "min       17.600000\n",
              "25%       69.775000\n",
              "50%       91.550000\n",
              "75%       98.525000\n",
              "max      100.000000\n",
              "Name: Literacy, dtype: float64"
            ]
          },
          "metadata": {},
          "execution_count": 40
        }
      ]
    },
    {
      "cell_type": "markdown",
      "metadata": {
        "id": "XUsY71OEUEAz"
      },
      "source": [
        "Using the 1st quartile and 3rd quartile values as boundaries I will create a new column called 'Literacy_Category' which will categorize each country into either 'Low Literacy, 'Moderate Literacy' or 'High Literacy' based on the literacy boundaries."
      ]
    },
    {
      "cell_type": "code",
      "metadata": {
        "id": "rcQObxEwUQX-"
      },
      "source": [
        "def literacy_category(literacy):\n",
        "  if literacy <= 69.775:\n",
        "    return 'Low Literacy'\n",
        "  elif literacy >= 98.525:\n",
        "    return 'High Literacy'\n",
        "  else:\n",
        "    return 'Moderate Literacy'"
      ],
      "execution_count": 41,
      "outputs": []
    },
    {
      "cell_type": "code",
      "metadata": {
        "id": "OFf-deYqUrDu",
        "colab": {
          "base_uri": "https://localhost:8080/",
          "height": 203
        },
        "outputId": "04f5452d-b432-4d0f-faa9-d1b1b3a97c5d"
      },
      "source": [
        "CL['Literacy Category'] = CL['Literacy'].apply(literacy_category)\n",
        "CL.head()"
      ],
      "execution_count": 42,
      "outputs": [
        {
          "output_type": "execute_result",
          "data": {
            "text/html": [
              "<div>\n",
              "<style scoped>\n",
              "    .dataframe tbody tr th:only-of-type {\n",
              "        vertical-align: middle;\n",
              "    }\n",
              "\n",
              "    .dataframe tbody tr th {\n",
              "        vertical-align: top;\n",
              "    }\n",
              "\n",
              "    .dataframe thead th {\n",
              "        text-align: right;\n",
              "    }\n",
              "</style>\n",
              "<table border=\"1\" class=\"dataframe\">\n",
              "  <thead>\n",
              "    <tr style=\"text-align: right;\">\n",
              "      <th></th>\n",
              "      <th>Country</th>\n",
              "      <th>Perceptions of corruption</th>\n",
              "      <th>Literacy</th>\n",
              "      <th>Literacy Category</th>\n",
              "    </tr>\n",
              "  </thead>\n",
              "  <tbody>\n",
              "    <tr>\n",
              "      <th>0</th>\n",
              "      <td>Norway</td>\n",
              "      <td>0.249711</td>\n",
              "      <td>100.0</td>\n",
              "      <td>High Literacy</td>\n",
              "    </tr>\n",
              "    <tr>\n",
              "      <th>1</th>\n",
              "      <td>Denmark</td>\n",
              "      <td>0.181148</td>\n",
              "      <td>100.0</td>\n",
              "      <td>High Literacy</td>\n",
              "    </tr>\n",
              "    <tr>\n",
              "      <th>2</th>\n",
              "      <td>Iceland</td>\n",
              "      <td>0.726845</td>\n",
              "      <td>99.9</td>\n",
              "      <td>High Literacy</td>\n",
              "    </tr>\n",
              "    <tr>\n",
              "      <th>3</th>\n",
              "      <td>Switzerland</td>\n",
              "      <td>0.316183</td>\n",
              "      <td>99.0</td>\n",
              "      <td>High Literacy</td>\n",
              "    </tr>\n",
              "    <tr>\n",
              "      <th>4</th>\n",
              "      <td>Finland</td>\n",
              "      <td>0.192413</td>\n",
              "      <td>100.0</td>\n",
              "      <td>High Literacy</td>\n",
              "    </tr>\n",
              "  </tbody>\n",
              "</table>\n",
              "</div>"
            ],
            "text/plain": [
              "       Country  Perceptions of corruption  Literacy Literacy Category\n",
              "0       Norway                   0.249711     100.0     High Literacy\n",
              "1      Denmark                   0.181148     100.0     High Literacy\n",
              "2      Iceland                   0.726845      99.9     High Literacy\n",
              "3  Switzerland                   0.316183      99.0     High Literacy\n",
              "4      Finland                   0.192413     100.0     High Literacy"
            ]
          },
          "metadata": {},
          "execution_count": 42
        }
      ]
    },
    {
      "cell_type": "code",
      "metadata": {
        "id": "HaQxZDk7VT9u",
        "colab": {
          "base_uri": "https://localhost:8080/",
          "height": 172
        },
        "outputId": "6b6e3b42-7d99-440a-a949-71dbe5b9fed1"
      },
      "source": [
        "CL1 = CL[['Literacy Category', 'Perceptions of corruption']]\n",
        "CL1 = CL1.groupby('Literacy Category').mean().sort_values(by='Perceptions of corruption')\n",
        "CL1"
      ],
      "execution_count": 43,
      "outputs": [
        {
          "output_type": "execute_result",
          "data": {
            "text/html": [
              "<div>\n",
              "<style scoped>\n",
              "    .dataframe tbody tr th:only-of-type {\n",
              "        vertical-align: middle;\n",
              "    }\n",
              "\n",
              "    .dataframe tbody tr th {\n",
              "        vertical-align: top;\n",
              "    }\n",
              "\n",
              "    .dataframe thead th {\n",
              "        text-align: right;\n",
              "    }\n",
              "</style>\n",
              "<table border=\"1\" class=\"dataframe\">\n",
              "  <thead>\n",
              "    <tr style=\"text-align: right;\">\n",
              "      <th></th>\n",
              "      <th>Perceptions of corruption</th>\n",
              "    </tr>\n",
              "    <tr>\n",
              "      <th>Literacy Category</th>\n",
              "      <th></th>\n",
              "    </tr>\n",
              "  </thead>\n",
              "  <tbody>\n",
              "    <tr>\n",
              "      <th>High Literacy</th>\n",
              "      <td>0.598176</td>\n",
              "    </tr>\n",
              "    <tr>\n",
              "      <th>Moderate Literacy</th>\n",
              "      <td>0.771060</td>\n",
              "    </tr>\n",
              "    <tr>\n",
              "      <th>Low Literacy</th>\n",
              "      <td>0.783124</td>\n",
              "    </tr>\n",
              "  </tbody>\n",
              "</table>\n",
              "</div>"
            ],
            "text/plain": [
              "                   Perceptions of corruption\n",
              "Literacy Category                           \n",
              "High Literacy                       0.598176\n",
              "Moderate Literacy                   0.771060\n",
              "Low Literacy                        0.783124"
            ]
          },
          "metadata": {},
          "execution_count": 43
        }
      ]
    },
    {
      "cell_type": "markdown",
      "metadata": {
        "id": "FqXwGDXgV2hH"
      },
      "source": [
        "####Answer: Here we can see that literacy is indirectly proportional to perceptions of corruption. Countries with high literacy have the lowest perception of corruption whereas countries with low literacy have the highest perception of corruption, which suggests that literacy does play a part in people's perception of presence of corruption.  "
      ]
    },
    {
      "cell_type": "markdown",
      "metadata": {
        "id": "escRq6VSWg0P"
      },
      "source": [
        "####b.Which region has the highest average GDP. Does this region also have the highest average happiness score?"
      ]
    },
    {
      "cell_type": "markdown",
      "metadata": {
        "id": "1FdmQbUnZQ9s"
      },
      "source": [
        "We are using median as a middle measure for GDP so that extreme values do not majorly affect it."
      ]
    },
    {
      "cell_type": "code",
      "metadata": {
        "id": "MDC3tKKoZKSE",
        "colab": {
          "base_uri": "https://localhost:8080/",
          "height": 388
        },
        "outputId": "66aa361a-5c59-412c-8b51-af8b727e2471"
      },
      "source": [
        "GH = new_hd[['Region_x', 'GDP','HappinessScore']]\n",
        "GH = GH.groupby('Region_x').median().sort_values(by = 'GDP', ascending = False)\n",
        "GH"
      ],
      "execution_count": 44,
      "outputs": [
        {
          "output_type": "execute_result",
          "data": {
            "text/html": [
              "<div>\n",
              "<style scoped>\n",
              "    .dataframe tbody tr th:only-of-type {\n",
              "        vertical-align: middle;\n",
              "    }\n",
              "\n",
              "    .dataframe tbody tr th {\n",
              "        vertical-align: top;\n",
              "    }\n",
              "\n",
              "    .dataframe thead th {\n",
              "        text-align: right;\n",
              "    }\n",
              "</style>\n",
              "<table border=\"1\" class=\"dataframe\">\n",
              "  <thead>\n",
              "    <tr style=\"text-align: right;\">\n",
              "      <th></th>\n",
              "      <th>GDP</th>\n",
              "      <th>HappinessScore</th>\n",
              "    </tr>\n",
              "    <tr>\n",
              "      <th>Region_x</th>\n",
              "      <th></th>\n",
              "      <th></th>\n",
              "    </tr>\n",
              "  </thead>\n",
              "  <tbody>\n",
              "    <tr>\n",
              "      <th>Western Europe</th>\n",
              "      <td>27600.0</td>\n",
              "      <td>6.9210</td>\n",
              "    </tr>\n",
              "    <tr>\n",
              "      <th>North America and ANZ</th>\n",
              "      <td>25300.0</td>\n",
              "      <td>7.2840</td>\n",
              "    </tr>\n",
              "    <tr>\n",
              "      <th>Central and Eastern Europe</th>\n",
              "      <td>10850.0</td>\n",
              "      <td>5.3950</td>\n",
              "    </tr>\n",
              "    <tr>\n",
              "      <th>Middle East and North Africa</th>\n",
              "      <td>6550.0</td>\n",
              "      <td>5.3360</td>\n",
              "    </tr>\n",
              "    <tr>\n",
              "      <th>Latin America and Caribbean</th>\n",
              "      <td>5550.0</td>\n",
              "      <td>6.1680</td>\n",
              "    </tr>\n",
              "    <tr>\n",
              "      <th>East Asia</th>\n",
              "      <td>5000.0</td>\n",
              "      <td>5.6550</td>\n",
              "    </tr>\n",
              "    <tr>\n",
              "      <th>Commonwealth of Independent States</th>\n",
              "      <td>3450.0</td>\n",
              "      <td>5.4015</td>\n",
              "    </tr>\n",
              "    <tr>\n",
              "      <th>Southeast Asia</th>\n",
              "      <td>3200.0</td>\n",
              "      <td>5.2620</td>\n",
              "    </tr>\n",
              "    <tr>\n",
              "      <th>South Asia</th>\n",
              "      <td>2000.0</td>\n",
              "      <td>4.5240</td>\n",
              "    </tr>\n",
              "    <tr>\n",
              "      <th>Sub-Saharan Africa</th>\n",
              "      <td>1200.0</td>\n",
              "      <td>4.1800</td>\n",
              "    </tr>\n",
              "  </tbody>\n",
              "</table>\n",
              "</div>"
            ],
            "text/plain": [
              "                                        GDP  HappinessScore\n",
              "Region_x                                                   \n",
              "Western Europe                      27600.0          6.9210\n",
              "North America and ANZ               25300.0          7.2840\n",
              "Central and Eastern Europe          10850.0          5.3950\n",
              "Middle East and North Africa         6550.0          5.3360\n",
              "Latin America and Caribbean          5550.0          6.1680\n",
              "East Asia                            5000.0          5.6550\n",
              "Commonwealth of Independent States   3450.0          5.4015\n",
              "Southeast Asia                       3200.0          5.2620\n",
              "South Asia                           2000.0          4.5240\n",
              "Sub-Saharan Africa                   1200.0          4.1800"
            ]
          },
          "metadata": {},
          "execution_count": 44
        }
      ]
    },
    {
      "cell_type": "markdown",
      "metadata": {
        "id": "JcALmiL_biE3"
      },
      "source": [
        "####Answer: Western Europe has the largest GDP. Now lets see if it has the highest happiness score too. "
      ]
    },
    {
      "cell_type": "code",
      "metadata": {
        "id": "bk274vGObuDg",
        "colab": {
          "base_uri": "https://localhost:8080/",
          "height": 388
        },
        "outputId": "6f530235-33a1-4606-917f-c7c3f299d441"
      },
      "source": [
        "GH1 = GH.sort_values(by = 'HappinessScore', ascending = False)\n",
        "GH1"
      ],
      "execution_count": 45,
      "outputs": [
        {
          "output_type": "execute_result",
          "data": {
            "text/html": [
              "<div>\n",
              "<style scoped>\n",
              "    .dataframe tbody tr th:only-of-type {\n",
              "        vertical-align: middle;\n",
              "    }\n",
              "\n",
              "    .dataframe tbody tr th {\n",
              "        vertical-align: top;\n",
              "    }\n",
              "\n",
              "    .dataframe thead th {\n",
              "        text-align: right;\n",
              "    }\n",
              "</style>\n",
              "<table border=\"1\" class=\"dataframe\">\n",
              "  <thead>\n",
              "    <tr style=\"text-align: right;\">\n",
              "      <th></th>\n",
              "      <th>GDP</th>\n",
              "      <th>HappinessScore</th>\n",
              "    </tr>\n",
              "    <tr>\n",
              "      <th>Region_x</th>\n",
              "      <th></th>\n",
              "      <th></th>\n",
              "    </tr>\n",
              "  </thead>\n",
              "  <tbody>\n",
              "    <tr>\n",
              "      <th>North America and ANZ</th>\n",
              "      <td>25300.0</td>\n",
              "      <td>7.2840</td>\n",
              "    </tr>\n",
              "    <tr>\n",
              "      <th>Western Europe</th>\n",
              "      <td>27600.0</td>\n",
              "      <td>6.9210</td>\n",
              "    </tr>\n",
              "    <tr>\n",
              "      <th>Latin America and Caribbean</th>\n",
              "      <td>5550.0</td>\n",
              "      <td>6.1680</td>\n",
              "    </tr>\n",
              "    <tr>\n",
              "      <th>East Asia</th>\n",
              "      <td>5000.0</td>\n",
              "      <td>5.6550</td>\n",
              "    </tr>\n",
              "    <tr>\n",
              "      <th>Commonwealth of Independent States</th>\n",
              "      <td>3450.0</td>\n",
              "      <td>5.4015</td>\n",
              "    </tr>\n",
              "    <tr>\n",
              "      <th>Central and Eastern Europe</th>\n",
              "      <td>10850.0</td>\n",
              "      <td>5.3950</td>\n",
              "    </tr>\n",
              "    <tr>\n",
              "      <th>Middle East and North Africa</th>\n",
              "      <td>6550.0</td>\n",
              "      <td>5.3360</td>\n",
              "    </tr>\n",
              "    <tr>\n",
              "      <th>Southeast Asia</th>\n",
              "      <td>3200.0</td>\n",
              "      <td>5.2620</td>\n",
              "    </tr>\n",
              "    <tr>\n",
              "      <th>South Asia</th>\n",
              "      <td>2000.0</td>\n",
              "      <td>4.5240</td>\n",
              "    </tr>\n",
              "    <tr>\n",
              "      <th>Sub-Saharan Africa</th>\n",
              "      <td>1200.0</td>\n",
              "      <td>4.1800</td>\n",
              "    </tr>\n",
              "  </tbody>\n",
              "</table>\n",
              "</div>"
            ],
            "text/plain": [
              "                                        GDP  HappinessScore\n",
              "Region_x                                                   \n",
              "North America and ANZ               25300.0          7.2840\n",
              "Western Europe                      27600.0          6.9210\n",
              "Latin America and Caribbean          5550.0          6.1680\n",
              "East Asia                            5000.0          5.6550\n",
              "Commonwealth of Independent States   3450.0          5.4015\n",
              "Central and Eastern Europe          10850.0          5.3950\n",
              "Middle East and North Africa         6550.0          5.3360\n",
              "Southeast Asia                       3200.0          5.2620\n",
              "South Asia                           2000.0          4.5240\n",
              "Sub-Saharan Africa                   1200.0          4.1800"
            ]
          },
          "metadata": {},
          "execution_count": 45
        }
      ]
    },
    {
      "cell_type": "markdown",
      "metadata": {
        "id": "84GA4QAEcgik"
      },
      "source": [
        "####Here we see that Western Europe doesnt have the highest Happiness score despite having the highest GDP. However, it comes up second in Happiness after North America and ANZ. "
      ]
    },
    {
      "cell_type": "markdown",
      "metadata": {
        "id": "7GuxsyCh0wjf"
      },
      "source": [
        "##Section 2.4"
      ]
    },
    {
      "cell_type": "code",
      "metadata": {
        "id": "F-AsBTHB0ykA",
        "colab": {
          "base_uri": "https://localhost:8080/",
          "height": 341
        },
        "outputId": "5c618fa8-79eb-42cb-8454-e88688e6eaf1"
      },
      "source": [
        "h = pd.read_csv('/content/drive/My Drive/HDS/CMPS 260/Data/happiness_2012.csv')\n",
        "h.head()"
      ],
      "execution_count": 46,
      "outputs": [
        {
          "output_type": "execute_result",
          "data": {
            "text/html": [
              "<div>\n",
              "<style scoped>\n",
              "    .dataframe tbody tr th:only-of-type {\n",
              "        vertical-align: middle;\n",
              "    }\n",
              "\n",
              "    .dataframe tbody tr th {\n",
              "        vertical-align: top;\n",
              "    }\n",
              "\n",
              "    .dataframe thead th {\n",
              "        text-align: right;\n",
              "    }\n",
              "</style>\n",
              "<table border=\"1\" class=\"dataframe\">\n",
              "  <thead>\n",
              "    <tr style=\"text-align: right;\">\n",
              "      <th></th>\n",
              "      <th>country</th>\n",
              "      <th>Rank</th>\n",
              "      <th>Happiness Score</th>\n",
              "      <th>Life Ladder</th>\n",
              "      <th>Log GDP per capita</th>\n",
              "      <th>Social support</th>\n",
              "      <th>Healthy life expectancy at birth</th>\n",
              "      <th>Freedom to make life choices</th>\n",
              "      <th>Generosity</th>\n",
              "      <th>Perceptions of corruption</th>\n",
              "      <th>Positive affect</th>\n",
              "      <th>Negative affect</th>\n",
              "      <th>Confidence in national government</th>\n",
              "      <th>Democratic Quality</th>\n",
              "      <th>Delivery Quality</th>\n",
              "      <th>Standard deviation of ladder by country-year</th>\n",
              "      <th>Standard deviation/Mean of ladder by country-year</th>\n",
              "      <th>GINI index (World Bank estimate)</th>\n",
              "      <th>GINI index (World Bank estimate), average 2000-15</th>\n",
              "      <th>gini of household income reported in Gallup, by wp5-year</th>\n",
              "    </tr>\n",
              "  </thead>\n",
              "  <tbody>\n",
              "    <tr>\n",
              "      <th>0</th>\n",
              "      <td>Denmark</td>\n",
              "      <td>1</td>\n",
              "      <td>7.693</td>\n",
              "      <td>7.519909</td>\n",
              "      <td>10.699571</td>\n",
              "      <td>0.951437</td>\n",
              "      <td>70.044815</td>\n",
              "      <td>0.932628</td>\n",
              "      <td>0.127539</td>\n",
              "      <td>0.187408</td>\n",
              "      <td>0.773764</td>\n",
              "      <td>0.208570</td>\n",
              "      <td>0.534253</td>\n",
              "      <td>1.294512</td>\n",
              "      <td>2.011580</td>\n",
              "      <td>1.702373</td>\n",
              "      <td>0.226382</td>\n",
              "      <td>0.278</td>\n",
              "      <td>0.267091</td>\n",
              "      <td>0.365274</td>\n",
              "    </tr>\n",
              "    <tr>\n",
              "      <th>1</th>\n",
              "      <td>Norway</td>\n",
              "      <td>2</td>\n",
              "      <td>7.655</td>\n",
              "      <td>7.678277</td>\n",
              "      <td>11.050944</td>\n",
              "      <td>0.947657</td>\n",
              "      <td>70.524834</td>\n",
              "      <td>0.946566</td>\n",
              "      <td>0.120922</td>\n",
              "      <td>0.368043</td>\n",
              "      <td>0.822750</td>\n",
              "      <td>0.212821</td>\n",
              "      <td>0.663341</td>\n",
              "      <td>1.527817</td>\n",
              "      <td>1.917715</td>\n",
              "      <td>1.746018</td>\n",
              "      <td>0.227397</td>\n",
              "      <td>0.257</td>\n",
              "      <td>0.271727</td>\n",
              "      <td>0.318804</td>\n",
              "    </tr>\n",
              "    <tr>\n",
              "      <th>2</th>\n",
              "      <td>Switzerland</td>\n",
              "      <td>3</td>\n",
              "      <td>7.650</td>\n",
              "      <td>7.776209</td>\n",
              "      <td>10.935776</td>\n",
              "      <td>0.946864</td>\n",
              "      <td>72.734001</td>\n",
              "      <td>0.945428</td>\n",
              "      <td>0.125727</td>\n",
              "      <td>0.323241</td>\n",
              "      <td>0.859107</td>\n",
              "      <td>0.176007</td>\n",
              "      <td>0.769940</td>\n",
              "      <td>1.529229</td>\n",
              "      <td>1.879037</td>\n",
              "      <td>1.564781</td>\n",
              "      <td>0.201227</td>\n",
              "      <td>0.316</td>\n",
              "      <td>0.327571</td>\n",
              "      <td>0.308629</td>\n",
              "    </tr>\n",
              "    <tr>\n",
              "      <th>3</th>\n",
              "      <td>Netherlands</td>\n",
              "      <td>4</td>\n",
              "      <td>7.512</td>\n",
              "      <td>7.470716</td>\n",
              "      <td>10.723517</td>\n",
              "      <td>0.938885</td>\n",
              "      <td>71.091934</td>\n",
              "      <td>0.877119</td>\n",
              "      <td>0.276100</td>\n",
              "      <td>0.433754</td>\n",
              "      <td>0.860641</td>\n",
              "      <td>0.226290</td>\n",
              "      <td>0.574514</td>\n",
              "      <td>1.396525</td>\n",
              "      <td>1.886310</td>\n",
              "      <td>1.351189</td>\n",
              "      <td>0.180865</td>\n",
              "      <td>0.276</td>\n",
              "      <td>0.286909</td>\n",
              "      <td>0.352454</td>\n",
              "    </tr>\n",
              "    <tr>\n",
              "      <th>4</th>\n",
              "      <td>Sweden</td>\n",
              "      <td>5</td>\n",
              "      <td>7.480</td>\n",
              "      <td>7.560148</td>\n",
              "      <td>10.676098</td>\n",
              "      <td>0.929397</td>\n",
              "      <td>71.740868</td>\n",
              "      <td>0.944382</td>\n",
              "      <td>0.119244</td>\n",
              "      <td>0.253543</td>\n",
              "      <td>0.855100</td>\n",
              "      <td>0.170226</td>\n",
              "      <td>0.626497</td>\n",
              "      <td>1.430478</td>\n",
              "      <td>2.032324</td>\n",
              "      <td>1.587887</td>\n",
              "      <td>0.210034</td>\n",
              "      <td>0.271</td>\n",
              "      <td>0.267455</td>\n",
              "      <td>0.319790</td>\n",
              "    </tr>\n",
              "  </tbody>\n",
              "</table>\n",
              "</div>"
            ],
            "text/plain": [
              "       country  ...  gini of household income reported in Gallup, by wp5-year\n",
              "0      Denmark  ...                                           0.365274       \n",
              "1       Norway  ...                                           0.318804       \n",
              "2  Switzerland  ...                                           0.308629       \n",
              "3  Netherlands  ...                                           0.352454       \n",
              "4       Sweden  ...                                           0.319790       \n",
              "\n",
              "[5 rows x 20 columns]"
            ]
          },
          "metadata": {},
          "execution_count": 46
        }
      ]
    },
    {
      "cell_type": "code",
      "metadata": {
        "id": "P5hkQxnM1efE",
        "colab": {
          "base_uri": "https://localhost:8080/",
          "height": 234
        },
        "outputId": "51f341b4-eed4-44e4-a623-9fab41e7c415"
      },
      "source": [
        "h.rename(columns={'country': 'Country'}, inplace=True)\n",
        "new_h = pd.merge(h, hd, on='Country', how = 'outer')[['Country','Rank_x', 'Happiness Score', 'Rank_y', 'HappinessScore']]\n",
        "new_h.rename(columns={'Rank_x': 'Rank 2012', 'Happiness Score':'HappinessScore 2012', 'Rank_y':'Rank 2017','HappinessScore':'HappinessScore 2017'}, inplace=True)\n",
        "new_h = new_h.set_index('Country')\n",
        "new_h.head()"
      ],
      "execution_count": 47,
      "outputs": [
        {
          "output_type": "execute_result",
          "data": {
            "text/html": [
              "<div>\n",
              "<style scoped>\n",
              "    .dataframe tbody tr th:only-of-type {\n",
              "        vertical-align: middle;\n",
              "    }\n",
              "\n",
              "    .dataframe tbody tr th {\n",
              "        vertical-align: top;\n",
              "    }\n",
              "\n",
              "    .dataframe thead th {\n",
              "        text-align: right;\n",
              "    }\n",
              "</style>\n",
              "<table border=\"1\" class=\"dataframe\">\n",
              "  <thead>\n",
              "    <tr style=\"text-align: right;\">\n",
              "      <th></th>\n",
              "      <th>Rank 2012</th>\n",
              "      <th>HappinessScore 2012</th>\n",
              "      <th>Rank 2017</th>\n",
              "      <th>HappinessScore 2017</th>\n",
              "    </tr>\n",
              "    <tr>\n",
              "      <th>Country</th>\n",
              "      <th></th>\n",
              "      <th></th>\n",
              "      <th></th>\n",
              "      <th></th>\n",
              "    </tr>\n",
              "  </thead>\n",
              "  <tbody>\n",
              "    <tr>\n",
              "      <th>Denmark</th>\n",
              "      <td>1.0</td>\n",
              "      <td>7.693</td>\n",
              "      <td>2.0</td>\n",
              "      <td>7.522</td>\n",
              "    </tr>\n",
              "    <tr>\n",
              "      <th>Norway</th>\n",
              "      <td>2.0</td>\n",
              "      <td>7.655</td>\n",
              "      <td>1.0</td>\n",
              "      <td>7.537</td>\n",
              "    </tr>\n",
              "    <tr>\n",
              "      <th>Switzerland</th>\n",
              "      <td>3.0</td>\n",
              "      <td>7.650</td>\n",
              "      <td>4.0</td>\n",
              "      <td>7.494</td>\n",
              "    </tr>\n",
              "    <tr>\n",
              "      <th>Netherlands</th>\n",
              "      <td>4.0</td>\n",
              "      <td>7.512</td>\n",
              "      <td>6.0</td>\n",
              "      <td>7.377</td>\n",
              "    </tr>\n",
              "    <tr>\n",
              "      <th>Sweden</th>\n",
              "      <td>5.0</td>\n",
              "      <td>7.480</td>\n",
              "      <td>9.0</td>\n",
              "      <td>7.284</td>\n",
              "    </tr>\n",
              "  </tbody>\n",
              "</table>\n",
              "</div>"
            ],
            "text/plain": [
              "             Rank 2012  HappinessScore 2012  Rank 2017  HappinessScore 2017\n",
              "Country                                                                    \n",
              "Denmark            1.0                7.693        2.0                7.522\n",
              "Norway             2.0                7.655        1.0                7.537\n",
              "Switzerland        3.0                7.650        4.0                7.494\n",
              "Netherlands        4.0                7.512        6.0                7.377\n",
              "Sweden             5.0                7.480        9.0                7.284"
            ]
          },
          "metadata": {},
          "execution_count": 47
        }
      ]
    },
    {
      "cell_type": "markdown",
      "metadata": {
        "id": "Y-t0DdxAhHEJ"
      },
      "source": [
        "Making a new column that calculates change in rank from 2017 to 2012. "
      ]
    },
    {
      "cell_type": "code",
      "metadata": {
        "id": "i6CwPRHL17kD",
        "colab": {
          "base_uri": "https://localhost:8080/",
          "height": 234
        },
        "outputId": "77815032-ddd7-4c13-d63b-6b4bac56b690"
      },
      "source": [
        "new_h['Change in Rank (2017-2012)'] = new_h['Rank 2017'] - new_h['Rank 2012']\n",
        "new_h.head()"
      ],
      "execution_count": 48,
      "outputs": [
        {
          "output_type": "execute_result",
          "data": {
            "text/html": [
              "<div>\n",
              "<style scoped>\n",
              "    .dataframe tbody tr th:only-of-type {\n",
              "        vertical-align: middle;\n",
              "    }\n",
              "\n",
              "    .dataframe tbody tr th {\n",
              "        vertical-align: top;\n",
              "    }\n",
              "\n",
              "    .dataframe thead th {\n",
              "        text-align: right;\n",
              "    }\n",
              "</style>\n",
              "<table border=\"1\" class=\"dataframe\">\n",
              "  <thead>\n",
              "    <tr style=\"text-align: right;\">\n",
              "      <th></th>\n",
              "      <th>Rank 2012</th>\n",
              "      <th>HappinessScore 2012</th>\n",
              "      <th>Rank 2017</th>\n",
              "      <th>HappinessScore 2017</th>\n",
              "      <th>Change in Rank (2017-2012)</th>\n",
              "    </tr>\n",
              "    <tr>\n",
              "      <th>Country</th>\n",
              "      <th></th>\n",
              "      <th></th>\n",
              "      <th></th>\n",
              "      <th></th>\n",
              "      <th></th>\n",
              "    </tr>\n",
              "  </thead>\n",
              "  <tbody>\n",
              "    <tr>\n",
              "      <th>Denmark</th>\n",
              "      <td>1.0</td>\n",
              "      <td>7.693</td>\n",
              "      <td>2.0</td>\n",
              "      <td>7.522</td>\n",
              "      <td>1.0</td>\n",
              "    </tr>\n",
              "    <tr>\n",
              "      <th>Norway</th>\n",
              "      <td>2.0</td>\n",
              "      <td>7.655</td>\n",
              "      <td>1.0</td>\n",
              "      <td>7.537</td>\n",
              "      <td>-1.0</td>\n",
              "    </tr>\n",
              "    <tr>\n",
              "      <th>Switzerland</th>\n",
              "      <td>3.0</td>\n",
              "      <td>7.650</td>\n",
              "      <td>4.0</td>\n",
              "      <td>7.494</td>\n",
              "      <td>1.0</td>\n",
              "    </tr>\n",
              "    <tr>\n",
              "      <th>Netherlands</th>\n",
              "      <td>4.0</td>\n",
              "      <td>7.512</td>\n",
              "      <td>6.0</td>\n",
              "      <td>7.377</td>\n",
              "      <td>2.0</td>\n",
              "    </tr>\n",
              "    <tr>\n",
              "      <th>Sweden</th>\n",
              "      <td>5.0</td>\n",
              "      <td>7.480</td>\n",
              "      <td>9.0</td>\n",
              "      <td>7.284</td>\n",
              "      <td>4.0</td>\n",
              "    </tr>\n",
              "  </tbody>\n",
              "</table>\n",
              "</div>"
            ],
            "text/plain": [
              "             Rank 2012  ...  Change in Rank (2017-2012)\n",
              "Country                 ...                            \n",
              "Denmark            1.0  ...                         1.0\n",
              "Norway             2.0  ...                        -1.0\n",
              "Switzerland        3.0  ...                         1.0\n",
              "Netherlands        4.0  ...                         2.0\n",
              "Sweden             5.0  ...                         4.0\n",
              "\n",
              "[5 rows x 5 columns]"
            ]
          },
          "metadata": {},
          "execution_count": 48
        }
      ]
    },
    {
      "cell_type": "markdown",
      "metadata": {
        "id": "-eMlqZBw5w6x"
      },
      "source": [
        "###Q-1: What is the name of the country with the largest positive change in their happiness rank? What about the largest negative change?"
      ]
    },
    {
      "cell_type": "code",
      "metadata": {
        "id": "FB-tPdD84haS",
        "colab": {
          "base_uri": "https://localhost:8080/",
          "height": 234
        },
        "outputId": "1d80aceb-7183-4d33-c153-3c2f152da744"
      },
      "source": [
        "new_h.sort_values(by ='Change in Rank (2017-2012)', ascending = False).head()"
      ],
      "execution_count": 49,
      "outputs": [
        {
          "output_type": "execute_result",
          "data": {
            "text/html": [
              "<div>\n",
              "<style scoped>\n",
              "    .dataframe tbody tr th:only-of-type {\n",
              "        vertical-align: middle;\n",
              "    }\n",
              "\n",
              "    .dataframe tbody tr th {\n",
              "        vertical-align: top;\n",
              "    }\n",
              "\n",
              "    .dataframe thead th {\n",
              "        text-align: right;\n",
              "    }\n",
              "</style>\n",
              "<table border=\"1\" class=\"dataframe\">\n",
              "  <thead>\n",
              "    <tr style=\"text-align: right;\">\n",
              "      <th></th>\n",
              "      <th>Rank 2012</th>\n",
              "      <th>HappinessScore 2012</th>\n",
              "      <th>Rank 2017</th>\n",
              "      <th>HappinessScore 2017</th>\n",
              "      <th>Change in Rank (2017-2012)</th>\n",
              "    </tr>\n",
              "    <tr>\n",
              "      <th>Country</th>\n",
              "      <th></th>\n",
              "      <th></th>\n",
              "      <th></th>\n",
              "      <th></th>\n",
              "      <th></th>\n",
              "    </tr>\n",
              "  </thead>\n",
              "  <tbody>\n",
              "    <tr>\n",
              "      <th>Albania</th>\n",
              "      <td>59.0</td>\n",
              "      <td>5.550</td>\n",
              "      <td>100.0</td>\n",
              "      <td>4.644</td>\n",
              "      <td>41.0</td>\n",
              "    </tr>\n",
              "    <tr>\n",
              "      <th>Ghana</th>\n",
              "      <td>81.0</td>\n",
              "      <td>5.091</td>\n",
              "      <td>121.0</td>\n",
              "      <td>4.120</td>\n",
              "      <td>40.0</td>\n",
              "    </tr>\n",
              "    <tr>\n",
              "      <th>Ukraine</th>\n",
              "      <td>82.0</td>\n",
              "      <td>5.057</td>\n",
              "      <td>122.0</td>\n",
              "      <td>4.096</td>\n",
              "      <td>40.0</td>\n",
              "    </tr>\n",
              "    <tr>\n",
              "      <th>Zimbabwe</th>\n",
              "      <td>95.0</td>\n",
              "      <td>4.827</td>\n",
              "      <td>128.0</td>\n",
              "      <td>3.875</td>\n",
              "      <td>33.0</td>\n",
              "    </tr>\n",
              "    <tr>\n",
              "      <th>Cyprus</th>\n",
              "      <td>31.0</td>\n",
              "      <td>6.466</td>\n",
              "      <td>60.0</td>\n",
              "      <td>5.621</td>\n",
              "      <td>29.0</td>\n",
              "    </tr>\n",
              "  </tbody>\n",
              "</table>\n",
              "</div>"
            ],
            "text/plain": [
              "          Rank 2012  ...  Change in Rank (2017-2012)\n",
              "Country              ...                            \n",
              "Albania        59.0  ...                        41.0\n",
              "Ghana          81.0  ...                        40.0\n",
              "Ukraine        82.0  ...                        40.0\n",
              "Zimbabwe       95.0  ...                        33.0\n",
              "Cyprus         31.0  ...                        29.0\n",
              "\n",
              "[5 rows x 5 columns]"
            ]
          },
          "metadata": {},
          "execution_count": 49
        }
      ]
    },
    {
      "cell_type": "code",
      "metadata": {
        "id": "d_QcNoX76JM0",
        "colab": {
          "base_uri": "https://localhost:8080/",
          "height": 234
        },
        "outputId": "28ecd897-65bd-4f89-db24-75537c98ab1f"
      },
      "source": [
        "new_h.sort_values(by ='Change in Rank (2017-2012)').head()"
      ],
      "execution_count": 50,
      "outputs": [
        {
          "output_type": "execute_result",
          "data": {
            "text/html": [
              "<div>\n",
              "<style scoped>\n",
              "    .dataframe tbody tr th:only-of-type {\n",
              "        vertical-align: middle;\n",
              "    }\n",
              "\n",
              "    .dataframe tbody tr th {\n",
              "        vertical-align: top;\n",
              "    }\n",
              "\n",
              "    .dataframe thead th {\n",
              "        text-align: right;\n",
              "    }\n",
              "</style>\n",
              "<table border=\"1\" class=\"dataframe\">\n",
              "  <thead>\n",
              "    <tr style=\"text-align: right;\">\n",
              "      <th></th>\n",
              "      <th>Rank 2012</th>\n",
              "      <th>HappinessScore 2012</th>\n",
              "      <th>Rank 2017</th>\n",
              "      <th>HappinessScore 2017</th>\n",
              "      <th>Change in Rank (2017-2012)</th>\n",
              "    </tr>\n",
              "    <tr>\n",
              "      <th>Country</th>\n",
              "      <th></th>\n",
              "      <th></th>\n",
              "      <th></th>\n",
              "      <th></th>\n",
              "      <th></th>\n",
              "    </tr>\n",
              "  </thead>\n",
              "  <tbody>\n",
              "    <tr>\n",
              "      <th>Bulgaria</th>\n",
              "      <td>133.0</td>\n",
              "      <td>3.981</td>\n",
              "      <td>96.0</td>\n",
              "      <td>4.714</td>\n",
              "      <td>-37.0</td>\n",
              "    </tr>\n",
              "    <tr>\n",
              "      <th>Bahrain</th>\n",
              "      <td>74.0</td>\n",
              "      <td>5.312</td>\n",
              "      <td>39.0</td>\n",
              "      <td>6.087</td>\n",
              "      <td>-35.0</td>\n",
              "    </tr>\n",
              "    <tr>\n",
              "      <th>Nepal</th>\n",
              "      <td>124.0</td>\n",
              "      <td>4.156</td>\n",
              "      <td>90.0</td>\n",
              "      <td>4.962</td>\n",
              "      <td>-34.0</td>\n",
              "    </tr>\n",
              "    <tr>\n",
              "      <th>Latvia</th>\n",
              "      <td>83.0</td>\n",
              "      <td>5.046</td>\n",
              "      <td>50.0</td>\n",
              "      <td>5.850</td>\n",
              "      <td>-33.0</td>\n",
              "    </tr>\n",
              "    <tr>\n",
              "      <th>Hungary</th>\n",
              "      <td>102.0</td>\n",
              "      <td>4.775</td>\n",
              "      <td>69.0</td>\n",
              "      <td>5.324</td>\n",
              "      <td>-33.0</td>\n",
              "    </tr>\n",
              "  </tbody>\n",
              "</table>\n",
              "</div>"
            ],
            "text/plain": [
              "          Rank 2012  ...  Change in Rank (2017-2012)\n",
              "Country              ...                            \n",
              "Bulgaria      133.0  ...                       -37.0\n",
              "Bahrain        74.0  ...                       -35.0\n",
              "Nepal         124.0  ...                       -34.0\n",
              "Latvia         83.0  ...                       -33.0\n",
              "Hungary       102.0  ...                       -33.0\n",
              "\n",
              "[5 rows x 5 columns]"
            ]
          },
          "metadata": {},
          "execution_count": 50
        }
      ]
    },
    {
      "cell_type": "markdown",
      "metadata": {
        "id": "fzpcVFwn67iW"
      },
      "source": [
        "###Q-3: What is the name of the country with the largest positive change in their happiness score? What about the largest negative change? "
      ]
    },
    {
      "cell_type": "code",
      "metadata": {
        "id": "Io2t_2-X6sWX",
        "colab": {
          "base_uri": "https://localhost:8080/",
          "height": 234
        },
        "outputId": "ed49ff88-51ad-48e0-cce4-b027b9b05649"
      },
      "source": [
        "new_h['Change in HappinessScore (2017-2012)'] = new_h['HappinessScore 2017'] - new_h['HappinessScore 2012']\n",
        "new_h.head()"
      ],
      "execution_count": 51,
      "outputs": [
        {
          "output_type": "execute_result",
          "data": {
            "text/html": [
              "<div>\n",
              "<style scoped>\n",
              "    .dataframe tbody tr th:only-of-type {\n",
              "        vertical-align: middle;\n",
              "    }\n",
              "\n",
              "    .dataframe tbody tr th {\n",
              "        vertical-align: top;\n",
              "    }\n",
              "\n",
              "    .dataframe thead th {\n",
              "        text-align: right;\n",
              "    }\n",
              "</style>\n",
              "<table border=\"1\" class=\"dataframe\">\n",
              "  <thead>\n",
              "    <tr style=\"text-align: right;\">\n",
              "      <th></th>\n",
              "      <th>Rank 2012</th>\n",
              "      <th>HappinessScore 2012</th>\n",
              "      <th>Rank 2017</th>\n",
              "      <th>HappinessScore 2017</th>\n",
              "      <th>Change in Rank (2017-2012)</th>\n",
              "      <th>Change in HappinessScore (2017-2012)</th>\n",
              "    </tr>\n",
              "    <tr>\n",
              "      <th>Country</th>\n",
              "      <th></th>\n",
              "      <th></th>\n",
              "      <th></th>\n",
              "      <th></th>\n",
              "      <th></th>\n",
              "      <th></th>\n",
              "    </tr>\n",
              "  </thead>\n",
              "  <tbody>\n",
              "    <tr>\n",
              "      <th>Denmark</th>\n",
              "      <td>1.0</td>\n",
              "      <td>7.693</td>\n",
              "      <td>2.0</td>\n",
              "      <td>7.522</td>\n",
              "      <td>1.0</td>\n",
              "      <td>-0.171</td>\n",
              "    </tr>\n",
              "    <tr>\n",
              "      <th>Norway</th>\n",
              "      <td>2.0</td>\n",
              "      <td>7.655</td>\n",
              "      <td>1.0</td>\n",
              "      <td>7.537</td>\n",
              "      <td>-1.0</td>\n",
              "      <td>-0.118</td>\n",
              "    </tr>\n",
              "    <tr>\n",
              "      <th>Switzerland</th>\n",
              "      <td>3.0</td>\n",
              "      <td>7.650</td>\n",
              "      <td>4.0</td>\n",
              "      <td>7.494</td>\n",
              "      <td>1.0</td>\n",
              "      <td>-0.156</td>\n",
              "    </tr>\n",
              "    <tr>\n",
              "      <th>Netherlands</th>\n",
              "      <td>4.0</td>\n",
              "      <td>7.512</td>\n",
              "      <td>6.0</td>\n",
              "      <td>7.377</td>\n",
              "      <td>2.0</td>\n",
              "      <td>-0.135</td>\n",
              "    </tr>\n",
              "    <tr>\n",
              "      <th>Sweden</th>\n",
              "      <td>5.0</td>\n",
              "      <td>7.480</td>\n",
              "      <td>9.0</td>\n",
              "      <td>7.284</td>\n",
              "      <td>4.0</td>\n",
              "      <td>-0.196</td>\n",
              "    </tr>\n",
              "  </tbody>\n",
              "</table>\n",
              "</div>"
            ],
            "text/plain": [
              "             Rank 2012  ...  Change in HappinessScore (2017-2012)\n",
              "Country                 ...                                      \n",
              "Denmark            1.0  ...                                -0.171\n",
              "Norway             2.0  ...                                -0.118\n",
              "Switzerland        3.0  ...                                -0.156\n",
              "Netherlands        4.0  ...                                -0.135\n",
              "Sweden             5.0  ...                                -0.196\n",
              "\n",
              "[5 rows x 6 columns]"
            ]
          },
          "metadata": {},
          "execution_count": 51
        }
      ]
    },
    {
      "cell_type": "code",
      "metadata": {
        "id": "fgJ2F6Md7Jyq",
        "colab": {
          "base_uri": "https://localhost:8080/",
          "height": 234
        },
        "outputId": "8c32513b-cf6c-4200-ff1c-9119bd143ca4"
      },
      "source": [
        "new_h.sort_values('Change in HappinessScore (2017-2012)', ascending = False).head()"
      ],
      "execution_count": 52,
      "outputs": [
        {
          "output_type": "execute_result",
          "data": {
            "text/html": [
              "<div>\n",
              "<style scoped>\n",
              "    .dataframe tbody tr th:only-of-type {\n",
              "        vertical-align: middle;\n",
              "    }\n",
              "\n",
              "    .dataframe tbody tr th {\n",
              "        vertical-align: top;\n",
              "    }\n",
              "\n",
              "    .dataframe thead th {\n",
              "        text-align: right;\n",
              "    }\n",
              "</style>\n",
              "<table border=\"1\" class=\"dataframe\">\n",
              "  <thead>\n",
              "    <tr style=\"text-align: right;\">\n",
              "      <th></th>\n",
              "      <th>Rank 2012</th>\n",
              "      <th>HappinessScore 2012</th>\n",
              "      <th>Rank 2017</th>\n",
              "      <th>HappinessScore 2017</th>\n",
              "      <th>Change in Rank (2017-2012)</th>\n",
              "      <th>Change in HappinessScore (2017-2012)</th>\n",
              "    </tr>\n",
              "    <tr>\n",
              "      <th>Country</th>\n",
              "      <th></th>\n",
              "      <th></th>\n",
              "      <th></th>\n",
              "      <th></th>\n",
              "      <th></th>\n",
              "      <th></th>\n",
              "    </tr>\n",
              "  </thead>\n",
              "  <tbody>\n",
              "    <tr>\n",
              "      <th>Nepal</th>\n",
              "      <td>124.0</td>\n",
              "      <td>4.156</td>\n",
              "      <td>90.0</td>\n",
              "      <td>4.962</td>\n",
              "      <td>-34.0</td>\n",
              "      <td>0.806</td>\n",
              "    </tr>\n",
              "    <tr>\n",
              "      <th>Latvia</th>\n",
              "      <td>83.0</td>\n",
              "      <td>5.046</td>\n",
              "      <td>50.0</td>\n",
              "      <td>5.850</td>\n",
              "      <td>-33.0</td>\n",
              "      <td>0.804</td>\n",
              "    </tr>\n",
              "    <tr>\n",
              "      <th>Romania</th>\n",
              "      <td>85.0</td>\n",
              "      <td>5.033</td>\n",
              "      <td>53.0</td>\n",
              "      <td>5.825</td>\n",
              "      <td>-32.0</td>\n",
              "      <td>0.792</td>\n",
              "    </tr>\n",
              "    <tr>\n",
              "      <th>Bahrain</th>\n",
              "      <td>74.0</td>\n",
              "      <td>5.312</td>\n",
              "      <td>39.0</td>\n",
              "      <td>6.087</td>\n",
              "      <td>-35.0</td>\n",
              "      <td>0.775</td>\n",
              "    </tr>\n",
              "    <tr>\n",
              "      <th>Bulgaria</th>\n",
              "      <td>133.0</td>\n",
              "      <td>3.981</td>\n",
              "      <td>96.0</td>\n",
              "      <td>4.714</td>\n",
              "      <td>-37.0</td>\n",
              "      <td>0.733</td>\n",
              "    </tr>\n",
              "  </tbody>\n",
              "</table>\n",
              "</div>"
            ],
            "text/plain": [
              "          Rank 2012  ...  Change in HappinessScore (2017-2012)\n",
              "Country              ...                                      \n",
              "Nepal         124.0  ...                                 0.806\n",
              "Latvia         83.0  ...                                 0.804\n",
              "Romania        85.0  ...                                 0.792\n",
              "Bahrain        74.0  ...                                 0.775\n",
              "Bulgaria      133.0  ...                                 0.733\n",
              "\n",
              "[5 rows x 6 columns]"
            ]
          },
          "metadata": {},
          "execution_count": 52
        }
      ]
    },
    {
      "cell_type": "code",
      "metadata": {
        "id": "vHByI3OU7Xpi",
        "colab": {
          "base_uri": "https://localhost:8080/",
          "height": 234
        },
        "outputId": "b3780871-7e56-4afa-d6f8-52de38373bbc"
      },
      "source": [
        "new_h.sort_values('Change in HappinessScore (2017-2012)').head()"
      ],
      "execution_count": 53,
      "outputs": [
        {
          "output_type": "execute_result",
          "data": {
            "text/html": [
              "<div>\n",
              "<style scoped>\n",
              "    .dataframe tbody tr th:only-of-type {\n",
              "        vertical-align: middle;\n",
              "    }\n",
              "\n",
              "    .dataframe tbody tr th {\n",
              "        vertical-align: top;\n",
              "    }\n",
              "\n",
              "    .dataframe thead th {\n",
              "        text-align: right;\n",
              "    }\n",
              "</style>\n",
              "<table border=\"1\" class=\"dataframe\">\n",
              "  <thead>\n",
              "    <tr style=\"text-align: right;\">\n",
              "      <th></th>\n",
              "      <th>Rank 2012</th>\n",
              "      <th>HappinessScore 2012</th>\n",
              "      <th>Rank 2017</th>\n",
              "      <th>HappinessScore 2017</th>\n",
              "      <th>Change in Rank (2017-2012)</th>\n",
              "      <th>Change in HappinessScore (2017-2012)</th>\n",
              "    </tr>\n",
              "    <tr>\n",
              "      <th>Country</th>\n",
              "      <th></th>\n",
              "      <th></th>\n",
              "      <th></th>\n",
              "      <th></th>\n",
              "      <th></th>\n",
              "      <th></th>\n",
              "    </tr>\n",
              "  </thead>\n",
              "  <tbody>\n",
              "    <tr>\n",
              "      <th>Ghana</th>\n",
              "      <td>81.0</td>\n",
              "      <td>5.091</td>\n",
              "      <td>121.0</td>\n",
              "      <td>4.120</td>\n",
              "      <td>40.0</td>\n",
              "      <td>-0.971</td>\n",
              "    </tr>\n",
              "    <tr>\n",
              "      <th>Ukraine</th>\n",
              "      <td>82.0</td>\n",
              "      <td>5.057</td>\n",
              "      <td>122.0</td>\n",
              "      <td>4.096</td>\n",
              "      <td>40.0</td>\n",
              "      <td>-0.961</td>\n",
              "    </tr>\n",
              "    <tr>\n",
              "      <th>Zimbabwe</th>\n",
              "      <td>95.0</td>\n",
              "      <td>4.827</td>\n",
              "      <td>128.0</td>\n",
              "      <td>3.875</td>\n",
              "      <td>33.0</td>\n",
              "      <td>-0.952</td>\n",
              "    </tr>\n",
              "    <tr>\n",
              "      <th>Albania</th>\n",
              "      <td>59.0</td>\n",
              "      <td>5.550</td>\n",
              "      <td>100.0</td>\n",
              "      <td>4.644</td>\n",
              "      <td>41.0</td>\n",
              "      <td>-0.906</td>\n",
              "    </tr>\n",
              "    <tr>\n",
              "      <th>Cyprus</th>\n",
              "      <td>31.0</td>\n",
              "      <td>6.466</td>\n",
              "      <td>60.0</td>\n",
              "      <td>5.621</td>\n",
              "      <td>29.0</td>\n",
              "      <td>-0.845</td>\n",
              "    </tr>\n",
              "  </tbody>\n",
              "</table>\n",
              "</div>"
            ],
            "text/plain": [
              "          Rank 2012  ...  Change in HappinessScore (2017-2012)\n",
              "Country              ...                                      \n",
              "Ghana          81.0  ...                                -0.971\n",
              "Ukraine        82.0  ...                                -0.961\n",
              "Zimbabwe       95.0  ...                                -0.952\n",
              "Albania        59.0  ...                                -0.906\n",
              "Cyprus         31.0  ...                                -0.845\n",
              "\n",
              "[5 rows x 6 columns]"
            ]
          },
          "metadata": {},
          "execution_count": 53
        }
      ]
    },
    {
      "cell_type": "markdown",
      "metadata": {
        "id": "-AZ7T-AJ89G-"
      },
      "source": [
        "###Use the final data frame you constructed above to determine the number of countries included in the 2012 dataset but not in the 2017 dataset, as well as the number of countries included in the 2017 dataset but not in the 2012 dataset"
      ]
    },
    {
      "cell_type": "code",
      "metadata": {
        "id": "G2mMhPHd7azW",
        "colab": {
          "base_uri": "https://localhost:8080/"
        },
        "outputId": "6e3621ce-d39c-4b8c-83c1-4fe73b6ca5ef"
      },
      "source": [
        "merged_h = pd.merge(h, hd, on='Country', how = 'inner')\n",
        "merged_h.shape"
      ],
      "execution_count": 54,
      "outputs": [
        {
          "output_type": "execute_result",
          "data": {
            "text/plain": [
              "(126, 33)"
            ]
          },
          "metadata": {},
          "execution_count": 54
        }
      ]
    },
    {
      "cell_type": "markdown",
      "metadata": {
        "id": "ANliVtpX9Y2e"
      },
      "source": [
        "This means that 126 countries were in both data sets."
      ]
    },
    {
      "cell_type": "code",
      "metadata": {
        "id": "KYCuRRb69KAe",
        "colab": {
          "base_uri": "https://localhost:8080/"
        },
        "outputId": "06b4d29e-f06b-4124-8ada-3ada3257539d"
      },
      "source": [
        "new_h.shape"
      ],
      "execution_count": 55,
      "outputs": [
        {
          "output_type": "execute_result",
          "data": {
            "text/plain": [
              "(156, 6)"
            ]
          },
          "metadata": {},
          "execution_count": 55
        }
      ]
    },
    {
      "cell_type": "markdown",
      "metadata": {
        "id": "H2lGN0nqPwrM"
      },
      "source": [
        "This means that the union of the two data sets have 156 countries. "
      ]
    },
    {
      "cell_type": "code",
      "metadata": {
        "id": "uOSeGgKp-437",
        "colab": {
          "base_uri": "https://localhost:8080/"
        },
        "outputId": "31e38118-98c5-4ee0-f3e4-b0a23e0cb12d"
      },
      "source": [
        "h.shape "
      ],
      "execution_count": 56,
      "outputs": [
        {
          "output_type": "execute_result",
          "data": {
            "text/plain": [
              "(142, 20)"
            ]
          },
          "metadata": {},
          "execution_count": 56
        }
      ]
    },
    {
      "cell_type": "markdown",
      "metadata": {
        "id": "76QvREpbP8xL"
      },
      "source": [
        "This means that 142 countries were in the happiness 2012."
      ]
    },
    {
      "cell_type": "code",
      "metadata": {
        "id": "UBatSVSa_Hqp",
        "colab": {
          "base_uri": "https://localhost:8080/"
        },
        "outputId": "6ba1d974-20d2-4564-cb61-f0dd07b261b8"
      },
      "source": [
        "hd.shape"
      ],
      "execution_count": 57,
      "outputs": [
        {
          "output_type": "execute_result",
          "data": {
            "text/plain": [
              "(140, 14)"
            ]
          },
          "metadata": {},
          "execution_count": 57
        }
      ]
    },
    {
      "cell_type": "markdown",
      "metadata": {
        "id": "FHHpvHOX_OFZ"
      },
      "source": [
        "This means that 140 countries were in happiness 2017. Now, subtracting the number of countries present in both data sets from total number of countries in happiness 2012. "
      ]
    },
    {
      "cell_type": "code",
      "metadata": {
        "id": "uIAq7i8t_LP6",
        "colab": {
          "base_uri": "https://localhost:8080/"
        },
        "outputId": "87b4fa87-c58e-4eb3-bb2b-11090980452a"
      },
      "source": [
        "142-126"
      ],
      "execution_count": 58,
      "outputs": [
        {
          "output_type": "execute_result",
          "data": {
            "text/plain": [
              "16"
            ]
          },
          "metadata": {},
          "execution_count": 58
        }
      ]
    },
    {
      "cell_type": "markdown",
      "metadata": {
        "id": "d9kzE4sDQcvc"
      },
      "source": [
        "Therefore, 16 countries were present in happiness 2012 but not in happiness 2017. Now, subtracting the number of countries present in both data sets from total number of countries in happiness 2017."
      ]
    },
    {
      "cell_type": "code",
      "metadata": {
        "id": "JRAcf1Qu_lmQ",
        "colab": {
          "base_uri": "https://localhost:8080/"
        },
        "outputId": "359a9932-dc27-439a-a581-dc394f0bcd1a"
      },
      "source": [
        "140-126"
      ],
      "execution_count": 59,
      "outputs": [
        {
          "output_type": "execute_result",
          "data": {
            "text/plain": [
              "14"
            ]
          },
          "metadata": {},
          "execution_count": 59
        }
      ]
    },
    {
      "cell_type": "markdown",
      "metadata": {
        "id": "lm7-XausQsks"
      },
      "source": [
        "Therefore, 14 countries were present in happiness 2017 but not in happiness 2012. Now, we are checking if the intersection, countries in happiness 2012, and countries in happiness 2017 add up to the union value."
      ]
    },
    {
      "cell_type": "code",
      "metadata": {
        "id": "8b4ZeQj7_p60",
        "colab": {
          "base_uri": "https://localhost:8080/"
        },
        "outputId": "c4cd7403-f402-4de9-8d16-432ca3354578"
      },
      "source": [
        "126+16+14"
      ],
      "execution_count": 60,
      "outputs": [
        {
          "output_type": "execute_result",
          "data": {
            "text/plain": [
              "156"
            ]
          },
          "metadata": {},
          "execution_count": 60
        }
      ]
    },
    {
      "cell_type": "markdown",
      "metadata": {
        "id": "ld_osO0ORMXo"
      },
      "source": [
        "Yes! There were 156 countries in the union table."
      ]
    },
    {
      "cell_type": "code",
      "metadata": {
        "id": "1_bPGge-_uXe"
      },
      "source": [
        ""
      ],
      "execution_count": 60,
      "outputs": []
    },
    {
      "cell_type": "markdown",
      "metadata": {
        "id": "S4tvkA81g8C2"
      },
      "source": [
        "#Part 2:\n"
      ]
    },
    {
      "cell_type": "code",
      "metadata": {
        "id": "5AXRc3uSkW3B",
        "colab": {
          "resources": {
            "http://localhost:8080/nbextensions/google.colab/files.js": {
              "data": "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",
              "ok": true,
              "headers": [
                [
                  "content-type",
                  "application/javascript"
                ]
              ],
              "status": 200,
              "status_text": ""
            }
          },
          "base_uri": "https://localhost:8080/",
          "height": 39
        },
        "outputId": "40d7ef93-2651-4819-fe05-9230f744a49f"
      },
      "source": [
        "from google.colab import files\n",
        "uploaded = files.upload()"
      ],
      "execution_count": null,
      "outputs": [
        {
          "output_type": "display_data",
          "data": {
            "text/html": [
              "\n",
              "     <input type=\"file\" id=\"files-63bc81bf-fb60-4856-ad03-ee846ce2ffa2\" name=\"files[]\" multiple disabled\n",
              "        style=\"border:none\" />\n",
              "     <output id=\"result-63bc81bf-fb60-4856-ad03-ee846ce2ffa2\">\n",
              "      Upload widget is only available when the cell has been executed in the\n",
              "      current browser session. Please rerun this cell to enable.\n",
              "      </output>\n",
              "      <script src=\"/nbextensions/google.colab/files.js\"></script> "
            ],
            "text/plain": [
              "<IPython.core.display.HTML object>"
            ]
          },
          "metadata": {}
        }
      ]
    },
    {
      "cell_type": "code",
      "metadata": {
        "id": "1mMitD-Wm41Y"
      },
      "source": [
        "import io\n",
        "df = pd. read_csv(io.BytesIO(uploaded['Oil_and_Gas_Summary_Production_Data__1967-1999.csv']))"
      ],
      "execution_count": null,
      "outputs": []
    },
    {
      "cell_type": "code",
      "metadata": {
        "id": "t7VBxI_hnqA6"
      },
      "source": [
        "df.head()"
      ],
      "execution_count": null,
      "outputs": []
    },
    {
      "cell_type": "markdown",
      "metadata": {
        "id": "1i9ieSyCoqQ2"
      },
      "source": [
        "####Oil and gas Production Data from 1967 to 1999 seems pretty interesting. It was from the 2000s when the awareness about environmental sustainability outraged. Before that although environmental consciousness was in the frame, but the production of fossil fuel was the top priority. Alternatives to Fossil Fuel were not quite popular. We wanted to analyze the trend of production of Oil and Gas right before the era of environmental sustainability awareness and consciousness. Active well, Inactive wells and Water production are some of the familiar topics we had heard about oil and gas production but Injection well, Disposal well and Self-use well are some of the new topics we found through this data set. We want to research on the correlation between all these aspects of the data set and their overall impact on the production.\n",
        "\n"
      ]
    },
    {
      "cell_type": "markdown",
      "metadata": {
        "id": "Bsv_Pq6No7PL"
      },
      "source": [
        "####Qn1: Which production year had the highest number of active oil wells?"
      ]
    },
    {
      "cell_type": "code",
      "metadata": {
        "id": "MFCeuaP0oGq9"
      },
      "source": [
        "df1= df[['Production Year', 'Active Oil Wells']]\n",
        "df1.groupby('Production Year').mean().sort_values(by = 'Active Oil Wells', ascending = False).head()"
      ],
      "execution_count": null,
      "outputs": []
    },
    {
      "cell_type": "markdown",
      "metadata": {
        "id": "AK_m_DK2pl_H"
      },
      "source": [
        "####Answer: The highest number of active oil wells were present in 1968. "
      ]
    },
    {
      "cell_type": "markdown",
      "metadata": {
        "id": "IZRUvvfMqFgb"
      },
      "source": [
        "####Qn2: Which county had the highest amount of water production during 1968?"
      ]
    },
    {
      "cell_type": "code",
      "metadata": {
        "id": "qyovUbyGpgUD"
      },
      "source": [
        "df2 = df[['Production Year', 'County','Water produced, bbl']]\n",
        "df2.loc[df2['Production Year'] == 1968].sort_values(by = 'Water produced, bbl', ascending = False).head()"
      ],
      "execution_count": null,
      "outputs": []
    },
    {
      "cell_type": "markdown",
      "metadata": {
        "id": "IwsAYShGq2K-"
      },
      "source": [
        "####Cattaraugus had the highest amount of water production during 1968."
      ]
    },
    {
      "cell_type": "code",
      "metadata": {
        "id": "5F4cVZMzqoNi"
      },
      "source": [
        "df.shape"
      ],
      "execution_count": null,
      "outputs": []
    },
    {
      "cell_type": "code",
      "metadata": {
        "id": "S078O21It4K2"
      },
      "source": [
        "df.dropna().shape\n"
      ],
      "execution_count": null,
      "outputs": []
    },
    {
      "cell_type": "markdown",
      "metadata": {
        "id": "kXNeYeTQuBv2"
      },
      "source": [
        "Since, we have a lot more than 1000 observations even after dropping all rows with NAN values, we can easily use this dataset for further analysis. Also, there are no ethical concerns related to the information provided in this dataset. "
      ]
    },
    {
      "cell_type": "code",
      "metadata": {
        "id": "Jl0Xy7_Ot68g"
      },
      "source": [
        ""
      ],
      "execution_count": null,
      "outputs": []
    }
  ]
}