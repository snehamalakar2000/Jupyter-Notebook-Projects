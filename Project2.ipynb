{
  "nbformat": 4,
  "nbformat_minor": 0,
  "metadata": {
    "colab": {
      "name": "Project2.ipynb",
      "provenance": []
    },
    "kernelspec": {
      "name": "python3",
      "display_name": "Python 3"
    },
    "language_info": {
      "name": "python"
    }
  },
  "cells": [
    {
      "cell_type": "markdown",
      "metadata": {
        "id": "bQDkREl5cF3H"
      },
      "source": [
        "# **Project 2: Oil and Gas Summary Production Data (1967-1999)**\n"
      ]
    },
    {
      "cell_type": "markdown",
      "metadata": {
        "id": "_0AFiMWQcS_J"
      },
      "source": [
        "####Data source site: https://catalog.data.gov/dataset?res_format=CSV\n",
        "####Datasheet link: https://catalog.data.gov/dataset/oil-and-gas-summary-production-data-1967-1999"
      ]
    },
    {
      "cell_type": "code",
      "metadata": {
        "id": "GhZlLKQpcJC9"
      },
      "source": [
        "import pandas as pd\n",
        "import numpy as np\n",
        "from altair import Chart, X, Y, Color, Scale\n",
        "import altair as alt"
      ],
      "execution_count": 35,
      "outputs": []
    },
    {
      "cell_type": "code",
      "metadata": {
        "colab": {
          "base_uri": "https://localhost:8080/",
          "height": 458
        },
        "id": "k9sB4PVNc-Si",
        "outputId": "88bca85b-66c0-4e79-b442-593238f3f3ea"
      },
      "source": [
        "production_df = pd.read_csv('/content/drive/My Drive/HDS/CMPS 260/Data/Oil_and_Gas_Summary_Production_Data__1967-1999.csv')\n",
        "production_df.head()"
      ],
      "execution_count": 36,
      "outputs": [
        {
          "output_type": "execute_result",
          "data": {
            "text/html": [
              "<div>\n",
              "<style scoped>\n",
              "    .dataframe tbody tr th:only-of-type {\n",
              "        vertical-align: middle;\n",
              "    }\n",
              "\n",
              "    .dataframe tbody tr th {\n",
              "        vertical-align: top;\n",
              "    }\n",
              "\n",
              "    .dataframe thead th {\n",
              "        text-align: right;\n",
              "    }\n",
              "</style>\n",
              "<table border=\"1\" class=\"dataframe\">\n",
              "  <thead>\n",
              "    <tr style=\"text-align: right;\">\n",
              "      <th></th>\n",
              "      <th>Production Year</th>\n",
              "      <th>Production Date Entered</th>\n",
              "      <th>Operator</th>\n",
              "      <th>County</th>\n",
              "      <th>Town</th>\n",
              "      <th>Field</th>\n",
              "      <th>Producing Formation</th>\n",
              "      <th>Active Oil Wells</th>\n",
              "      <th>Inactive Oil Wells</th>\n",
              "      <th>Active Gas Wells</th>\n",
              "      <th>Inactive Gas Wells</th>\n",
              "      <th>Injection Wells</th>\n",
              "      <th>Disposal Wells</th>\n",
              "      <th>Self-use Well</th>\n",
              "      <th>Oil Produced, bbl</th>\n",
              "      <th>Gas Produced, Mcf</th>\n",
              "      <th>Water produced, bbl</th>\n",
              "      <th>Taxable Gas, Mcf</th>\n",
              "      <th>Purchaser Codes</th>\n",
              "      <th>Location</th>\n",
              "    </tr>\n",
              "  </thead>\n",
              "  <tbody>\n",
              "    <tr>\n",
              "      <th>0</th>\n",
              "      <td>1995</td>\n",
              "      <td>12/03/1996</td>\n",
              "      <td>Buffalo China, Inc.</td>\n",
              "      <td>Erie</td>\n",
              "      <td>BUFFALO</td>\n",
              "      <td>BUFFALO</td>\n",
              "      <td>MEDINA</td>\n",
              "      <td>0</td>\n",
              "      <td>0</td>\n",
              "      <td>1</td>\n",
              "      <td>0</td>\n",
              "      <td>0</td>\n",
              "      <td>0</td>\n",
              "      <td>YES</td>\n",
              "      <td>0</td>\n",
              "      <td>106</td>\n",
              "      <td>0</td>\n",
              "      <td>0</td>\n",
              "      <td>NaN</td>\n",
              "      <td>BUFFALO, NY\\n(42.887691, -78.879374)</td>\n",
              "    </tr>\n",
              "    <tr>\n",
              "      <th>1</th>\n",
              "      <td>1995</td>\n",
              "      <td>03/29/1996</td>\n",
              "      <td>Copper Ridge Oil, Inc.</td>\n",
              "      <td>Steuben</td>\n",
              "      <td>WEST UNION</td>\n",
              "      <td>BEECH HILL-INDEPENDENCE</td>\n",
              "      <td>FULMER VALLEY</td>\n",
              "      <td>28</td>\n",
              "      <td>0</td>\n",
              "      <td>0</td>\n",
              "      <td>0</td>\n",
              "      <td>7</td>\n",
              "      <td>0</td>\n",
              "      <td>NO</td>\n",
              "      <td>1229</td>\n",
              "      <td>0</td>\n",
              "      <td>180</td>\n",
              "      <td>0</td>\n",
              "      <td>OA</td>\n",
              "      <td>WEST UNION, NY\\n(42.094951, -77.725816)</td>\n",
              "    </tr>\n",
              "    <tr>\n",
              "      <th>2</th>\n",
              "      <td>1994</td>\n",
              "      <td>02/14/1995</td>\n",
              "      <td>White, Walter W. &amp; Christina L.</td>\n",
              "      <td>Cattaraugus</td>\n",
              "      <td>CARROLLTON</td>\n",
              "      <td>BRADFORD</td>\n",
              "      <td>BRADFORD</td>\n",
              "      <td>3</td>\n",
              "      <td>0</td>\n",
              "      <td>0</td>\n",
              "      <td>0</td>\n",
              "      <td>0</td>\n",
              "      <td>0</td>\n",
              "      <td>NO</td>\n",
              "      <td>462</td>\n",
              "      <td>0</td>\n",
              "      <td>0</td>\n",
              "      <td>0</td>\n",
              "      <td>OA</td>\n",
              "      <td>CARROLLTON, NY\\n(42.023289, -78.628438)</td>\n",
              "    </tr>\n",
              "    <tr>\n",
              "      <th>3</th>\n",
              "      <td>1994</td>\n",
              "      <td>01/19/1995</td>\n",
              "      <td>Stiegler, Richard M</td>\n",
              "      <td>Erie</td>\n",
              "      <td>CHEEKTOWAGA</td>\n",
              "      <td>BUFFALO</td>\n",
              "      <td>MEDINA</td>\n",
              "      <td>0</td>\n",
              "      <td>0</td>\n",
              "      <td>1</td>\n",
              "      <td>0</td>\n",
              "      <td>0</td>\n",
              "      <td>0</td>\n",
              "      <td>YES</td>\n",
              "      <td>0</td>\n",
              "      <td>530</td>\n",
              "      <td>0</td>\n",
              "      <td>0</td>\n",
              "      <td>NaN</td>\n",
              "      <td>CHEEKTOWAGA, NY\\n(42.907071, -78.754318)</td>\n",
              "    </tr>\n",
              "    <tr>\n",
              "      <th>4</th>\n",
              "      <td>1995</td>\n",
              "      <td>02/12/1996</td>\n",
              "      <td>Bucher, Charles J</td>\n",
              "      <td>Cattaraugus</td>\n",
              "      <td>ALLEGANY</td>\n",
              "      <td>FIVE MILE</td>\n",
              "      <td>BRADFORD</td>\n",
              "      <td>10</td>\n",
              "      <td>0</td>\n",
              "      <td>0</td>\n",
              "      <td>0</td>\n",
              "      <td>0</td>\n",
              "      <td>0</td>\n",
              "      <td>NO</td>\n",
              "      <td>45</td>\n",
              "      <td>0</td>\n",
              "      <td>80</td>\n",
              "      <td>0</td>\n",
              "      <td>OA</td>\n",
              "      <td>ALLEGANY, NY\\n(42.088061, -78.491258)</td>\n",
              "    </tr>\n",
              "  </tbody>\n",
              "</table>\n",
              "</div>"
            ],
            "text/plain": [
              "   Production Year  ...                                  Location\n",
              "0             1995  ...      BUFFALO, NY\\n(42.887691, -78.879374)\n",
              "1             1995  ...   WEST UNION, NY\\n(42.094951, -77.725816)\n",
              "2             1994  ...   CARROLLTON, NY\\n(42.023289, -78.628438)\n",
              "3             1994  ...  CHEEKTOWAGA, NY\\n(42.907071, -78.754318)\n",
              "4             1995  ...     ALLEGANY, NY\\n(42.088061, -78.491258)\n",
              "\n",
              "[5 rows x 20 columns]"
            ]
          },
          "metadata": {},
          "execution_count": 36
        }
      ]
    },
    {
      "cell_type": "markdown",
      "metadata": {
        "id": "2LODBrBDkomZ"
      },
      "source": [
        "#**Data Column meanings:**\n",
        "\n",
        "1. **Production Year**: The year during which the oil and gas are produced. \n",
        "2. **Production date entered**: The date of production inputted by the operator.\n",
        "3.**Operator**: The company or individual that are responsible and have the legal authority to drill wells and undertake the production of hydrocarbons that are found.\n",
        "4. **County**: Specific region of a state or country where the oil and gas wells are located at.\n",
        "5. **Town**: The town where the oil and gas wells are located at. \n",
        "6. **Field**: The geographical area under which an oil or gas reservoir lies.\n",
        "7. **Producing formation**: The area where there is an underground rock formation from which oil, gas or water is produced\n",
        "8. **Active oil wells**: Number of wells that are currently producing oil. \n",
        "9. **Inactive oil wells**: Number of wells that have not produced oil in 12 months.\n",
        "10. **Active gas wells**: Number of wells that are currently producing gas. \n",
        "11. **Inactive gas wells**: Number of wells that have not produced gas in 12 months.  \n",
        "12. **Injection wells**: An injection well is used to place fluid underground into porous geologic formations. This could be steam, carbon dioxide, water or other substances to help maintain reservoir pressure, heat the oil or lower its viscosity, allowing it to flow to a producing well nearby.\n",
        "13. **Disposal wells**: Number of depleted oil or gas wells, into which waste fluids can be injected for safe disposal (extra info: Water specific to fracture return may be recycled for further use, or disposed by injection into deep subsurface formations, through a disposal well.)\n",
        "14. **Self-use well**: \n",
        "15. **Oil produced (bbl)**: Total number of barrels of oil produced by the active oil wells. \n",
        "16. **Gas produced (mcf)**: Amount of gas, in Mille Cubic Feet or 1000 cubic feet,  produced by active gas wells.\n",
        "17. **Water produced (bbl)**: Total number of barrels of water produced by the active oil and gas wells.\n",
        "18. **Taxable gas (mcf)**: Amount of gas, in Mille Cubic Feet or 1000 cubic feet, that can be taxed. \n",
        "19. **Purchaser codes**: Specifies a code to specify the purchaser who normally handles this vendor's account.\n",
        "20. **Location**: The country, state, and longitude and latitude \n",
        "\n"
      ]
    },
    {
      "cell_type": "code",
      "metadata": {
        "id": "fK42Hj5MKz0d",
        "colab": {
          "base_uri": "https://localhost:8080/"
        },
        "outputId": "fdc1a9db-f2a0-4530-d76e-42d77d4c3c67"
      },
      "source": [
        "from google.colab import drive\n",
        "drive.mount('/content/drive')"
      ],
      "execution_count": 37,
      "outputs": [
        {
          "output_type": "stream",
          "name": "stdout",
          "text": [
            "Drive already mounted at /content/drive; to attempt to forcibly remount, call drive.mount(\"/content/drive\", force_remount=True).\n"
          ]
        }
      ]
    },
    {
      "cell_type": "markdown",
      "metadata": {
        "id": "k2hpnukJy9UE"
      },
      "source": [
        "#**Cleaning the Data:**"
      ]
    },
    {
      "cell_type": "markdown",
      "metadata": {
        "id": "Cx5wajOLzFYQ"
      },
      "source": [
        "####First let's check which columns have empty observations. "
      ]
    },
    {
      "cell_type": "code",
      "metadata": {
        "id": "1ceMMpRlzPWk",
        "colab": {
          "base_uri": "https://localhost:8080/"
        },
        "outputId": "76d11c73-6edb-42a4-bbce-06ec912bc56a"
      },
      "source": [
        "production_df.shape"
      ],
      "execution_count": 38,
      "outputs": [
        {
          "output_type": "execute_result",
          "data": {
            "text/plain": [
              "(30053, 20)"
            ]
          },
          "metadata": {},
          "execution_count": 38
        }
      ]
    },
    {
      "cell_type": "code",
      "metadata": {
        "id": "DduOfmTChvrJ",
        "colab": {
          "base_uri": "https://localhost:8080/"
        },
        "outputId": "58816a33-2c97-4304-ba76-b3a0ab94ac21"
      },
      "source": [
        "production_df.info()"
      ],
      "execution_count": 39,
      "outputs": [
        {
          "output_type": "stream",
          "name": "stdout",
          "text": [
            "<class 'pandas.core.frame.DataFrame'>\n",
            "RangeIndex: 30053 entries, 0 to 30052\n",
            "Data columns (total 20 columns):\n",
            " #   Column                   Non-Null Count  Dtype \n",
            "---  ------                   --------------  ----- \n",
            " 0   Production Year          30053 non-null  int64 \n",
            " 1   Production Date Entered  30053 non-null  object\n",
            " 2   Operator                 30053 non-null  object\n",
            " 3   County                   30022 non-null  object\n",
            " 4   Town                     29396 non-null  object\n",
            " 5   Field                    28772 non-null  object\n",
            " 6   Producing Formation      29393 non-null  object\n",
            " 7   Active Oil Wells         30053 non-null  int64 \n",
            " 8   Inactive Oil Wells       30053 non-null  int64 \n",
            " 9   Active Gas Wells         30053 non-null  int64 \n",
            " 10  Inactive Gas Wells       30053 non-null  int64 \n",
            " 11  Injection Wells          30053 non-null  int64 \n",
            " 12  Disposal Wells           30053 non-null  int64 \n",
            " 13  Self-use Well            29434 non-null  object\n",
            " 14  Oil Produced, bbl        30053 non-null  int64 \n",
            " 15  Gas Produced, Mcf        30053 non-null  int64 \n",
            " 16  Water produced, bbl      30053 non-null  int64 \n",
            " 17  Taxable Gas, Mcf         30053 non-null  int64 \n",
            " 18  Purchaser Codes          18255 non-null  object\n",
            " 19  Location                 30053 non-null  object\n",
            "dtypes: int64(11), object(9)\n",
            "memory usage: 4.6+ MB\n"
          ]
        }
      ]
    },
    {
      "cell_type": "markdown",
      "metadata": {
        "id": "vjK7sUy9zVE0"
      },
      "source": [
        "####Since there are supposed to be 30,053 observations in total, we can see that the County, Town, Field, Producing Formation, Self-Use Well, and Purchaser Codes columns have empty rows. We will now remove these empty rows. We will not bother about the Self-Use Well and Purchaser Codes columns since those are not used in our analysis. \n"
      ]
    },
    {
      "cell_type": "code",
      "metadata": {
        "id": "SnL4H0900zo8",
        "colab": {
          "base_uri": "https://localhost:8080/"
        },
        "outputId": "2340b7ab-0910-4c06-cb92-97f325c310cc"
      },
      "source": [
        "production_df = production_df.loc[production_df['County'].notnull()]\n",
        "production_df = production_df.loc[production_df['Town'].notnull()]\n",
        "production_df = production_df.loc[production_df['Field'].notnull()]\n",
        "production_df = production_df.loc[production_df['Producing Formation'].notnull()]\n",
        "production_df.shape\n"
      ],
      "execution_count": 40,
      "outputs": [
        {
          "output_type": "execute_result",
          "data": {
            "text/plain": [
              "(28357, 20)"
            ]
          },
          "metadata": {},
          "execution_count": 40
        }
      ]
    },
    {
      "cell_type": "markdown",
      "metadata": {
        "id": "QH30yrM96xm0"
      },
      "source": [
        "####Since the observations have decreased from 30,053 to 28,357, the null rows have been removed. "
      ]
    },
    {
      "cell_type": "markdown",
      "metadata": {
        "id": "DooNbRnE7OaA"
      },
      "source": [
        "#**Analysis Questions:**\n",
        "\n",
        "\n",
        "---\n",
        "\n",
        "\n",
        "###**1) The Renewable Energy movement started during the 1970s. Assuming that this movement would decrease the dependency on natural gas and oil by making people more aware, do the number of active  oil and gas wells decrease over the years? Can we also see the same effect on the number of disposal wells?**\n",
        "\n",
        "\n",
        "---\n",
        "\n",
        "\n",
        "\n",
        "\n",
        "\n",
        "\n",
        "\n",
        "\n",
        "\n",
        "\n",
        "\n"
      ]
    },
    {
      "cell_type": "markdown",
      "metadata": {
        "id": "HKKCt_lJ_Lt8"
      },
      "source": [
        "#### First, we will make a new dataframe `NR_df` which only has the columns that we need for this analysis. "
      ]
    },
    {
      "cell_type": "code",
      "metadata": {
        "id": "Mo-w5iPF7NMr",
        "colab": {
          "base_uri": "https://localhost:8080/",
          "height": 203
        },
        "outputId": "33711657-b74a-4a4a-86ce-0ca9ec712532"
      },
      "source": [
        "NR_df = production_df[['Production Year', 'Active Oil Wells', 'Active Gas Wells', 'Disposal Wells']]\n",
        "NR_df.head()"
      ],
      "execution_count": 41,
      "outputs": [
        {
          "output_type": "execute_result",
          "data": {
            "text/html": [
              "<div>\n",
              "<style scoped>\n",
              "    .dataframe tbody tr th:only-of-type {\n",
              "        vertical-align: middle;\n",
              "    }\n",
              "\n",
              "    .dataframe tbody tr th {\n",
              "        vertical-align: top;\n",
              "    }\n",
              "\n",
              "    .dataframe thead th {\n",
              "        text-align: right;\n",
              "    }\n",
              "</style>\n",
              "<table border=\"1\" class=\"dataframe\">\n",
              "  <thead>\n",
              "    <tr style=\"text-align: right;\">\n",
              "      <th></th>\n",
              "      <th>Production Year</th>\n",
              "      <th>Active Oil Wells</th>\n",
              "      <th>Active Gas Wells</th>\n",
              "      <th>Disposal Wells</th>\n",
              "    </tr>\n",
              "  </thead>\n",
              "  <tbody>\n",
              "    <tr>\n",
              "      <th>0</th>\n",
              "      <td>1995</td>\n",
              "      <td>0</td>\n",
              "      <td>1</td>\n",
              "      <td>0</td>\n",
              "    </tr>\n",
              "    <tr>\n",
              "      <th>1</th>\n",
              "      <td>1995</td>\n",
              "      <td>28</td>\n",
              "      <td>0</td>\n",
              "      <td>0</td>\n",
              "    </tr>\n",
              "    <tr>\n",
              "      <th>2</th>\n",
              "      <td>1994</td>\n",
              "      <td>3</td>\n",
              "      <td>0</td>\n",
              "      <td>0</td>\n",
              "    </tr>\n",
              "    <tr>\n",
              "      <th>3</th>\n",
              "      <td>1994</td>\n",
              "      <td>0</td>\n",
              "      <td>1</td>\n",
              "      <td>0</td>\n",
              "    </tr>\n",
              "    <tr>\n",
              "      <th>4</th>\n",
              "      <td>1995</td>\n",
              "      <td>10</td>\n",
              "      <td>0</td>\n",
              "      <td>0</td>\n",
              "    </tr>\n",
              "  </tbody>\n",
              "</table>\n",
              "</div>"
            ],
            "text/plain": [
              "   Production Year  Active Oil Wells  Active Gas Wells  Disposal Wells\n",
              "0             1995                 0                 1               0\n",
              "1             1995                28                 0               0\n",
              "2             1994                 3                 0               0\n",
              "3             1994                 0                 1               0\n",
              "4             1995                10                 0               0"
            ]
          },
          "metadata": {},
          "execution_count": 41
        }
      ]
    },
    {
      "cell_type": "markdown",
      "metadata": {
        "id": "y_ZlMt4g_WJj"
      },
      "source": [
        "#### We will now group by the production year to see the counts of the 5 different types of wells in each year."
      ]
    },
    {
      "cell_type": "code",
      "metadata": {
        "id": "fw-kKIt6-8Y5",
        "colab": {
          "base_uri": "https://localhost:8080/",
          "height": 234
        },
        "outputId": "5da7a88d-a925-47a4-d00b-cdadf2486bba"
      },
      "source": [
        "NR_df1 = NR_df.groupby('Production Year').sum()\n",
        "NR_df1.head()"
      ],
      "execution_count": 42,
      "outputs": [
        {
          "output_type": "execute_result",
          "data": {
            "text/html": [
              "<div>\n",
              "<style scoped>\n",
              "    .dataframe tbody tr th:only-of-type {\n",
              "        vertical-align: middle;\n",
              "    }\n",
              "\n",
              "    .dataframe tbody tr th {\n",
              "        vertical-align: top;\n",
              "    }\n",
              "\n",
              "    .dataframe thead th {\n",
              "        text-align: right;\n",
              "    }\n",
              "</style>\n",
              "<table border=\"1\" class=\"dataframe\">\n",
              "  <thead>\n",
              "    <tr style=\"text-align: right;\">\n",
              "      <th></th>\n",
              "      <th>Active Oil Wells</th>\n",
              "      <th>Active Gas Wells</th>\n",
              "      <th>Disposal Wells</th>\n",
              "    </tr>\n",
              "    <tr>\n",
              "      <th>Production Year</th>\n",
              "      <th></th>\n",
              "      <th></th>\n",
              "      <th></th>\n",
              "    </tr>\n",
              "  </thead>\n",
              "  <tbody>\n",
              "    <tr>\n",
              "      <th>1967</th>\n",
              "      <td>3250</td>\n",
              "      <td>484</td>\n",
              "      <td>0</td>\n",
              "    </tr>\n",
              "    <tr>\n",
              "      <th>1968</th>\n",
              "      <td>3678</td>\n",
              "      <td>515</td>\n",
              "      <td>0</td>\n",
              "    </tr>\n",
              "    <tr>\n",
              "      <th>1969</th>\n",
              "      <td>4117</td>\n",
              "      <td>481</td>\n",
              "      <td>0</td>\n",
              "    </tr>\n",
              "    <tr>\n",
              "      <th>1970</th>\n",
              "      <td>4261</td>\n",
              "      <td>446</td>\n",
              "      <td>0</td>\n",
              "    </tr>\n",
              "    <tr>\n",
              "      <th>1971</th>\n",
              "      <td>4229</td>\n",
              "      <td>409</td>\n",
              "      <td>0</td>\n",
              "    </tr>\n",
              "  </tbody>\n",
              "</table>\n",
              "</div>"
            ],
            "text/plain": [
              "                 Active Oil Wells  Active Gas Wells  Disposal Wells\n",
              "Production Year                                                    \n",
              "1967                         3250               484               0\n",
              "1968                         3678               515               0\n",
              "1969                         4117               481               0\n",
              "1970                         4261               446               0\n",
              "1971                         4229               409               0"
            ]
          },
          "metadata": {},
          "execution_count": 42
        }
      ]
    },
    {
      "cell_type": "markdown",
      "metadata": {
        "id": "VRfp7SE_Ipot"
      },
      "source": [
        "####Using the `melt()` function we will turn this dataframe from a wide form to a long form since Altair charts work best with the long form."
      ]
    },
    {
      "cell_type": "code",
      "metadata": {
        "id": "SAf_qDOCEo38",
        "colab": {
          "base_uri": "https://localhost:8080/",
          "height": 203
        },
        "outputId": "30aa2706-06e3-4338-8d7d-95940ba4791d"
      },
      "source": [
        "NR_df1 = NR_df1.reset_index()\n",
        "NR_df1.head()"
      ],
      "execution_count": 43,
      "outputs": [
        {
          "output_type": "execute_result",
          "data": {
            "text/html": [
              "<div>\n",
              "<style scoped>\n",
              "    .dataframe tbody tr th:only-of-type {\n",
              "        vertical-align: middle;\n",
              "    }\n",
              "\n",
              "    .dataframe tbody tr th {\n",
              "        vertical-align: top;\n",
              "    }\n",
              "\n",
              "    .dataframe thead th {\n",
              "        text-align: right;\n",
              "    }\n",
              "</style>\n",
              "<table border=\"1\" class=\"dataframe\">\n",
              "  <thead>\n",
              "    <tr style=\"text-align: right;\">\n",
              "      <th></th>\n",
              "      <th>Production Year</th>\n",
              "      <th>Active Oil Wells</th>\n",
              "      <th>Active Gas Wells</th>\n",
              "      <th>Disposal Wells</th>\n",
              "    </tr>\n",
              "  </thead>\n",
              "  <tbody>\n",
              "    <tr>\n",
              "      <th>0</th>\n",
              "      <td>1967</td>\n",
              "      <td>3250</td>\n",
              "      <td>484</td>\n",
              "      <td>0</td>\n",
              "    </tr>\n",
              "    <tr>\n",
              "      <th>1</th>\n",
              "      <td>1968</td>\n",
              "      <td>3678</td>\n",
              "      <td>515</td>\n",
              "      <td>0</td>\n",
              "    </tr>\n",
              "    <tr>\n",
              "      <th>2</th>\n",
              "      <td>1969</td>\n",
              "      <td>4117</td>\n",
              "      <td>481</td>\n",
              "      <td>0</td>\n",
              "    </tr>\n",
              "    <tr>\n",
              "      <th>3</th>\n",
              "      <td>1970</td>\n",
              "      <td>4261</td>\n",
              "      <td>446</td>\n",
              "      <td>0</td>\n",
              "    </tr>\n",
              "    <tr>\n",
              "      <th>4</th>\n",
              "      <td>1971</td>\n",
              "      <td>4229</td>\n",
              "      <td>409</td>\n",
              "      <td>0</td>\n",
              "    </tr>\n",
              "  </tbody>\n",
              "</table>\n",
              "</div>"
            ],
            "text/plain": [
              "   Production Year  Active Oil Wells  Active Gas Wells  Disposal Wells\n",
              "0             1967              3250               484               0\n",
              "1             1968              3678               515               0\n",
              "2             1969              4117               481               0\n",
              "3             1970              4261               446               0\n",
              "4             1971              4229               409               0"
            ]
          },
          "metadata": {},
          "execution_count": 43
        }
      ]
    },
    {
      "cell_type": "code",
      "metadata": {
        "id": "gzCneyr3AKMK",
        "colab": {
          "base_uri": "https://localhost:8080/",
          "height": 417
        },
        "outputId": "4a397720-ac8d-4a0a-9688-a0d4eb8bb6e0"
      },
      "source": [
        "NR_df1_melt = NR_df1.melt(id_vars='Production Year', value_vars=['Active Oil Wells', 'Active Gas Wells', 'Disposal Wells'])\n",
        "NR_df1_melt"
      ],
      "execution_count": 44,
      "outputs": [
        {
          "output_type": "execute_result",
          "data": {
            "text/html": [
              "<div>\n",
              "<style scoped>\n",
              "    .dataframe tbody tr th:only-of-type {\n",
              "        vertical-align: middle;\n",
              "    }\n",
              "\n",
              "    .dataframe tbody tr th {\n",
              "        vertical-align: top;\n",
              "    }\n",
              "\n",
              "    .dataframe thead th {\n",
              "        text-align: right;\n",
              "    }\n",
              "</style>\n",
              "<table border=\"1\" class=\"dataframe\">\n",
              "  <thead>\n",
              "    <tr style=\"text-align: right;\">\n",
              "      <th></th>\n",
              "      <th>Production Year</th>\n",
              "      <th>variable</th>\n",
              "      <th>value</th>\n",
              "    </tr>\n",
              "  </thead>\n",
              "  <tbody>\n",
              "    <tr>\n",
              "      <th>0</th>\n",
              "      <td>1967</td>\n",
              "      <td>Active Oil Wells</td>\n",
              "      <td>3250</td>\n",
              "    </tr>\n",
              "    <tr>\n",
              "      <th>1</th>\n",
              "      <td>1968</td>\n",
              "      <td>Active Oil Wells</td>\n",
              "      <td>3678</td>\n",
              "    </tr>\n",
              "    <tr>\n",
              "      <th>2</th>\n",
              "      <td>1969</td>\n",
              "      <td>Active Oil Wells</td>\n",
              "      <td>4117</td>\n",
              "    </tr>\n",
              "    <tr>\n",
              "      <th>3</th>\n",
              "      <td>1970</td>\n",
              "      <td>Active Oil Wells</td>\n",
              "      <td>4261</td>\n",
              "    </tr>\n",
              "    <tr>\n",
              "      <th>4</th>\n",
              "      <td>1971</td>\n",
              "      <td>Active Oil Wells</td>\n",
              "      <td>4229</td>\n",
              "    </tr>\n",
              "    <tr>\n",
              "      <th>...</th>\n",
              "      <td>...</td>\n",
              "      <td>...</td>\n",
              "      <td>...</td>\n",
              "    </tr>\n",
              "    <tr>\n",
              "      <th>94</th>\n",
              "      <td>1995</td>\n",
              "      <td>Disposal Wells</td>\n",
              "      <td>0</td>\n",
              "    </tr>\n",
              "    <tr>\n",
              "      <th>95</th>\n",
              "      <td>1996</td>\n",
              "      <td>Disposal Wells</td>\n",
              "      <td>1</td>\n",
              "    </tr>\n",
              "    <tr>\n",
              "      <th>96</th>\n",
              "      <td>1997</td>\n",
              "      <td>Disposal Wells</td>\n",
              "      <td>5</td>\n",
              "    </tr>\n",
              "    <tr>\n",
              "      <th>97</th>\n",
              "      <td>1998</td>\n",
              "      <td>Disposal Wells</td>\n",
              "      <td>0</td>\n",
              "    </tr>\n",
              "    <tr>\n",
              "      <th>98</th>\n",
              "      <td>1999</td>\n",
              "      <td>Disposal Wells</td>\n",
              "      <td>0</td>\n",
              "    </tr>\n",
              "  </tbody>\n",
              "</table>\n",
              "<p>99 rows × 3 columns</p>\n",
              "</div>"
            ],
            "text/plain": [
              "    Production Year          variable  value\n",
              "0              1967  Active Oil Wells   3250\n",
              "1              1968  Active Oil Wells   3678\n",
              "2              1969  Active Oil Wells   4117\n",
              "3              1970  Active Oil Wells   4261\n",
              "4              1971  Active Oil Wells   4229\n",
              "..              ...               ...    ...\n",
              "94             1995    Disposal Wells      0\n",
              "95             1996    Disposal Wells      1\n",
              "96             1997    Disposal Wells      5\n",
              "97             1998    Disposal Wells      0\n",
              "98             1999    Disposal Wells      0\n",
              "\n",
              "[99 rows x 3 columns]"
            ]
          },
          "metadata": {},
          "execution_count": 44
        }
      ]
    },
    {
      "cell_type": "markdown",
      "metadata": {
        "id": "hvWrtTqhJEUk"
      },
      "source": [
        "####We are now representing this melted dataframe using a line chart. "
      ]
    },
    {
      "cell_type": "code",
      "metadata": {
        "id": "U2L6c2ebEk-J",
        "colab": {
          "base_uri": "https://localhost:8080/",
          "height": 376
        },
        "outputId": "d1b46d93-464e-47a1-bdaf-31f131343eed"
      },
      "source": [
        "Chart(NR_df1_melt).mark_line().encode(x='Production Year:O', y='value', color='variable')"
      ],
      "execution_count": 45,
      "outputs": [
        {
          "output_type": "execute_result",
          "data": {
            "text/plain": [
              "alt.Chart(...)"
            ],
            "text/html": [
              "\n",
              "<div id=\"altair-viz-50f8bad48e944d96914362929a910d5d\"></div>\n",
              "<script type=\"text/javascript\">\n",
              "  (function(spec, embedOpt){\n",
              "    let outputDiv = document.currentScript.previousElementSibling;\n",
              "    if (outputDiv.id !== \"altair-viz-50f8bad48e944d96914362929a910d5d\") {\n",
              "      outputDiv = document.getElementById(\"altair-viz-50f8bad48e944d96914362929a910d5d\");\n",
              "    }\n",
              "    const paths = {\n",
              "      \"vega\": \"https://cdn.jsdelivr.net/npm//vega@5?noext\",\n",
              "      \"vega-lib\": \"https://cdn.jsdelivr.net/npm//vega-lib?noext\",\n",
              "      \"vega-lite\": \"https://cdn.jsdelivr.net/npm//vega-lite@4.8.1?noext\",\n",
              "      \"vega-embed\": \"https://cdn.jsdelivr.net/npm//vega-embed@6?noext\",\n",
              "    };\n",
              "\n",
              "    function loadScript(lib) {\n",
              "      return new Promise(function(resolve, reject) {\n",
              "        var s = document.createElement('script');\n",
              "        s.src = paths[lib];\n",
              "        s.async = true;\n",
              "        s.onload = () => resolve(paths[lib]);\n",
              "        s.onerror = () => reject(`Error loading script: ${paths[lib]}`);\n",
              "        document.getElementsByTagName(\"head\")[0].appendChild(s);\n",
              "      });\n",
              "    }\n",
              "\n",
              "    function showError(err) {\n",
              "      outputDiv.innerHTML = `<div class=\"error\" style=\"color:red;\">${err}</div>`;\n",
              "      throw err;\n",
              "    }\n",
              "\n",
              "    function displayChart(vegaEmbed) {\n",
              "      vegaEmbed(outputDiv, spec, embedOpt)\n",
              "        .catch(err => showError(`Javascript Error: ${err.message}<br>This usually means there's a typo in your chart specification. See the javascript console for the full traceback.`));\n",
              "    }\n",
              "\n",
              "    if(typeof define === \"function\" && define.amd) {\n",
              "      requirejs.config({paths});\n",
              "      require([\"vega-embed\"], displayChart, err => showError(`Error loading script: ${err.message}`));\n",
              "    } else if (typeof vegaEmbed === \"function\") {\n",
              "      displayChart(vegaEmbed);\n",
              "    } else {\n",
              "      loadScript(\"vega\")\n",
              "        .then(() => loadScript(\"vega-lite\"))\n",
              "        .then(() => loadScript(\"vega-embed\"))\n",
              "        .catch(showError)\n",
              "        .then(() => displayChart(vegaEmbed));\n",
              "    }\n",
              "  })({\"config\": {\"view\": {\"continuousWidth\": 400, \"continuousHeight\": 300}}, \"data\": {\"name\": \"data-1c98327226adc02768df8bbc8a6091ef\"}, \"mark\": \"line\", \"encoding\": {\"color\": {\"type\": \"nominal\", \"field\": \"variable\"}, \"x\": {\"type\": \"ordinal\", \"field\": \"Production Year\"}, \"y\": {\"type\": \"quantitative\", \"field\": \"value\"}}, \"$schema\": \"https://vega.github.io/schema/vega-lite/v4.8.1.json\", \"datasets\": {\"data-1c98327226adc02768df8bbc8a6091ef\": [{\"Production Year\": 1967, \"variable\": \"Active Oil Wells\", \"value\": 3250}, {\"Production Year\": 1968, \"variable\": \"Active Oil Wells\", \"value\": 3678}, {\"Production Year\": 1969, \"variable\": \"Active Oil Wells\", \"value\": 4117}, {\"Production Year\": 1970, \"variable\": \"Active Oil Wells\", \"value\": 4261}, {\"Production Year\": 1971, \"variable\": \"Active Oil Wells\", \"value\": 4229}, {\"Production Year\": 1972, \"variable\": \"Active Oil Wells\", \"value\": 4432}, {\"Production Year\": 1973, \"variable\": \"Active Oil Wells\", \"value\": 4567}, {\"Production Year\": 1974, \"variable\": \"Active Oil Wells\", \"value\": 4657}, {\"Production Year\": 1975, \"variable\": \"Active Oil Wells\", \"value\": 4352}, {\"Production Year\": 1976, \"variable\": \"Active Oil Wells\", \"value\": 5414}, {\"Production Year\": 1977, \"variable\": \"Active Oil Wells\", \"value\": 4760}, {\"Production Year\": 1978, \"variable\": \"Active Oil Wells\", \"value\": 5104}, {\"Production Year\": 1979, \"variable\": \"Active Oil Wells\", \"value\": 5664}, {\"Production Year\": 1980, \"variable\": \"Active Oil Wells\", \"value\": 5265}, {\"Production Year\": 1981, \"variable\": \"Active Oil Wells\", \"value\": 5062}, {\"Production Year\": 1982, \"variable\": \"Active Oil Wells\", \"value\": 4820}, {\"Production Year\": 1983, \"variable\": \"Active Oil Wells\", \"value\": 4540}, {\"Production Year\": 1984, \"variable\": \"Active Oil Wells\", \"value\": 4533}, {\"Production Year\": 1985, \"variable\": \"Active Oil Wells\", \"value\": 4800}, {\"Production Year\": 1986, \"variable\": \"Active Oil Wells\", \"value\": 4434}, {\"Production Year\": 1987, \"variable\": \"Active Oil Wells\", \"value\": 4190}, {\"Production Year\": 1988, \"variable\": \"Active Oil Wells\", \"value\": 4368}, {\"Production Year\": 1989, \"variable\": \"Active Oil Wells\", \"value\": 4043}, {\"Production Year\": 1990, \"variable\": \"Active Oil Wells\", \"value\": 3916}, {\"Production Year\": 1991, \"variable\": \"Active Oil Wells\", \"value\": 3627}, {\"Production Year\": 1992, \"variable\": \"Active Oil Wells\", \"value\": 3761}, {\"Production Year\": 1993, \"variable\": \"Active Oil Wells\", \"value\": 3785}, {\"Production Year\": 1994, \"variable\": \"Active Oil Wells\", \"value\": 3670}, {\"Production Year\": 1995, \"variable\": \"Active Oil Wells\", \"value\": 3655}, {\"Production Year\": 1996, \"variable\": \"Active Oil Wells\", \"value\": 3684}, {\"Production Year\": 1997, \"variable\": \"Active Oil Wells\", \"value\": 3466}, {\"Production Year\": 1998, \"variable\": \"Active Oil Wells\", \"value\": 3940}, {\"Production Year\": 1999, \"variable\": \"Active Oil Wells\", \"value\": 3815}, {\"Production Year\": 1967, \"variable\": \"Active Gas Wells\", \"value\": 484}, {\"Production Year\": 1968, \"variable\": \"Active Gas Wells\", \"value\": 515}, {\"Production Year\": 1969, \"variable\": \"Active Gas Wells\", \"value\": 481}, {\"Production Year\": 1970, \"variable\": \"Active Gas Wells\", \"value\": 446}, {\"Production Year\": 1971, \"variable\": \"Active Gas Wells\", \"value\": 409}, {\"Production Year\": 1972, \"variable\": \"Active Gas Wells\", \"value\": 472}, {\"Production Year\": 1973, \"variable\": \"Active Gas Wells\", \"value\": 485}, {\"Production Year\": 1974, \"variable\": \"Active Gas Wells\", \"value\": 473}, {\"Production Year\": 1975, \"variable\": \"Active Gas Wells\", \"value\": 558}, {\"Production Year\": 1976, \"variable\": \"Active Gas Wells\", \"value\": 1172}, {\"Production Year\": 1977, \"variable\": \"Active Gas Wells\", \"value\": 1342}, {\"Production Year\": 1978, \"variable\": \"Active Gas Wells\", \"value\": 897}, {\"Production Year\": 1979, \"variable\": \"Active Gas Wells\", \"value\": 1558}, {\"Production Year\": 1980, \"variable\": \"Active Gas Wells\", \"value\": 1893}, {\"Production Year\": 1981, \"variable\": \"Active Gas Wells\", \"value\": 2333}, {\"Production Year\": 1982, \"variable\": \"Active Gas Wells\", \"value\": 2658}, {\"Production Year\": 1983, \"variable\": \"Active Gas Wells\", \"value\": 3446}, {\"Production Year\": 1984, \"variable\": \"Active Gas Wells\", \"value\": 4219}, {\"Production Year\": 1985, \"variable\": \"Active Gas Wells\", \"value\": 4787}, {\"Production Year\": 1986, \"variable\": \"Active Gas Wells\", \"value\": 5053}, {\"Production Year\": 1987, \"variable\": \"Active Gas Wells\", \"value\": 5327}, {\"Production Year\": 1988, \"variable\": \"Active Gas Wells\", \"value\": 5313}, {\"Production Year\": 1989, \"variable\": \"Active Gas Wells\", \"value\": 5412}, {\"Production Year\": 1990, \"variable\": \"Active Gas Wells\", \"value\": 5535}, {\"Production Year\": 1991, \"variable\": \"Active Gas Wells\", \"value\": 5759}, {\"Production Year\": 1992, \"variable\": \"Active Gas Wells\", \"value\": 5870}, {\"Production Year\": 1993, \"variable\": \"Active Gas Wells\", \"value\": 5973}, {\"Production Year\": 1994, \"variable\": \"Active Gas Wells\", \"value\": 5993}, {\"Production Year\": 1995, \"variable\": \"Active Gas Wells\", \"value\": 6144}, {\"Production Year\": 1996, \"variable\": \"Active Gas Wells\", \"value\": 5869}, {\"Production Year\": 1997, \"variable\": \"Active Gas Wells\", \"value\": 5738}, {\"Production Year\": 1998, \"variable\": \"Active Gas Wells\", \"value\": 5838}, {\"Production Year\": 1999, \"variable\": \"Active Gas Wells\", \"value\": 5923}, {\"Production Year\": 1967, \"variable\": \"Disposal Wells\", \"value\": 0}, {\"Production Year\": 1968, \"variable\": \"Disposal Wells\", \"value\": 0}, {\"Production Year\": 1969, \"variable\": \"Disposal Wells\", \"value\": 0}, {\"Production Year\": 1970, \"variable\": \"Disposal Wells\", \"value\": 0}, {\"Production Year\": 1971, \"variable\": \"Disposal Wells\", \"value\": 0}, {\"Production Year\": 1972, \"variable\": \"Disposal Wells\", \"value\": 3}, {\"Production Year\": 1973, \"variable\": \"Disposal Wells\", \"value\": 0}, {\"Production Year\": 1974, \"variable\": \"Disposal Wells\", \"value\": 0}, {\"Production Year\": 1975, \"variable\": \"Disposal Wells\", \"value\": 0}, {\"Production Year\": 1976, \"variable\": \"Disposal Wells\", \"value\": 0}, {\"Production Year\": 1977, \"variable\": \"Disposal Wells\", \"value\": 3}, {\"Production Year\": 1978, \"variable\": \"Disposal Wells\", \"value\": 227}, {\"Production Year\": 1979, \"variable\": \"Disposal Wells\", \"value\": 1}, {\"Production Year\": 1980, \"variable\": \"Disposal Wells\", \"value\": 0}, {\"Production Year\": 1981, \"variable\": \"Disposal Wells\", \"value\": 1}, {\"Production Year\": 1982, \"variable\": \"Disposal Wells\", \"value\": 1}, {\"Production Year\": 1983, \"variable\": \"Disposal Wells\", \"value\": 1}, {\"Production Year\": 1984, \"variable\": \"Disposal Wells\", \"value\": 1}, {\"Production Year\": 1985, \"variable\": \"Disposal Wells\", \"value\": 0}, {\"Production Year\": 1986, \"variable\": \"Disposal Wells\", \"value\": 1}, {\"Production Year\": 1987, \"variable\": \"Disposal Wells\", \"value\": 139}, {\"Production Year\": 1988, \"variable\": \"Disposal Wells\", \"value\": 20}, {\"Production Year\": 1989, \"variable\": \"Disposal Wells\", \"value\": 4}, {\"Production Year\": 1990, \"variable\": \"Disposal Wells\", \"value\": 3}, {\"Production Year\": 1991, \"variable\": \"Disposal Wells\", \"value\": 4}, {\"Production Year\": 1992, \"variable\": \"Disposal Wells\", \"value\": 77}, {\"Production Year\": 1993, \"variable\": \"Disposal Wells\", \"value\": 1}, {\"Production Year\": 1994, \"variable\": \"Disposal Wells\", \"value\": 1}, {\"Production Year\": 1995, \"variable\": \"Disposal Wells\", \"value\": 0}, {\"Production Year\": 1996, \"variable\": \"Disposal Wells\", \"value\": 1}, {\"Production Year\": 1997, \"variable\": \"Disposal Wells\", \"value\": 5}, {\"Production Year\": 1998, \"variable\": \"Disposal Wells\", \"value\": 0}, {\"Production Year\": 1999, \"variable\": \"Disposal Wells\", \"value\": 0}]}}, {\"mode\": \"vega-lite\"});\n",
              "</script>"
            ]
          },
          "metadata": {},
          "execution_count": 45
        }
      ]
    },
    {
      "cell_type": "markdown",
      "metadata": {
        "id": "H6EIXkpjKSrZ"
      },
      "source": [
        "#### Unfortunately, from the line chart above, we can see that the Renewable Energy movement did not decrease the number of active oil wells and gas wells. Infact, there is an increase in active gas wells significantly from 1975 which is contradictory to the purpose of the movement. We do see a decline in number of active oil wells from 1978 which might indicate more dependency on renewable sources. However, we end up having more number of active oil wells in 1999 than in 1967. For the disposal wells, there seems to be no significant change except for the brief increases in number during 1978, 1987 and 1992. "
      ]
    },
    {
      "cell_type": "markdown",
      "metadata": {
        "id": "dJa-ZslZMkG5"
      },
      "source": [
        "\n",
        "\n",
        "---\n",
        "\n",
        "\n",
        "###**2) Which producing formation produces the highest percentage of taxable gases in each decade? Is there any formation that has been producing highest amount of taxable gas throughout the years?**\n",
        "\n",
        "---\n",
        "\n",
        "\n",
        "\n",
        "\n",
        "\n"
      ]
    },
    {
      "cell_type": "markdown",
      "metadata": {
        "id": "LyOsbHenMl1z"
      },
      "source": [
        "####We first extract the columns that we need that are Production Year, Producing Formation, Gas Produces, and Taxable Gas. "
      ]
    },
    {
      "cell_type": "code",
      "metadata": {
        "id": "oOs1mhlFIWL-",
        "colab": {
          "base_uri": "https://localhost:8080/",
          "height": 203
        },
        "outputId": "4cd663ec-f9c9-4e73-b0ad-0de7d4074316"
      },
      "source": [
        "TG_df = production_df[['Production Year', 'Producing Formation', 'Gas Produced, Mcf', 'Taxable Gas, Mcf']]\n",
        "TG_df.head()"
      ],
      "execution_count": 46,
      "outputs": [
        {
          "output_type": "execute_result",
          "data": {
            "text/html": [
              "<div>\n",
              "<style scoped>\n",
              "    .dataframe tbody tr th:only-of-type {\n",
              "        vertical-align: middle;\n",
              "    }\n",
              "\n",
              "    .dataframe tbody tr th {\n",
              "        vertical-align: top;\n",
              "    }\n",
              "\n",
              "    .dataframe thead th {\n",
              "        text-align: right;\n",
              "    }\n",
              "</style>\n",
              "<table border=\"1\" class=\"dataframe\">\n",
              "  <thead>\n",
              "    <tr style=\"text-align: right;\">\n",
              "      <th></th>\n",
              "      <th>Production Year</th>\n",
              "      <th>Producing Formation</th>\n",
              "      <th>Gas Produced, Mcf</th>\n",
              "      <th>Taxable Gas, Mcf</th>\n",
              "    </tr>\n",
              "  </thead>\n",
              "  <tbody>\n",
              "    <tr>\n",
              "      <th>0</th>\n",
              "      <td>1995</td>\n",
              "      <td>MEDINA</td>\n",
              "      <td>106</td>\n",
              "      <td>0</td>\n",
              "    </tr>\n",
              "    <tr>\n",
              "      <th>1</th>\n",
              "      <td>1995</td>\n",
              "      <td>FULMER VALLEY</td>\n",
              "      <td>0</td>\n",
              "      <td>0</td>\n",
              "    </tr>\n",
              "    <tr>\n",
              "      <th>2</th>\n",
              "      <td>1994</td>\n",
              "      <td>BRADFORD</td>\n",
              "      <td>0</td>\n",
              "      <td>0</td>\n",
              "    </tr>\n",
              "    <tr>\n",
              "      <th>3</th>\n",
              "      <td>1994</td>\n",
              "      <td>MEDINA</td>\n",
              "      <td>530</td>\n",
              "      <td>0</td>\n",
              "    </tr>\n",
              "    <tr>\n",
              "      <th>4</th>\n",
              "      <td>1995</td>\n",
              "      <td>BRADFORD</td>\n",
              "      <td>0</td>\n",
              "      <td>0</td>\n",
              "    </tr>\n",
              "  </tbody>\n",
              "</table>\n",
              "</div>"
            ],
            "text/plain": [
              "   Production Year Producing Formation  Gas Produced, Mcf  Taxable Gas, Mcf\n",
              "0             1995              MEDINA                106                 0\n",
              "1             1995       FULMER VALLEY                  0                 0\n",
              "2             1994            BRADFORD                  0                 0\n",
              "3             1994              MEDINA                530                 0\n",
              "4             1995            BRADFORD                  0                 0"
            ]
          },
          "metadata": {},
          "execution_count": 46
        }
      ]
    },
    {
      "cell_type": "markdown",
      "metadata": {
        "id": "BoBopg-4PBIM"
      },
      "source": [
        "####To calculate percentage, we have to remove all rows where the Gas Produced is 0, since we do not want an undefined value. "
      ]
    },
    {
      "cell_type": "code",
      "metadata": {
        "id": "dVAag0T_PSod",
        "colab": {
          "base_uri": "https://localhost:8080/",
          "height": 417
        },
        "outputId": "c5cb3a24-2474-4d08-827b-8bf60ed3359b"
      },
      "source": [
        "TG_df = TG_df.loc[TG_df['Gas Produced, Mcf'] > 0]\n",
        "TG_df"
      ],
      "execution_count": 47,
      "outputs": [
        {
          "output_type": "execute_result",
          "data": {
            "text/html": [
              "<div>\n",
              "<style scoped>\n",
              "    .dataframe tbody tr th:only-of-type {\n",
              "        vertical-align: middle;\n",
              "    }\n",
              "\n",
              "    .dataframe tbody tr th {\n",
              "        vertical-align: top;\n",
              "    }\n",
              "\n",
              "    .dataframe thead th {\n",
              "        text-align: right;\n",
              "    }\n",
              "</style>\n",
              "<table border=\"1\" class=\"dataframe\">\n",
              "  <thead>\n",
              "    <tr style=\"text-align: right;\">\n",
              "      <th></th>\n",
              "      <th>Production Year</th>\n",
              "      <th>Producing Formation</th>\n",
              "      <th>Gas Produced, Mcf</th>\n",
              "      <th>Taxable Gas, Mcf</th>\n",
              "    </tr>\n",
              "  </thead>\n",
              "  <tbody>\n",
              "    <tr>\n",
              "      <th>0</th>\n",
              "      <td>1995</td>\n",
              "      <td>MEDINA</td>\n",
              "      <td>106</td>\n",
              "      <td>0</td>\n",
              "    </tr>\n",
              "    <tr>\n",
              "      <th>3</th>\n",
              "      <td>1994</td>\n",
              "      <td>MEDINA</td>\n",
              "      <td>530</td>\n",
              "      <td>0</td>\n",
              "    </tr>\n",
              "    <tr>\n",
              "      <th>5</th>\n",
              "      <td>1995</td>\n",
              "      <td>MEDINA</td>\n",
              "      <td>27742</td>\n",
              "      <td>24177</td>\n",
              "    </tr>\n",
              "    <tr>\n",
              "      <th>6</th>\n",
              "      <td>1994</td>\n",
              "      <td>ONONDAGA-BASS ISLAND</td>\n",
              "      <td>1582</td>\n",
              "      <td>1439</td>\n",
              "    </tr>\n",
              "    <tr>\n",
              "      <th>7</th>\n",
              "      <td>1994</td>\n",
              "      <td>MEDINA</td>\n",
              "      <td>500</td>\n",
              "      <td>0</td>\n",
              "    </tr>\n",
              "    <tr>\n",
              "      <th>...</th>\n",
              "      <td>...</td>\n",
              "      <td>...</td>\n",
              "      <td>...</td>\n",
              "      <td>...</td>\n",
              "    </tr>\n",
              "    <tr>\n",
              "      <th>30043</th>\n",
              "      <td>1994</td>\n",
              "      <td>MEDINA</td>\n",
              "      <td>6745</td>\n",
              "      <td>6745</td>\n",
              "    </tr>\n",
              "    <tr>\n",
              "      <th>30047</th>\n",
              "      <td>1994</td>\n",
              "      <td>MEDINA</td>\n",
              "      <td>203147</td>\n",
              "      <td>203147</td>\n",
              "    </tr>\n",
              "    <tr>\n",
              "      <th>30048</th>\n",
              "      <td>1995</td>\n",
              "      <td>MEDINA</td>\n",
              "      <td>35272</td>\n",
              "      <td>24002</td>\n",
              "    </tr>\n",
              "    <tr>\n",
              "      <th>30051</th>\n",
              "      <td>1995</td>\n",
              "      <td>MEDINA</td>\n",
              "      <td>3370</td>\n",
              "      <td>3370</td>\n",
              "    </tr>\n",
              "    <tr>\n",
              "      <th>30052</th>\n",
              "      <td>1995</td>\n",
              "      <td>MEDINA</td>\n",
              "      <td>30615</td>\n",
              "      <td>30615</td>\n",
              "    </tr>\n",
              "  </tbody>\n",
              "</table>\n",
              "<p>17032 rows × 4 columns</p>\n",
              "</div>"
            ],
            "text/plain": [
              "       Production Year  ... Taxable Gas, Mcf\n",
              "0                 1995  ...                0\n",
              "3                 1994  ...                0\n",
              "5                 1995  ...            24177\n",
              "6                 1994  ...             1439\n",
              "7                 1994  ...                0\n",
              "...                ...  ...              ...\n",
              "30043             1994  ...             6745\n",
              "30047             1994  ...           203147\n",
              "30048             1995  ...            24002\n",
              "30051             1995  ...             3370\n",
              "30052             1995  ...            30615\n",
              "\n",
              "[17032 rows x 4 columns]"
            ]
          },
          "metadata": {},
          "execution_count": 47
        }
      ]
    },
    {
      "cell_type": "markdown",
      "metadata": {
        "id": "Og2XjKYgSSRY"
      },
      "source": [
        "####First, let's deal with the 1960s."
      ]
    },
    {
      "cell_type": "code",
      "metadata": {
        "id": "Anui2Wq0SUBt",
        "colab": {
          "base_uri": "https://localhost:8080/",
          "height": 417
        },
        "outputId": "820e069b-6500-4753-d1ba-b9df8f62438e"
      },
      "source": [
        "TG_1960s = TG_df.loc[TG_df['Production Year'] < 1970]\n",
        "TG_1960s = TG_1960s.sort_values(by='Production Year')\n",
        "TG_1960s"
      ],
      "execution_count": 48,
      "outputs": [
        {
          "output_type": "execute_result",
          "data": {
            "text/html": [
              "<div>\n",
              "<style scoped>\n",
              "    .dataframe tbody tr th:only-of-type {\n",
              "        vertical-align: middle;\n",
              "    }\n",
              "\n",
              "    .dataframe tbody tr th {\n",
              "        vertical-align: top;\n",
              "    }\n",
              "\n",
              "    .dataframe thead th {\n",
              "        text-align: right;\n",
              "    }\n",
              "</style>\n",
              "<table border=\"1\" class=\"dataframe\">\n",
              "  <thead>\n",
              "    <tr style=\"text-align: right;\">\n",
              "      <th></th>\n",
              "      <th>Production Year</th>\n",
              "      <th>Producing Formation</th>\n",
              "      <th>Gas Produced, Mcf</th>\n",
              "      <th>Taxable Gas, Mcf</th>\n",
              "    </tr>\n",
              "  </thead>\n",
              "  <tbody>\n",
              "    <tr>\n",
              "      <th>7945</th>\n",
              "      <td>1967</td>\n",
              "      <td>ONEIDA</td>\n",
              "      <td>1427</td>\n",
              "      <td>0</td>\n",
              "    </tr>\n",
              "    <tr>\n",
              "      <th>8522</th>\n",
              "      <td>1967</td>\n",
              "      <td>MEDINA</td>\n",
              "      <td>35317</td>\n",
              "      <td>35317</td>\n",
              "    </tr>\n",
              "    <tr>\n",
              "      <th>8517</th>\n",
              "      <td>1967</td>\n",
              "      <td>MEDINA</td>\n",
              "      <td>1138</td>\n",
              "      <td>1138</td>\n",
              "    </tr>\n",
              "    <tr>\n",
              "      <th>8506</th>\n",
              "      <td>1967</td>\n",
              "      <td>ORISKANY</td>\n",
              "      <td>8080</td>\n",
              "      <td>8080</td>\n",
              "    </tr>\n",
              "    <tr>\n",
              "      <th>8505</th>\n",
              "      <td>1967</td>\n",
              "      <td>MEDINA</td>\n",
              "      <td>5131</td>\n",
              "      <td>5131</td>\n",
              "    </tr>\n",
              "    <tr>\n",
              "      <th>...</th>\n",
              "      <td>...</td>\n",
              "      <td>...</td>\n",
              "      <td>...</td>\n",
              "      <td>...</td>\n",
              "    </tr>\n",
              "    <tr>\n",
              "      <th>8454</th>\n",
              "      <td>1969</td>\n",
              "      <td>MEDINA</td>\n",
              "      <td>15922</td>\n",
              "      <td>15922</td>\n",
              "    </tr>\n",
              "    <tr>\n",
              "      <th>8445</th>\n",
              "      <td>1969</td>\n",
              "      <td>MEDINA</td>\n",
              "      <td>232</td>\n",
              "      <td>0</td>\n",
              "    </tr>\n",
              "    <tr>\n",
              "      <th>8425</th>\n",
              "      <td>1969</td>\n",
              "      <td>MEDINA</td>\n",
              "      <td>7740</td>\n",
              "      <td>7740</td>\n",
              "    </tr>\n",
              "    <tr>\n",
              "      <th>8078</th>\n",
              "      <td>1969</td>\n",
              "      <td>MEDINA</td>\n",
              "      <td>13322</td>\n",
              "      <td>13322</td>\n",
              "    </tr>\n",
              "    <tr>\n",
              "      <th>8524</th>\n",
              "      <td>1969</td>\n",
              "      <td>MEDINA</td>\n",
              "      <td>20823</td>\n",
              "      <td>20823</td>\n",
              "    </tr>\n",
              "  </tbody>\n",
              "</table>\n",
              "<p>244 rows × 4 columns</p>\n",
              "</div>"
            ],
            "text/plain": [
              "      Production Year Producing Formation  Gas Produced, Mcf  Taxable Gas, Mcf\n",
              "7945             1967              ONEIDA               1427                 0\n",
              "8522             1967              MEDINA              35317             35317\n",
              "8517             1967              MEDINA               1138              1138\n",
              "8506             1967            ORISKANY               8080              8080\n",
              "8505             1967              MEDINA               5131              5131\n",
              "...               ...                 ...                ...               ...\n",
              "8454             1969              MEDINA              15922             15922\n",
              "8445             1969              MEDINA                232                 0\n",
              "8425             1969              MEDINA               7740              7740\n",
              "8078             1969              MEDINA              13322             13322\n",
              "8524             1969              MEDINA              20823             20823\n",
              "\n",
              "[244 rows x 4 columns]"
            ]
          },
          "metadata": {},
          "execution_count": 48
        }
      ]
    },
    {
      "cell_type": "markdown",
      "metadata": {
        "id": "ZgnqHXfgSoKC"
      },
      "source": [
        "####We will then group by Producing formation and disregard the 'Production Year' column. "
      ]
    },
    {
      "cell_type": "code",
      "metadata": {
        "id": "MVAXr0OOVOob",
        "colab": {
          "base_uri": "https://localhost:8080/",
          "height": 234
        },
        "outputId": "b04f82db-71f2-453d-abfe-865737ee07ce"
      },
      "source": [
        "TG_1960s = TG_1960s.groupby('Producing Formation').sum()\n",
        "TG_1960s = TG_1960s[[ 'Gas Produced, Mcf', 'Taxable Gas, Mcf']]\n",
        "TG_1960s.head()"
      ],
      "execution_count": 49,
      "outputs": [
        {
          "output_type": "execute_result",
          "data": {
            "text/html": [
              "<div>\n",
              "<style scoped>\n",
              "    .dataframe tbody tr th:only-of-type {\n",
              "        vertical-align: middle;\n",
              "    }\n",
              "\n",
              "    .dataframe tbody tr th {\n",
              "        vertical-align: top;\n",
              "    }\n",
              "\n",
              "    .dataframe thead th {\n",
              "        text-align: right;\n",
              "    }\n",
              "</style>\n",
              "<table border=\"1\" class=\"dataframe\">\n",
              "  <thead>\n",
              "    <tr style=\"text-align: right;\">\n",
              "      <th></th>\n",
              "      <th>Gas Produced, Mcf</th>\n",
              "      <th>Taxable Gas, Mcf</th>\n",
              "    </tr>\n",
              "    <tr>\n",
              "      <th>Producing Formation</th>\n",
              "      <th></th>\n",
              "      <th></th>\n",
              "    </tr>\n",
              "  </thead>\n",
              "  <tbody>\n",
              "    <tr>\n",
              "      <th>AKRON</th>\n",
              "      <td>199018</td>\n",
              "      <td>199018</td>\n",
              "    </tr>\n",
              "    <tr>\n",
              "      <th>BRADFORD</th>\n",
              "      <td>47386</td>\n",
              "      <td>21831</td>\n",
              "    </tr>\n",
              "    <tr>\n",
              "      <th>CHEMUNG</th>\n",
              "      <td>164446</td>\n",
              "      <td>164446</td>\n",
              "    </tr>\n",
              "    <tr>\n",
              "      <th>FULMER VALLEY</th>\n",
              "      <td>210670</td>\n",
              "      <td>24420</td>\n",
              "    </tr>\n",
              "    <tr>\n",
              "      <th>GLADE</th>\n",
              "      <td>440</td>\n",
              "      <td>0</td>\n",
              "    </tr>\n",
              "  </tbody>\n",
              "</table>\n",
              "</div>"
            ],
            "text/plain": [
              "                     Gas Produced, Mcf  Taxable Gas, Mcf\n",
              "Producing Formation                                     \n",
              "AKRON                           199018            199018\n",
              "BRADFORD                         47386             21831\n",
              "CHEMUNG                         164446            164446\n",
              "FULMER VALLEY                   210670             24420\n",
              "GLADE                              440                 0"
            ]
          },
          "metadata": {},
          "execution_count": 49
        }
      ]
    },
    {
      "cell_type": "markdown",
      "metadata": {
        "id": "PbNSPJaQNOih"
      },
      "source": [
        "####We then have to create a new column called 'Percentage of Taxable Gas'. "
      ]
    },
    {
      "cell_type": "code",
      "metadata": {
        "id": "LSI-lS7iI0W0",
        "colab": {
          "base_uri": "https://localhost:8080/",
          "height": 234
        },
        "outputId": "a7e32da8-220b-4efa-e6cd-fe892201cfaa"
      },
      "source": [
        "TG_1960s['Percentage of Taxable Gas'] = (TG_1960s['Taxable Gas, Mcf']/TG_1960s['Gas Produced, Mcf'] )*100\n",
        "TG_1960s = TG_1960s.round(2)\n",
        "TG_1960s.head()"
      ],
      "execution_count": 50,
      "outputs": [
        {
          "output_type": "execute_result",
          "data": {
            "text/html": [
              "<div>\n",
              "<style scoped>\n",
              "    .dataframe tbody tr th:only-of-type {\n",
              "        vertical-align: middle;\n",
              "    }\n",
              "\n",
              "    .dataframe tbody tr th {\n",
              "        vertical-align: top;\n",
              "    }\n",
              "\n",
              "    .dataframe thead th {\n",
              "        text-align: right;\n",
              "    }\n",
              "</style>\n",
              "<table border=\"1\" class=\"dataframe\">\n",
              "  <thead>\n",
              "    <tr style=\"text-align: right;\">\n",
              "      <th></th>\n",
              "      <th>Gas Produced, Mcf</th>\n",
              "      <th>Taxable Gas, Mcf</th>\n",
              "      <th>Percentage of Taxable Gas</th>\n",
              "    </tr>\n",
              "    <tr>\n",
              "      <th>Producing Formation</th>\n",
              "      <th></th>\n",
              "      <th></th>\n",
              "      <th></th>\n",
              "    </tr>\n",
              "  </thead>\n",
              "  <tbody>\n",
              "    <tr>\n",
              "      <th>AKRON</th>\n",
              "      <td>199018</td>\n",
              "      <td>199018</td>\n",
              "      <td>100.00</td>\n",
              "    </tr>\n",
              "    <tr>\n",
              "      <th>BRADFORD</th>\n",
              "      <td>47386</td>\n",
              "      <td>21831</td>\n",
              "      <td>46.07</td>\n",
              "    </tr>\n",
              "    <tr>\n",
              "      <th>CHEMUNG</th>\n",
              "      <td>164446</td>\n",
              "      <td>164446</td>\n",
              "      <td>100.00</td>\n",
              "    </tr>\n",
              "    <tr>\n",
              "      <th>FULMER VALLEY</th>\n",
              "      <td>210670</td>\n",
              "      <td>24420</td>\n",
              "      <td>11.59</td>\n",
              "    </tr>\n",
              "    <tr>\n",
              "      <th>GLADE</th>\n",
              "      <td>440</td>\n",
              "      <td>0</td>\n",
              "      <td>0.00</td>\n",
              "    </tr>\n",
              "  </tbody>\n",
              "</table>\n",
              "</div>"
            ],
            "text/plain": [
              "                     Gas Produced, Mcf  ...  Percentage of Taxable Gas\n",
              "Producing Formation                     ...                           \n",
              "AKRON                           199018  ...                     100.00\n",
              "BRADFORD                         47386  ...                      46.07\n",
              "CHEMUNG                         164446  ...                     100.00\n",
              "FULMER VALLEY                   210670  ...                      11.59\n",
              "GLADE                              440  ...                       0.00\n",
              "\n",
              "[5 rows x 3 columns]"
            ]
          },
          "metadata": {},
          "execution_count": 50
        }
      ]
    },
    {
      "cell_type": "markdown",
      "metadata": {
        "id": "fR3pNA-mXv1b"
      },
      "source": [
        "####Let's represent the percentage of taxable gas of each producing formation in a bar graph and give the bar with highest percentage an orange color."
      ]
    },
    {
      "cell_type": "code",
      "metadata": {
        "id": "tSEt54mRYzH_",
        "colab": {
          "base_uri": "https://localhost:8080/",
          "height": 203
        },
        "outputId": "ac13b7c8-2bc9-4e2d-bd13-ca581c6abc36"
      },
      "source": [
        "TG_1960s = TG_1960s['Percentage of Taxable Gas']\n",
        "TG_1960s = TG_1960s.reset_index()\n",
        "TG_1960s.head()"
      ],
      "execution_count": 51,
      "outputs": [
        {
          "output_type": "execute_result",
          "data": {
            "text/html": [
              "<div>\n",
              "<style scoped>\n",
              "    .dataframe tbody tr th:only-of-type {\n",
              "        vertical-align: middle;\n",
              "    }\n",
              "\n",
              "    .dataframe tbody tr th {\n",
              "        vertical-align: top;\n",
              "    }\n",
              "\n",
              "    .dataframe thead th {\n",
              "        text-align: right;\n",
              "    }\n",
              "</style>\n",
              "<table border=\"1\" class=\"dataframe\">\n",
              "  <thead>\n",
              "    <tr style=\"text-align: right;\">\n",
              "      <th></th>\n",
              "      <th>Producing Formation</th>\n",
              "      <th>Percentage of Taxable Gas</th>\n",
              "    </tr>\n",
              "  </thead>\n",
              "  <tbody>\n",
              "    <tr>\n",
              "      <th>0</th>\n",
              "      <td>AKRON</td>\n",
              "      <td>100.00</td>\n",
              "    </tr>\n",
              "    <tr>\n",
              "      <th>1</th>\n",
              "      <td>BRADFORD</td>\n",
              "      <td>46.07</td>\n",
              "    </tr>\n",
              "    <tr>\n",
              "      <th>2</th>\n",
              "      <td>CHEMUNG</td>\n",
              "      <td>100.00</td>\n",
              "    </tr>\n",
              "    <tr>\n",
              "      <th>3</th>\n",
              "      <td>FULMER VALLEY</td>\n",
              "      <td>11.59</td>\n",
              "    </tr>\n",
              "    <tr>\n",
              "      <th>4</th>\n",
              "      <td>GLADE</td>\n",
              "      <td>0.00</td>\n",
              "    </tr>\n",
              "  </tbody>\n",
              "</table>\n",
              "</div>"
            ],
            "text/plain": [
              "  Producing Formation  Percentage of Taxable Gas\n",
              "0               AKRON                     100.00\n",
              "1            BRADFORD                      46.07\n",
              "2             CHEMUNG                     100.00\n",
              "3       FULMER VALLEY                      11.59\n",
              "4               GLADE                       0.00"
            ]
          },
          "metadata": {},
          "execution_count": 51
        }
      ]
    },
    {
      "cell_type": "code",
      "metadata": {
        "id": "J06Qq6-8KpPI",
        "colab": {
          "base_uri": "https://localhost:8080/",
          "height": 453
        },
        "outputId": "ae360421-18dd-49d7-8ccb-db8d21fe187b"
      },
      "source": [
        "Chart(TG_1960s).mark_bar().encode(x='Producing Formation:O', y='Percentage of Taxable Gas', \n",
        "                                  color=alt.condition(\n",
        "                                  alt.datum['Percentage of Taxable Gas'] == TG_1960s['Percentage of Taxable Gas'].max(),  \n",
        "                                  alt.value('orange'),   \n",
        "                                  alt.value('steelblue')   \n",
        "                                                     )).properties(width=600)\n"
      ],
      "execution_count": 52,
      "outputs": [
        {
          "output_type": "execute_result",
          "data": {
            "text/plain": [
              "alt.Chart(...)"
            ],
            "text/html": [
              "\n",
              "<div id=\"altair-viz-cf684ef9536248608afd6b6ca525d940\"></div>\n",
              "<script type=\"text/javascript\">\n",
              "  (function(spec, embedOpt){\n",
              "    let outputDiv = document.currentScript.previousElementSibling;\n",
              "    if (outputDiv.id !== \"altair-viz-cf684ef9536248608afd6b6ca525d940\") {\n",
              "      outputDiv = document.getElementById(\"altair-viz-cf684ef9536248608afd6b6ca525d940\");\n",
              "    }\n",
              "    const paths = {\n",
              "      \"vega\": \"https://cdn.jsdelivr.net/npm//vega@5?noext\",\n",
              "      \"vega-lib\": \"https://cdn.jsdelivr.net/npm//vega-lib?noext\",\n",
              "      \"vega-lite\": \"https://cdn.jsdelivr.net/npm//vega-lite@4.8.1?noext\",\n",
              "      \"vega-embed\": \"https://cdn.jsdelivr.net/npm//vega-embed@6?noext\",\n",
              "    };\n",
              "\n",
              "    function loadScript(lib) {\n",
              "      return new Promise(function(resolve, reject) {\n",
              "        var s = document.createElement('script');\n",
              "        s.src = paths[lib];\n",
              "        s.async = true;\n",
              "        s.onload = () => resolve(paths[lib]);\n",
              "        s.onerror = () => reject(`Error loading script: ${paths[lib]}`);\n",
              "        document.getElementsByTagName(\"head\")[0].appendChild(s);\n",
              "      });\n",
              "    }\n",
              "\n",
              "    function showError(err) {\n",
              "      outputDiv.innerHTML = `<div class=\"error\" style=\"color:red;\">${err}</div>`;\n",
              "      throw err;\n",
              "    }\n",
              "\n",
              "    function displayChart(vegaEmbed) {\n",
              "      vegaEmbed(outputDiv, spec, embedOpt)\n",
              "        .catch(err => showError(`Javascript Error: ${err.message}<br>This usually means there's a typo in your chart specification. See the javascript console for the full traceback.`));\n",
              "    }\n",
              "\n",
              "    if(typeof define === \"function\" && define.amd) {\n",
              "      requirejs.config({paths});\n",
              "      require([\"vega-embed\"], displayChart, err => showError(`Error loading script: ${err.message}`));\n",
              "    } else if (typeof vegaEmbed === \"function\") {\n",
              "      displayChart(vegaEmbed);\n",
              "    } else {\n",
              "      loadScript(\"vega\")\n",
              "        .then(() => loadScript(\"vega-lite\"))\n",
              "        .then(() => loadScript(\"vega-embed\"))\n",
              "        .catch(showError)\n",
              "        .then(() => displayChart(vegaEmbed));\n",
              "    }\n",
              "  })({\"config\": {\"view\": {\"continuousWidth\": 400, \"continuousHeight\": 300}}, \"data\": {\"name\": \"data-460a56cee6cedbbcd0cc1723653a3846\"}, \"mark\": \"bar\", \"encoding\": {\"color\": {\"condition\": {\"value\": \"orange\", \"test\": \"(datum['Percentage of Taxable Gas'] === 100.0)\"}, \"value\": \"steelblue\"}, \"x\": {\"type\": \"ordinal\", \"field\": \"Producing Formation\"}, \"y\": {\"type\": \"quantitative\", \"field\": \"Percentage of Taxable Gas\"}}, \"width\": 600, \"$schema\": \"https://vega.github.io/schema/vega-lite/v4.8.1.json\", \"datasets\": {\"data-460a56cee6cedbbcd0cc1723653a3846\": [{\"Producing Formation\": \"AKRON\", \"Percentage of Taxable Gas\": 100.0}, {\"Producing Formation\": \"BRADFORD\", \"Percentage of Taxable Gas\": 46.07}, {\"Producing Formation\": \"CHEMUNG\", \"Percentage of Taxable Gas\": 100.0}, {\"Producing Formation\": \"FULMER VALLEY\", \"Percentage of Taxable Gas\": 11.59}, {\"Producing Formation\": \"GLADE\", \"Percentage of Taxable Gas\": 0.0}, {\"Producing Formation\": \"HAMILTON\", \"Percentage of Taxable Gas\": 100.0}, {\"Producing Formation\": \"HERKIMER-ONEIDA\", \"Percentage of Taxable Gas\": 65.05}, {\"Producing Formation\": \"MARCELLUS\", \"Percentage of Taxable Gas\": 100.0}, {\"Producing Formation\": \"MEDINA\", \"Percentage of Taxable Gas\": 94.35}, {\"Producing Formation\": \"ONEIDA\", \"Percentage of Taxable Gas\": 0.0}, {\"Producing Formation\": \"ORISKANY\", \"Percentage of Taxable Gas\": 99.07}, {\"Producing Formation\": \"QUEENSTON\", \"Percentage of Taxable Gas\": 99.04}, {\"Producing Formation\": \"RICHBURG\", \"Percentage of Taxable Gas\": 0.39}, {\"Producing Formation\": \"THERESA\", \"Percentage of Taxable Gas\": 100.0}]}}, {\"mode\": \"vega-lite\"});\n",
              "</script>"
            ]
          },
          "metadata": {},
          "execution_count": 52
        }
      ]
    },
    {
      "cell_type": "markdown",
      "metadata": {
        "id": "8OBuZwLKaw64"
      },
      "source": [
        "####From the bar graph above, we can conclude that Akron, Chemung, Clinton, Hamilton, Marcellus, and Theresa produce the highest percentage of taxable gases in the 1960s"
      ]
    },
    {
      "cell_type": "markdown",
      "metadata": {
        "id": "JBWfA1PxbJGT"
      },
      "source": [
        "####Let's repeat all steps for the 1970s. "
      ]
    },
    {
      "cell_type": "code",
      "metadata": {
        "id": "Rh8qMsJyZR25",
        "colab": {
          "base_uri": "https://localhost:8080/",
          "height": 203
        },
        "outputId": "deb17823-8350-4094-c7ed-1c3436e4585e"
      },
      "source": [
        "TG_1970s = TG_df.loc[TG_df['Production Year'] < 1980]\n",
        "TG_1970s = TG_1970s.groupby('Producing Formation').sum()\n",
        "TG_1970s = TG_1970s[[ 'Gas Produced, Mcf', 'Taxable Gas, Mcf']]\n",
        "TG_1970s['Percentage of Taxable Gas'] = (TG_1970s['Taxable Gas, Mcf']/TG_1970s['Gas Produced, Mcf'] )*100\n",
        "TG_1970s = TG_1970s.round(2)\n",
        "TG_1970s = TG_1970s['Percentage of Taxable Gas']\n",
        "TG_1970s = TG_1970s.reset_index()\n",
        "TG_1970s.head()"
      ],
      "execution_count": 53,
      "outputs": [
        {
          "output_type": "execute_result",
          "data": {
            "text/html": [
              "<div>\n",
              "<style scoped>\n",
              "    .dataframe tbody tr th:only-of-type {\n",
              "        vertical-align: middle;\n",
              "    }\n",
              "\n",
              "    .dataframe tbody tr th {\n",
              "        vertical-align: top;\n",
              "    }\n",
              "\n",
              "    .dataframe thead th {\n",
              "        text-align: right;\n",
              "    }\n",
              "</style>\n",
              "<table border=\"1\" class=\"dataframe\">\n",
              "  <thead>\n",
              "    <tr style=\"text-align: right;\">\n",
              "      <th></th>\n",
              "      <th>Producing Formation</th>\n",
              "      <th>Percentage of Taxable Gas</th>\n",
              "    </tr>\n",
              "  </thead>\n",
              "  <tbody>\n",
              "    <tr>\n",
              "      <th>0</th>\n",
              "      <td>AKRON</td>\n",
              "      <td>60.87</td>\n",
              "    </tr>\n",
              "    <tr>\n",
              "      <th>1</th>\n",
              "      <td>BRADFORD</td>\n",
              "      <td>74.85</td>\n",
              "    </tr>\n",
              "    <tr>\n",
              "      <th>2</th>\n",
              "      <td>BRADFORD THIRD</td>\n",
              "      <td>0.00</td>\n",
              "    </tr>\n",
              "    <tr>\n",
              "      <th>3</th>\n",
              "      <td>CHEMUNG</td>\n",
              "      <td>74.68</td>\n",
              "    </tr>\n",
              "    <tr>\n",
              "      <th>4</th>\n",
              "      <td>CHIPMUNK</td>\n",
              "      <td>43.63</td>\n",
              "    </tr>\n",
              "  </tbody>\n",
              "</table>\n",
              "</div>"
            ],
            "text/plain": [
              "  Producing Formation  Percentage of Taxable Gas\n",
              "0               AKRON                      60.87\n",
              "1            BRADFORD                      74.85\n",
              "2      BRADFORD THIRD                       0.00\n",
              "3             CHEMUNG                      74.68\n",
              "4            CHIPMUNK                      43.63"
            ]
          },
          "metadata": {},
          "execution_count": 53
        }
      ]
    },
    {
      "cell_type": "code",
      "metadata": {
        "id": "oh_Kf9cwbH6q",
        "colab": {
          "base_uri": "https://localhost:8080/",
          "height": 486
        },
        "outputId": "3c671f0f-e2f3-4201-ff26-148eb5ab22ce"
      },
      "source": [
        "Chart(TG_1970s).mark_bar().encode(x='Producing Formation:O', y='Percentage of Taxable Gas', \n",
        "                                  color=alt.condition(\n",
        "                                  alt.datum['Percentage of Taxable Gas'] == TG_1970s['Percentage of Taxable Gas'].max(),  \n",
        "                                  alt.value('orange'),   \n",
        "                                  alt.value('steelblue')   \n",
        "                                                     )).properties(width=800)"
      ],
      "execution_count": 54,
      "outputs": [
        {
          "output_type": "execute_result",
          "data": {
            "text/plain": [
              "alt.Chart(...)"
            ],
            "text/html": [
              "\n",
              "<div id=\"altair-viz-b1691466d675424b8c3321beb4570d5c\"></div>\n",
              "<script type=\"text/javascript\">\n",
              "  (function(spec, embedOpt){\n",
              "    let outputDiv = document.currentScript.previousElementSibling;\n",
              "    if (outputDiv.id !== \"altair-viz-b1691466d675424b8c3321beb4570d5c\") {\n",
              "      outputDiv = document.getElementById(\"altair-viz-b1691466d675424b8c3321beb4570d5c\");\n",
              "    }\n",
              "    const paths = {\n",
              "      \"vega\": \"https://cdn.jsdelivr.net/npm//vega@5?noext\",\n",
              "      \"vega-lib\": \"https://cdn.jsdelivr.net/npm//vega-lib?noext\",\n",
              "      \"vega-lite\": \"https://cdn.jsdelivr.net/npm//vega-lite@4.8.1?noext\",\n",
              "      \"vega-embed\": \"https://cdn.jsdelivr.net/npm//vega-embed@6?noext\",\n",
              "    };\n",
              "\n",
              "    function loadScript(lib) {\n",
              "      return new Promise(function(resolve, reject) {\n",
              "        var s = document.createElement('script');\n",
              "        s.src = paths[lib];\n",
              "        s.async = true;\n",
              "        s.onload = () => resolve(paths[lib]);\n",
              "        s.onerror = () => reject(`Error loading script: ${paths[lib]}`);\n",
              "        document.getElementsByTagName(\"head\")[0].appendChild(s);\n",
              "      });\n",
              "    }\n",
              "\n",
              "    function showError(err) {\n",
              "      outputDiv.innerHTML = `<div class=\"error\" style=\"color:red;\">${err}</div>`;\n",
              "      throw err;\n",
              "    }\n",
              "\n",
              "    function displayChart(vegaEmbed) {\n",
              "      vegaEmbed(outputDiv, spec, embedOpt)\n",
              "        .catch(err => showError(`Javascript Error: ${err.message}<br>This usually means there's a typo in your chart specification. See the javascript console for the full traceback.`));\n",
              "    }\n",
              "\n",
              "    if(typeof define === \"function\" && define.amd) {\n",
              "      requirejs.config({paths});\n",
              "      require([\"vega-embed\"], displayChart, err => showError(`Error loading script: ${err.message}`));\n",
              "    } else if (typeof vegaEmbed === \"function\") {\n",
              "      displayChart(vegaEmbed);\n",
              "    } else {\n",
              "      loadScript(\"vega\")\n",
              "        .then(() => loadScript(\"vega-lite\"))\n",
              "        .then(() => loadScript(\"vega-embed\"))\n",
              "        .catch(showError)\n",
              "        .then(() => displayChart(vegaEmbed));\n",
              "    }\n",
              "  })({\"config\": {\"view\": {\"continuousWidth\": 400, \"continuousHeight\": 300}}, \"data\": {\"name\": \"data-cffbbea115d7c7c3ac7eb226d7379a59\"}, \"mark\": \"bar\", \"encoding\": {\"color\": {\"condition\": {\"value\": \"orange\", \"test\": \"(datum['Percentage of Taxable Gas'] === 100.0)\"}, \"value\": \"steelblue\"}, \"x\": {\"type\": \"ordinal\", \"field\": \"Producing Formation\"}, \"y\": {\"type\": \"quantitative\", \"field\": \"Percentage of Taxable Gas\"}}, \"width\": 800, \"$schema\": \"https://vega.github.io/schema/vega-lite/v4.8.1.json\", \"datasets\": {\"data-cffbbea115d7c7c3ac7eb226d7379a59\": [{\"Producing Formation\": \"AKRON\", \"Percentage of Taxable Gas\": 60.87}, {\"Producing Formation\": \"BRADFORD\", \"Percentage of Taxable Gas\": 74.85}, {\"Producing Formation\": \"BRADFORD THIRD\", \"Percentage of Taxable Gas\": 0.0}, {\"Producing Formation\": \"CHEMUNG\", \"Percentage of Taxable Gas\": 74.68}, {\"Producing Formation\": \"CHIPMUNK\", \"Percentage of Taxable Gas\": 43.63}, {\"Producing Formation\": \"DEVONIAN SHALE\", \"Percentage of Taxable Gas\": 55.39}, {\"Producing Formation\": \"FULMER VALLEY\", \"Percentage of Taxable Gas\": 55.81}, {\"Producing Formation\": \"GLADE\", \"Percentage of Taxable Gas\": 86.78}, {\"Producing Formation\": \"HAMILTON\", \"Percentage of Taxable Gas\": 100.0}, {\"Producing Formation\": \"HERKIMER\", \"Percentage of Taxable Gas\": 100.0}, {\"Producing Formation\": \"HERKIMER-ONEIDA\", \"Percentage of Taxable Gas\": 85.62}, {\"Producing Formation\": \"MARCELLUS\", \"Percentage of Taxable Gas\": 75.65}, {\"Producing Formation\": \"MEDINA\", \"Percentage of Taxable Gas\": 87.14}, {\"Producing Formation\": \"ONEIDA\", \"Percentage of Taxable Gas\": 0.0}, {\"Producing Formation\": \"ONONDAGA\", \"Percentage of Taxable Gas\": 99.23}, {\"Producing Formation\": \"ONONDAGA-ORISKANY\", \"Percentage of Taxable Gas\": 100.0}, {\"Producing Formation\": \"ORISKANY\", \"Percentage of Taxable Gas\": 92.29}, {\"Producing Formation\": \"PENNY & FULMER VALLEY\", \"Percentage of Taxable Gas\": 8.5}, {\"Producing Formation\": \"QUEENSTON\", \"Percentage of Taxable Gas\": 99.69}, {\"Producing Formation\": \"RICHBURG\", \"Percentage of Taxable Gas\": 24.45}, {\"Producing Formation\": \"THERESA\", \"Percentage of Taxable Gas\": 100.0}, {\"Producing Formation\": \"TRENTON\", \"Percentage of Taxable Gas\": 100.0}, {\"Producing Formation\": \"UPPER DEVONIAN\", \"Percentage of Taxable Gas\": 0.0}, {\"Producing Formation\": \"WAUGH & PORTER\", \"Percentage of Taxable Gas\": 0.1}]}}, {\"mode\": \"vega-lite\"});\n",
              "</script>"
            ]
          },
          "metadata": {},
          "execution_count": 54
        }
      ]
    },
    {
      "cell_type": "markdown",
      "metadata": {
        "id": "kRotT3XgcFDz"
      },
      "source": [
        "####From the bar graph above, we can conclude that Clinton, Hamilton, Herkimer, Onondagaoriskany, Theresa and Trenton produce the highest percentage of taxable gases in the 1970s. "
      ]
    },
    {
      "cell_type": "markdown",
      "metadata": {
        "id": "K3szVhOcccWO"
      },
      "source": [
        "####Let's repeat all steps for the 1980s. "
      ]
    },
    {
      "cell_type": "code",
      "metadata": {
        "id": "bn-wrCnibvrv",
        "colab": {
          "base_uri": "https://localhost:8080/",
          "height": 203
        },
        "outputId": "4361b70d-3f4f-4e8e-8344-d37495dd6564"
      },
      "source": [
        "TG_1980s = TG_df.loc[TG_df['Production Year'] < 1990]\n",
        "TG_1980s = TG_1980s.groupby('Producing Formation').sum()\n",
        "TG_1980s = TG_1980s[[ 'Gas Produced, Mcf', 'Taxable Gas, Mcf']]\n",
        "TG_1980s['Percentage of Taxable Gas'] = (TG_1980s['Taxable Gas, Mcf']/TG_1980s['Gas Produced, Mcf'] )*100\n",
        "TG_1980s = TG_1980s.round(2)\n",
        "TG_1980s = TG_1980s['Percentage of Taxable Gas']\n",
        "TG_1980s = TG_1980s.reset_index()\n",
        "TG_1980s.head()"
      ],
      "execution_count": 55,
      "outputs": [
        {
          "output_type": "execute_result",
          "data": {
            "text/html": [
              "<div>\n",
              "<style scoped>\n",
              "    .dataframe tbody tr th:only-of-type {\n",
              "        vertical-align: middle;\n",
              "    }\n",
              "\n",
              "    .dataframe tbody tr th {\n",
              "        vertical-align: top;\n",
              "    }\n",
              "\n",
              "    .dataframe thead th {\n",
              "        text-align: right;\n",
              "    }\n",
              "</style>\n",
              "<table border=\"1\" class=\"dataframe\">\n",
              "  <thead>\n",
              "    <tr style=\"text-align: right;\">\n",
              "      <th></th>\n",
              "      <th>Producing Formation</th>\n",
              "      <th>Percentage of Taxable Gas</th>\n",
              "    </tr>\n",
              "  </thead>\n",
              "  <tbody>\n",
              "    <tr>\n",
              "      <th>0</th>\n",
              "      <td>AKRON</td>\n",
              "      <td>32.75</td>\n",
              "    </tr>\n",
              "    <tr>\n",
              "      <th>1</th>\n",
              "      <td>BASS ISLAND</td>\n",
              "      <td>0.00</td>\n",
              "    </tr>\n",
              "    <tr>\n",
              "      <th>2</th>\n",
              "      <td>BASS ISLAND/MEDINA</td>\n",
              "      <td>0.00</td>\n",
              "    </tr>\n",
              "    <tr>\n",
              "      <th>3</th>\n",
              "      <td>BLACK RIVER</td>\n",
              "      <td>0.00</td>\n",
              "    </tr>\n",
              "    <tr>\n",
              "      <th>4</th>\n",
              "      <td>BRADFORD</td>\n",
              "      <td>57.83</td>\n",
              "    </tr>\n",
              "  </tbody>\n",
              "</table>\n",
              "</div>"
            ],
            "text/plain": [
              "  Producing Formation  Percentage of Taxable Gas\n",
              "0               AKRON                      32.75\n",
              "1         BASS ISLAND                       0.00\n",
              "2  BASS ISLAND/MEDINA                       0.00\n",
              "3         BLACK RIVER                       0.00\n",
              "4            BRADFORD                      57.83"
            ]
          },
          "metadata": {},
          "execution_count": 55
        }
      ]
    },
    {
      "cell_type": "code",
      "metadata": {
        "id": "YemERqLrc0x6",
        "colab": {
          "base_uri": "https://localhost:8080/",
          "height": 486
        },
        "outputId": "1c5fc479-154c-49aa-fd71-218398c6dd3f"
      },
      "source": [
        "Chart(TG_1980s).mark_bar().encode(x='Producing Formation:O', y='Percentage of Taxable Gas', \n",
        "                                  color=alt.condition(\n",
        "                                  alt.datum['Percentage of Taxable Gas'] == TG_1980s['Percentage of Taxable Gas'].max(),  \n",
        "                                  alt.value('orange'),   \n",
        "                                  alt.value('steelblue')   \n",
        "                                                     )).properties(width=1000)"
      ],
      "execution_count": 56,
      "outputs": [
        {
          "output_type": "execute_result",
          "data": {
            "text/plain": [
              "alt.Chart(...)"
            ],
            "text/html": [
              "\n",
              "<div id=\"altair-viz-4b842cce7de44dc0a36effa22ba96fe2\"></div>\n",
              "<script type=\"text/javascript\">\n",
              "  (function(spec, embedOpt){\n",
              "    let outputDiv = document.currentScript.previousElementSibling;\n",
              "    if (outputDiv.id !== \"altair-viz-4b842cce7de44dc0a36effa22ba96fe2\") {\n",
              "      outputDiv = document.getElementById(\"altair-viz-4b842cce7de44dc0a36effa22ba96fe2\");\n",
              "    }\n",
              "    const paths = {\n",
              "      \"vega\": \"https://cdn.jsdelivr.net/npm//vega@5?noext\",\n",
              "      \"vega-lib\": \"https://cdn.jsdelivr.net/npm//vega-lib?noext\",\n",
              "      \"vega-lite\": \"https://cdn.jsdelivr.net/npm//vega-lite@4.8.1?noext\",\n",
              "      \"vega-embed\": \"https://cdn.jsdelivr.net/npm//vega-embed@6?noext\",\n",
              "    };\n",
              "\n",
              "    function loadScript(lib) {\n",
              "      return new Promise(function(resolve, reject) {\n",
              "        var s = document.createElement('script');\n",
              "        s.src = paths[lib];\n",
              "        s.async = true;\n",
              "        s.onload = () => resolve(paths[lib]);\n",
              "        s.onerror = () => reject(`Error loading script: ${paths[lib]}`);\n",
              "        document.getElementsByTagName(\"head\")[0].appendChild(s);\n",
              "      });\n",
              "    }\n",
              "\n",
              "    function showError(err) {\n",
              "      outputDiv.innerHTML = `<div class=\"error\" style=\"color:red;\">${err}</div>`;\n",
              "      throw err;\n",
              "    }\n",
              "\n",
              "    function displayChart(vegaEmbed) {\n",
              "      vegaEmbed(outputDiv, spec, embedOpt)\n",
              "        .catch(err => showError(`Javascript Error: ${err.message}<br>This usually means there's a typo in your chart specification. See the javascript console for the full traceback.`));\n",
              "    }\n",
              "\n",
              "    if(typeof define === \"function\" && define.amd) {\n",
              "      requirejs.config({paths});\n",
              "      require([\"vega-embed\"], displayChart, err => showError(`Error loading script: ${err.message}`));\n",
              "    } else if (typeof vegaEmbed === \"function\") {\n",
              "      displayChart(vegaEmbed);\n",
              "    } else {\n",
              "      loadScript(\"vega\")\n",
              "        .then(() => loadScript(\"vega-lite\"))\n",
              "        .then(() => loadScript(\"vega-embed\"))\n",
              "        .catch(showError)\n",
              "        .then(() => displayChart(vegaEmbed));\n",
              "    }\n",
              "  })({\"config\": {\"view\": {\"continuousWidth\": 400, \"continuousHeight\": 300}}, \"data\": {\"name\": \"data-82a4796f1bca6f0230dd5cc950a9cdbb\"}, \"mark\": \"bar\", \"encoding\": {\"color\": {\"condition\": {\"value\": \"orange\", \"test\": \"(datum['Percentage of Taxable Gas'] === 100.0)\"}, \"value\": \"steelblue\"}, \"x\": {\"type\": \"ordinal\", \"field\": \"Producing Formation\"}, \"y\": {\"type\": \"quantitative\", \"field\": \"Percentage of Taxable Gas\"}}, \"width\": 1000, \"$schema\": \"https://vega.github.io/schema/vega-lite/v4.8.1.json\", \"datasets\": {\"data-82a4796f1bca6f0230dd5cc950a9cdbb\": [{\"Producing Formation\": \"AKRON\", \"Percentage of Taxable Gas\": 32.75}, {\"Producing Formation\": \"BASS ISLAND\", \"Percentage of Taxable Gas\": 0.0}, {\"Producing Formation\": \"BASS ISLAND/MEDINA\", \"Percentage of Taxable Gas\": 0.0}, {\"Producing Formation\": \"BLACK RIVER\", \"Percentage of Taxable Gas\": 0.0}, {\"Producing Formation\": \"BRADFORD\", \"Percentage of Taxable Gas\": 57.83}, {\"Producing Formation\": \"BRADFORD THIRD\", \"Percentage of Taxable Gas\": 0.0}, {\"Producing Formation\": \"CHEMUNG\", \"Percentage of Taxable Gas\": 68.18}, {\"Producing Formation\": \"CHIPMUNK\", \"Percentage of Taxable Gas\": 39.24}, {\"Producing Formation\": \"CLARKSVILLE\", \"Percentage of Taxable Gas\": 0.0}, {\"Producing Formation\": \"CLINTON\", \"Percentage of Taxable Gas\": 0.0}, {\"Producing Formation\": \"DEVONIAN SHALE\", \"Percentage of Taxable Gas\": 25.77}, {\"Producing Formation\": \"FULMER VALLEY\", \"Percentage of Taxable Gas\": 29.52}, {\"Producing Formation\": \"GLADE\", \"Percentage of Taxable Gas\": 43.71}, {\"Producing Formation\": \"HAMILTON\", \"Percentage of Taxable Gas\": 82.05}, {\"Producing Formation\": \"HELDERBERG\", \"Percentage of Taxable Gas\": 0.0}, {\"Producing Formation\": \"HERKIMER\", \"Percentage of Taxable Gas\": 100.0}, {\"Producing Formation\": \"HERKIMER-ONEIDA\", \"Percentage of Taxable Gas\": 50.41}, {\"Producing Formation\": \"LOCKPORT\", \"Percentage of Taxable Gas\": 0.0}, {\"Producing Formation\": \"MARCELLUS\", \"Percentage of Taxable Gas\": 15.89}, {\"Producing Formation\": \"MEDINA\", \"Percentage of Taxable Gas\": 30.95}, {\"Producing Formation\": \"MEDINA-QUEENSTON\", \"Percentage of Taxable Gas\": 0.0}, {\"Producing Formation\": \"ONEIDA\", \"Percentage of Taxable Gas\": 0.0}, {\"Producing Formation\": \"ONONDAGA\", \"Percentage of Taxable Gas\": 59.59}, {\"Producing Formation\": \"ONONDAGA-BASS ISLAND\", \"Percentage of Taxable Gas\": 0.0}, {\"Producing Formation\": \"ONONDAGA-ORISKANY\", \"Percentage of Taxable Gas\": 99.98}, {\"Producing Formation\": \"ORISKANY\", \"Percentage of Taxable Gas\": 63.62}, {\"Producing Formation\": \"OSWEGO\", \"Percentage of Taxable Gas\": 0.0}, {\"Producing Formation\": \"PENNY\", \"Percentage of Taxable Gas\": 0.0}, {\"Producing Formation\": \"PENNY & FULMER VALLEY\", \"Percentage of Taxable Gas\": 2.39}, {\"Producing Formation\": \"QUEENSTON\", \"Percentage of Taxable Gas\": 15.69}, {\"Producing Formation\": \"RHINESTREET\", \"Percentage of Taxable Gas\": 13.38}, {\"Producing Formation\": \"RICHBURG\", \"Percentage of Taxable Gas\": 31.79}, {\"Producing Formation\": \"ROCHESTER SHALE\", \"Percentage of Taxable Gas\": 0.0}, {\"Producing Formation\": \"SALINA\", \"Percentage of Taxable Gas\": 0.0}, {\"Producing Formation\": \"SCIO\", \"Percentage of Taxable Gas\": 0.0}, {\"Producing Formation\": \"THERESA\", \"Percentage of Taxable Gas\": 100.0}, {\"Producing Formation\": \"TRENTON\", \"Percentage of Taxable Gas\": 71.67}, {\"Producing Formation\": \"UPPER DEVONIAN\", \"Percentage of Taxable Gas\": 0.0}, {\"Producing Formation\": \"UPPER DEVONIAN SHALE\", \"Percentage of Taxable Gas\": 0.0}, {\"Producing Formation\": \"WAUGH & PORTER\", \"Percentage of Taxable Gas\": 0.1}, {\"Producing Formation\": \"WHIRLPOOL\", \"Percentage of Taxable Gas\": 100.0}]}}, {\"mode\": \"vega-lite\"});\n",
              "</script>"
            ]
          },
          "metadata": {},
          "execution_count": 56
        }
      ]
    },
    {
      "cell_type": "markdown",
      "metadata": {
        "id": "Cb526cmVdE4U"
      },
      "source": [
        "####From the bar graph above, we can conclude that Theresa and Whirlpool produce the highest percentage of taxable gases in the 1980s. "
      ]
    },
    {
      "cell_type": "markdown",
      "metadata": {
        "id": "vOyZomy8dL02"
      },
      "source": [
        "####Let's repeat all steps for the 1990s. "
      ]
    },
    {
      "cell_type": "code",
      "metadata": {
        "id": "REGRDca5c6CY",
        "colab": {
          "base_uri": "https://localhost:8080/",
          "height": 203
        },
        "outputId": "45916889-b822-4a74-c0e9-0ee26e617e3f"
      },
      "source": [
        "TG_1990s = TG_df.loc[TG_df['Production Year'] < 2000]\n",
        "TG_1990s = TG_1990s.groupby('Producing Formation').sum()\n",
        "TG_1990s = TG_1990s[[ 'Gas Produced, Mcf', 'Taxable Gas, Mcf']]\n",
        "TG_1990s['Percentage of Taxable Gas'] = (TG_1990s['Taxable Gas, Mcf']/TG_1990s['Gas Produced, Mcf'] )*100\n",
        "TG_1990s = TG_1990s.round(2)\n",
        "TG_1990s = TG_1990s['Percentage of Taxable Gas']\n",
        "TG_1990s = TG_1990s.reset_index()\n",
        "TG_1990s.head()"
      ],
      "execution_count": 57,
      "outputs": [
        {
          "output_type": "execute_result",
          "data": {
            "text/html": [
              "<div>\n",
              "<style scoped>\n",
              "    .dataframe tbody tr th:only-of-type {\n",
              "        vertical-align: middle;\n",
              "    }\n",
              "\n",
              "    .dataframe tbody tr th {\n",
              "        vertical-align: top;\n",
              "    }\n",
              "\n",
              "    .dataframe thead th {\n",
              "        text-align: right;\n",
              "    }\n",
              "</style>\n",
              "<table border=\"1\" class=\"dataframe\">\n",
              "  <thead>\n",
              "    <tr style=\"text-align: right;\">\n",
              "      <th></th>\n",
              "      <th>Producing Formation</th>\n",
              "      <th>Percentage of Taxable Gas</th>\n",
              "    </tr>\n",
              "  </thead>\n",
              "  <tbody>\n",
              "    <tr>\n",
              "      <th>0</th>\n",
              "      <td>AKRON</td>\n",
              "      <td>42.05</td>\n",
              "    </tr>\n",
              "    <tr>\n",
              "      <th>1</th>\n",
              "      <td>BASS ISLAND</td>\n",
              "      <td>13.81</td>\n",
              "    </tr>\n",
              "    <tr>\n",
              "      <th>2</th>\n",
              "      <td>BASS ISLAND/MEDINA</td>\n",
              "      <td>0.00</td>\n",
              "    </tr>\n",
              "    <tr>\n",
              "      <th>3</th>\n",
              "      <td>BLACK RIVER</td>\n",
              "      <td>98.18</td>\n",
              "    </tr>\n",
              "    <tr>\n",
              "      <th>4</th>\n",
              "      <td>BRADFORD</td>\n",
              "      <td>54.31</td>\n",
              "    </tr>\n",
              "  </tbody>\n",
              "</table>\n",
              "</div>"
            ],
            "text/plain": [
              "  Producing Formation  Percentage of Taxable Gas\n",
              "0               AKRON                      42.05\n",
              "1         BASS ISLAND                      13.81\n",
              "2  BASS ISLAND/MEDINA                       0.00\n",
              "3         BLACK RIVER                      98.18\n",
              "4            BRADFORD                      54.31"
            ]
          },
          "metadata": {},
          "execution_count": 57
        }
      ]
    },
    {
      "cell_type": "code",
      "metadata": {
        "id": "Iu2spxEYdhL0",
        "colab": {
          "base_uri": "https://localhost:8080/",
          "height": 503
        },
        "outputId": "59aacc84-9a15-4e60-e804-c6207dbf1ba4"
      },
      "source": [
        "Chart(TG_1990s).mark_bar().encode(x='Producing Formation:O', y='Percentage of Taxable Gas', \n",
        "                                  color=alt.condition(\n",
        "                                  alt.datum['Percentage of Taxable Gas'] == TG_1990s['Percentage of Taxable Gas'].max(),  \n",
        "                                  alt.value('orange'),   \n",
        "                                  alt.value('steelblue')   \n",
        "                                                     )).properties(width=1200)"
      ],
      "execution_count": 58,
      "outputs": [
        {
          "output_type": "execute_result",
          "data": {
            "text/plain": [
              "alt.Chart(...)"
            ],
            "text/html": [
              "\n",
              "<div id=\"altair-viz-0468a6be1d4d448ca0e22acc9c46f4ea\"></div>\n",
              "<script type=\"text/javascript\">\n",
              "  (function(spec, embedOpt){\n",
              "    let outputDiv = document.currentScript.previousElementSibling;\n",
              "    if (outputDiv.id !== \"altair-viz-0468a6be1d4d448ca0e22acc9c46f4ea\") {\n",
              "      outputDiv = document.getElementById(\"altair-viz-0468a6be1d4d448ca0e22acc9c46f4ea\");\n",
              "    }\n",
              "    const paths = {\n",
              "      \"vega\": \"https://cdn.jsdelivr.net/npm//vega@5?noext\",\n",
              "      \"vega-lib\": \"https://cdn.jsdelivr.net/npm//vega-lib?noext\",\n",
              "      \"vega-lite\": \"https://cdn.jsdelivr.net/npm//vega-lite@4.8.1?noext\",\n",
              "      \"vega-embed\": \"https://cdn.jsdelivr.net/npm//vega-embed@6?noext\",\n",
              "    };\n",
              "\n",
              "    function loadScript(lib) {\n",
              "      return new Promise(function(resolve, reject) {\n",
              "        var s = document.createElement('script');\n",
              "        s.src = paths[lib];\n",
              "        s.async = true;\n",
              "        s.onload = () => resolve(paths[lib]);\n",
              "        s.onerror = () => reject(`Error loading script: ${paths[lib]}`);\n",
              "        document.getElementsByTagName(\"head\")[0].appendChild(s);\n",
              "      });\n",
              "    }\n",
              "\n",
              "    function showError(err) {\n",
              "      outputDiv.innerHTML = `<div class=\"error\" style=\"color:red;\">${err}</div>`;\n",
              "      throw err;\n",
              "    }\n",
              "\n",
              "    function displayChart(vegaEmbed) {\n",
              "      vegaEmbed(outputDiv, spec, embedOpt)\n",
              "        .catch(err => showError(`Javascript Error: ${err.message}<br>This usually means there's a typo in your chart specification. See the javascript console for the full traceback.`));\n",
              "    }\n",
              "\n",
              "    if(typeof define === \"function\" && define.amd) {\n",
              "      requirejs.config({paths});\n",
              "      require([\"vega-embed\"], displayChart, err => showError(`Error loading script: ${err.message}`));\n",
              "    } else if (typeof vegaEmbed === \"function\") {\n",
              "      displayChart(vegaEmbed);\n",
              "    } else {\n",
              "      loadScript(\"vega\")\n",
              "        .then(() => loadScript(\"vega-lite\"))\n",
              "        .then(() => loadScript(\"vega-embed\"))\n",
              "        .catch(showError)\n",
              "        .then(() => displayChart(vegaEmbed));\n",
              "    }\n",
              "  })({\"config\": {\"view\": {\"continuousWidth\": 400, \"continuousHeight\": 300}}, \"data\": {\"name\": \"data-1eaaedee10f12aca9dd220da5a2f8e76\"}, \"mark\": \"bar\", \"encoding\": {\"color\": {\"condition\": {\"value\": \"orange\", \"test\": \"(datum['Percentage of Taxable Gas'] === 100.0)\"}, \"value\": \"steelblue\"}, \"x\": {\"type\": \"ordinal\", \"field\": \"Producing Formation\"}, \"y\": {\"type\": \"quantitative\", \"field\": \"Percentage of Taxable Gas\"}}, \"width\": 1200, \"$schema\": \"https://vega.github.io/schema/vega-lite/v4.8.1.json\", \"datasets\": {\"data-1eaaedee10f12aca9dd220da5a2f8e76\": [{\"Producing Formation\": \"AKRON\", \"Percentage of Taxable Gas\": 42.05}, {\"Producing Formation\": \"BASS ISLAND\", \"Percentage of Taxable Gas\": 13.81}, {\"Producing Formation\": \"BASS ISLAND/MEDINA\", \"Percentage of Taxable Gas\": 0.0}, {\"Producing Formation\": \"BLACK RIVER\", \"Percentage of Taxable Gas\": 98.18}, {\"Producing Formation\": \"BRADFORD\", \"Percentage of Taxable Gas\": 54.31}, {\"Producing Formation\": \"BRADFORD SECOND\", \"Percentage of Taxable Gas\": 0.0}, {\"Producing Formation\": \"BRADFORD THIRD\", \"Percentage of Taxable Gas\": 0.0}, {\"Producing Formation\": \"CHEMUNG\", \"Percentage of Taxable Gas\": 68.18}, {\"Producing Formation\": \"CHIPMUNK\", \"Percentage of Taxable Gas\": 33.08}, {\"Producing Formation\": \"CHIPMUNK & BRADFORD 2ND\", \"Percentage of Taxable Gas\": 100.0}, {\"Producing Formation\": \"CLARKSVILLE\", \"Percentage of Taxable Gas\": 0.0}, {\"Producing Formation\": \"CLINTON\", \"Percentage of Taxable Gas\": 0.0}, {\"Producing Formation\": \"DEVONIAN SHALE\", \"Percentage of Taxable Gas\": 35.94}, {\"Producing Formation\": \"FULMER VALLEY\", \"Percentage of Taxable Gas\": 46.95}, {\"Producing Formation\": \"GLADE\", \"Percentage of Taxable Gas\": 51.47}, {\"Producing Formation\": \"HAMILTON\", \"Percentage of Taxable Gas\": 80.81}, {\"Producing Formation\": \"HELDERBERG\", \"Percentage of Taxable Gas\": 75.7}, {\"Producing Formation\": \"HERKIMER\", \"Percentage of Taxable Gas\": 99.76}, {\"Producing Formation\": \"HERKIMER-ONEIDA\", \"Percentage of Taxable Gas\": 58.62}, {\"Producing Formation\": \"LITTLE FALLS\", \"Percentage of Taxable Gas\": 100.0}, {\"Producing Formation\": \"LOCKPORT\", \"Percentage of Taxable Gas\": 0.0}, {\"Producing Formation\": \"MARCELLUS\", \"Percentage of Taxable Gas\": 16.19}, {\"Producing Formation\": \"MEDINA\", \"Percentage of Taxable Gas\": 46.03}, {\"Producing Formation\": \"MEDINA-QUEENSTON\", \"Percentage of Taxable Gas\": 22.76}, {\"Producing Formation\": \"NIAGARA\", \"Percentage of Taxable Gas\": 0.0}, {\"Producing Formation\": \"NONE SPECIFIED\", \"Percentage of Taxable Gas\": 100.0}, {\"Producing Formation\": \"ONEIDA\", \"Percentage of Taxable Gas\": 97.13}, {\"Producing Formation\": \"ONONDAGA\", \"Percentage of Taxable Gas\": 60.46}, {\"Producing Formation\": \"ONONDAGA-BASS ISLAND\", \"Percentage of Taxable Gas\": 22.14}, {\"Producing Formation\": \"ONONDAGA-ORISKANY\", \"Percentage of Taxable Gas\": 58.86}, {\"Producing Formation\": \"ORISKANY\", \"Percentage of Taxable Gas\": 70.64}, {\"Producing Formation\": \"OSWEGO\", \"Percentage of Taxable Gas\": 0.0}, {\"Producing Formation\": \"PENNY\", \"Percentage of Taxable Gas\": 1.29}, {\"Producing Formation\": \"PENNY & FULMER VALLEY\", \"Percentage of Taxable Gas\": 20.59}, {\"Producing Formation\": \"QUEENSTON\", \"Percentage of Taxable Gas\": 49.22}, {\"Producing Formation\": \"RHINESTREET\", \"Percentage of Taxable Gas\": 13.38}, {\"Producing Formation\": \"RICHBURG\", \"Percentage of Taxable Gas\": 32.61}, {\"Producing Formation\": \"ROCHESTER SHALE\", \"Percentage of Taxable Gas\": 44.84}, {\"Producing Formation\": \"SALINA\", \"Percentage of Taxable Gas\": 0.0}, {\"Producing Formation\": \"SCIO\", \"Percentage of Taxable Gas\": 0.0}, {\"Producing Formation\": \"SODUS SHALE\", \"Percentage of Taxable Gas\": 100.0}, {\"Producing Formation\": \"THERESA\", \"Percentage of Taxable Gas\": 60.82}, {\"Producing Formation\": \"TRENTON\", \"Percentage of Taxable Gas\": 56.45}, {\"Producing Formation\": \"TULLY\", \"Percentage of Taxable Gas\": 94.23}, {\"Producing Formation\": \"UPPER DEVONIAN\", \"Percentage of Taxable Gas\": 90.05}, {\"Producing Formation\": \"UPPER DEVONIAN SHALE\", \"Percentage of Taxable Gas\": 0.0}, {\"Producing Formation\": \"WAUGH & PORTER\", \"Percentage of Taxable Gas\": 0.1}, {\"Producing Formation\": \"WHIRLPOOL\", \"Percentage of Taxable Gas\": 97.37}]}}, {\"mode\": \"vega-lite\"});\n",
              "</script>"
            ]
          },
          "metadata": {},
          "execution_count": 58
        }
      ]
    },
    {
      "cell_type": "markdown",
      "metadata": {
        "id": "egRsf-fcdv52"
      },
      "source": [
        "####From the bar graph above, we can conclude that Chipmunk and Bradford 2nd, Littlefalls, NoneSpecified, Sodusshale produce the highest percentage of taxable gases in the 1990s. "
      ]
    },
    {
      "cell_type": "markdown",
      "metadata": {
        "id": "y4SYDhiCeTvU"
      },
      "source": [
        "####From the bar graphs above, we saw that there is no single producing formation which created the highest percentage of taxable gases throughout the years. However, we do see Theresa having mazimum production from the 1960s to the 1980s. "
      ]
    },
    {
      "cell_type": "markdown",
      "metadata": {
        "id": "1HUwxTkruD1b"
      },
      "source": [
        "\n",
        "\n",
        "---\n",
        "\n",
        "##**3) How has the water production changed throughout the decades? To which field has the highest water production shifted throughout the decades?**\n",
        "\n",
        "\n",
        "\n",
        "---\n",
        "\n",
        "\n",
        "\n"
      ]
    },
    {
      "cell_type": "markdown",
      "metadata": {
        "id": "ywUYspkztjy_"
      },
      "source": [
        "####First we create a new dataframe constituting the columns we need which are Production year, Field, Water produced."
      ]
    },
    {
      "cell_type": "code",
      "metadata": {
        "id": "LKgub_6grPZO",
        "colab": {
          "base_uri": "https://localhost:8080/",
          "height": 203
        },
        "outputId": "b5713455-ed69-4ede-8980-908533395a57"
      },
      "source": [
        "Field_df = production_df.copy()[['Production Year','Field','Water produced, bbl']]\n",
        "Field_df.head()"
      ],
      "execution_count": 59,
      "outputs": [
        {
          "output_type": "execute_result",
          "data": {
            "text/html": [
              "<div>\n",
              "<style scoped>\n",
              "    .dataframe tbody tr th:only-of-type {\n",
              "        vertical-align: middle;\n",
              "    }\n",
              "\n",
              "    .dataframe tbody tr th {\n",
              "        vertical-align: top;\n",
              "    }\n",
              "\n",
              "    .dataframe thead th {\n",
              "        text-align: right;\n",
              "    }\n",
              "</style>\n",
              "<table border=\"1\" class=\"dataframe\">\n",
              "  <thead>\n",
              "    <tr style=\"text-align: right;\">\n",
              "      <th></th>\n",
              "      <th>Production Year</th>\n",
              "      <th>Field</th>\n",
              "      <th>Water produced, bbl</th>\n",
              "    </tr>\n",
              "  </thead>\n",
              "  <tbody>\n",
              "    <tr>\n",
              "      <th>0</th>\n",
              "      <td>1995</td>\n",
              "      <td>BUFFALO</td>\n",
              "      <td>0</td>\n",
              "    </tr>\n",
              "    <tr>\n",
              "      <th>1</th>\n",
              "      <td>1995</td>\n",
              "      <td>BEECH HILL-INDEPENDENCE</td>\n",
              "      <td>180</td>\n",
              "    </tr>\n",
              "    <tr>\n",
              "      <th>2</th>\n",
              "      <td>1994</td>\n",
              "      <td>BRADFORD</td>\n",
              "      <td>0</td>\n",
              "    </tr>\n",
              "    <tr>\n",
              "      <th>3</th>\n",
              "      <td>1994</td>\n",
              "      <td>BUFFALO</td>\n",
              "      <td>0</td>\n",
              "    </tr>\n",
              "    <tr>\n",
              "      <th>4</th>\n",
              "      <td>1995</td>\n",
              "      <td>FIVE MILE</td>\n",
              "      <td>80</td>\n",
              "    </tr>\n",
              "  </tbody>\n",
              "</table>\n",
              "</div>"
            ],
            "text/plain": [
              "   Production Year                    Field  Water produced, bbl\n",
              "0             1995                  BUFFALO                    0\n",
              "1             1995  BEECH HILL-INDEPENDENCE                  180\n",
              "2             1994                 BRADFORD                    0\n",
              "3             1994                  BUFFALO                    0\n",
              "4             1995                FIVE MILE                   80"
            ]
          },
          "metadata": {},
          "execution_count": 59
        }
      ]
    },
    {
      "cell_type": "markdown",
      "metadata": {
        "id": "YcXOa3BEuMIg"
      },
      "source": [
        "####We now have to create a new column called decades which gives the production years its corresponding decade. First let's create a function to do this."
      ]
    },
    {
      "cell_type": "code",
      "metadata": {
        "id": "ug8BecgstxL3"
      },
      "source": [
        "def decade(Production_Year):\n",
        "  if Production_Year < 1970:\n",
        "    return '1960s'\n",
        "  elif Production_Year < 1980:\n",
        "    return '1970s'\n",
        "  elif Production_Year < 1990:\n",
        "    return '1980s'\n",
        "  else:\n",
        "    return '1990s'"
      ],
      "execution_count": 60,
      "outputs": []
    },
    {
      "cell_type": "markdown",
      "metadata": {
        "id": "-ySjZzypuuUf"
      },
      "source": [
        "####Now, we will apply the `decade` function to the new column called Decade. \n",
        "\n",
        "\n",
        "\n"
      ]
    },
    {
      "cell_type": "code",
      "metadata": {
        "id": "dDjVl3Pxusrx",
        "colab": {
          "base_uri": "https://localhost:8080/",
          "height": 203
        },
        "outputId": "fd0d17e4-c431-4f61-ffc6-7af5f613db24"
      },
      "source": [
        "Field_df['Decade'] = Field_df['Production Year'].apply(decade)\n",
        "Field_df.head()"
      ],
      "execution_count": 61,
      "outputs": [
        {
          "output_type": "execute_result",
          "data": {
            "text/html": [
              "<div>\n",
              "<style scoped>\n",
              "    .dataframe tbody tr th:only-of-type {\n",
              "        vertical-align: middle;\n",
              "    }\n",
              "\n",
              "    .dataframe tbody tr th {\n",
              "        vertical-align: top;\n",
              "    }\n",
              "\n",
              "    .dataframe thead th {\n",
              "        text-align: right;\n",
              "    }\n",
              "</style>\n",
              "<table border=\"1\" class=\"dataframe\">\n",
              "  <thead>\n",
              "    <tr style=\"text-align: right;\">\n",
              "      <th></th>\n",
              "      <th>Production Year</th>\n",
              "      <th>Field</th>\n",
              "      <th>Water produced, bbl</th>\n",
              "      <th>Decade</th>\n",
              "    </tr>\n",
              "  </thead>\n",
              "  <tbody>\n",
              "    <tr>\n",
              "      <th>0</th>\n",
              "      <td>1995</td>\n",
              "      <td>BUFFALO</td>\n",
              "      <td>0</td>\n",
              "      <td>1990s</td>\n",
              "    </tr>\n",
              "    <tr>\n",
              "      <th>1</th>\n",
              "      <td>1995</td>\n",
              "      <td>BEECH HILL-INDEPENDENCE</td>\n",
              "      <td>180</td>\n",
              "      <td>1990s</td>\n",
              "    </tr>\n",
              "    <tr>\n",
              "      <th>2</th>\n",
              "      <td>1994</td>\n",
              "      <td>BRADFORD</td>\n",
              "      <td>0</td>\n",
              "      <td>1990s</td>\n",
              "    </tr>\n",
              "    <tr>\n",
              "      <th>3</th>\n",
              "      <td>1994</td>\n",
              "      <td>BUFFALO</td>\n",
              "      <td>0</td>\n",
              "      <td>1990s</td>\n",
              "    </tr>\n",
              "    <tr>\n",
              "      <th>4</th>\n",
              "      <td>1995</td>\n",
              "      <td>FIVE MILE</td>\n",
              "      <td>80</td>\n",
              "      <td>1990s</td>\n",
              "    </tr>\n",
              "  </tbody>\n",
              "</table>\n",
              "</div>"
            ],
            "text/plain": [
              "   Production Year                    Field  Water produced, bbl Decade\n",
              "0             1995                  BUFFALO                    0  1990s\n",
              "1             1995  BEECH HILL-INDEPENDENCE                  180  1990s\n",
              "2             1994                 BRADFORD                    0  1990s\n",
              "3             1994                  BUFFALO                    0  1990s\n",
              "4             1995                FIVE MILE                   80  1990s"
            ]
          },
          "metadata": {},
          "execution_count": 61
        }
      ]
    },
    {
      "cell_type": "markdown",
      "metadata": {
        "id": "Eb9Gk6oAv6hr"
      },
      "source": [
        "####We will now make a pivot table with the Field column as the index and Decade coulm as the columns. The values are sum of amount of water produced in bbl."
      ]
    },
    {
      "cell_type": "code",
      "metadata": {
        "id": "rQvZ1ojnvCGJ",
        "colab": {
          "base_uri": "https://localhost:8080/",
          "height": 234
        },
        "outputId": "bbaf5059-fbd0-4fa8-c608-499f0dba1fd1"
      },
      "source": [
        "Field_pivot = Field_df.pivot_table(index='Field',\n",
        "               columns='Decade',\n",
        "               values='Water produced, bbl',\n",
        "               aggfunc='sum').fillna(0)\n",
        "Field_pivot.head()"
      ],
      "execution_count": 62,
      "outputs": [
        {
          "output_type": "execute_result",
          "data": {
            "text/html": [
              "<div>\n",
              "<style scoped>\n",
              "    .dataframe tbody tr th:only-of-type {\n",
              "        vertical-align: middle;\n",
              "    }\n",
              "\n",
              "    .dataframe tbody tr th {\n",
              "        vertical-align: top;\n",
              "    }\n",
              "\n",
              "    .dataframe thead th {\n",
              "        text-align: right;\n",
              "    }\n",
              "</style>\n",
              "<table border=\"1\" class=\"dataframe\">\n",
              "  <thead>\n",
              "    <tr style=\"text-align: right;\">\n",
              "      <th>Decade</th>\n",
              "      <th>1960s</th>\n",
              "      <th>1970s</th>\n",
              "      <th>1980s</th>\n",
              "      <th>1990s</th>\n",
              "    </tr>\n",
              "    <tr>\n",
              "      <th>Field</th>\n",
              "      <th></th>\n",
              "      <th></th>\n",
              "      <th></th>\n",
              "      <th></th>\n",
              "    </tr>\n",
              "  </thead>\n",
              "  <tbody>\n",
              "    <tr>\n",
              "      <th>ADRIAN REEF</th>\n",
              "      <td>0.0</td>\n",
              "      <td>0.0</td>\n",
              "      <td>0.0</td>\n",
              "      <td>1.0</td>\n",
              "    </tr>\n",
              "    <tr>\n",
              "      <th>ADRIAN STORAGE</th>\n",
              "      <td>0.0</td>\n",
              "      <td>0.0</td>\n",
              "      <td>0.0</td>\n",
              "      <td>0.0</td>\n",
              "    </tr>\n",
              "    <tr>\n",
              "      <th>AKRON</th>\n",
              "      <td>0.0</td>\n",
              "      <td>0.0</td>\n",
              "      <td>5.0</td>\n",
              "      <td>438.0</td>\n",
              "    </tr>\n",
              "    <tr>\n",
              "      <th>ALDEN-LANCASTER</th>\n",
              "      <td>0.0</td>\n",
              "      <td>0.0</td>\n",
              "      <td>4254.0</td>\n",
              "      <td>12926.0</td>\n",
              "    </tr>\n",
              "    <tr>\n",
              "      <th>ALEXANDER</th>\n",
              "      <td>0.0</td>\n",
              "      <td>0.0</td>\n",
              "      <td>0.0</td>\n",
              "      <td>122.0</td>\n",
              "    </tr>\n",
              "  </tbody>\n",
              "</table>\n",
              "</div>"
            ],
            "text/plain": [
              "Decade           1960s  1970s   1980s    1990s\n",
              "Field                                         \n",
              "ADRIAN REEF        0.0    0.0     0.0      1.0\n",
              "ADRIAN STORAGE     0.0    0.0     0.0      0.0\n",
              "AKRON              0.0    0.0     5.0    438.0\n",
              "ALDEN-LANCASTER    0.0    0.0  4254.0  12926.0\n",
              "ALEXANDER          0.0    0.0     0.0    122.0"
            ]
          },
          "metadata": {},
          "execution_count": 62
        }
      ]
    },
    {
      "cell_type": "code",
      "metadata": {
        "id": "Ta5zzdkBxoKW",
        "colab": {
          "base_uri": "https://localhost:8080/",
          "height": 203
        },
        "outputId": "ec70ded7-5673-4ad1-d738-c9728878326a"
      },
      "source": [
        "Field_pivot = Field_pivot.reset_index()\n",
        "Field_pivot.head()"
      ],
      "execution_count": 63,
      "outputs": [
        {
          "output_type": "execute_result",
          "data": {
            "text/html": [
              "<div>\n",
              "<style scoped>\n",
              "    .dataframe tbody tr th:only-of-type {\n",
              "        vertical-align: middle;\n",
              "    }\n",
              "\n",
              "    .dataframe tbody tr th {\n",
              "        vertical-align: top;\n",
              "    }\n",
              "\n",
              "    .dataframe thead th {\n",
              "        text-align: right;\n",
              "    }\n",
              "</style>\n",
              "<table border=\"1\" class=\"dataframe\">\n",
              "  <thead>\n",
              "    <tr style=\"text-align: right;\">\n",
              "      <th>Decade</th>\n",
              "      <th>Field</th>\n",
              "      <th>1960s</th>\n",
              "      <th>1970s</th>\n",
              "      <th>1980s</th>\n",
              "      <th>1990s</th>\n",
              "    </tr>\n",
              "  </thead>\n",
              "  <tbody>\n",
              "    <tr>\n",
              "      <th>0</th>\n",
              "      <td>ADRIAN REEF</td>\n",
              "      <td>0.0</td>\n",
              "      <td>0.0</td>\n",
              "      <td>0.0</td>\n",
              "      <td>1.0</td>\n",
              "    </tr>\n",
              "    <tr>\n",
              "      <th>1</th>\n",
              "      <td>ADRIAN STORAGE</td>\n",
              "      <td>0.0</td>\n",
              "      <td>0.0</td>\n",
              "      <td>0.0</td>\n",
              "      <td>0.0</td>\n",
              "    </tr>\n",
              "    <tr>\n",
              "      <th>2</th>\n",
              "      <td>AKRON</td>\n",
              "      <td>0.0</td>\n",
              "      <td>0.0</td>\n",
              "      <td>5.0</td>\n",
              "      <td>438.0</td>\n",
              "    </tr>\n",
              "    <tr>\n",
              "      <th>3</th>\n",
              "      <td>ALDEN-LANCASTER</td>\n",
              "      <td>0.0</td>\n",
              "      <td>0.0</td>\n",
              "      <td>4254.0</td>\n",
              "      <td>12926.0</td>\n",
              "    </tr>\n",
              "    <tr>\n",
              "      <th>4</th>\n",
              "      <td>ALEXANDER</td>\n",
              "      <td>0.0</td>\n",
              "      <td>0.0</td>\n",
              "      <td>0.0</td>\n",
              "      <td>122.0</td>\n",
              "    </tr>\n",
              "  </tbody>\n",
              "</table>\n",
              "</div>"
            ],
            "text/plain": [
              "Decade            Field  1960s  1970s   1980s    1990s\n",
              "0           ADRIAN REEF    0.0    0.0     0.0      1.0\n",
              "1        ADRIAN STORAGE    0.0    0.0     0.0      0.0\n",
              "2                 AKRON    0.0    0.0     5.0    438.0\n",
              "3       ALDEN-LANCASTER    0.0    0.0  4254.0  12926.0\n",
              "4             ALEXANDER    0.0    0.0     0.0    122.0"
            ]
          },
          "metadata": {},
          "execution_count": 63
        }
      ]
    },
    {
      "cell_type": "markdown",
      "metadata": {
        "id": "vAEgHBRoKPVJ"
      },
      "source": [
        "####Let's represent the pivot table in a scatter plot. "
      ]
    },
    {
      "cell_type": "code",
      "metadata": {
        "colab": {
          "base_uri": "https://localhost:8080/",
          "height": 526
        },
        "id": "dg-fQsJj7b_4",
        "outputId": "d27facbe-70b6-4b46-bd39-49dccc12f7c2"
      },
      "source": [
        "First = Chart(Field_pivot).mark_point(color = 'red').encode(x='Field',\n",
        "                              y='1960s' ).interactive()\n",
        "                        \n",
        "Second = Chart(Field_pivot).mark_point(color = 'green').encode(x='Field',\n",
        "                              y='1970s').interactive()\n",
        " \n",
        "Third = Chart(Field_pivot).mark_point(color = 'orange').encode(x='Field',\n",
        "                              y='1980s').interactive()\n",
        " \n",
        "Fourth = Chart(Field_pivot).mark_point(color = 'blue').encode(x='Field',\n",
        "                              y='1990s').interactive()\n",
        "First + Second + Third + Fourth\n"
      ],
      "execution_count": 64,
      "outputs": [
        {
          "output_type": "execute_result",
          "data": {
            "text/plain": [
              "alt.LayerChart(...)"
            ],
            "text/html": [
              "\n",
              "<div id=\"altair-viz-f6f569c2ad2a44b3abe512316d6d9dba\"></div>\n",
              "<script type=\"text/javascript\">\n",
              "  (function(spec, embedOpt){\n",
              "    let outputDiv = document.currentScript.previousElementSibling;\n",
              "    if (outputDiv.id !== \"altair-viz-f6f569c2ad2a44b3abe512316d6d9dba\") {\n",
              "      outputDiv = document.getElementById(\"altair-viz-f6f569c2ad2a44b3abe512316d6d9dba\");\n",
              "    }\n",
              "    const paths = {\n",
              "      \"vega\": \"https://cdn.jsdelivr.net/npm//vega@5?noext\",\n",
              "      \"vega-lib\": \"https://cdn.jsdelivr.net/npm//vega-lib?noext\",\n",
              "      \"vega-lite\": \"https://cdn.jsdelivr.net/npm//vega-lite@4.8.1?noext\",\n",
              "      \"vega-embed\": \"https://cdn.jsdelivr.net/npm//vega-embed@6?noext\",\n",
              "    };\n",
              "\n",
              "    function loadScript(lib) {\n",
              "      return new Promise(function(resolve, reject) {\n",
              "        var s = document.createElement('script');\n",
              "        s.src = paths[lib];\n",
              "        s.async = true;\n",
              "        s.onload = () => resolve(paths[lib]);\n",
              "        s.onerror = () => reject(`Error loading script: ${paths[lib]}`);\n",
              "        document.getElementsByTagName(\"head\")[0].appendChild(s);\n",
              "      });\n",
              "    }\n",
              "\n",
              "    function showError(err) {\n",
              "      outputDiv.innerHTML = `<div class=\"error\" style=\"color:red;\">${err}</div>`;\n",
              "      throw err;\n",
              "    }\n",
              "\n",
              "    function displayChart(vegaEmbed) {\n",
              "      vegaEmbed(outputDiv, spec, embedOpt)\n",
              "        .catch(err => showError(`Javascript Error: ${err.message}<br>This usually means there's a typo in your chart specification. See the javascript console for the full traceback.`));\n",
              "    }\n",
              "\n",
              "    if(typeof define === \"function\" && define.amd) {\n",
              "      requirejs.config({paths});\n",
              "      require([\"vega-embed\"], displayChart, err => showError(`Error loading script: ${err.message}`));\n",
              "    } else if (typeof vegaEmbed === \"function\") {\n",
              "      displayChart(vegaEmbed);\n",
              "    } else {\n",
              "      loadScript(\"vega\")\n",
              "        .then(() => loadScript(\"vega-lite\"))\n",
              "        .then(() => loadScript(\"vega-embed\"))\n",
              "        .catch(showError)\n",
              "        .then(() => displayChart(vegaEmbed));\n",
              "    }\n",
              "  })({\"config\": {\"view\": {\"continuousWidth\": 400, \"continuousHeight\": 300}}, \"layer\": [{\"mark\": {\"type\": \"point\", \"color\": \"red\"}, \"encoding\": {\"x\": {\"type\": \"nominal\", \"field\": \"Field\"}, \"y\": {\"type\": \"quantitative\", \"field\": \"1960s\"}}, \"selection\": {\"selector001\": {\"type\": \"interval\", \"bind\": \"scales\", \"encodings\": [\"x\", \"y\"]}}}, {\"mark\": {\"type\": \"point\", \"color\": \"green\"}, \"encoding\": {\"x\": {\"type\": \"nominal\", \"field\": \"Field\"}, \"y\": {\"type\": \"quantitative\", \"field\": \"1970s\"}}, \"selection\": {\"selector002\": {\"type\": \"interval\", \"bind\": \"scales\", \"encodings\": [\"x\", \"y\"]}}}, {\"mark\": {\"type\": \"point\", \"color\": \"orange\"}, \"encoding\": {\"x\": {\"type\": \"nominal\", \"field\": \"Field\"}, \"y\": {\"type\": \"quantitative\", \"field\": \"1980s\"}}, \"selection\": {\"selector003\": {\"type\": \"interval\", \"bind\": \"scales\", \"encodings\": [\"x\", \"y\"]}}}, {\"mark\": {\"type\": \"point\", \"color\": \"blue\"}, \"encoding\": {\"x\": {\"type\": \"nominal\", \"field\": \"Field\"}, \"y\": {\"type\": \"quantitative\", \"field\": \"1990s\"}}, \"selection\": {\"selector004\": {\"type\": \"interval\", \"bind\": \"scales\", \"encodings\": [\"x\", \"y\"]}}}], \"data\": {\"name\": \"data-32a6c9db559c30a33d169e6a0109a03f\"}, \"$schema\": \"https://vega.github.io/schema/vega-lite/v4.8.1.json\", \"datasets\": {\"data-32a6c9db559c30a33d169e6a0109a03f\": [{\"Field\": \"ADRIAN REEF\", \"1960s\": 0.0, \"1970s\": 0.0, \"1980s\": 0.0, \"1990s\": 1.0}, {\"Field\": \"ADRIAN STORAGE\", \"1960s\": 0.0, \"1970s\": 0.0, \"1980s\": 0.0, \"1990s\": 0.0}, {\"Field\": \"AKRON\", \"1960s\": 0.0, \"1970s\": 0.0, \"1980s\": 5.0, \"1990s\": 438.0}, {\"Field\": \"ALDEN-LANCASTER\", \"1960s\": 0.0, \"1970s\": 0.0, \"1980s\": 4254.0, \"1990s\": 12926.0}, {\"Field\": \"ALEXANDER\", \"1960s\": 0.0, \"1970s\": 0.0, \"1980s\": 0.0, \"1990s\": 122.0}, {\"Field\": \"ALFRED\", \"1960s\": 0.0, \"1970s\": 90.0, \"1980s\": 1429.0, \"1990s\": 0.0}, {\"Field\": \"ALLEGANY STATE PARK\", \"1960s\": 0.0, \"1970s\": 0.0, \"1980s\": 0.0, \"1990s\": 0.0}, {\"Field\": \"ALLEN\", \"1960s\": 0.0, \"1970s\": 0.0, \"1980s\": 0.0, \"1990s\": 71.0}, {\"Field\": \"ALMA\", \"1960s\": 1060000.0, \"1970s\": 1409849.0, \"1980s\": 1089630.0, \"1990s\": 2680.0}, {\"Field\": \"ANDOVER\", \"1960s\": 0.0, \"1970s\": 374.0, \"1980s\": 211.0, \"1990s\": 30167.0}, {\"Field\": \"ASHFORD\", \"1960s\": 0.0, \"1970s\": 0.0, \"1980s\": 0.0, \"1990s\": 95.0}, {\"Field\": \"ASHLAND FARMS\", \"1960s\": 0.0, \"1970s\": 0.0, \"1980s\": 0.0, \"1990s\": 0.0}, {\"Field\": \"ATTICA\", \"1960s\": 0.0, \"1970s\": 0.0, \"1980s\": 95.0, \"1990s\": 35.0}, {\"Field\": \"AUBURN\", \"1960s\": 0.0, \"1970s\": 0.0, \"1980s\": 0.0, \"1990s\": 133.0}, {\"Field\": \"AUBURN GEOTHERMAL\", \"1960s\": 0.0, \"1970s\": 0.0, \"1980s\": 0.0, \"1990s\": 0.0}, {\"Field\": \"AVOCA\", \"1960s\": 0.0, \"1970s\": 0.0, \"1980s\": 0.0, \"1990s\": 0.0}, {\"Field\": \"AVON\", \"1960s\": 0.0, \"1970s\": 0.0, \"1980s\": 422.0, \"1990s\": 110.0}, {\"Field\": \"BALDWINSVILLE\", \"1960s\": 0.0, \"1970s\": 0.0, \"1980s\": 0.0, \"1990s\": 0.0}, {\"Field\": \"BASS LAKE\", \"1960s\": 0.0, \"1970s\": 0.0, \"1980s\": 0.0, \"1990s\": 0.0}, {\"Field\": \"BATH\", \"1960s\": 0.0, \"1970s\": 0.0, \"1980s\": 0.0, \"1990s\": 0.0}, {\"Field\": \"BEECH HILL-INDEPENDENCE\", \"1960s\": 3000.0, \"1970s\": 31100.0, \"1980s\": 275375.0, \"1990s\": 853441.0}, {\"Field\": \"BELMONT\", \"1960s\": 0.0, \"1970s\": 0.0, \"1980s\": 0.0, \"1990s\": 0.0}, {\"Field\": \"BENNINGTON\", \"1960s\": 0.0, \"1970s\": 0.0, \"1980s\": 10.0, \"1990s\": 0.0}, {\"Field\": \"BENTON RUN\", \"1960s\": 0.0, \"1970s\": 0.0, \"1980s\": 0.0, \"1990s\": 0.0}, {\"Field\": \"BERGEN\", \"1960s\": 0.0, \"1970s\": 0.0, \"1980s\": 1.0, \"1990s\": 0.0}, {\"Field\": \"BETHANY\", \"1960s\": 0.0, \"1970s\": 0.0, \"1980s\": 16531.0, \"1990s\": 19369.0}, {\"Field\": \"BIG CREEK\", \"1960s\": 0.0, \"1970s\": 0.0, \"1980s\": 0.0, \"1990s\": 0.0}, {\"Field\": \"BIG INLET POOL\", \"1960s\": 0.0, \"1970s\": 0.0, \"1980s\": 0.0, \"1990s\": 0.0}, {\"Field\": \"BIXBY HILL\", \"1960s\": 0.0, \"1970s\": 0.0, \"1980s\": 0.0, \"1990s\": 1.0}, {\"Field\": \"BLUE TAIL ROOSTER\", \"1960s\": 0.0, \"1970s\": 0.0, \"1980s\": 0.0, \"1990s\": 0.0}, {\"Field\": \"BRADFORD\", \"1960s\": 18920786.0, \"1970s\": 48390437.0, \"1980s\": 24300905.0, \"1990s\": 7895559.0}, {\"Field\": \"BRADLEY BROOK\", \"1960s\": 0.0, \"1970s\": 0.0, \"1980s\": 0.0, \"1990s\": 293.0}, {\"Field\": \"BRANT-EDEN\", \"1960s\": 0.0, \"1970s\": 0.0, \"1980s\": 27329.0, \"1990s\": 50094.0}, {\"Field\": \"BROWNING\", \"1960s\": 0.0, \"1970s\": 0.0, \"1980s\": 0.0, \"1990s\": 7200.0}, {\"Field\": \"BRYANT HILL CREEK\", \"1960s\": 0.0, \"1970s\": 0.0, \"1980s\": 0.0, \"1990s\": 0.0}, {\"Field\": \"BUFFALO\", \"1960s\": 0.0, \"1970s\": 0.0, \"1980s\": 5.0, \"1990s\": 0.0}, {\"Field\": \"BUFFALO CREEK\", \"1960s\": 0.0, \"1970s\": 0.0, \"1980s\": 876.0, \"1990s\": 1024.0}, {\"Field\": \"BURR BEAR POOL\", \"1960s\": 0.0, \"1970s\": 0.0, \"1980s\": 0.0, \"1990s\": 0.0}, {\"Field\": \"BUSTI\", \"1960s\": 5087.0, \"1970s\": 1668.0, \"1980s\": 29990.0, \"1990s\": 16258.0}, {\"Field\": \"BUTLER CREEK\", \"1960s\": 0.0, \"1970s\": 0.0, \"1980s\": 0.0, \"1990s\": 0.0}, {\"Field\": \"CAFFERTY HILL\", \"1960s\": 0.0, \"1970s\": 0.0, \"1980s\": 0.0, \"1990s\": 0.0}, {\"Field\": \"CARROLL\", \"1960s\": 0.0, \"1970s\": 0.0, \"1980s\": 6824.0, \"1990s\": 0.0}, {\"Field\": \"CARROLLTON\", \"1960s\": 0.0, \"1970s\": 0.0, \"1980s\": 0.0, \"1990s\": 0.0}, {\"Field\": \"CASCADE BROOK\", \"1960s\": 0.0, \"1970s\": 0.0, \"1980s\": 0.0, \"1990s\": 9657.0}, {\"Field\": \"CASSADAGA CREEK\", \"1960s\": 0.0, \"1970s\": 0.0, \"1980s\": 0.0, \"1990s\": 62.0}, {\"Field\": \"CASTILE\", \"1960s\": 0.0, \"1970s\": 0.0, \"1980s\": 0.0, \"1990s\": 0.0}, {\"Field\": \"CENTRAL WALES\", \"1960s\": 0.0, \"1970s\": 0.0, \"1980s\": 0.0, \"1990s\": 0.0}, {\"Field\": \"CERES\", \"1960s\": 0.0, \"1970s\": 0.0, \"1980s\": 240.0, \"1990s\": 16025.0}, {\"Field\": \"CHAFFEE-ARCADE\", \"1960s\": 0.0, \"1970s\": 0.0, \"1980s\": 335.0, \"1990s\": 519.0}, {\"Field\": \"CHESTNUT RIDGE\", \"1960s\": 0.0, \"1970s\": 0.0, \"1980s\": 0.0, \"1990s\": 0.0}, {\"Field\": \"CHIPMUNK\", \"1960s\": 43712.0, \"1970s\": 20627328.0, \"1980s\": 34116293.0, \"1990s\": 1225112.0}, {\"Field\": \"CHURCHVILLE\", \"1960s\": 0.0, \"1970s\": 0.0, \"1980s\": 0.0, \"1990s\": 0.0}, {\"Field\": \"CLARENCE\", \"1960s\": 0.0, \"1970s\": 420.0, \"1980s\": 2.0, \"1990s\": 0.0}, {\"Field\": \"CLARKSVILLE\", \"1960s\": 106500.0, \"1970s\": 18300.0, \"1980s\": 1534.0, \"1990s\": 960.0}, {\"Field\": \"CLYMER\", \"1960s\": 0.0, \"1970s\": 0.0, \"1980s\": 60198.0, \"1990s\": 41646.0}, {\"Field\": \"CLYMER HILL\", \"1960s\": 0.0, \"1970s\": 0.0, \"1980s\": 0.0, \"1990s\": 0.0}, {\"Field\": \"COLDEN\", \"1960s\": 0.0, \"1970s\": 0.0, \"1980s\": 0.0, \"1990s\": 0.0}, {\"Field\": \"COLLINS\", \"1960s\": 0.0, \"1970s\": 0.0, \"1980s\": 0.0, \"1990s\": 0.0}, {\"Field\": \"COLONEL BILLS CREEK\", \"1960s\": 0.0, \"1970s\": 0.0, \"1980s\": 0.0, \"1990s\": 0.0}, {\"Field\": \"CONCORD\", \"1960s\": 0.0, \"1970s\": 0.0, \"1980s\": 3540.0, \"1990s\": 6331.0}, {\"Field\": \"CONCORD-ONONDAGA\", \"1960s\": 0.0, \"1970s\": 0.0, \"1980s\": 0.0, \"1990s\": 697.0}, {\"Field\": \"CONEWANGO CREEK\", \"1960s\": 0.0, \"1970s\": 0.0, \"1980s\": 0.0, \"1990s\": 0.0}, {\"Field\": \"CONNOISARAULEY CREEK\", \"1960s\": 0.0, \"1970s\": 0.0, \"1980s\": 0.0, \"1990s\": 0.0}, {\"Field\": \"CORBIN HILL\", \"1960s\": 0.0, \"1970s\": 0.0, \"1980s\": 0.0, \"1990s\": 0.0}, {\"Field\": \"CORNING\", \"1960s\": 0.0, \"1970s\": 0.0, \"1980s\": 0.0, \"1990s\": 0.0}, {\"Field\": \"COWLESVILLE\", \"1960s\": 0.0, \"1970s\": 0.0, \"1980s\": 0.0, \"1990s\": 615.0}, {\"Field\": \"CROSBY CREEK\", \"1960s\": 0.0, \"1970s\": 0.0, \"1980s\": 0.0, \"1990s\": 121.0}, {\"Field\": \"CROSS LAKE\", \"1960s\": 0.0, \"1970s\": 0.0, \"1980s\": 0.0, \"1990s\": 0.0}, {\"Field\": \"DANLEY CORNERS\", \"1960s\": 0.0, \"1970s\": 0.0, \"1980s\": 13604.0, \"1990s\": 30930.0}, {\"Field\": \"DANSVILLE\", \"1960s\": 0.0, \"1970s\": 0.0, \"1980s\": 0.0, \"1990s\": 0.0}, {\"Field\": \"DAYTON\", \"1960s\": 0.0, \"1970s\": 0.0, \"1980s\": 283.0, \"1990s\": 144.0}, {\"Field\": \"DOOLITTLE HILL\", \"1960s\": 0.0, \"1970s\": 0.0, \"1980s\": 0.0, \"1990s\": 0.0}, {\"Field\": \"DRY WILDCAT\", \"1960s\": 0.0, \"1970s\": 0.0, \"1980s\": 0.0, \"1990s\": 0.0}, {\"Field\": \"DUBLIN HOLLOW\", \"1960s\": 0.0, \"1970s\": 0.0, \"1980s\": 0.0, \"1990s\": 0.0}, {\"Field\": \"DUTCH HILL\", \"1960s\": 0.0, \"1970s\": 0.0, \"1980s\": 0.0, \"1990s\": 2.0}, {\"Field\": \"DUTCH HOLLOW\", \"1960s\": 0.0, \"1970s\": 0.0, \"1980s\": 0.0, \"1990s\": 0.0}, {\"Field\": \"EAST AURORA\", \"1960s\": 0.0, \"1970s\": 0.0, \"1980s\": 488.0, \"1990s\": 2793.0}, {\"Field\": \"EAST BLOOMFIELD\", \"1960s\": 0.0, \"1970s\": 0.0, \"1980s\": 5.0, \"1990s\": 72.0}, {\"Field\": \"EAST HARRISON\", \"1960s\": 0.0, \"1970s\": 0.0, \"1980s\": 0.0, \"1990s\": 0.0}, {\"Field\": \"EAST OTTO\", \"1960s\": 0.0, \"1970s\": 0.0, \"1980s\": 0.0, \"1990s\": 0.0}, {\"Field\": \"ELLERY\", \"1960s\": 0.0, \"1970s\": 0.0, \"1980s\": 178726.0, \"1990s\": 68573.0}, {\"Field\": \"ELLICOTT CREEK\", \"1960s\": 0.0, \"1970s\": 0.0, \"1980s\": 0.0, \"1990s\": 0.0}, {\"Field\": \"ELLICOTTVILLE\", \"1960s\": 0.0, \"1970s\": 0.0, \"1980s\": 0.0, \"1990s\": 154.0}, {\"Field\": \"ELMA\", \"1960s\": 0.0, \"1970s\": 0.0, \"1980s\": 1090.0, \"1990s\": 6902.0}, {\"Field\": \"ELMIRA\", \"1960s\": 0.0, \"1970s\": 0.0, \"1980s\": 0.0, \"1990s\": 0.0}, {\"Field\": \"FARMERSVILLE\", \"1960s\": 0.0, \"1970s\": 0.0, \"1980s\": 0.0, \"1990s\": 167.0}, {\"Field\": \"FAYETTE-WATERLOO\", \"1960s\": 0.0, \"1970s\": 0.0, \"1980s\": 360.0, \"1990s\": 36426.0}, {\"Field\": \"FINNEGAN HILL\", \"1960s\": 0.0, \"1970s\": 0.0, \"1980s\": 62.0, \"1990s\": 638.0}, {\"Field\": \"FIVE MILE\", \"1960s\": 0.0, \"1970s\": 69619.0, \"1980s\": 23042.0, \"1990s\": 17463.0}, {\"Field\": \"FOLSOM CREEK\", \"1960s\": 0.0, \"1970s\": 0.0, \"1980s\": 0.0, \"1990s\": 0.0}, {\"Field\": \"FORD'S BROOK\", \"1960s\": 1325000.0, \"1970s\": 1224652.0, \"1980s\": 83840.0, \"1990s\": 40806.0}, {\"Field\": \"FOUR MILE\", \"1960s\": 260.0, \"1970s\": 11415.0, \"1980s\": 2804.0, \"1990s\": 2418.0}, {\"Field\": \"FREDONIA\", \"1960s\": 0.0, \"1970s\": 0.0, \"1980s\": 0.0, \"1990s\": 0.0}, {\"Field\": \"FRENCH CREEK\", \"1960s\": 0.0, \"1970s\": 0.0, \"1980s\": 551.0, \"1990s\": 208.0}, {\"Field\": \"FRIENDSHIP\", \"1960s\": 0.0, \"1970s\": 0.0, \"1980s\": 15.0, \"1990s\": 0.0}, {\"Field\": \"FULMER VALLEY\", \"1960s\": 0.0, \"1970s\": 6511.0, \"1980s\": 1666.0, \"1990s\": 1815.0}, {\"Field\": \"GENEGANTSLET\", \"1960s\": 0.0, \"1970s\": 0.0, \"1980s\": 0.0, \"1990s\": 0.0}, {\"Field\": \"GENEVA\", \"1960s\": 0.0, \"1970s\": 0.0, \"1980s\": 0.0, \"1990s\": 0.0}, {\"Field\": \"GERRY-CHARLOTTE\", \"1960s\": 0.0, \"1970s\": 0.0, \"1980s\": 47825.0, \"1990s\": 95304.0}, {\"Field\": \"GILBERT\", \"1960s\": 0.0, \"1970s\": 0.0, \"1980s\": 0.0, \"1990s\": 0.0}, {\"Field\": \"GINGERBREAD CORNERS\", \"1960s\": 0.0, \"1970s\": 0.0, \"1980s\": 160.0, \"1990s\": 0.0}, {\"Field\": \"GLENWOOD\", \"1960s\": 0.0, \"1970s\": 0.0, \"1980s\": 54.0, \"1990s\": 291.0}, {\"Field\": \"GLODES CORNERS ROAD\", \"1960s\": 0.0, \"1970s\": 0.0, \"1980s\": 0.0, \"1990s\": 746.0}, {\"Field\": \"GORDON BROOK\", \"1960s\": 0.0, \"1970s\": 0.0, \"1980s\": 17893.0, \"1990s\": 40688.0}, {\"Field\": \"GREAT VALLEY\", \"1960s\": 0.0, \"1970s\": 0.0, \"1980s\": 0.0, \"1990s\": 2.0}, {\"Field\": \"GROVELAND\", \"1960s\": 0.0, \"1970s\": 0.0, \"1980s\": 0.0, \"1990s\": 0.0}, {\"Field\": \"HAMLIN\", \"1960s\": 0.0, \"1970s\": 0.0, \"1980s\": 0.0, \"1990s\": 0.0}, {\"Field\": \"HARMONY\", \"1960s\": 0.0, \"1970s\": 0.0, \"1980s\": 4778.0, \"1990s\": 7013.0}, {\"Field\": \"HARTSVILLE\", \"1960s\": 0.0, \"1970s\": 0.0, \"1980s\": 0.0, \"1990s\": 0.0}, {\"Field\": \"HOG HOLLOW\", \"1960s\": 0.0, \"1970s\": 0.0, \"1980s\": 0.0, \"1990s\": 56.0}, {\"Field\": \"HOLLAND\", \"1960s\": 0.0, \"1970s\": 0.0, \"1980s\": 0.0, \"1990s\": 0.0}, {\"Field\": \"HONEOYE\", \"1960s\": 0.0, \"1970s\": 0.0, \"1980s\": 0.0, \"1990s\": 0.0}, {\"Field\": \"HONEOYE-ORISKANY\", \"1960s\": 0.0, \"1970s\": 0.0, \"1980s\": 0.0, \"1990s\": 0.0}, {\"Field\": \"HOTCHKISS HOLLOW\", \"1960s\": 0.0, \"1970s\": 0.0, \"1980s\": 0.0, \"1990s\": 0.0}, {\"Field\": \"HOUGHTON\", \"1960s\": 0.0, \"1970s\": 0.0, \"1980s\": 0.0, \"1990s\": 0.0}, {\"Field\": \"HOWARD\", \"1960s\": 0.0, \"1970s\": 0.0, \"1980s\": 0.0, \"1990s\": 0.0}, {\"Field\": \"HUNGRY HOLLOW\", \"1960s\": 0.0, \"1970s\": 0.0, \"1980s\": 0.0, \"1990s\": 0.0}, {\"Field\": \"HUNT HOLLOW\", \"1960s\": 0.0, \"1970s\": 0.0, \"1980s\": 0.0, \"1990s\": 0.0}, {\"Field\": \"HURON CREEK\", \"1960s\": 0.0, \"1970s\": 0.0, \"1980s\": 28953.0, \"1990s\": 28359.0}, {\"Field\": \"INDIAN CREEK\", \"1960s\": 0.0, \"1970s\": 0.0, \"1980s\": 0.0, \"1990s\": 0.0}, {\"Field\": \"INDIAN FALLS\", \"1960s\": 0.0, \"1970s\": 0.0, \"1980s\": 12473.0, \"1990s\": 11764.0}, {\"Field\": \"INTERNATIONAL SALT-LPG\", \"1960s\": 0.0, \"1970s\": 0.0, \"1980s\": 0.0, \"1990s\": 0.0}, {\"Field\": \"JACKSON HILL\", \"1960s\": 0.0, \"1970s\": 0.0, \"1980s\": 0.0, \"1990s\": 0.0}, {\"Field\": \"JASPER\", \"1960s\": 0.0, \"1970s\": 0.0, \"1980s\": 0.0, \"1990s\": 0.0}, {\"Field\": \"JAVA\", \"1960s\": 0.0, \"1970s\": 0.0, \"1980s\": 538.0, \"1990s\": 0.0}, {\"Field\": \"JERSEY HOLLOW\", \"1960s\": 0.0, \"1970s\": 0.0, \"1980s\": 0.0, \"1990s\": 0.0}, {\"Field\": \"KARR VALLEY\", \"1960s\": 0.0, \"1970s\": 0.0, \"1980s\": 35.0, \"1990s\": 33.0}, {\"Field\": \"KASOAG\", \"1960s\": 0.0, \"1970s\": 0.0, \"1980s\": 0.0, \"1990s\": 0.0}, {\"Field\": \"KELLY HILL\", \"1960s\": 0.0, \"1970s\": 0.0, \"1980s\": 0.0, \"1990s\": 125.0}, {\"Field\": \"LAKESHORE\", \"1960s\": 0.0, \"1970s\": 57002.0, \"1980s\": 502452.0, \"1990s\": 972150.0}, {\"Field\": \"LAKEVIEW\", \"1960s\": 0.0, \"1970s\": 0.0, \"1980s\": 16345.0, \"1990s\": 24567.0}, {\"Field\": \"LAWTONS\", \"1960s\": 0.0, \"1970s\": 0.0, \"1980s\": 0.0, \"1990s\": 0.0}, {\"Field\": \"LEBANON\", \"1960s\": 0.0, \"1970s\": 0.0, \"1980s\": 0.0, \"1990s\": 0.0}, {\"Field\": \"LEICESTER\", \"1960s\": 0.0, \"1970s\": 0.0, \"1980s\": 20291.0, \"1990s\": 4583.0}, {\"Field\": \"LITTLE FRANCE\", \"1960s\": 0.0, \"1970s\": 0.0, \"1980s\": 0.0, \"1990s\": 0.0}, {\"Field\": \"LITTLE VALLEY\", \"1960s\": 0.0, \"1970s\": 0.0, \"1980s\": 0.0, \"1990s\": 0.0}, {\"Field\": \"MARSH\", \"1960s\": 0.0, \"1970s\": 13487.0, \"1980s\": 82070.0, \"1990s\": 0.0}, {\"Field\": \"MELVIN HILL\", \"1960s\": 0.0, \"1970s\": 0.0, \"1980s\": 0.0, \"1990s\": 0.0}, {\"Field\": \"MILWAUKEE CREEK\", \"1960s\": 0.0, \"1970s\": 0.0, \"1980s\": 0.0, \"1990s\": 0.0}, {\"Field\": \"MONTEZUMA MARSH\", \"1960s\": 0.0, \"1970s\": 0.0, \"1980s\": 0.0, \"1990s\": 0.0}, {\"Field\": \"MUCK FARM\", \"1960s\": 0.0, \"1970s\": 0.0, \"1980s\": 0.0, \"1990s\": 196.0}, {\"Field\": \"MUD CREEK\", \"1960s\": 0.0, \"1970s\": 0.0, \"1980s\": 0.0, \"1990s\": 0.0}, {\"Field\": \"NAPLES\", \"1960s\": 0.0, \"1970s\": 0.0, \"1980s\": 0.0, \"1990s\": 0.0}, {\"Field\": \"NASHVILLE\", \"1960s\": 0.0, \"1970s\": 0.0, \"1980s\": 6148.0, \"1990s\": 0.0}, {\"Field\": \"NEILSON ROAD POOL\", \"1960s\": 0.0, \"1970s\": 0.0, \"1980s\": 0.0, \"1990s\": 0.0}, {\"Field\": \"NILE\", \"1960s\": 0.0, \"1970s\": 0.0, \"1980s\": 1099.0, \"1990s\": 1526.0}, {\"Field\": \"NONE SPECIFIED\", \"1960s\": 0.0, \"1970s\": 0.0, \"1980s\": 0.0, \"1990s\": 0.0}, {\"Field\": \"NORTH COLLINS\", \"1960s\": 0.0, \"1970s\": 0.0, \"1980s\": 1312.0, \"1990s\": 8624.0}, {\"Field\": \"NORTH CORNING\", \"1960s\": 0.0, \"1970s\": 0.0, \"1980s\": 0.0, \"1990s\": 0.0}, {\"Field\": \"NORTH HARMONY\", \"1960s\": 0.0, \"1970s\": 0.0, \"1980s\": 81234.0, \"1990s\": 82805.0}, {\"Field\": \"NORTH PENN YAN\", \"1960s\": 0.0, \"1970s\": 0.0, \"1980s\": 1215.0, \"1990s\": 100.0}, {\"Field\": \"NORTHWEST HARRISON\", \"1960s\": 0.0, \"1970s\": 0.0, \"1980s\": 0.0, \"1990s\": 0.0}, {\"Field\": \"NORTHWOODS\", \"1960s\": 0.0, \"1970s\": 0.0, \"1980s\": 0.0, \"1990s\": 266.0}, {\"Field\": \"OLEAN\", \"1960s\": 0.0, \"1970s\": 0.0, \"1980s\": 0.0, \"1990s\": 0.0}, {\"Field\": \"ORANGEVILLE\", \"1960s\": 0.0, \"1970s\": 0.0, \"1980s\": 0.0, \"1990s\": 0.0}, {\"Field\": \"ORCHARD PARK-HAMBURG\", \"1960s\": 0.0, \"1970s\": 0.0, \"1980s\": 6488.0, \"1990s\": 4116.0}, {\"Field\": \"PAINTED POST\", \"1960s\": 0.0, \"1970s\": 0.0, \"1980s\": 439.0, \"1990s\": 2218.0}, {\"Field\": \"PAVILION\", \"1960s\": 123.0, \"1970s\": 1233.0, \"1980s\": 2551.0, \"1990s\": 2615.0}, {\"Field\": \"PERRYSBURG\", \"1960s\": 0.0, \"1970s\": 0.0, \"1980s\": 0.0, \"1990s\": 0.0}, {\"Field\": \"PIGEON HILL\", \"1960s\": 0.0, \"1970s\": 0.0, \"1980s\": 0.0, \"1990s\": 0.0}, {\"Field\": \"PIKE CORNERS\", \"1960s\": 0.0, \"1970s\": 0.0, \"1980s\": 0.0, \"1990s\": 0.0}, {\"Field\": \"PORTVILLE\", \"1960s\": 0.0, \"1970s\": 0.0, \"1980s\": 0.0, \"1990s\": 0.0}, {\"Field\": \"PULASKI\", \"1960s\": 0.0, \"1970s\": 0.0, \"1980s\": 0.0, \"1990s\": 0.0}, {\"Field\": \"PURDY CREEK\", \"1960s\": 0.0, \"1970s\": 0.0, \"1980s\": 0.0, \"1990s\": 0.0}, {\"Field\": \"RANDOLPH\", \"1960s\": 0.0, \"1970s\": 0.0, \"1980s\": 576.0, \"1990s\": 0.0}, {\"Field\": \"RATHBONE\", \"1960s\": 0.0, \"1970s\": 0.0, \"1980s\": 0.0, \"1990s\": 0.0}, {\"Field\": \"REEDER CREEK\", \"1960s\": 0.0, \"1970s\": 0.0, \"1980s\": 0.0, \"1990s\": 0.0}, {\"Field\": \"RICHBURG\", \"1960s\": 1142885.0, \"1970s\": 2764207.0, \"1980s\": 2375889.0, \"1990s\": 1505095.0}, {\"Field\": \"ROANOKE\", \"1960s\": 0.0, \"1970s\": 0.0, \"1980s\": 8.0, \"1990s\": 16.0}, {\"Field\": \"ROMULUS\", \"1960s\": 0.0, \"1970s\": 0.0, \"1980s\": 0.0, \"1990s\": 0.0}, {\"Field\": \"ROSE HILL\", \"1960s\": 0.0, \"1970s\": 0.0, \"1980s\": 0.0, \"1990s\": 0.0}, {\"Field\": \"RUSH CREEK\", \"1960s\": 0.0, \"1970s\": 0.0, \"1980s\": 0.0, \"1990s\": 0.0}, {\"Field\": \"RUSHFORD\", \"1960s\": 0.0, \"1970s\": 0.0, \"1980s\": 705.0, \"1990s\": 0.0}, {\"Field\": \"SANBORN\", \"1960s\": 0.0, \"1970s\": 0.0, \"1980s\": 0.0, \"1990s\": 0.0}, {\"Field\": \"SANGERFIELD\", \"1960s\": 0.0, \"1970s\": 0.0, \"1980s\": 0.0, \"1990s\": 0.0}, {\"Field\": \"SARDINIA\", \"1960s\": 0.0, \"1970s\": 0.0, \"1980s\": 298.0, \"1990s\": 410.0}, {\"Field\": \"SCIO\", \"1960s\": 0.0, \"1970s\": 494310.0, \"1980s\": 605197.0, \"1990s\": 4188.0}, {\"Field\": \"SENECA FALLS\", \"1960s\": 0.0, \"1970s\": 0.0, \"1980s\": 0.0, \"1990s\": 0.0}, {\"Field\": \"SENECA LAKE\", \"1960s\": 0.0, \"1970s\": 0.0, \"1980s\": 0.0, \"1990s\": 0.0}, {\"Field\": \"SHARON\", \"1960s\": 0.0, \"1970s\": 0.0, \"1980s\": 0.0, \"1990s\": 0.0}, {\"Field\": \"SHELDON\", \"1960s\": 0.0, \"1970s\": 0.0, \"1980s\": 3700.0, \"1990s\": 8319.0}, {\"Field\": \"SHERIDAN\", \"1960s\": 0.0, \"1970s\": 0.0, \"1980s\": 0.0, \"1990s\": 0.0}, {\"Field\": \"SHERRY HILL\", \"1960s\": 0.0, \"1970s\": 0.0, \"1980s\": 0.0, \"1990s\": 0.0}, {\"Field\": \"SHORT TRACT\", \"1960s\": 0.0, \"1970s\": 0.0, \"1980s\": 0.0, \"1990s\": 0.0}, {\"Field\": \"SILVER LAKE\", \"1960s\": 0.0, \"1970s\": 0.0, \"1980s\": 3367.0, \"1990s\": 1241.0}, {\"Field\": \"SNYDERS CORNERS POOL\", \"1960s\": 0.0, \"1970s\": 0.0, \"1980s\": 0.0, \"1990s\": 0.0}, {\"Field\": \"SOUTH BRADFORD\", \"1960s\": 0.0, \"1970s\": 0.0, \"1980s\": 0.0, \"1990s\": 0.0}, {\"Field\": \"SOUTH PENN YAN\", \"1960s\": 0.0, \"1970s\": 0.0, \"1980s\": 0.0, \"1990s\": 0.0}, {\"Field\": \"SOUTH WALES\", \"1960s\": 0.0, \"1970s\": 0.0, \"1980s\": 0.0, \"1990s\": 0.0}, {\"Field\": \"SPARTA\", \"1960s\": 0.0, \"1970s\": 0.0, \"1980s\": 0.0, \"1990s\": 0.0}, {\"Field\": \"SPOONER CREEK\", \"1960s\": 0.0, \"1970s\": 0.0, \"1980s\": 0.0, \"1990s\": 0.0}, {\"Field\": \"SPRAGUE HILL\", \"1960s\": 0.0, \"1970s\": 0.0, \"1980s\": 45.0, \"1990s\": 1102.0}, {\"Field\": \"STAGECOACH\", \"1960s\": 0.0, \"1970s\": 0.0, \"1980s\": 590.0, \"1990s\": 5000.0}, {\"Field\": \"STATE LINE\", \"1960s\": 0.0, \"1970s\": 11116.0, \"1980s\": 401234.0, \"1990s\": 58428.0}, {\"Field\": \"STONE HILL\", \"1960s\": 0.0, \"1970s\": 0.0, \"1980s\": 0.0, \"1990s\": 0.0}, {\"Field\": \"SUGAR CREEK\", \"1960s\": 0.0, \"1970s\": 0.0, \"1980s\": 0.0, \"1990s\": 0.0}, {\"Field\": \"SUMMERHILL\", \"1960s\": 0.0, \"1970s\": 0.0, \"1980s\": 0.0, \"1990s\": 0.0}, {\"Field\": \"THOMAS CORNERS\", \"1960s\": 0.0, \"1970s\": 0.0, \"1980s\": 0.0, \"1990s\": 13.0}, {\"Field\": \"TONAWANDA\", \"1960s\": 0.0, \"1970s\": 0.0, \"1980s\": 0.0, \"1990s\": 0.0}, {\"Field\": \"TOZIER'S CORNERS\", \"1960s\": 0.0, \"1970s\": 0.0, \"1980s\": 0.0, \"1990s\": 76.0}, {\"Field\": \"TRAPPING BROOK\", \"1960s\": 0.0, \"1970s\": 0.0, \"1980s\": 0.0, \"1990s\": 0.0}, {\"Field\": \"TRAVERS\", \"1960s\": 0.0, \"1970s\": 0.0, \"1980s\": 0.0, \"1990s\": 0.0}, {\"Field\": \"TRIANGLE\", \"1960s\": 0.0, \"1970s\": 0.0, \"1980s\": 0.0, \"1990s\": 0.0}, {\"Field\": \"TULLY BRINE\", \"1960s\": 0.0, \"1970s\": 0.0, \"1980s\": 0.0, \"1990s\": 0.0}, {\"Field\": \"UHLEY CORNERS-CALEDONIA\", \"1960s\": 358.0, \"1970s\": 164.0, \"1980s\": 49072.0, \"1990s\": 22670.0}, {\"Field\": \"UNNAMED\", \"1960s\": 0.0, \"1970s\": 0.0, \"1980s\": 7.0, \"1990s\": 207.0}, {\"Field\": \"UTLEY BROOK\", \"1960s\": 0.0, \"1970s\": 0.0, \"1980s\": 0.0, \"1990s\": 1694.0}, {\"Field\": \"VAN ETTEN\", \"1960s\": 0.0, \"1970s\": 0.0, \"1980s\": 0.0, \"1990s\": 0.0}, {\"Field\": \"VANDERMARK CREEK\", \"1960s\": 0.0, \"1970s\": 0.0, \"1980s\": 8282.0, \"1990s\": 601.0}, {\"Field\": \"VINCENT\", \"1960s\": 0.0, \"1970s\": 0.0, \"1980s\": 0.0, \"1990s\": 0.0}, {\"Field\": \"WALDO CREEK\", \"1960s\": 0.0, \"1970s\": 0.0, \"1980s\": 0.0, \"1990s\": 0.0}, {\"Field\": \"WALES\", \"1960s\": 0.0, \"1970s\": 0.0, \"1980s\": 80.0, \"1990s\": 1541.0}, {\"Field\": \"WELLS COLLEGE\", \"1960s\": 0.0, \"1970s\": 0.0, \"1980s\": 0.0, \"1990s\": 0.0}, {\"Field\": \"WEST AUBURN\", \"1960s\": 0.0, \"1970s\": 0.0, \"1980s\": 75.0, \"1990s\": 88321.0}, {\"Field\": \"WEST BLOOMFIELD\", \"1960s\": 0.0, \"1970s\": 0.0, \"1980s\": 1.0, \"1990s\": 0.0}, {\"Field\": \"WEST SENECA\", \"1960s\": 0.0, \"1970s\": 0.0, \"1980s\": 261.0, \"1990s\": 55.0}, {\"Field\": \"WEST UNION\", \"1960s\": 0.0, \"1970s\": 0.0, \"1980s\": 0.0, \"1990s\": 0.0}, {\"Field\": \"WETHERSFIELD\", \"1960s\": 0.0, \"1970s\": 0.0, \"1980s\": 0.0, \"1990s\": 0.0}, {\"Field\": \"WHETSTONE BROOK\", \"1960s\": 0.0, \"1970s\": 0.0, \"1980s\": 0.0, \"1990s\": 0.0}, {\"Field\": \"WHISKEY HILL\", \"1960s\": 0.0, \"1970s\": 0.0, \"1980s\": 0.0, \"1990s\": 0.0}, {\"Field\": \"WILSON HOLLOW\", \"1960s\": 0.0, \"1970s\": 0.0, \"1980s\": 0.0, \"1990s\": 16.0}, {\"Field\": \"WIRT\", \"1960s\": 0.0, \"1970s\": 0.0, \"1980s\": 0.0, \"1990s\": 0.0}, {\"Field\": \"WOODHULL\", \"1960s\": 0.0, \"1970s\": 0.0, \"1980s\": 0.0, \"1990s\": 0.0}, {\"Field\": \"WYCKOFF\", \"1960s\": 800.0, \"1970s\": 350.0, \"1980s\": 0.0, \"1990s\": 54.0}, {\"Field\": \"WYOMING\", \"1960s\": 0.0, \"1970s\": 0.0, \"1980s\": 0.0, \"1990s\": 0.0}, {\"Field\": \"ZOAR\", \"1960s\": 0.0, \"1970s\": 0.0, \"1980s\": 405.0, \"1990s\": 0.0}]}}, {\"mode\": \"vega-lite\"});\n",
              "</script>"
            ]
          },
          "metadata": {},
          "execution_count": 64
        }
      ]
    },
    {
      "cell_type": "markdown",
      "metadata": {
        "id": "tFuajeBdEpfz"
      },
      "source": [
        "####From the above analysis we can see that for decades of 1960s, 1970s and 1990s Bradford has always had the highest water production. But for the decade of 1980 Chipmunk had the highest water production. "
      ]
    },
    {
      "cell_type": "markdown",
      "metadata": {
        "id": "IrCSr4G4Gec_"
      },
      "source": [
        "####Lets see if Bradford and Chipmunk are in the top two Fields that produce the most Oil."
      ]
    },
    {
      "cell_type": "code",
      "metadata": {
        "id": "THirFjFaGVOf",
        "colab": {
          "base_uri": "https://localhost:8080/",
          "height": 234
        },
        "outputId": "84918f17-bed3-4031-e64a-8c2d5ba7c2d0"
      },
      "source": [
        "BC_df = production_df[['Field','Gas Produced, Mcf']]\n",
        "BC_df = BC_df.groupby('Field').sum()\n",
        "BC_df = BC_df.sort_values(by = 'Gas Produced, Mcf', ascending = False)\n",
        "BC_df.head()"
      ],
      "execution_count": 65,
      "outputs": [
        {
          "output_type": "execute_result",
          "data": {
            "text/html": [
              "<div>\n",
              "<style scoped>\n",
              "    .dataframe tbody tr th:only-of-type {\n",
              "        vertical-align: middle;\n",
              "    }\n",
              "\n",
              "    .dataframe tbody tr th {\n",
              "        vertical-align: top;\n",
              "    }\n",
              "\n",
              "    .dataframe thead th {\n",
              "        text-align: right;\n",
              "    }\n",
              "</style>\n",
              "<table border=\"1\" class=\"dataframe\">\n",
              "  <thead>\n",
              "    <tr style=\"text-align: right;\">\n",
              "      <th></th>\n",
              "      <th>Gas Produced, Mcf</th>\n",
              "    </tr>\n",
              "    <tr>\n",
              "      <th>Field</th>\n",
              "      <th></th>\n",
              "    </tr>\n",
              "  </thead>\n",
              "  <tbody>\n",
              "    <tr>\n",
              "      <th>LAKESHORE</th>\n",
              "      <td>289107481</td>\n",
              "    </tr>\n",
              "    <tr>\n",
              "      <th>WEST AUBURN</th>\n",
              "      <td>27428532</td>\n",
              "    </tr>\n",
              "    <tr>\n",
              "      <th>STAGECOACH</th>\n",
              "      <td>14252405</td>\n",
              "    </tr>\n",
              "    <tr>\n",
              "      <th>FAYETTE-WATERLOO</th>\n",
              "      <td>14104317</td>\n",
              "    </tr>\n",
              "    <tr>\n",
              "      <th>ALDEN-LANCASTER</th>\n",
              "      <td>14070664</td>\n",
              "    </tr>\n",
              "  </tbody>\n",
              "</table>\n",
              "</div>"
            ],
            "text/plain": [
              "                  Gas Produced, Mcf\n",
              "Field                              \n",
              "LAKESHORE                 289107481\n",
              "WEST AUBURN                27428532\n",
              "STAGECOACH                 14252405\n",
              "FAYETTE-WATERLOO           14104317\n",
              "ALDEN-LANCASTER            14070664"
            ]
          },
          "metadata": {},
          "execution_count": 65
        }
      ]
    },
    {
      "cell_type": "markdown",
      "metadata": {
        "id": "40a_fgExJzRM"
      },
      "source": [
        "####We dont see both Bradford and Chipmunk even in the top 5 which goes against the study that more gas production means higher amount of water produced. "
      ]
    },
    {
      "cell_type": "code",
      "metadata": {
        "id": "f4BFsV80JuO6"
      },
      "source": [
        ""
      ],
      "execution_count": 65,
      "outputs": []
    }
  ]
}