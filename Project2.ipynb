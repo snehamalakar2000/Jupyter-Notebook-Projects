{
  "nbformat": 4,
  "nbformat_minor": 0,
  "metadata": {
    "colab": {
      "name": "Project2.ipynb",
      "provenance": []
    },
    "kernelspec": {
      "name": "python3",
      "display_name": "Python 3"
    },
    "language_info": {
      "name": "python"
    }
  },
  "cells": [
    {
      "cell_type": "markdown",
      "metadata": {
        "id": "bQDkREl5cF3H"
      },
      "source": [
        "# Project 2: Oil and Gas Summary Production Data (1967-1999)\n"
      ]
    },
    {
      "cell_type": "markdown",
      "metadata": {
        "id": "_0AFiMWQcS_J"
      },
      "source": [
        "####Data source site: https://catalog.data.gov/dataset?res_format=CSV\n",
        "####Datasheet link: https://catalog.data.gov/dataset/oil-and-gas-summary-production-data-1967-1999"
      ]
    },
    {
      "cell_type": "code",
      "metadata": {
        "id": "GhZlLKQpcJC9"
      },
      "source": [
        "import pandas as pd\n",
        "import numpy as np\n",
        "from altair import Chart, X, Y, Color, Scale\n",
        "import altair as alt"
      ],
      "execution_count": 4,
      "outputs": []
    },
    {
      "cell_type": "code",
      "metadata": {
        "colab": {
          "base_uri": "https://localhost:8080/",
          "height": 458
        },
        "id": "k9sB4PVNc-Si",
        "outputId": "0f7399e4-197f-4286-8e9b-9bf96f630501"
      },
      "source": [
        "production_df = pd.read_csv('/content/drive/My Drive/HDS/CMPS 260/Data/Oil_and_Gas_Summary_Production_Data__1967-1999.csv')\n",
        "production_df.head()"
      ],
      "execution_count": 5,
      "outputs": [
        {
          "output_type": "execute_result",
          "data": {
            "text/html": [
              "<div>\n",
              "<style scoped>\n",
              "    .dataframe tbody tr th:only-of-type {\n",
              "        vertical-align: middle;\n",
              "    }\n",
              "\n",
              "    .dataframe tbody tr th {\n",
              "        vertical-align: top;\n",
              "    }\n",
              "\n",
              "    .dataframe thead th {\n",
              "        text-align: right;\n",
              "    }\n",
              "</style>\n",
              "<table border=\"1\" class=\"dataframe\">\n",
              "  <thead>\n",
              "    <tr style=\"text-align: right;\">\n",
              "      <th></th>\n",
              "      <th>Production Year</th>\n",
              "      <th>Production Date Entered</th>\n",
              "      <th>Operator</th>\n",
              "      <th>County</th>\n",
              "      <th>Town</th>\n",
              "      <th>Field</th>\n",
              "      <th>Producing Formation</th>\n",
              "      <th>Active Oil Wells</th>\n",
              "      <th>Inactive Oil Wells</th>\n",
              "      <th>Active Gas Wells</th>\n",
              "      <th>Inactive Gas Wells</th>\n",
              "      <th>Injection Wells</th>\n",
              "      <th>Disposal Wells</th>\n",
              "      <th>Self-use Well</th>\n",
              "      <th>Oil Produced, bbl</th>\n",
              "      <th>Gas Produced, Mcf</th>\n",
              "      <th>Water produced, bbl</th>\n",
              "      <th>Taxable Gas, Mcf</th>\n",
              "      <th>Purchaser Codes</th>\n",
              "      <th>Location</th>\n",
              "    </tr>\n",
              "  </thead>\n",
              "  <tbody>\n",
              "    <tr>\n",
              "      <th>0</th>\n",
              "      <td>1995</td>\n",
              "      <td>12/03/1996</td>\n",
              "      <td>Buffalo China, Inc.</td>\n",
              "      <td>Erie</td>\n",
              "      <td>BUFFALO</td>\n",
              "      <td>BUFFALO</td>\n",
              "      <td>MEDINA</td>\n",
              "      <td>0</td>\n",
              "      <td>0</td>\n",
              "      <td>1</td>\n",
              "      <td>0</td>\n",
              "      <td>0</td>\n",
              "      <td>0</td>\n",
              "      <td>YES</td>\n",
              "      <td>0</td>\n",
              "      <td>106</td>\n",
              "      <td>0</td>\n",
              "      <td>0</td>\n",
              "      <td>NaN</td>\n",
              "      <td>BUFFALO, NY\\n(42.887691, -78.879374)</td>\n",
              "    </tr>\n",
              "    <tr>\n",
              "      <th>1</th>\n",
              "      <td>1995</td>\n",
              "      <td>03/29/1996</td>\n",
              "      <td>Copper Ridge Oil, Inc.</td>\n",
              "      <td>Steuben</td>\n",
              "      <td>WEST UNION</td>\n",
              "      <td>BEECH HILL-INDEPENDENCE</td>\n",
              "      <td>FULMER VALLEY</td>\n",
              "      <td>28</td>\n",
              "      <td>0</td>\n",
              "      <td>0</td>\n",
              "      <td>0</td>\n",
              "      <td>7</td>\n",
              "      <td>0</td>\n",
              "      <td>NO</td>\n",
              "      <td>1229</td>\n",
              "      <td>0</td>\n",
              "      <td>180</td>\n",
              "      <td>0</td>\n",
              "      <td>OA</td>\n",
              "      <td>WEST UNION, NY\\n(42.094951, -77.725816)</td>\n",
              "    </tr>\n",
              "    <tr>\n",
              "      <th>2</th>\n",
              "      <td>1994</td>\n",
              "      <td>02/14/1995</td>\n",
              "      <td>White, Walter W. &amp; Christina L.</td>\n",
              "      <td>Cattaraugus</td>\n",
              "      <td>CARROLLTON</td>\n",
              "      <td>BRADFORD</td>\n",
              "      <td>BRADFORD</td>\n",
              "      <td>3</td>\n",
              "      <td>0</td>\n",
              "      <td>0</td>\n",
              "      <td>0</td>\n",
              "      <td>0</td>\n",
              "      <td>0</td>\n",
              "      <td>NO</td>\n",
              "      <td>462</td>\n",
              "      <td>0</td>\n",
              "      <td>0</td>\n",
              "      <td>0</td>\n",
              "      <td>OA</td>\n",
              "      <td>CARROLLTON, NY\\n(42.023289, -78.628438)</td>\n",
              "    </tr>\n",
              "    <tr>\n",
              "      <th>3</th>\n",
              "      <td>1994</td>\n",
              "      <td>01/19/1995</td>\n",
              "      <td>Stiegler, Richard M</td>\n",
              "      <td>Erie</td>\n",
              "      <td>CHEEKTOWAGA</td>\n",
              "      <td>BUFFALO</td>\n",
              "      <td>MEDINA</td>\n",
              "      <td>0</td>\n",
              "      <td>0</td>\n",
              "      <td>1</td>\n",
              "      <td>0</td>\n",
              "      <td>0</td>\n",
              "      <td>0</td>\n",
              "      <td>YES</td>\n",
              "      <td>0</td>\n",
              "      <td>530</td>\n",
              "      <td>0</td>\n",
              "      <td>0</td>\n",
              "      <td>NaN</td>\n",
              "      <td>CHEEKTOWAGA, NY\\n(42.907071, -78.754318)</td>\n",
              "    </tr>\n",
              "    <tr>\n",
              "      <th>4</th>\n",
              "      <td>1995</td>\n",
              "      <td>02/12/1996</td>\n",
              "      <td>Bucher, Charles J</td>\n",
              "      <td>Cattaraugus</td>\n",
              "      <td>ALLEGANY</td>\n",
              "      <td>FIVE MILE</td>\n",
              "      <td>BRADFORD</td>\n",
              "      <td>10</td>\n",
              "      <td>0</td>\n",
              "      <td>0</td>\n",
              "      <td>0</td>\n",
              "      <td>0</td>\n",
              "      <td>0</td>\n",
              "      <td>NO</td>\n",
              "      <td>45</td>\n",
              "      <td>0</td>\n",
              "      <td>80</td>\n",
              "      <td>0</td>\n",
              "      <td>OA</td>\n",
              "      <td>ALLEGANY, NY\\n(42.088061, -78.491258)</td>\n",
              "    </tr>\n",
              "  </tbody>\n",
              "</table>\n",
              "</div>"
            ],
            "text/plain": [
              "   Production Year  ...                                  Location\n",
              "0             1995  ...      BUFFALO, NY\\n(42.887691, -78.879374)\n",
              "1             1995  ...   WEST UNION, NY\\n(42.094951, -77.725816)\n",
              "2             1994  ...   CARROLLTON, NY\\n(42.023289, -78.628438)\n",
              "3             1994  ...  CHEEKTOWAGA, NY\\n(42.907071, -78.754318)\n",
              "4             1995  ...     ALLEGANY, NY\\n(42.088061, -78.491258)\n",
              "\n",
              "[5 rows x 20 columns]"
            ]
          },
          "metadata": {},
          "execution_count": 5
        }
      ]
    },
    {
      "cell_type": "code",
      "metadata": {
        "colab": {
          "base_uri": "https://localhost:8080/"
        },
        "id": "J3DXVaaerXvg",
        "outputId": "8125be01-7956-4483-c4eb-1e7cebaa0340"
      },
      "source": [
        "from google.colab import drive\n",
        "drive.mount('/content/drive')"
      ],
      "execution_count": 6,
      "outputs": [
        {
          "output_type": "stream",
          "name": "stdout",
          "text": [
            "Drive already mounted at /content/drive; to attempt to forcibly remount, call drive.mount(\"/content/drive\", force_remount=True).\n"
          ]
        }
      ]
    },
    {
      "cell_type": "markdown",
      "metadata": {
        "id": "2LODBrBDkomZ"
      },
      "source": [
        "###Data Column meanings: \n",
        "\n",
        "1. **Production Year**: The year during which the oil and gas are produced. \n",
        "2. **Production date entered**: The date of production inputted by the operator.\n",
        "3.**Operator**: The company or individual that are responsible and have the legal authority to drill wells and undertake the production of hydrocarbons that are found.\n",
        "4. **County**: Specific region of a state or country where the oil and gas wells are located at.\n",
        "5. **Town**: The town where the oil and gas wells are located at. \n",
        "6. **Field**: The geographical area under which an oil or gas reservoir lies.\n",
        "7. **Producing formation**: The area where there is an underground rock formation from which oil, gas or water is produced\n",
        "8. **Active oil wells**: Number of wells that are currently producing oil. \n",
        "9. **Inactive oil wells**: Number of wells that have not produced oil in 12 months.\n",
        "10. **Active gas wells**: Number of wells that are currently producing gas. \n",
        "11. **Inactive gas wells**: Number of wells that have not produced gas in 12 months.  \n",
        "12. **Injection wells**: An injection well is used to place fluid underground into porous geologic formations. This could be steam, carbon dioxide, water or other substances to help maintain reservoir pressure, heat the oil or lower its viscosity, allowing it to flow to a producing well nearby.\n",
        "13. **Disposal wells**: Number of depleted oil or gas wells, into which waste fluids can be injected for safe disposal (extra info: Water specific to fracture return may be recycled for further use, or disposed by injection into deep subsurface formations, through a disposal well.)\n",
        "14. **Self-use well**:\n",
        "15. **Oil produced (bbl)**: Total number of barrels of oil produced by the active oil wells. \n",
        "16. **Gas produced (mcf)**: Amount of gas, in Mille Cubic Feet or 1000 cubic feet,  produced by active gas wells.\n",
        "17. **Water produced (bbl)**: Total number of barrels of water produced by the active oil and gas wells.\n",
        "18. **Taxable gas (mcf)**: Amount of gas, in Mille Cubic Feet or 1000 cubic feet, that can be taxed. \n",
        "19. **Purchaser codes**: Specifies a code to specify the purchaser who normally handles this vendor's account.\n",
        "20. **Location**: The country, state, and longitude and latitude \n",
        "\n"
      ]
    },
    {
      "cell_type": "markdown",
      "metadata": {
        "id": "k2hpnukJy9UE"
      },
      "source": [
        "###Cleaning the Data:"
      ]
    },
    {
      "cell_type": "markdown",
      "metadata": {
        "id": "Cx5wajOLzFYQ"
      },
      "source": [
        "####First let's check which columns have empty observations. "
      ]
    },
    {
      "cell_type": "code",
      "metadata": {
        "colab": {
          "base_uri": "https://localhost:8080/"
        },
        "id": "1ceMMpRlzPWk",
        "outputId": "ce6f0a59-6c46-4358-c292-392ea0439df1"
      },
      "source": [
        "production_df.shape"
      ],
      "execution_count": 7,
      "outputs": [
        {
          "output_type": "execute_result",
          "data": {
            "text/plain": [
              "(30053, 20)"
            ]
          },
          "metadata": {},
          "execution_count": 7
        }
      ]
    },
    {
      "cell_type": "code",
      "metadata": {
        "colab": {
          "base_uri": "https://localhost:8080/"
        },
        "id": "DduOfmTChvrJ",
        "outputId": "f20e2db2-d18b-44cc-d3d6-ca3fc061632e"
      },
      "source": [
        "production_df.info()"
      ],
      "execution_count": 8,
      "outputs": [
        {
          "output_type": "stream",
          "name": "stdout",
          "text": [
            "<class 'pandas.core.frame.DataFrame'>\n",
            "RangeIndex: 30053 entries, 0 to 30052\n",
            "Data columns (total 20 columns):\n",
            " #   Column                   Non-Null Count  Dtype \n",
            "---  ------                   --------------  ----- \n",
            " 0   Production Year          30053 non-null  int64 \n",
            " 1   Production Date Entered  30053 non-null  object\n",
            " 2   Operator                 30053 non-null  object\n",
            " 3   County                   30022 non-null  object\n",
            " 4   Town                     29396 non-null  object\n",
            " 5   Field                    28772 non-null  object\n",
            " 6   Producing Formation      29393 non-null  object\n",
            " 7   Active Oil Wells         30053 non-null  int64 \n",
            " 8   Inactive Oil Wells       30053 non-null  int64 \n",
            " 9   Active Gas Wells         30053 non-null  int64 \n",
            " 10  Inactive Gas Wells       30053 non-null  int64 \n",
            " 11  Injection Wells          30053 non-null  int64 \n",
            " 12  Disposal Wells           30053 non-null  int64 \n",
            " 13  Self-use Well            29434 non-null  object\n",
            " 14  Oil Produced, bbl        30053 non-null  int64 \n",
            " 15  Gas Produced, Mcf        30053 non-null  int64 \n",
            " 16  Water produced, bbl      30053 non-null  int64 \n",
            " 17  Taxable Gas, Mcf         30053 non-null  int64 \n",
            " 18  Purchaser Codes          18255 non-null  object\n",
            " 19  Location                 30053 non-null  object\n",
            "dtypes: int64(11), object(9)\n",
            "memory usage: 4.6+ MB\n"
          ]
        }
      ]
    },
    {
      "cell_type": "markdown",
      "metadata": {
        "id": "vjK7sUy9zVE0"
      },
      "source": [
        "####Since there are supposed to be 30,053 observations in total, we can see that the County, Town, Field, Producing Formation, Self-Use Well, and Purchaser Codes columns have empty rows. We will now remove these empty rows. We will not bother about the Self-Use Well and Purchaser Codes columns since those are not used in our analysis. \n"
      ]
    },
    {
      "cell_type": "code",
      "metadata": {
        "colab": {
          "base_uri": "https://localhost:8080/"
        },
        "id": "SnL4H0900zo8",
        "outputId": "07472df7-b2b1-4311-a8ed-1a91d9e014ae"
      },
      "source": [
        "production_df = production_df.loc[production_df['County'].notnull()]\n",
        "production_df = production_df.loc[production_df['Town'].notnull()]\n",
        "production_df = production_df.loc[production_df['Field'].notnull()]\n",
        "production_df = production_df.loc[production_df['Producing Formation'].notnull()]\n",
        "production_df.shape\n"
      ],
      "execution_count": 9,
      "outputs": [
        {
          "output_type": "execute_result",
          "data": {
            "text/plain": [
              "(28357, 20)"
            ]
          },
          "metadata": {},
          "execution_count": 9
        }
      ]
    },
    {
      "cell_type": "markdown",
      "metadata": {
        "id": "QH30yrM96xm0"
      },
      "source": [
        "####Since the observations have decreased from 30,053 to 28,357, the null rows have been removed. "
      ]
    },
    {
      "cell_type": "markdown",
      "metadata": {
        "id": "DooNbRnE7OaA"
      },
      "source": [
        "##**Analysis Questions:**\n",
        "\n",
        "\n",
        "---\n",
        "\n",
        "\n",
        "###**1) The Renewable Energy movement started during the 1970s. Assuming that this movement would decrease the dependency on natural gas and oil by making people more aware, do the number of active  oil and gas wells decrease over the years? Can we also see the same effect on the number of disposal wells?**\n",
        "\n",
        "\n",
        "---\n",
        "\n",
        "\n",
        "\n",
        "\n",
        "\n",
        "\n",
        "\n",
        "\n",
        "\n",
        "\n",
        "\n"
      ]
    },
    {
      "cell_type": "markdown",
      "metadata": {
        "id": "HKKCt_lJ_Lt8"
      },
      "source": [
        "#### First, we will make a new dataframe `NR_df` which only has the columns that we need for this analysis. "
      ]
    },
    {
      "cell_type": "code",
      "metadata": {
        "colab": {
          "base_uri": "https://localhost:8080/",
          "height": 203
        },
        "id": "Mo-w5iPF7NMr",
        "outputId": "efa2735d-d546-4fa0-cada-8315288fc056"
      },
      "source": [
        "NR_df = production_df[['Production Year', 'Active Oil Wells', 'Active Gas Wells', 'Disposal Wells']]\n",
        "NR_df.head()"
      ],
      "execution_count": 10,
      "outputs": [
        {
          "output_type": "execute_result",
          "data": {
            "text/html": [
              "<div>\n",
              "<style scoped>\n",
              "    .dataframe tbody tr th:only-of-type {\n",
              "        vertical-align: middle;\n",
              "    }\n",
              "\n",
              "    .dataframe tbody tr th {\n",
              "        vertical-align: top;\n",
              "    }\n",
              "\n",
              "    .dataframe thead th {\n",
              "        text-align: right;\n",
              "    }\n",
              "</style>\n",
              "<table border=\"1\" class=\"dataframe\">\n",
              "  <thead>\n",
              "    <tr style=\"text-align: right;\">\n",
              "      <th></th>\n",
              "      <th>Production Year</th>\n",
              "      <th>Active Oil Wells</th>\n",
              "      <th>Active Gas Wells</th>\n",
              "      <th>Disposal Wells</th>\n",
              "    </tr>\n",
              "  </thead>\n",
              "  <tbody>\n",
              "    <tr>\n",
              "      <th>0</th>\n",
              "      <td>1995</td>\n",
              "      <td>0</td>\n",
              "      <td>1</td>\n",
              "      <td>0</td>\n",
              "    </tr>\n",
              "    <tr>\n",
              "      <th>1</th>\n",
              "      <td>1995</td>\n",
              "      <td>28</td>\n",
              "      <td>0</td>\n",
              "      <td>0</td>\n",
              "    </tr>\n",
              "    <tr>\n",
              "      <th>2</th>\n",
              "      <td>1994</td>\n",
              "      <td>3</td>\n",
              "      <td>0</td>\n",
              "      <td>0</td>\n",
              "    </tr>\n",
              "    <tr>\n",
              "      <th>3</th>\n",
              "      <td>1994</td>\n",
              "      <td>0</td>\n",
              "      <td>1</td>\n",
              "      <td>0</td>\n",
              "    </tr>\n",
              "    <tr>\n",
              "      <th>4</th>\n",
              "      <td>1995</td>\n",
              "      <td>10</td>\n",
              "      <td>0</td>\n",
              "      <td>0</td>\n",
              "    </tr>\n",
              "  </tbody>\n",
              "</table>\n",
              "</div>"
            ],
            "text/plain": [
              "   Production Year  Active Oil Wells  Active Gas Wells  Disposal Wells\n",
              "0             1995                 0                 1               0\n",
              "1             1995                28                 0               0\n",
              "2             1994                 3                 0               0\n",
              "3             1994                 0                 1               0\n",
              "4             1995                10                 0               0"
            ]
          },
          "metadata": {},
          "execution_count": 10
        }
      ]
    },
    {
      "cell_type": "markdown",
      "metadata": {
        "id": "y_ZlMt4g_WJj"
      },
      "source": [
        "#### We will now group by the production year to see the counts of the 5 different types of wells in each year."
      ]
    },
    {
      "cell_type": "code",
      "metadata": {
        "colab": {
          "base_uri": "https://localhost:8080/",
          "height": 234
        },
        "id": "fw-kKIt6-8Y5",
        "outputId": "6a908af7-94dc-4502-cecd-d911c02c8b07"
      },
      "source": [
        "NR_df1 = NR_df.groupby('Production Year').sum()\n",
        "NR_df1.head()"
      ],
      "execution_count": 11,
      "outputs": [
        {
          "output_type": "execute_result",
          "data": {
            "text/html": [
              "<div>\n",
              "<style scoped>\n",
              "    .dataframe tbody tr th:only-of-type {\n",
              "        vertical-align: middle;\n",
              "    }\n",
              "\n",
              "    .dataframe tbody tr th {\n",
              "        vertical-align: top;\n",
              "    }\n",
              "\n",
              "    .dataframe thead th {\n",
              "        text-align: right;\n",
              "    }\n",
              "</style>\n",
              "<table border=\"1\" class=\"dataframe\">\n",
              "  <thead>\n",
              "    <tr style=\"text-align: right;\">\n",
              "      <th></th>\n",
              "      <th>Active Oil Wells</th>\n",
              "      <th>Active Gas Wells</th>\n",
              "      <th>Disposal Wells</th>\n",
              "    </tr>\n",
              "    <tr>\n",
              "      <th>Production Year</th>\n",
              "      <th></th>\n",
              "      <th></th>\n",
              "      <th></th>\n",
              "    </tr>\n",
              "  </thead>\n",
              "  <tbody>\n",
              "    <tr>\n",
              "      <th>1967</th>\n",
              "      <td>3250</td>\n",
              "      <td>484</td>\n",
              "      <td>0</td>\n",
              "    </tr>\n",
              "    <tr>\n",
              "      <th>1968</th>\n",
              "      <td>3678</td>\n",
              "      <td>515</td>\n",
              "      <td>0</td>\n",
              "    </tr>\n",
              "    <tr>\n",
              "      <th>1969</th>\n",
              "      <td>4117</td>\n",
              "      <td>481</td>\n",
              "      <td>0</td>\n",
              "    </tr>\n",
              "    <tr>\n",
              "      <th>1970</th>\n",
              "      <td>4261</td>\n",
              "      <td>446</td>\n",
              "      <td>0</td>\n",
              "    </tr>\n",
              "    <tr>\n",
              "      <th>1971</th>\n",
              "      <td>4229</td>\n",
              "      <td>409</td>\n",
              "      <td>0</td>\n",
              "    </tr>\n",
              "  </tbody>\n",
              "</table>\n",
              "</div>"
            ],
            "text/plain": [
              "                 Active Oil Wells  Active Gas Wells  Disposal Wells\n",
              "Production Year                                                    \n",
              "1967                         3250               484               0\n",
              "1968                         3678               515               0\n",
              "1969                         4117               481               0\n",
              "1970                         4261               446               0\n",
              "1971                         4229               409               0"
            ]
          },
          "metadata": {},
          "execution_count": 11
        }
      ]
    },
    {
      "cell_type": "markdown",
      "metadata": {
        "id": "VRfp7SE_Ipot"
      },
      "source": [
        "####Using the `melt()` function we will turn this dataframe from a wide form to a long form since Altair charts work best with the long form."
      ]
    },
    {
      "cell_type": "code",
      "metadata": {
        "colab": {
          "base_uri": "https://localhost:8080/",
          "height": 203
        },
        "id": "SAf_qDOCEo38",
        "outputId": "1978ec2c-9878-4f22-ff89-020c0a6de3fa"
      },
      "source": [
        "NR_df1 = NR_df1.reset_index()\n",
        "NR_df1.head()"
      ],
      "execution_count": 12,
      "outputs": [
        {
          "output_type": "execute_result",
          "data": {
            "text/html": [
              "<div>\n",
              "<style scoped>\n",
              "    .dataframe tbody tr th:only-of-type {\n",
              "        vertical-align: middle;\n",
              "    }\n",
              "\n",
              "    .dataframe tbody tr th {\n",
              "        vertical-align: top;\n",
              "    }\n",
              "\n",
              "    .dataframe thead th {\n",
              "        text-align: right;\n",
              "    }\n",
              "</style>\n",
              "<table border=\"1\" class=\"dataframe\">\n",
              "  <thead>\n",
              "    <tr style=\"text-align: right;\">\n",
              "      <th></th>\n",
              "      <th>Production Year</th>\n",
              "      <th>Active Oil Wells</th>\n",
              "      <th>Active Gas Wells</th>\n",
              "      <th>Disposal Wells</th>\n",
              "    </tr>\n",
              "  </thead>\n",
              "  <tbody>\n",
              "    <tr>\n",
              "      <th>0</th>\n",
              "      <td>1967</td>\n",
              "      <td>3250</td>\n",
              "      <td>484</td>\n",
              "      <td>0</td>\n",
              "    </tr>\n",
              "    <tr>\n",
              "      <th>1</th>\n",
              "      <td>1968</td>\n",
              "      <td>3678</td>\n",
              "      <td>515</td>\n",
              "      <td>0</td>\n",
              "    </tr>\n",
              "    <tr>\n",
              "      <th>2</th>\n",
              "      <td>1969</td>\n",
              "      <td>4117</td>\n",
              "      <td>481</td>\n",
              "      <td>0</td>\n",
              "    </tr>\n",
              "    <tr>\n",
              "      <th>3</th>\n",
              "      <td>1970</td>\n",
              "      <td>4261</td>\n",
              "      <td>446</td>\n",
              "      <td>0</td>\n",
              "    </tr>\n",
              "    <tr>\n",
              "      <th>4</th>\n",
              "      <td>1971</td>\n",
              "      <td>4229</td>\n",
              "      <td>409</td>\n",
              "      <td>0</td>\n",
              "    </tr>\n",
              "  </tbody>\n",
              "</table>\n",
              "</div>"
            ],
            "text/plain": [
              "   Production Year  Active Oil Wells  Active Gas Wells  Disposal Wells\n",
              "0             1967              3250               484               0\n",
              "1             1968              3678               515               0\n",
              "2             1969              4117               481               0\n",
              "3             1970              4261               446               0\n",
              "4             1971              4229               409               0"
            ]
          },
          "metadata": {},
          "execution_count": 12
        }
      ]
    },
    {
      "cell_type": "code",
      "metadata": {
        "colab": {
          "base_uri": "https://localhost:8080/",
          "height": 417
        },
        "id": "gzCneyr3AKMK",
        "outputId": "6491a6ee-3423-4056-cba3-d20459d1335a"
      },
      "source": [
        "NR_df1_melt = NR_df1.melt(id_vars='Production Year', value_vars=['Active Oil Wells', 'Active Gas Wells', 'Disposal Wells'])\n",
        "NR_df1_melt"
      ],
      "execution_count": 13,
      "outputs": [
        {
          "output_type": "execute_result",
          "data": {
            "text/html": [
              "<div>\n",
              "<style scoped>\n",
              "    .dataframe tbody tr th:only-of-type {\n",
              "        vertical-align: middle;\n",
              "    }\n",
              "\n",
              "    .dataframe tbody tr th {\n",
              "        vertical-align: top;\n",
              "    }\n",
              "\n",
              "    .dataframe thead th {\n",
              "        text-align: right;\n",
              "    }\n",
              "</style>\n",
              "<table border=\"1\" class=\"dataframe\">\n",
              "  <thead>\n",
              "    <tr style=\"text-align: right;\">\n",
              "      <th></th>\n",
              "      <th>Production Year</th>\n",
              "      <th>variable</th>\n",
              "      <th>value</th>\n",
              "    </tr>\n",
              "  </thead>\n",
              "  <tbody>\n",
              "    <tr>\n",
              "      <th>0</th>\n",
              "      <td>1967</td>\n",
              "      <td>Active Oil Wells</td>\n",
              "      <td>3250</td>\n",
              "    </tr>\n",
              "    <tr>\n",
              "      <th>1</th>\n",
              "      <td>1968</td>\n",
              "      <td>Active Oil Wells</td>\n",
              "      <td>3678</td>\n",
              "    </tr>\n",
              "    <tr>\n",
              "      <th>2</th>\n",
              "      <td>1969</td>\n",
              "      <td>Active Oil Wells</td>\n",
              "      <td>4117</td>\n",
              "    </tr>\n",
              "    <tr>\n",
              "      <th>3</th>\n",
              "      <td>1970</td>\n",
              "      <td>Active Oil Wells</td>\n",
              "      <td>4261</td>\n",
              "    </tr>\n",
              "    <tr>\n",
              "      <th>4</th>\n",
              "      <td>1971</td>\n",
              "      <td>Active Oil Wells</td>\n",
              "      <td>4229</td>\n",
              "    </tr>\n",
              "    <tr>\n",
              "      <th>...</th>\n",
              "      <td>...</td>\n",
              "      <td>...</td>\n",
              "      <td>...</td>\n",
              "    </tr>\n",
              "    <tr>\n",
              "      <th>94</th>\n",
              "      <td>1995</td>\n",
              "      <td>Disposal Wells</td>\n",
              "      <td>0</td>\n",
              "    </tr>\n",
              "    <tr>\n",
              "      <th>95</th>\n",
              "      <td>1996</td>\n",
              "      <td>Disposal Wells</td>\n",
              "      <td>1</td>\n",
              "    </tr>\n",
              "    <tr>\n",
              "      <th>96</th>\n",
              "      <td>1997</td>\n",
              "      <td>Disposal Wells</td>\n",
              "      <td>5</td>\n",
              "    </tr>\n",
              "    <tr>\n",
              "      <th>97</th>\n",
              "      <td>1998</td>\n",
              "      <td>Disposal Wells</td>\n",
              "      <td>0</td>\n",
              "    </tr>\n",
              "    <tr>\n",
              "      <th>98</th>\n",
              "      <td>1999</td>\n",
              "      <td>Disposal Wells</td>\n",
              "      <td>0</td>\n",
              "    </tr>\n",
              "  </tbody>\n",
              "</table>\n",
              "<p>99 rows × 3 columns</p>\n",
              "</div>"
            ],
            "text/plain": [
              "    Production Year          variable  value\n",
              "0              1967  Active Oil Wells   3250\n",
              "1              1968  Active Oil Wells   3678\n",
              "2              1969  Active Oil Wells   4117\n",
              "3              1970  Active Oil Wells   4261\n",
              "4              1971  Active Oil Wells   4229\n",
              "..              ...               ...    ...\n",
              "94             1995    Disposal Wells      0\n",
              "95             1996    Disposal Wells      1\n",
              "96             1997    Disposal Wells      5\n",
              "97             1998    Disposal Wells      0\n",
              "98             1999    Disposal Wells      0\n",
              "\n",
              "[99 rows x 3 columns]"
            ]
          },
          "metadata": {},
          "execution_count": 13
        }
      ]
    },
    {
      "cell_type": "markdown",
      "metadata": {
        "id": "hvWrtTqhJEUk"
      },
      "source": [
        "####We are now representing this melted dataframe using a line chart. "
      ]
    },
    {
      "cell_type": "code",
      "metadata": {
        "colab": {
          "base_uri": "https://localhost:8080/",
          "height": 376
        },
        "id": "U2L6c2ebEk-J",
        "outputId": "d3fb5d0d-64b6-47d0-af33-d01749fec32e"
      },
      "source": [
        "Chart(NR_df1_melt).mark_line().encode(x='Production Year:O', y='value', color='variable')"
      ],
      "execution_count": 14,
      "outputs": [
        {
          "output_type": "execute_result",
          "data": {
            "text/plain": [
              "alt.Chart(...)"
            ],
            "text/html": [
              "\n",
              "<div id=\"altair-viz-6a3b8ccbea424925bf57837c3e2e4f8b\"></div>\n",
              "<script type=\"text/javascript\">\n",
              "  (function(spec, embedOpt){\n",
              "    let outputDiv = document.currentScript.previousElementSibling;\n",
              "    if (outputDiv.id !== \"altair-viz-6a3b8ccbea424925bf57837c3e2e4f8b\") {\n",
              "      outputDiv = document.getElementById(\"altair-viz-6a3b8ccbea424925bf57837c3e2e4f8b\");\n",
              "    }\n",
              "    const paths = {\n",
              "      \"vega\": \"https://cdn.jsdelivr.net/npm//vega@5?noext\",\n",
              "      \"vega-lib\": \"https://cdn.jsdelivr.net/npm//vega-lib?noext\",\n",
              "      \"vega-lite\": \"https://cdn.jsdelivr.net/npm//vega-lite@4.8.1?noext\",\n",
              "      \"vega-embed\": \"https://cdn.jsdelivr.net/npm//vega-embed@6?noext\",\n",
              "    };\n",
              "\n",
              "    function loadScript(lib) {\n",
              "      return new Promise(function(resolve, reject) {\n",
              "        var s = document.createElement('script');\n",
              "        s.src = paths[lib];\n",
              "        s.async = true;\n",
              "        s.onload = () => resolve(paths[lib]);\n",
              "        s.onerror = () => reject(`Error loading script: ${paths[lib]}`);\n",
              "        document.getElementsByTagName(\"head\")[0].appendChild(s);\n",
              "      });\n",
              "    }\n",
              "\n",
              "    function showError(err) {\n",
              "      outputDiv.innerHTML = `<div class=\"error\" style=\"color:red;\">${err}</div>`;\n",
              "      throw err;\n",
              "    }\n",
              "\n",
              "    function displayChart(vegaEmbed) {\n",
              "      vegaEmbed(outputDiv, spec, embedOpt)\n",
              "        .catch(err => showError(`Javascript Error: ${err.message}<br>This usually means there's a typo in your chart specification. See the javascript console for the full traceback.`));\n",
              "    }\n",
              "\n",
              "    if(typeof define === \"function\" && define.amd) {\n",
              "      requirejs.config({paths});\n",
              "      require([\"vega-embed\"], displayChart, err => showError(`Error loading script: ${err.message}`));\n",
              "    } else if (typeof vegaEmbed === \"function\") {\n",
              "      displayChart(vegaEmbed);\n",
              "    } else {\n",
              "      loadScript(\"vega\")\n",
              "        .then(() => loadScript(\"vega-lite\"))\n",
              "        .then(() => loadScript(\"vega-embed\"))\n",
              "        .catch(showError)\n",
              "        .then(() => displayChart(vegaEmbed));\n",
              "    }\n",
              "  })({\"config\": {\"view\": {\"continuousWidth\": 400, \"continuousHeight\": 300}}, \"data\": {\"name\": \"data-1c98327226adc02768df8bbc8a6091ef\"}, \"mark\": \"line\", \"encoding\": {\"color\": {\"type\": \"nominal\", \"field\": \"variable\"}, \"x\": {\"type\": \"ordinal\", \"field\": \"Production Year\"}, \"y\": {\"type\": \"quantitative\", \"field\": \"value\"}}, \"$schema\": \"https://vega.github.io/schema/vega-lite/v4.8.1.json\", \"datasets\": {\"data-1c98327226adc02768df8bbc8a6091ef\": [{\"Production Year\": 1967, \"variable\": \"Active Oil Wells\", \"value\": 3250}, {\"Production Year\": 1968, \"variable\": \"Active Oil Wells\", \"value\": 3678}, {\"Production Year\": 1969, \"variable\": \"Active Oil Wells\", \"value\": 4117}, {\"Production Year\": 1970, \"variable\": \"Active Oil Wells\", \"value\": 4261}, {\"Production Year\": 1971, \"variable\": \"Active Oil Wells\", \"value\": 4229}, {\"Production Year\": 1972, \"variable\": \"Active Oil Wells\", \"value\": 4432}, {\"Production Year\": 1973, \"variable\": \"Active Oil Wells\", \"value\": 4567}, {\"Production Year\": 1974, \"variable\": \"Active Oil Wells\", \"value\": 4657}, {\"Production Year\": 1975, \"variable\": \"Active Oil Wells\", \"value\": 4352}, {\"Production Year\": 1976, \"variable\": \"Active Oil Wells\", \"value\": 5414}, {\"Production Year\": 1977, \"variable\": \"Active Oil Wells\", \"value\": 4760}, {\"Production Year\": 1978, \"variable\": \"Active Oil Wells\", \"value\": 5104}, {\"Production Year\": 1979, \"variable\": \"Active Oil Wells\", \"value\": 5664}, {\"Production Year\": 1980, \"variable\": \"Active Oil Wells\", \"value\": 5265}, {\"Production Year\": 1981, \"variable\": \"Active Oil Wells\", \"value\": 5062}, {\"Production Year\": 1982, \"variable\": \"Active Oil Wells\", \"value\": 4820}, {\"Production Year\": 1983, \"variable\": \"Active Oil Wells\", \"value\": 4540}, {\"Production Year\": 1984, \"variable\": \"Active Oil Wells\", \"value\": 4533}, {\"Production Year\": 1985, \"variable\": \"Active Oil Wells\", \"value\": 4800}, {\"Production Year\": 1986, \"variable\": \"Active Oil Wells\", \"value\": 4434}, {\"Production Year\": 1987, \"variable\": \"Active Oil Wells\", \"value\": 4190}, {\"Production Year\": 1988, \"variable\": \"Active Oil Wells\", \"value\": 4368}, {\"Production Year\": 1989, \"variable\": \"Active Oil Wells\", \"value\": 4043}, {\"Production Year\": 1990, \"variable\": \"Active Oil Wells\", \"value\": 3916}, {\"Production Year\": 1991, \"variable\": \"Active Oil Wells\", \"value\": 3627}, {\"Production Year\": 1992, \"variable\": \"Active Oil Wells\", \"value\": 3761}, {\"Production Year\": 1993, \"variable\": \"Active Oil Wells\", \"value\": 3785}, {\"Production Year\": 1994, \"variable\": \"Active Oil Wells\", \"value\": 3670}, {\"Production Year\": 1995, \"variable\": \"Active Oil Wells\", \"value\": 3655}, {\"Production Year\": 1996, \"variable\": \"Active Oil Wells\", \"value\": 3684}, {\"Production Year\": 1997, \"variable\": \"Active Oil Wells\", \"value\": 3466}, {\"Production Year\": 1998, \"variable\": \"Active Oil Wells\", \"value\": 3940}, {\"Production Year\": 1999, \"variable\": \"Active Oil Wells\", \"value\": 3815}, {\"Production Year\": 1967, \"variable\": \"Active Gas Wells\", \"value\": 484}, {\"Production Year\": 1968, \"variable\": \"Active Gas Wells\", \"value\": 515}, {\"Production Year\": 1969, \"variable\": \"Active Gas Wells\", \"value\": 481}, {\"Production Year\": 1970, \"variable\": \"Active Gas Wells\", \"value\": 446}, {\"Production Year\": 1971, \"variable\": \"Active Gas Wells\", \"value\": 409}, {\"Production Year\": 1972, \"variable\": \"Active Gas Wells\", \"value\": 472}, {\"Production Year\": 1973, \"variable\": \"Active Gas Wells\", \"value\": 485}, {\"Production Year\": 1974, \"variable\": \"Active Gas Wells\", \"value\": 473}, {\"Production Year\": 1975, \"variable\": \"Active Gas Wells\", \"value\": 558}, {\"Production Year\": 1976, \"variable\": \"Active Gas Wells\", \"value\": 1172}, {\"Production Year\": 1977, \"variable\": \"Active Gas Wells\", \"value\": 1342}, {\"Production Year\": 1978, \"variable\": \"Active Gas Wells\", \"value\": 897}, {\"Production Year\": 1979, \"variable\": \"Active Gas Wells\", \"value\": 1558}, {\"Production Year\": 1980, \"variable\": \"Active Gas Wells\", \"value\": 1893}, {\"Production Year\": 1981, \"variable\": \"Active Gas Wells\", \"value\": 2333}, {\"Production Year\": 1982, \"variable\": \"Active Gas Wells\", \"value\": 2658}, {\"Production Year\": 1983, \"variable\": \"Active Gas Wells\", \"value\": 3446}, {\"Production Year\": 1984, \"variable\": \"Active Gas Wells\", \"value\": 4219}, {\"Production Year\": 1985, \"variable\": \"Active Gas Wells\", \"value\": 4787}, {\"Production Year\": 1986, \"variable\": \"Active Gas Wells\", \"value\": 5053}, {\"Production Year\": 1987, \"variable\": \"Active Gas Wells\", \"value\": 5327}, {\"Production Year\": 1988, \"variable\": \"Active Gas Wells\", \"value\": 5313}, {\"Production Year\": 1989, \"variable\": \"Active Gas Wells\", \"value\": 5412}, {\"Production Year\": 1990, \"variable\": \"Active Gas Wells\", \"value\": 5535}, {\"Production Year\": 1991, \"variable\": \"Active Gas Wells\", \"value\": 5759}, {\"Production Year\": 1992, \"variable\": \"Active Gas Wells\", \"value\": 5870}, {\"Production Year\": 1993, \"variable\": \"Active Gas Wells\", \"value\": 5973}, {\"Production Year\": 1994, \"variable\": \"Active Gas Wells\", \"value\": 5993}, {\"Production Year\": 1995, \"variable\": \"Active Gas Wells\", \"value\": 6144}, {\"Production Year\": 1996, \"variable\": \"Active Gas Wells\", \"value\": 5869}, {\"Production Year\": 1997, \"variable\": \"Active Gas Wells\", \"value\": 5738}, {\"Production Year\": 1998, \"variable\": \"Active Gas Wells\", \"value\": 5838}, {\"Production Year\": 1999, \"variable\": \"Active Gas Wells\", \"value\": 5923}, {\"Production Year\": 1967, \"variable\": \"Disposal Wells\", \"value\": 0}, {\"Production Year\": 1968, \"variable\": \"Disposal Wells\", \"value\": 0}, {\"Production Year\": 1969, \"variable\": \"Disposal Wells\", \"value\": 0}, {\"Production Year\": 1970, \"variable\": \"Disposal Wells\", \"value\": 0}, {\"Production Year\": 1971, \"variable\": \"Disposal Wells\", \"value\": 0}, {\"Production Year\": 1972, \"variable\": \"Disposal Wells\", \"value\": 3}, {\"Production Year\": 1973, \"variable\": \"Disposal Wells\", \"value\": 0}, {\"Production Year\": 1974, \"variable\": \"Disposal Wells\", \"value\": 0}, {\"Production Year\": 1975, \"variable\": \"Disposal Wells\", \"value\": 0}, {\"Production Year\": 1976, \"variable\": \"Disposal Wells\", \"value\": 0}, {\"Production Year\": 1977, \"variable\": \"Disposal Wells\", \"value\": 3}, {\"Production Year\": 1978, \"variable\": \"Disposal Wells\", \"value\": 227}, {\"Production Year\": 1979, \"variable\": \"Disposal Wells\", \"value\": 1}, {\"Production Year\": 1980, \"variable\": \"Disposal Wells\", \"value\": 0}, {\"Production Year\": 1981, \"variable\": \"Disposal Wells\", \"value\": 1}, {\"Production Year\": 1982, \"variable\": \"Disposal Wells\", \"value\": 1}, {\"Production Year\": 1983, \"variable\": \"Disposal Wells\", \"value\": 1}, {\"Production Year\": 1984, \"variable\": \"Disposal Wells\", \"value\": 1}, {\"Production Year\": 1985, \"variable\": \"Disposal Wells\", \"value\": 0}, {\"Production Year\": 1986, \"variable\": \"Disposal Wells\", \"value\": 1}, {\"Production Year\": 1987, \"variable\": \"Disposal Wells\", \"value\": 139}, {\"Production Year\": 1988, \"variable\": \"Disposal Wells\", \"value\": 20}, {\"Production Year\": 1989, \"variable\": \"Disposal Wells\", \"value\": 4}, {\"Production Year\": 1990, \"variable\": \"Disposal Wells\", \"value\": 3}, {\"Production Year\": 1991, \"variable\": \"Disposal Wells\", \"value\": 4}, {\"Production Year\": 1992, \"variable\": \"Disposal Wells\", \"value\": 77}, {\"Production Year\": 1993, \"variable\": \"Disposal Wells\", \"value\": 1}, {\"Production Year\": 1994, \"variable\": \"Disposal Wells\", \"value\": 1}, {\"Production Year\": 1995, \"variable\": \"Disposal Wells\", \"value\": 0}, {\"Production Year\": 1996, \"variable\": \"Disposal Wells\", \"value\": 1}, {\"Production Year\": 1997, \"variable\": \"Disposal Wells\", \"value\": 5}, {\"Production Year\": 1998, \"variable\": \"Disposal Wells\", \"value\": 0}, {\"Production Year\": 1999, \"variable\": \"Disposal Wells\", \"value\": 0}]}}, {\"mode\": \"vega-lite\"});\n",
              "</script>"
            ]
          },
          "metadata": {},
          "execution_count": 14
        }
      ]
    },
    {
      "cell_type": "markdown",
      "metadata": {
        "id": "H6EIXkpjKSrZ"
      },
      "source": [
        "#### Unfortunately, from the line chart above, we can see that the Renewable Energy movement did not decrease the number of active oil wells and gas wells. Infact, there is an increase in active gas wells significantly from 1975 which is contradictory to the purpose of the movement. We do see a decline in number of active oil wells from 1978 which might indicate more dependency on renewable sources. However, we end up having more number of active oil wells in 1999 than in 1967. For the disposal wells, there seems to be no significant change except for the brief increases in number during 1978, 1987 and 1992. "
      ]
    },
    {
      "cell_type": "markdown",
      "metadata": {
        "id": "dJa-ZslZMkG5"
      },
      "source": [
        "\n",
        "\n",
        "---\n",
        "\n",
        "\n",
        "###**2) Injection wells are said to improve oil and gas production. Can we see a positive relationship between number of injection wells and amount of gas and oil produced?**\n",
        "\n",
        "---\n",
        "\n",
        "\n",
        "\n",
        "\n",
        "\n"
      ]
    },
    {
      "cell_type": "markdown",
      "metadata": {
        "id": "2fHzEPFgSCxE"
      },
      "source": [
        "####First, we will group our data by injection wells and bring out only the columns that we need which are Injection Wells, Oil Produced and Gas Produced."
      ]
    },
    {
      "cell_type": "code",
      "metadata": {
        "colab": {
          "base_uri": "https://localhost:8080/",
          "height": 203
        },
        "id": "7oaaB4vUO1O1",
        "outputId": "c674d285-5727-4bdf-9496-fed862cf989d"
      },
      "source": [
        "IW_df = production_df[['Injection Wells', 'Oil Produced, bbl','Gas Produced, Mcf']]\n",
        "IW_df = IW_df.groupby('Injection Wells').sum()\n",
        "IW_df = IW_df.reset_index()\n",
        "IW_df.head()\n"
      ],
      "execution_count": 15,
      "outputs": [
        {
          "output_type": "execute_result",
          "data": {
            "text/html": [
              "<div>\n",
              "<style scoped>\n",
              "    .dataframe tbody tr th:only-of-type {\n",
              "        vertical-align: middle;\n",
              "    }\n",
              "\n",
              "    .dataframe tbody tr th {\n",
              "        vertical-align: top;\n",
              "    }\n",
              "\n",
              "    .dataframe thead th {\n",
              "        text-align: right;\n",
              "    }\n",
              "</style>\n",
              "<table border=\"1\" class=\"dataframe\">\n",
              "  <thead>\n",
              "    <tr style=\"text-align: right;\">\n",
              "      <th></th>\n",
              "      <th>Injection Wells</th>\n",
              "      <th>Oil Produced, bbl</th>\n",
              "      <th>Gas Produced, Mcf</th>\n",
              "    </tr>\n",
              "  </thead>\n",
              "  <tbody>\n",
              "    <tr>\n",
              "      <th>0</th>\n",
              "      <td>0</td>\n",
              "      <td>16613675</td>\n",
              "      <td>515658270</td>\n",
              "    </tr>\n",
              "    <tr>\n",
              "      <th>1</th>\n",
              "      <td>1</td>\n",
              "      <td>43017</td>\n",
              "      <td>1330659</td>\n",
              "    </tr>\n",
              "    <tr>\n",
              "      <th>2</th>\n",
              "      <td>2</td>\n",
              "      <td>36288</td>\n",
              "      <td>22390</td>\n",
              "    </tr>\n",
              "    <tr>\n",
              "      <th>3</th>\n",
              "      <td>3</td>\n",
              "      <td>52766</td>\n",
              "      <td>9266</td>\n",
              "    </tr>\n",
              "    <tr>\n",
              "      <th>4</th>\n",
              "      <td>4</td>\n",
              "      <td>13850</td>\n",
              "      <td>4513</td>\n",
              "    </tr>\n",
              "  </tbody>\n",
              "</table>\n",
              "</div>"
            ],
            "text/plain": [
              "   Injection Wells  Oil Produced, bbl  Gas Produced, Mcf\n",
              "0                0           16613675          515658270\n",
              "1                1              43017            1330659\n",
              "2                2              36288              22390\n",
              "3                3              52766               9266\n",
              "4                4              13850               4513"
            ]
          },
          "metadata": {},
          "execution_count": 15
        }
      ]
    },
    {
      "cell_type": "markdown",
      "metadata": {
        "id": "zkJT0a5EVCOC"
      },
      "source": [
        "###Now, we will create a new column called 'Injection Wells Category'. This column will consist information about whether the number of injection wells is Low, Moderate or High. To do this I will first create a function called IW_category."
      ]
    },
    {
      "cell_type": "code",
      "metadata": {
        "colab": {
          "base_uri": "https://localhost:8080/"
        },
        "id": "TSM3ONbdPvXP",
        "outputId": "cc9578b9-9ac9-46f2-eb9b-a6b4a627517c"
      },
      "source": [
        "IW_df['Injection Wells'].describe()"
      ],
      "execution_count": 16,
      "outputs": [
        {
          "output_type": "execute_result",
          "data": {
            "text/plain": [
              "count     150.000000\n",
              "mean      136.880000\n",
              "std       161.157263\n",
              "min         0.000000\n",
              "25%        37.250000\n",
              "50%        81.500000\n",
              "75%       178.750000\n",
              "max      1108.000000\n",
              "Name: Injection Wells, dtype: float64"
            ]
          },
          "metadata": {},
          "execution_count": 16
        }
      ]
    },
    {
      "cell_type": "markdown",
      "metadata": {
        "id": "3brl_b7wYHip"
      },
      "source": [
        "#### To categorize the number of injection wells into 'Low Injection Well Count', 'Moderate Injection Well Count', and 'High Injection Well Count', we will use the first quadrant and third quadrant values as boundaries. "
      ]
    },
    {
      "cell_type": "code",
      "metadata": {
        "id": "zt3MxTt_UEFG"
      },
      "source": [
        "def IW_category(Injection_Wells):\n",
        "  if Injection_Wells <= 37.25:\n",
        "    return 'Low Injection Well Count'\n",
        "  elif Injection_Wells >= 178.75:\n",
        "    return 'High Injection Well Count'\n",
        "  else:\n",
        "    return 'Moderate Injection Well Count'"
      ],
      "execution_count": 17,
      "outputs": []
    },
    {
      "cell_type": "markdown",
      "metadata": {
        "id": "qeZt0Mn-Yvad"
      },
      "source": [
        "#### Now we will apply `IW_category` function to the \"Injection Wells\" column to create the new category column."
      ]
    },
    {
      "cell_type": "code",
      "metadata": {
        "colab": {
          "base_uri": "https://localhost:8080/",
          "height": 203
        },
        "id": "ARNDAs0bX95l",
        "outputId": "dbb1be46-b2b8-48fb-bd3a-9f7ea953794a"
      },
      "source": [
        "IW_df['Injection Wells Category'] = IW_df['Injection Wells'].apply(IW_category)\n",
        "IW_df.head()"
      ],
      "execution_count": 18,
      "outputs": [
        {
          "output_type": "execute_result",
          "data": {
            "text/html": [
              "<div>\n",
              "<style scoped>\n",
              "    .dataframe tbody tr th:only-of-type {\n",
              "        vertical-align: middle;\n",
              "    }\n",
              "\n",
              "    .dataframe tbody tr th {\n",
              "        vertical-align: top;\n",
              "    }\n",
              "\n",
              "    .dataframe thead th {\n",
              "        text-align: right;\n",
              "    }\n",
              "</style>\n",
              "<table border=\"1\" class=\"dataframe\">\n",
              "  <thead>\n",
              "    <tr style=\"text-align: right;\">\n",
              "      <th></th>\n",
              "      <th>Injection Wells</th>\n",
              "      <th>Oil Produced, bbl</th>\n",
              "      <th>Gas Produced, Mcf</th>\n",
              "      <th>Injection Wells Category</th>\n",
              "    </tr>\n",
              "  </thead>\n",
              "  <tbody>\n",
              "    <tr>\n",
              "      <th>0</th>\n",
              "      <td>0</td>\n",
              "      <td>16613675</td>\n",
              "      <td>515658270</td>\n",
              "      <td>Low Injection Well Count</td>\n",
              "    </tr>\n",
              "    <tr>\n",
              "      <th>1</th>\n",
              "      <td>1</td>\n",
              "      <td>43017</td>\n",
              "      <td>1330659</td>\n",
              "      <td>Low Injection Well Count</td>\n",
              "    </tr>\n",
              "    <tr>\n",
              "      <th>2</th>\n",
              "      <td>2</td>\n",
              "      <td>36288</td>\n",
              "      <td>22390</td>\n",
              "      <td>Low Injection Well Count</td>\n",
              "    </tr>\n",
              "    <tr>\n",
              "      <th>3</th>\n",
              "      <td>3</td>\n",
              "      <td>52766</td>\n",
              "      <td>9266</td>\n",
              "      <td>Low Injection Well Count</td>\n",
              "    </tr>\n",
              "    <tr>\n",
              "      <th>4</th>\n",
              "      <td>4</td>\n",
              "      <td>13850</td>\n",
              "      <td>4513</td>\n",
              "      <td>Low Injection Well Count</td>\n",
              "    </tr>\n",
              "  </tbody>\n",
              "</table>\n",
              "</div>"
            ],
            "text/plain": [
              "   Injection Wells  ...  Injection Wells Category\n",
              "0                0  ...  Low Injection Well Count\n",
              "1                1  ...  Low Injection Well Count\n",
              "2                2  ...  Low Injection Well Count\n",
              "3                3  ...  Low Injection Well Count\n",
              "4                4  ...  Low Injection Well Count\n",
              "\n",
              "[5 rows x 4 columns]"
            ]
          },
          "metadata": {},
          "execution_count": 18
        }
      ]
    },
    {
      "cell_type": "code",
      "metadata": {
        "id": "cJxFzAEwFftV"
      },
      "source": [
        ""
      ],
      "execution_count": 18,
      "outputs": []
    },
    {
      "cell_type": "markdown",
      "metadata": {
        "id": "myu4AzNzFD_0"
      },
      "source": [
        "###Using new method of creating different tables for different injection wells *category*"
      ]
    },
    {
      "cell_type": "code",
      "metadata": {
        "colab": {
          "base_uri": "https://localhost:8080/",
          "height": 203
        },
        "id": "SGLR7w53FNS1",
        "outputId": "b6494fa0-e97b-42a0-d393-02b93295e1b7"
      },
      "source": [
        "IW_low = IW_df.loc[IW_df['Injection Wells Category'] == 'Low Injection Well Count']\n",
        "IW_low.head()"
      ],
      "execution_count": 19,
      "outputs": [
        {
          "output_type": "execute_result",
          "data": {
            "text/html": [
              "<div>\n",
              "<style scoped>\n",
              "    .dataframe tbody tr th:only-of-type {\n",
              "        vertical-align: middle;\n",
              "    }\n",
              "\n",
              "    .dataframe tbody tr th {\n",
              "        vertical-align: top;\n",
              "    }\n",
              "\n",
              "    .dataframe thead th {\n",
              "        text-align: right;\n",
              "    }\n",
              "</style>\n",
              "<table border=\"1\" class=\"dataframe\">\n",
              "  <thead>\n",
              "    <tr style=\"text-align: right;\">\n",
              "      <th></th>\n",
              "      <th>Injection Wells</th>\n",
              "      <th>Oil Produced, bbl</th>\n",
              "      <th>Gas Produced, Mcf</th>\n",
              "      <th>Injection Wells Category</th>\n",
              "    </tr>\n",
              "  </thead>\n",
              "  <tbody>\n",
              "    <tr>\n",
              "      <th>0</th>\n",
              "      <td>0</td>\n",
              "      <td>16613675</td>\n",
              "      <td>515658270</td>\n",
              "      <td>Low Injection Well Count</td>\n",
              "    </tr>\n",
              "    <tr>\n",
              "      <th>1</th>\n",
              "      <td>1</td>\n",
              "      <td>43017</td>\n",
              "      <td>1330659</td>\n",
              "      <td>Low Injection Well Count</td>\n",
              "    </tr>\n",
              "    <tr>\n",
              "      <th>2</th>\n",
              "      <td>2</td>\n",
              "      <td>36288</td>\n",
              "      <td>22390</td>\n",
              "      <td>Low Injection Well Count</td>\n",
              "    </tr>\n",
              "    <tr>\n",
              "      <th>3</th>\n",
              "      <td>3</td>\n",
              "      <td>52766</td>\n",
              "      <td>9266</td>\n",
              "      <td>Low Injection Well Count</td>\n",
              "    </tr>\n",
              "    <tr>\n",
              "      <th>4</th>\n",
              "      <td>4</td>\n",
              "      <td>13850</td>\n",
              "      <td>4513</td>\n",
              "      <td>Low Injection Well Count</td>\n",
              "    </tr>\n",
              "  </tbody>\n",
              "</table>\n",
              "</div>"
            ],
            "text/plain": [
              "   Injection Wells  ...  Injection Wells Category\n",
              "0                0  ...  Low Injection Well Count\n",
              "1                1  ...  Low Injection Well Count\n",
              "2                2  ...  Low Injection Well Count\n",
              "3                3  ...  Low Injection Well Count\n",
              "4                4  ...  Low Injection Well Count\n",
              "\n",
              "[5 rows x 4 columns]"
            ]
          },
          "metadata": {},
          "execution_count": 19
        }
      ]
    },
    {
      "cell_type": "markdown",
      "metadata": {
        "id": "hmSxEnlbkh8w"
      },
      "source": [
        "#### Grouping by the Injection Wells Category:"
      ]
    },
    {
      "cell_type": "code",
      "metadata": {
        "colab": {
          "base_uri": "https://localhost:8080/",
          "height": 172
        },
        "id": "Z7XO9Pv5YsOq",
        "outputId": "885b7be7-c169-42b7-d0ef-af9839f90600"
      },
      "source": [
        "IW_df1 = IW_df.groupby('Injection Wells Category')[['Oil Produced, bbl', 'Gas Produced, Mcf']].median()\n",
        "IW_df1.head()"
      ],
      "execution_count": 20,
      "outputs": [
        {
          "output_type": "execute_result",
          "data": {
            "text/html": [
              "<div>\n",
              "<style scoped>\n",
              "    .dataframe tbody tr th:only-of-type {\n",
              "        vertical-align: middle;\n",
              "    }\n",
              "\n",
              "    .dataframe tbody tr th {\n",
              "        vertical-align: top;\n",
              "    }\n",
              "\n",
              "    .dataframe thead th {\n",
              "        text-align: right;\n",
              "    }\n",
              "</style>\n",
              "<table border=\"1\" class=\"dataframe\">\n",
              "  <thead>\n",
              "    <tr style=\"text-align: right;\">\n",
              "      <th></th>\n",
              "      <th>Oil Produced, bbl</th>\n",
              "      <th>Gas Produced, Mcf</th>\n",
              "    </tr>\n",
              "    <tr>\n",
              "      <th>Injection Wells Category</th>\n",
              "      <th></th>\n",
              "      <th></th>\n",
              "    </tr>\n",
              "  </thead>\n",
              "  <tbody>\n",
              "    <tr>\n",
              "      <th>High Injection Well Count</th>\n",
              "      <td>66346</td>\n",
              "      <td>0</td>\n",
              "    </tr>\n",
              "    <tr>\n",
              "      <th>Low Injection Well Count</th>\n",
              "      <td>15938</td>\n",
              "      <td>2918</td>\n",
              "    </tr>\n",
              "    <tr>\n",
              "      <th>Moderate Injection Well Count</th>\n",
              "      <td>13616</td>\n",
              "      <td>0</td>\n",
              "    </tr>\n",
              "  </tbody>\n",
              "</table>\n",
              "</div>"
            ],
            "text/plain": [
              "                               Oil Produced, bbl  Gas Produced, Mcf\n",
              "Injection Wells Category                                           \n",
              "High Injection Well Count                  66346                  0\n",
              "Low Injection Well Count                   15938               2918\n",
              "Moderate Injection Well Count              13616                  0"
            ]
          },
          "metadata": {},
          "execution_count": 20
        }
      ]
    },
    {
      "cell_type": "code",
      "metadata": {
        "colab": {
          "base_uri": "https://localhost:8080/",
          "height": 142
        },
        "id": "Td1FceHSqhDu",
        "outputId": "fece81f2-e0a4-4664-edb1-cdba83b5aea8"
      },
      "source": [
        "IW_df1 = IW_df1.reset_index()\n",
        "IW_df1"
      ],
      "execution_count": 21,
      "outputs": [
        {
          "output_type": "execute_result",
          "data": {
            "text/html": [
              "<div>\n",
              "<style scoped>\n",
              "    .dataframe tbody tr th:only-of-type {\n",
              "        vertical-align: middle;\n",
              "    }\n",
              "\n",
              "    .dataframe tbody tr th {\n",
              "        vertical-align: top;\n",
              "    }\n",
              "\n",
              "    .dataframe thead th {\n",
              "        text-align: right;\n",
              "    }\n",
              "</style>\n",
              "<table border=\"1\" class=\"dataframe\">\n",
              "  <thead>\n",
              "    <tr style=\"text-align: right;\">\n",
              "      <th></th>\n",
              "      <th>Injection Wells Category</th>\n",
              "      <th>Oil Produced, bbl</th>\n",
              "      <th>Gas Produced, Mcf</th>\n",
              "    </tr>\n",
              "  </thead>\n",
              "  <tbody>\n",
              "    <tr>\n",
              "      <th>0</th>\n",
              "      <td>High Injection Well Count</td>\n",
              "      <td>66346</td>\n",
              "      <td>0</td>\n",
              "    </tr>\n",
              "    <tr>\n",
              "      <th>1</th>\n",
              "      <td>Low Injection Well Count</td>\n",
              "      <td>15938</td>\n",
              "      <td>2918</td>\n",
              "    </tr>\n",
              "    <tr>\n",
              "      <th>2</th>\n",
              "      <td>Moderate Injection Well Count</td>\n",
              "      <td>13616</td>\n",
              "      <td>0</td>\n",
              "    </tr>\n",
              "  </tbody>\n",
              "</table>\n",
              "</div>"
            ],
            "text/plain": [
              "        Injection Wells Category  Oil Produced, bbl  Gas Produced, Mcf\n",
              "0      High Injection Well Count              66346                  0\n",
              "1       Low Injection Well Count              15938               2918\n",
              "2  Moderate Injection Well Count              13616                  0"
            ]
          },
          "metadata": {},
          "execution_count": 21
        }
      ]
    },
    {
      "cell_type": "markdown",
      "metadata": {
        "id": "4cU6qaeikpB0"
      },
      "source": [
        "####Since these values are really big, we will take the natural log of these values. "
      ]
    },
    {
      "cell_type": "code",
      "metadata": {
        "colab": {
          "base_uri": "https://localhost:8080/",
          "height": 175
        },
        "id": "5wP4Evi0i5dM",
        "outputId": "d8134ce5-a633-489f-fd86-d44b7d8fb0cc"
      },
      "source": [
        "IW_df1['Natural log of Oil Produced, bbl'] = np.log(IW_df1['Oil Produced, bbl'])\n",
        "IW_df1['Natural log of Gas Produced, Mcf'] = np.log(IW_df1['Gas Produced, Mcf'])\n",
        "IW_df1 = IW_df1[['Injection Wells Category', 'Natural log of Gas Produced, Mcf', 'Natural log of Oil Produced, bbl']]\n",
        "IW_df1"
      ],
      "execution_count": 22,
      "outputs": [
        {
          "output_type": "stream",
          "name": "stderr",
          "text": [
            "/usr/local/lib/python3.7/dist-packages/pandas/core/series.py:726: RuntimeWarning: divide by zero encountered in log\n",
            "  result = getattr(ufunc, method)(*inputs, **kwargs)\n"
          ]
        },
        {
          "output_type": "execute_result",
          "data": {
            "text/html": [
              "<div>\n",
              "<style scoped>\n",
              "    .dataframe tbody tr th:only-of-type {\n",
              "        vertical-align: middle;\n",
              "    }\n",
              "\n",
              "    .dataframe tbody tr th {\n",
              "        vertical-align: top;\n",
              "    }\n",
              "\n",
              "    .dataframe thead th {\n",
              "        text-align: right;\n",
              "    }\n",
              "</style>\n",
              "<table border=\"1\" class=\"dataframe\">\n",
              "  <thead>\n",
              "    <tr style=\"text-align: right;\">\n",
              "      <th></th>\n",
              "      <th>Injection Wells Category</th>\n",
              "      <th>Natural log of Gas Produced, Mcf</th>\n",
              "      <th>Natural log of Oil Produced, bbl</th>\n",
              "    </tr>\n",
              "  </thead>\n",
              "  <tbody>\n",
              "    <tr>\n",
              "      <th>0</th>\n",
              "      <td>High Injection Well Count</td>\n",
              "      <td>-inf</td>\n",
              "      <td>11.102639</td>\n",
              "    </tr>\n",
              "    <tr>\n",
              "      <th>1</th>\n",
              "      <td>Low Injection Well Count</td>\n",
              "      <td>7.978654</td>\n",
              "      <td>9.676461</td>\n",
              "    </tr>\n",
              "    <tr>\n",
              "      <th>2</th>\n",
              "      <td>Moderate Injection Well Count</td>\n",
              "      <td>-inf</td>\n",
              "      <td>9.519001</td>\n",
              "    </tr>\n",
              "  </tbody>\n",
              "</table>\n",
              "</div>"
            ],
            "text/plain": [
              "        Injection Wells Category  ...  Natural log of Oil Produced, bbl\n",
              "0      High Injection Well Count  ...                         11.102639\n",
              "1       Low Injection Well Count  ...                          9.676461\n",
              "2  Moderate Injection Well Count  ...                          9.519001\n",
              "\n",
              "[3 rows x 3 columns]"
            ]
          },
          "metadata": {},
          "execution_count": 22
        }
      ]
    },
    {
      "cell_type": "code",
      "metadata": {
        "colab": {
          "base_uri": "https://localhost:8080/",
          "height": 159
        },
        "id": "thqzIMLmDRz6",
        "outputId": "d4d230d9-9ed6-404e-e738-aa0e991ae1ba"
      },
      "source": [
        "Chart(IW_df1).mark_bar().encode(x='Natural log of Gas Produced, Mcf', y='Injection Wells Category')"
      ],
      "execution_count": 23,
      "outputs": [
        {
          "output_type": "execute_result",
          "data": {
            "text/plain": [
              "alt.Chart(...)"
            ],
            "text/html": [
              "\n",
              "<div id=\"altair-viz-f56f8923dfe743d0ac313b00ce157d2e\"></div>\n",
              "<script type=\"text/javascript\">\n",
              "  (function(spec, embedOpt){\n",
              "    let outputDiv = document.currentScript.previousElementSibling;\n",
              "    if (outputDiv.id !== \"altair-viz-f56f8923dfe743d0ac313b00ce157d2e\") {\n",
              "      outputDiv = document.getElementById(\"altair-viz-f56f8923dfe743d0ac313b00ce157d2e\");\n",
              "    }\n",
              "    const paths = {\n",
              "      \"vega\": \"https://cdn.jsdelivr.net/npm//vega@5?noext\",\n",
              "      \"vega-lib\": \"https://cdn.jsdelivr.net/npm//vega-lib?noext\",\n",
              "      \"vega-lite\": \"https://cdn.jsdelivr.net/npm//vega-lite@4.8.1?noext\",\n",
              "      \"vega-embed\": \"https://cdn.jsdelivr.net/npm//vega-embed@6?noext\",\n",
              "    };\n",
              "\n",
              "    function loadScript(lib) {\n",
              "      return new Promise(function(resolve, reject) {\n",
              "        var s = document.createElement('script');\n",
              "        s.src = paths[lib];\n",
              "        s.async = true;\n",
              "        s.onload = () => resolve(paths[lib]);\n",
              "        s.onerror = () => reject(`Error loading script: ${paths[lib]}`);\n",
              "        document.getElementsByTagName(\"head\")[0].appendChild(s);\n",
              "      });\n",
              "    }\n",
              "\n",
              "    function showError(err) {\n",
              "      outputDiv.innerHTML = `<div class=\"error\" style=\"color:red;\">${err}</div>`;\n",
              "      throw err;\n",
              "    }\n",
              "\n",
              "    function displayChart(vegaEmbed) {\n",
              "      vegaEmbed(outputDiv, spec, embedOpt)\n",
              "        .catch(err => showError(`Javascript Error: ${err.message}<br>This usually means there's a typo in your chart specification. See the javascript console for the full traceback.`));\n",
              "    }\n",
              "\n",
              "    if(typeof define === \"function\" && define.amd) {\n",
              "      requirejs.config({paths});\n",
              "      require([\"vega-embed\"], displayChart, err => showError(`Error loading script: ${err.message}`));\n",
              "    } else if (typeof vegaEmbed === \"function\") {\n",
              "      displayChart(vegaEmbed);\n",
              "    } else {\n",
              "      loadScript(\"vega\")\n",
              "        .then(() => loadScript(\"vega-lite\"))\n",
              "        .then(() => loadScript(\"vega-embed\"))\n",
              "        .catch(showError)\n",
              "        .then(() => displayChart(vegaEmbed));\n",
              "    }\n",
              "  })({\"config\": {\"view\": {\"continuousWidth\": 400, \"continuousHeight\": 300}}, \"data\": {\"name\": \"data-2f98b2c1049f6a863084846cde54f9b2\"}, \"mark\": \"bar\", \"encoding\": {\"x\": {\"type\": \"quantitative\", \"field\": \"Natural log of Gas Produced, Mcf\"}, \"y\": {\"type\": \"nominal\", \"field\": \"Injection Wells Category\"}}, \"$schema\": \"https://vega.github.io/schema/vega-lite/v4.8.1.json\", \"datasets\": {\"data-2f98b2c1049f6a863084846cde54f9b2\": [{\"Injection Wells Category\": \"High Injection Well Count\", \"Natural log of Gas Produced, Mcf\": null, \"Natural log of Oil Produced, bbl\": 11.102638751582846}, {\"Injection Wells Category\": \"Low Injection Well Count\", \"Natural log of Gas Produced, Mcf\": 7.978653729082731, \"Natural log of Oil Produced, bbl\": 9.676461473957694}, {\"Injection Wells Category\": \"Moderate Injection Well Count\", \"Natural log of Gas Produced, Mcf\": null, \"Natural log of Oil Produced, bbl\": 9.519000850813155}]}}, {\"mode\": \"vega-lite\"});\n",
              "</script>"
            ]
          },
          "metadata": {},
          "execution_count": 23
        }
      ]
    },
    {
      "cell_type": "code",
      "metadata": {
        "colab": {
          "base_uri": "https://localhost:8080/",
          "height": 159
        },
        "id": "MYloDJh6tECa",
        "outputId": "fdbce4ae-f886-42ba-c048-03c01ea15375"
      },
      "source": [
        "Chart(IW_df1).mark_bar().encode(x='Natural log of Oil Produced, bbl', y='Injection Wells Category')"
      ],
      "execution_count": 24,
      "outputs": [
        {
          "output_type": "execute_result",
          "data": {
            "text/plain": [
              "alt.Chart(...)"
            ],
            "text/html": [
              "\n",
              "<div id=\"altair-viz-1e2ca17b96f5493d904876d13732c551\"></div>\n",
              "<script type=\"text/javascript\">\n",
              "  (function(spec, embedOpt){\n",
              "    let outputDiv = document.currentScript.previousElementSibling;\n",
              "    if (outputDiv.id !== \"altair-viz-1e2ca17b96f5493d904876d13732c551\") {\n",
              "      outputDiv = document.getElementById(\"altair-viz-1e2ca17b96f5493d904876d13732c551\");\n",
              "    }\n",
              "    const paths = {\n",
              "      \"vega\": \"https://cdn.jsdelivr.net/npm//vega@5?noext\",\n",
              "      \"vega-lib\": \"https://cdn.jsdelivr.net/npm//vega-lib?noext\",\n",
              "      \"vega-lite\": \"https://cdn.jsdelivr.net/npm//vega-lite@4.8.1?noext\",\n",
              "      \"vega-embed\": \"https://cdn.jsdelivr.net/npm//vega-embed@6?noext\",\n",
              "    };\n",
              "\n",
              "    function loadScript(lib) {\n",
              "      return new Promise(function(resolve, reject) {\n",
              "        var s = document.createElement('script');\n",
              "        s.src = paths[lib];\n",
              "        s.async = true;\n",
              "        s.onload = () => resolve(paths[lib]);\n",
              "        s.onerror = () => reject(`Error loading script: ${paths[lib]}`);\n",
              "        document.getElementsByTagName(\"head\")[0].appendChild(s);\n",
              "      });\n",
              "    }\n",
              "\n",
              "    function showError(err) {\n",
              "      outputDiv.innerHTML = `<div class=\"error\" style=\"color:red;\">${err}</div>`;\n",
              "      throw err;\n",
              "    }\n",
              "\n",
              "    function displayChart(vegaEmbed) {\n",
              "      vegaEmbed(outputDiv, spec, embedOpt)\n",
              "        .catch(err => showError(`Javascript Error: ${err.message}<br>This usually means there's a typo in your chart specification. See the javascript console for the full traceback.`));\n",
              "    }\n",
              "\n",
              "    if(typeof define === \"function\" && define.amd) {\n",
              "      requirejs.config({paths});\n",
              "      require([\"vega-embed\"], displayChart, err => showError(`Error loading script: ${err.message}`));\n",
              "    } else if (typeof vegaEmbed === \"function\") {\n",
              "      displayChart(vegaEmbed);\n",
              "    } else {\n",
              "      loadScript(\"vega\")\n",
              "        .then(() => loadScript(\"vega-lite\"))\n",
              "        .then(() => loadScript(\"vega-embed\"))\n",
              "        .catch(showError)\n",
              "        .then(() => displayChart(vegaEmbed));\n",
              "    }\n",
              "  })({\"config\": {\"view\": {\"continuousWidth\": 400, \"continuousHeight\": 300}}, \"data\": {\"name\": \"data-2f98b2c1049f6a863084846cde54f9b2\"}, \"mark\": \"bar\", \"encoding\": {\"x\": {\"type\": \"quantitative\", \"field\": \"Natural log of Oil Produced, bbl\"}, \"y\": {\"type\": \"nominal\", \"field\": \"Injection Wells Category\"}}, \"$schema\": \"https://vega.github.io/schema/vega-lite/v4.8.1.json\", \"datasets\": {\"data-2f98b2c1049f6a863084846cde54f9b2\": [{\"Injection Wells Category\": \"High Injection Well Count\", \"Natural log of Gas Produced, Mcf\": null, \"Natural log of Oil Produced, bbl\": 11.102638751582846}, {\"Injection Wells Category\": \"Low Injection Well Count\", \"Natural log of Gas Produced, Mcf\": 7.978653729082731, \"Natural log of Oil Produced, bbl\": 9.676461473957694}, {\"Injection Wells Category\": \"Moderate Injection Well Count\", \"Natural log of Gas Produced, Mcf\": null, \"Natural log of Oil Produced, bbl\": 9.519000850813155}]}}, {\"mode\": \"vega-lite\"});\n",
              "</script>"
            ]
          },
          "metadata": {},
          "execution_count": 24
        }
      ]
    },
    {
      "cell_type": "markdown",
      "metadata": {
        "id": "1HUwxTkruD1b"
      },
      "source": [
        "**3) It is stated Oil wells sometimes produce large volumes of water with the oil, while gas wells tend to produce water in smaller proportions. Do the operator, field, or producing formation producing higher amounts of water have a higher proportion of active oil wells?\n",
        "-create new column active oil wells>active gas wells.**\n",
        "\n"
      ]
    },
    {
      "cell_type": "markdown",
      "metadata": {
        "id": "SzlwPe6Bv011"
      },
      "source": [
        "Grouping"
      ]
    },
    {
      "cell_type": "code",
      "metadata": {
        "colab": {
          "base_uri": "https://localhost:8080/",
          "height": 203
        },
        "id": "O0zqONLRuZ5R",
        "outputId": "5ba9fa56-7ba0-42af-fe70-2d861b3855e2"
      },
      "source": [
        "WP_df = production_df[['Production Year', 'Active Oil Wells', 'Active Gas Wells', 'Oil Produced, bbl', 'Gas Produced, Mcf', 'Water produced, bbl']]\n",
        "WP_df.head()"
      ],
      "execution_count": 25,
      "outputs": [
        {
          "output_type": "execute_result",
          "data": {
            "text/html": [
              "<div>\n",
              "<style scoped>\n",
              "    .dataframe tbody tr th:only-of-type {\n",
              "        vertical-align: middle;\n",
              "    }\n",
              "\n",
              "    .dataframe tbody tr th {\n",
              "        vertical-align: top;\n",
              "    }\n",
              "\n",
              "    .dataframe thead th {\n",
              "        text-align: right;\n",
              "    }\n",
              "</style>\n",
              "<table border=\"1\" class=\"dataframe\">\n",
              "  <thead>\n",
              "    <tr style=\"text-align: right;\">\n",
              "      <th></th>\n",
              "      <th>Production Year</th>\n",
              "      <th>Active Oil Wells</th>\n",
              "      <th>Active Gas Wells</th>\n",
              "      <th>Oil Produced, bbl</th>\n",
              "      <th>Gas Produced, Mcf</th>\n",
              "      <th>Water produced, bbl</th>\n",
              "    </tr>\n",
              "  </thead>\n",
              "  <tbody>\n",
              "    <tr>\n",
              "      <th>0</th>\n",
              "      <td>1995</td>\n",
              "      <td>0</td>\n",
              "      <td>1</td>\n",
              "      <td>0</td>\n",
              "      <td>106</td>\n",
              "      <td>0</td>\n",
              "    </tr>\n",
              "    <tr>\n",
              "      <th>1</th>\n",
              "      <td>1995</td>\n",
              "      <td>28</td>\n",
              "      <td>0</td>\n",
              "      <td>1229</td>\n",
              "      <td>0</td>\n",
              "      <td>180</td>\n",
              "    </tr>\n",
              "    <tr>\n",
              "      <th>2</th>\n",
              "      <td>1994</td>\n",
              "      <td>3</td>\n",
              "      <td>0</td>\n",
              "      <td>462</td>\n",
              "      <td>0</td>\n",
              "      <td>0</td>\n",
              "    </tr>\n",
              "    <tr>\n",
              "      <th>3</th>\n",
              "      <td>1994</td>\n",
              "      <td>0</td>\n",
              "      <td>1</td>\n",
              "      <td>0</td>\n",
              "      <td>530</td>\n",
              "      <td>0</td>\n",
              "    </tr>\n",
              "    <tr>\n",
              "      <th>4</th>\n",
              "      <td>1995</td>\n",
              "      <td>10</td>\n",
              "      <td>0</td>\n",
              "      <td>45</td>\n",
              "      <td>0</td>\n",
              "      <td>80</td>\n",
              "    </tr>\n",
              "  </tbody>\n",
              "</table>\n",
              "</div>"
            ],
            "text/plain": [
              "   Production Year  Active Oil Wells  ...  Gas Produced, Mcf  Water produced, bbl\n",
              "0             1995                 0  ...                106                    0\n",
              "1             1995                28  ...                  0                  180\n",
              "2             1994                 3  ...                  0                    0\n",
              "3             1994                 0  ...                530                    0\n",
              "4             1995                10  ...                  0                   80\n",
              "\n",
              "[5 rows x 6 columns]"
            ]
          },
          "metadata": {},
          "execution_count": 25
        }
      ]
    },
    {
      "cell_type": "code",
      "metadata": {
        "colab": {
          "base_uri": "https://localhost:8080/"
        },
        "id": "l2JaEwvc7cpY",
        "outputId": "e807eeef-cd8a-4845-e273-a34f006712d0"
      },
      "source": [
        "WP_df['Water produced, bbl'].describe()"
      ],
      "execution_count": 26,
      "outputs": [
        {
          "output_type": "execute_result",
          "data": {
            "text/plain": [
              "count    2.835700e+04\n",
              "mean     6.194496e+03\n",
              "std      1.766145e+05\n",
              "min      0.000000e+00\n",
              "25%      0.000000e+00\n",
              "50%      0.000000e+00\n",
              "75%      2.000000e+00\n",
              "max      1.759123e+07\n",
              "Name: Water produced, bbl, dtype: float64"
            ]
          },
          "metadata": {},
          "execution_count": 26
        }
      ]
    },
    {
      "cell_type": "code",
      "metadata": {
        "id": "pFpjnkrHA_y6",
        "colab": {
          "base_uri": "https://localhost:8080/"
        },
        "outputId": "32dcfeed-f528-49e5-8d17-b149ff8e1554"
      },
      "source": [
        "WP_df['Gas Produced, Mcf'].describe()"
      ],
      "execution_count": 27,
      "outputs": [
        {
          "output_type": "execute_result",
          "data": {
            "text/plain": [
              "count    2.835700e+04\n",
              "mean     1.831010e+04\n",
              "std      8.411717e+04\n",
              "min      0.000000e+00\n",
              "25%      0.000000e+00\n",
              "50%      4.450000e+02\n",
              "75%      7.706000e+03\n",
              "max      4.179174e+06\n",
              "Name: Gas Produced, Mcf, dtype: float64"
            ]
          },
          "metadata": {},
          "execution_count": 27
        }
      ]
    },
    {
      "cell_type": "code",
      "metadata": {
        "colab": {
          "base_uri": "https://localhost:8080/"
        },
        "id": "FYMPmrhPH03O",
        "outputId": "45c2e76b-a3e6-4925-9a09-b328c61e63ba"
      },
      "source": [
        "WP_df['Oil Produced, bbl'].describe()"
      ],
      "execution_count": 28,
      "outputs": [
        {
          "output_type": "execute_result",
          "data": {
            "text/plain": [
              "count     28357.000000\n",
              "mean        833.457912\n",
              "std        8478.167001\n",
              "min           0.000000\n",
              "25%           0.000000\n",
              "50%           0.000000\n",
              "75%           0.000000\n",
              "max      675589.000000\n",
              "Name: Oil Produced, bbl, dtype: float64"
            ]
          },
          "metadata": {},
          "execution_count": 28
        }
      ]
    },
    {
      "cell_type": "code",
      "metadata": {
        "colab": {
          "base_uri": "https://localhost:8080/"
        },
        "id": "8ns4gyiHRTuW",
        "outputId": "b331c27a-c606-4695-bfbe-5a029e0a143c"
      },
      "source": [
        "production_types = {'Oil production', 'Gas production'}\n",
        "production_types"
      ],
      "execution_count": 29,
      "outputs": [
        {
          "output_type": "execute_result",
          "data": {
            "text/plain": [
              "{'Gas production', 'Oil production'}"
            ]
          },
          "metadata": {},
          "execution_count": 29
        }
      ]
    },
    {
      "cell_type": "code",
      "metadata": {
        "id": "OHAIaormSHnL"
      },
      "source": [
        ""
      ],
      "execution_count": 29,
      "outputs": []
    }
  ]
}